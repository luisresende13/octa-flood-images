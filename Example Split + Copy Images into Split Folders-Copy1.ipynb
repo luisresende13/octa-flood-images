{
 "cells": [
  {
   "cell_type": "markdown",
   "id": "c33ac5ff-df02-4163-9586-fbdee43e6d20",
   "metadata": {},
   "source": [
    "# Train and test split + Copying images into train and test folders"
   ]
  },
  {
   "cell_type": "markdown",
   "id": "0f201f7e-71d4-4207-bbbb-9751344953a5",
   "metadata": {},
   "source": [
    "## 1. Reload images dataset"
   ]
  },
  {
   "cell_type": "code",
   "execution_count": 1,
   "id": "ed2d251b-2855-4400-b70a-64b2e28c531e",
   "metadata": {},
   "outputs": [],
   "source": [
    "import pandas as pd\n",
    "\n",
    "images_dataset_path = 'data/datasets/images.csv'\n",
    "df_images = pd.read_csv(images_dataset_path)"
   ]
  },
  {
   "cell_type": "markdown",
   "id": "6121d902-2886-4bc1-9109-c07375f45379",
   "metadata": {},
   "source": [
    "## 2. Preprocess the dataset of images"
   ]
  },
  {
   "cell_type": "code",
   "execution_count": 2,
   "id": "b4307de0-e103-4d45-a27b-964029fa5377",
   "metadata": {},
   "outputs": [],
   "source": [
    "from modules.octa_video_util import _assign_tag\n",
    "from modules.octa_video_util import filter_by_query"
   ]
  },
  {
   "cell_type": "markdown",
   "id": "f5bc40df-71f9-4a9d-8a35-ea06799c8ca5",
   "metadata": {},
   "source": [
    "#### Create categorical field from tag priority list"
   ]
  },
  {
   "cell_type": "code",
   "execution_count": 3,
   "id": "589f97e0-2039-465d-b7ad-e0fc1e7564f2",
   "metadata": {},
   "outputs": [
    {
     "data": {
      "text/plain": [
       "tag\n",
       "normal        100031\n",
       "poça           53218\n",
       "lâmina          7979\n",
       "bolsão          3612\n",
       "transbordo      2237\n",
       "alagamento      1417\n",
       "Name: count, dtype: int64"
      ]
     },
     "metadata": {},
     "output_type": "display_data"
    }
   ],
   "source": [
    "# Create unique tag column based on class priority list\n",
    "default_tag = 'normal'\n",
    "tags_priority_list = ['alagamento', 'bolsão', 'lâmina', 'poça', 'transbordo']\n",
    "\n",
    "df_images['tag'] = df_images['tags'].apply(lambda tags_list: _assign_tag(tags_list, tags_priority_list, default_tag))\n",
    "display(df_images.tag.value_counts())"
   ]
  },
  {
   "cell_type": "markdown",
   "id": "e12bacd3-1ca4-4a33-9045-c2a12721e956",
   "metadata": {},
   "source": [
    "#### Binarize categorical variable"
   ]
  },
  {
   "cell_type": "code",
   "execution_count": 4,
   "id": "f61a80cf-a03d-4023-ab9a-96543b2b6696",
   "metadata": {},
   "outputs": [],
   "source": [
    "target_classes = ['bolsão', 'alagamento']\n",
    "\n",
    "# Binarize categorical variable from list of target classes\n",
    "df_images['flood'] = df_images['tag'].isin(target_classes).astype(int)"
   ]
  },
  {
   "cell_type": "markdown",
   "id": "8c28a076-b37c-4b2a-a0d4-b55ddab62ffc",
   "metadata": {},
   "source": [
    "#### Filter images"
   ]
  },
  {
   "cell_type": "code",
   "execution_count": 5,
   "id": "0083977c-42a6-4101-b19b-ae26b730cc43",
   "metadata": {},
   "outputs": [],
   "source": [
    "query_params = {'seen': True}\n",
    "\n",
    "# Filter dataset of images by query\n",
    "df_sample = filter_by_query(df_images, query_params).copy()\n",
    "df_sample.reset_index(drop=True, inplace=True)"
   ]
  },
  {
   "cell_type": "markdown",
   "id": "b59fb663-603e-4150-9250-6b238cb17d72",
   "metadata": {},
   "source": [
    "---\n",
    "## 2. Example train and test split"
   ]
  },
  {
   "cell_type": "code",
   "execution_count": 6,
   "id": "d3abfe97-8e6f-42f1-bc8a-8e02de6af4c2",
   "metadata": {},
   "outputs": [],
   "source": [
    "import numpy as np"
   ]
  },
  {
   "cell_type": "markdown",
   "id": "f154c166-d37e-48fa-80e0-ac5c080781c5",
   "metadata": {},
   "source": [
    "#### Custom sampling of images (Example usage)"
   ]
  },
  {
   "cell_type": "code",
   "execution_count": 237,
   "id": "86329310-b729-433a-92d4-78b832cb846d",
   "metadata": {},
   "outputs": [],
   "source": [
    "random_state = None\n",
    "max_samples = 1000\n",
    "target_variable = 'flood'\n",
    "groups_variable = 'code'"
   ]
  },
  {
   "cell_type": "markdown",
   "id": "4434fc4c-1fd3-4fba-859a-3480dc2b53c7",
   "metadata": {},
   "source": [
    "#### Shuffle Samples"
   ]
  },
  {
   "cell_type": "code",
   "execution_count": 239,
   "id": "b029a60a-7a30-47f8-ade3-a184c631a5b3",
   "metadata": {},
   "outputs": [],
   "source": [
    "data = df_sample.sample(n=len(df_sample), replace=False, random_state=random_state)\n",
    "data.reset_index(drop=True, inplace=True)"
   ]
  },
  {
   "cell_type": "markdown",
   "id": "3da43c46-3e2f-4e73-a445-f1632d1d442f",
   "metadata": {},
   "source": [
    "#### Get x and y (features and target variable)"
   ]
  },
  {
   "cell_type": "code",
   "execution_count": 240,
   "id": "e919ab1a-9e34-4ade-b79d-2a687ec7b015",
   "metadata": {},
   "outputs": [
    {
     "data": {
      "text/plain": [
       "flood\n",
       "0    163465\n",
       "1      5029\n",
       "Name: count, dtype: int64"
      ]
     },
     "execution_count": 240,
     "metadata": {},
     "output_type": "execute_result"
    }
   ],
   "source": [
    "# Get x and y\n",
    "X = data.drop(target_variable, axis=1)\n",
    "Y = data[target_variable].copy()\n",
    "groups = data[groups_variable].copy()\n",
    "\n",
    "Y.value_counts()"
   ]
  },
  {
   "cell_type": "markdown",
   "id": "4ed4ce66-7204-44b3-983c-2a2ac579b352",
   "metadata": {},
   "source": [
    "#### Under sampling"
   ]
  },
  {
   "cell_type": "code",
   "execution_count": 241,
   "id": "3b94728c-de64-4b0d-8297-290e4cee716c",
   "metadata": {},
   "outputs": [
    {
     "name": "stdout",
     "output_type": "stream",
     "text": [
      "Total samples: 10058\n"
     ]
    },
    {
     "data": {
      "text/plain": [
       "flood\n",
       "0    5029\n",
       "1    5029\n",
       "Name: count, dtype: int64"
      ]
     },
     "execution_count": 241,
     "metadata": {},
     "output_type": "execute_result"
    }
   ],
   "source": [
    "# Under sampling\n",
    "minority_samples = (Y == 1).sum()\n",
    "y_minority_sample = Y[Y == 0].sample(n=minority_samples, replace=False, random_state=random_state)\n",
    "\n",
    "y_res = pd.concat([y_minority_sample, Y[Y == 1]], axis=0)\n",
    "x_res = X.loc[y_res.index].copy()\n",
    "groups_res = groups.loc[y_res.index].copy()\n",
    "\n",
    "print('Total samples:', len(y_res))\n",
    "y_res.value_counts()"
   ]
  },
  {
   "cell_type": "code",
   "execution_count": 267,
   "id": "a8522c66-dcbd-42bb-bb47-4b3d2f6ecf8f",
   "metadata": {},
   "outputs": [
    {
     "data": {
      "text/plain": [
       "flood\n",
       "0    5029\n",
       "1    5029\n",
       "Name: count, dtype: int64"
      ]
     },
     "execution_count": 267,
     "metadata": {},
     "output_type": "execute_result"
    }
   ],
   "source": [
    "data['flood'].loc[y_res.index].value_counts()"
   ]
  },
  {
   "cell_type": "markdown",
   "id": "758ac437-ce90-4d52-ae43-0729c1c678a3",
   "metadata": {},
   "source": [
    "#### Sampling based on `max_samples` · Optional"
   ]
  },
  {
   "cell_type": "code",
   "execution_count": 29,
   "id": "8d94a309-a429-4f6a-b897-7d13fc2c2358",
   "metadata": {},
   "outputs": [
    {
     "data": {
      "text/plain": [
       "flood\n",
       "1    54\n",
       "0    46\n",
       "Name: count, dtype: int64"
      ]
     },
     "execution_count": 29,
     "metadata": {},
     "output_type": "execute_result"
    }
   ],
   "source": [
    "# Dropping samples\n",
    "y_res = y_res.sample(max_samples, replace=True, random_state=random_state)\n",
    "x_res = X.loc[y_res.index].copy()\n",
    "groups_res = groups.loc[y_res.index].copy()\n",
    "\n",
    "y_res.value_counts()"
   ]
  },
  {
   "cell_type": "markdown",
   "id": "95848597-f897-41c3-aa33-12496215147c",
   "metadata": {},
   "source": [
    "#### Train test split  · Optional"
   ]
  },
  {
   "cell_type": "code",
   "execution_count": 36,
   "id": "452b8151-cfbe-4205-90db-af9ac867f75b",
   "metadata": {},
   "outputs": [],
   "source": [
    "from sklearn.model_selection import train_test_split\n",
    "\n",
    "X_train, X_test, Y_train, Y_test = train_test_split(x_res, y_res, test_size=0.3, shuffle=True, stratify=y_res, random_state=random_state)\n",
    "train_index, test_index = Y_train.index, Y_test.index"
   ]
  },
  {
   "cell_type": "markdown",
   "id": "b707e714-390a-454c-abc2-5def9026c630",
   "metadata": {},
   "source": [
    "#### (Alternative) Stratified group KFold split · Optional"
   ]
  },
  {
   "cell_type": "markdown",
   "id": "4d7c614b-5bfc-43d6-8628-694da3d16fb5",
   "metadata": {},
   "source": [
    "Obs: Best split result"
   ]
  },
  {
   "cell_type": "code",
   "execution_count": 243,
   "id": "9d258906-c091-49bb-b549-1963878e6114",
   "metadata": {},
   "outputs": [],
   "source": [
    "from sklearn.model_selection import StratifiedGroupKFold\n",
    "\n",
    "# Stratified group KFold split\n",
    "sgkf = StratifiedGroupKFold(n_splits=5, shuffle=False, random_state=random_state)\n",
    "\n",
    "# Get first split folder\n",
    "for i, (train_index, test_index) in enumerate(sgkf.split(x_res, y_res, groups_res)):\n",
    "    break\n",
    "\n",
    "X_train = x_res.iloc[train_index]\n",
    "X_test = x_res.iloc[test_index]\n",
    "\n",
    "Y_train = y_res.iloc[train_index]\n",
    "Y_test = y_res.iloc[test_index]"
   ]
  },
  {
   "cell_type": "markdown",
   "id": "4c6c8f62-26c0-4759-ab8f-9ef22037f2d9",
   "metadata": {},
   "source": [
    "#### (Alternative) Group shuffle split · Optional"
   ]
  },
  {
   "cell_type": "code",
   "execution_count": 210,
   "id": "131028af-2e0f-4db1-9c91-e45c2eadc5a1",
   "metadata": {},
   "outputs": [],
   "source": [
    "# NOTE: This split is not deterministic even using random_state!=None\n",
    "# NOTE: This split is not stratified\n",
    "from sklearn.model_selection import GroupShuffleSplit\n",
    "\n",
    "# Group shuffle split\n",
    "gss = GroupShuffleSplit(n_splits=1, random_state=random_state, test_size=0.2)\n",
    "\n",
    "# Get first split folder\n",
    "for i, (train_index, test_index) in enumerate(gss.split(x_res, y_res, groups_res)):\n",
    "    break\n",
    "\n",
    "X_train = x_res.iloc[train_index]\n",
    "X_test = x_res.iloc[test_index]\n",
    "\n",
    "Y_train = y_res.iloc[train_index]\n",
    "Y_test = y_res.iloc[test_index]"
   ]
  },
  {
   "cell_type": "markdown",
   "id": "6827fb58-b2bb-4143-a651-ad919a0abb15",
   "metadata": {},
   "source": [
    "#### Report group count and train and test samples for each class (Missing reporting per group class)"
   ]
  },
  {
   "cell_type": "code",
   "execution_count": 273,
   "id": "a9f80fef-c53a-4993-898f-f2d740c86403",
   "metadata": {},
   "outputs": [
    {
     "name": "stdout",
     "output_type": "stream",
     "text": [
      "Groups intersecting train and test sets: 0\n",
      "\n"
     ]
    },
    {
     "data": {
      "text/html": [
       "<div>\n",
       "<style scoped>\n",
       "    .dataframe tbody tr th:only-of-type {\n",
       "        vertical-align: middle;\n",
       "    }\n",
       "\n",
       "    .dataframe tbody tr th {\n",
       "        vertical-align: top;\n",
       "    }\n",
       "\n",
       "    .dataframe thead th {\n",
       "        text-align: right;\n",
       "    }\n",
       "</style>\n",
       "<table border=\"1\" class=\"dataframe\">\n",
       "  <thead>\n",
       "    <tr style=\"text-align: right;\">\n",
       "      <th></th>\n",
       "      <th>groups</th>\n",
       "      <th>total</th>\n",
       "      <th>0</th>\n",
       "      <th>1</th>\n",
       "      <th>0 (%)</th>\n",
       "      <th>1 (%)</th>\n",
       "    </tr>\n",
       "  </thead>\n",
       "  <tbody>\n",
       "    <tr>\n",
       "      <th>train</th>\n",
       "      <td>138.0</td>\n",
       "      <td>8044.0</td>\n",
       "      <td>4027.0</td>\n",
       "      <td>4017.0</td>\n",
       "      <td>80.08</td>\n",
       "      <td>79.88</td>\n",
       "    </tr>\n",
       "    <tr>\n",
       "      <th>test</th>\n",
       "      <td>31.0</td>\n",
       "      <td>2014.0</td>\n",
       "      <td>1002.0</td>\n",
       "      <td>1012.0</td>\n",
       "      <td>19.92</td>\n",
       "      <td>20.12</td>\n",
       "    </tr>\n",
       "  </tbody>\n",
       "</table>\n",
       "</div>"
      ],
      "text/plain": [
       "       groups   total       0       1  0 (%)  1 (%)\n",
       "train   138.0  8044.0  4027.0  4017.0  80.08  79.88\n",
       "test     31.0  2014.0  1002.0  1012.0  19.92  20.12"
      ]
     },
     "execution_count": 273,
     "metadata": {},
     "output_type": "execute_result"
    }
   ],
   "source": [
    "groups_train = groups_res.loc[Y_train.index].unique()\n",
    "groups_test = groups_res.loc[Y_test.index].unique()\n",
    "class_count = y_res.value_counts()\n",
    "train_class_count = Y_train.value_counts()\n",
    "test_class_count = Y_test.value_counts()\n",
    "train_class_prct = [train_class_count[0] / class_count[0], train_class_count[1] / class_count[1]]\n",
    "test_class_prct = [test_class_count[0] / class_count[0], test_class_count[1] / class_count[1]]\n",
    "\n",
    "print('Groups intersecting train and test sets:', len(set(groups_train).intersection(groups_test)))\n",
    "print()\n",
    "\n",
    "pd.DataFrame(\n",
    "    [[len(groups_train), len(groups_test)],\n",
    "    [len(Y_train), len(Y_test)],\n",
    "    [train_class_count[0], test_class_count[0]], \n",
    "    [train_class_count[1], test_class_count[1]],\n",
    "    [round(train_class_prct[0] * 100, 2), round(test_class_prct[0] * 100, 2)],\n",
    "    [round(train_class_prct[1] * 100, 2), round(test_class_prct[1] * 100, 2)]],\n",
    "    columns=['train', 'test'], index=['groups', 'total', '0', '1', '0 (%)', '1 (%)']\n",
    ").T"
   ]
  },
  {
   "cell_type": "markdown",
   "id": "89439585-c4e5-4d6e-8cb8-20e6e5a0be77",
   "metadata": {},
   "source": [
    "---\n",
    "## 3. Copy images into train and test folders"
   ]
  },
  {
   "cell_type": "markdown",
   "id": "e2014282-771f-4ac2-902f-bdf7ad272b11",
   "metadata": {},
   "source": [
    "#### Copy images with `train_index`and `test_index` into structured 'train' and 'test' folders"
   ]
  },
  {
   "cell_type": "code",
   "execution_count": 271,
   "id": "f6b15713-4785-4620-ac61-6d6f7fc68f7c",
   "metadata": {},
   "outputs": [
    {
     "name": "stdout",
     "output_type": "stream",
     "text": [
      "Copying images to train folders:\n",
      "Processed 8044/8044 files (100.00%) - Found: 8044/8044\n",
      "Copying images to test folders:\n",
      "Processed 2014/2014 files (100.00%) - Found: 2014/2014\r"
     ]
    }
   ],
   "source": [
    "from modules.octa_video_util import copy_images_to_folders\n",
    "\n",
    "base_directory = 'data/images'\n",
    "target_directory = 'data/splits/under-10058-StratifiedGroupKFold-5'\n",
    "dataset = data.copy()\n",
    "file_path_field = 'file_path'\n",
    "label_field = 'flood'\n",
    "train_indexes = list(Y_train.index)\n",
    "test_indexes = list(Y_test.index)\n",
    "\n",
    "copy_images_to_folders(base_directory, target_directory, dataset, train_indexes, test_indexes, file_path_field=file_path_field, tag_field=label_field)"
   ]
  },
  {
   "cell_type": "markdown",
   "id": "de86f0da-d0e1-403f-a495-d1e5b34534de",
   "metadata": {},
   "source": [
    "#### Count save images"
   ]
  },
  {
   "cell_type": "code",
   "execution_count": 274,
   "id": "0be38cb8-54cd-4674-ab4f-d071617ac507",
   "metadata": {},
   "outputs": [
    {
     "name": "stdout",
     "output_type": "stream",
     "text": [
      "train: 4019 4017\n",
      "test: 999 1012\n"
     ]
    }
   ],
   "source": [
    "import os\n",
    "\n",
    "# target_directory = 'data/splits/under-10058-StratifiedGroupKFold-5'\n",
    "\n",
    "print('train:', len(os.listdir(f'{target_directory}/train/0')), len(os.listdir(f'{target_directory}/train/1')))\n",
    "print('test:', len(os.listdir(f'{target_directory}/test/0')), len(os.listdir(f'{target_directory}/test/1')))"
   ]
  }
 ],
 "metadata": {
  "kernelspec": {
   "display_name": "Python 3 (ipykernel)",
   "language": "python",
   "name": "python3"
  },
  "language_info": {
   "codemirror_mode": {
    "name": "ipython",
    "version": 3
   },
   "file_extension": ".py",
   "mimetype": "text/x-python",
   "name": "python",
   "nbconvert_exporter": "python",
   "pygments_lexer": "ipython3",
   "version": "3.11.3"
  }
 },
 "nbformat": 4,
 "nbformat_minor": 5
}
