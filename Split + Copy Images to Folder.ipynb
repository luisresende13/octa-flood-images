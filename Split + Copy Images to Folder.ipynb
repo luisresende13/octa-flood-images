{
 "cells": [
  {
   "cell_type": "markdown",
   "id": "c33ac5ff-df02-4163-9586-fbdee43e6d20",
   "metadata": {},
   "source": [
    "# Train and test split + Copying images into train and test folders"
   ]
  },
  {
   "cell_type": "markdown",
   "id": "0f201f7e-71d4-4207-bbbb-9751344953a5",
   "metadata": {},
   "source": [
    "## 1. Reload images dataset"
   ]
  },
  {
   "cell_type": "code",
   "execution_count": 9,
   "id": "ed2d251b-2855-4400-b70a-64b2e28c531e",
   "metadata": {},
   "outputs": [
    {
     "data": {
      "text/plain": [
       "Index(['id_video', 'code', 'folder', 'file_name', 'file_path', 'frame_index',\n",
       "       'timestamp', 'initial_timestamp', 'seen', 'tags', 'tag', 'flood'],\n",
       "      dtype='object')"
      ]
     },
     "metadata": {},
     "output_type": "display_data"
    },
    {
     "name": "stdout",
     "output_type": "stream",
     "text": [
      "\n"
     ]
    },
    {
     "data": {
      "text/plain": [
       "RangeIndex(start=0, stop=10, step=1)"
      ]
     },
     "metadata": {},
     "output_type": "display_data"
    }
   ],
   "source": [
    "import pandas as pd\n",
    "\n",
    "images_dataset_path = 'data/datasets/images_clean.csv'\n",
    "df_images = pd.read_csv(images_dataset_path)\n",
    "\n",
    "display(df_images.columns)\n",
    "print()\n",
    "display(df_images.index[:10])"
   ]
  },
  {
   "cell_type": "markdown",
   "id": "6121d902-2886-4bc1-9109-c07375f45379",
   "metadata": {},
   "source": [
    "---\n",
    "## 2. Preprocess the dataset"
   ]
  },
  {
   "cell_type": "markdown",
   "id": "3ef38cdd-a71e-457b-8dac-566f292cde16",
   "metadata": {},
   "source": [
    "#### Drop categories"
   ]
  },
  {
   "cell_type": "code",
   "execution_count": 10,
   "id": "1a9a9437-08bc-4622-bb08-74622aca92c5",
   "metadata": {},
   "outputs": [],
   "source": [
    "df_images = df_images[df_images['tag'] != 'transbordo']"
   ]
  },
  {
   "cell_type": "markdown",
   "id": "8c28a076-b37c-4b2a-a0d4-b55ddab62ffc",
   "metadata": {},
   "source": [
    "#### Filter images"
   ]
  },
  {
   "cell_type": "code",
   "execution_count": 11,
   "id": "0083977c-42a6-4101-b19b-ae26b730cc43",
   "metadata": {},
   "outputs": [
    {
     "data": {
      "text/plain": [
       "flood\n",
       "0    224682\n",
       "1     20865\n",
       "Name: count, dtype: int64"
      ]
     },
     "metadata": {},
     "output_type": "display_data"
    },
    {
     "name": "stdout",
     "output_type": "stream",
     "text": [
      "\n"
     ]
    },
    {
     "data": {
      "text/plain": [
       "Index([0, 1, 2, 3, 4, 5, 6, 7, 8, 9], dtype='int64')"
      ]
     },
     "metadata": {},
     "output_type": "display_data"
    }
   ],
   "source": [
    "query_params = {'seen': True}\n",
    "\n",
    "from modules.octa_video_util import filter_by_query\n",
    "\n",
    "# Filter dataset of images by query\n",
    "df_images = filter_by_query(df_images, query_params).copy()\n",
    "\n",
    "display(df_images['flood'].value_counts())\n",
    "print()\n",
    "display(df_images.index[:10])"
   ]
  },
  {
   "cell_type": "markdown",
   "id": "e93054a0-9869-4cd2-a133-24b89a54bbe8",
   "metadata": {},
   "source": [
    "---\n",
    "## 3. Preparation"
   ]
  },
  {
   "cell_type": "markdown",
   "id": "b867d4a1-d826-4833-aa66-d92e8108b199",
   "metadata": {},
   "source": [
    "#### General sampling parameters"
   ]
  },
  {
   "cell_type": "code",
   "execution_count": 12,
   "id": "86329310-b729-433a-92d4-78b832cb846d",
   "metadata": {},
   "outputs": [],
   "source": [
    "replace = False\n",
    "random_state = 0\n",
    "\n",
    "# Copy the data for analysis\n",
    "data = df_images.copy()"
   ]
  },
  {
   "cell_type": "markdown",
   "id": "680d67f9-3d54-4f2d-9662-134de3f7227b",
   "metadata": {},
   "source": [
    "#### Shuffle Samples"
   ]
  },
  {
   "cell_type": "code",
   "execution_count": 13,
   "id": "a0d5e9ff-0782-4137-be80-1a76bd406537",
   "metadata": {},
   "outputs": [
    {
     "data": {
      "text/plain": [
       "Index([85878, 119988, 83434, 112260, 87540, 168399, 36827, 129672, 82703,\n",
       "       46108],\n",
       "      dtype='int64')"
      ]
     },
     "metadata": {},
     "output_type": "display_data"
    }
   ],
   "source": [
    "data = data.sample(n=len(data), replace=replace, random_state=random_state)\n",
    "\n",
    "display(data.index[:10])"
   ]
  },
  {
   "cell_type": "markdown",
   "id": "a4ba8f89-d5ec-4568-9687-5dc20f4d686d",
   "metadata": {},
   "source": [
    "#### Define x and y"
   ]
  },
  {
   "cell_type": "code",
   "execution_count": 14,
   "id": "e03ac84c-2138-47c6-959c-bf9d3586373c",
   "metadata": {},
   "outputs": [
    {
     "name": "stdout",
     "output_type": "stream",
     "text": [
      "Total samples: 245547\n",
      "\n"
     ]
    },
    {
     "data": {
      "text/plain": [
       "flood\n",
       "0    224682\n",
       "1     20865\n",
       "Name: count, dtype: int64"
      ]
     },
     "metadata": {},
     "output_type": "display_data"
    },
    {
     "name": "stdout",
     "output_type": "stream",
     "text": [
      "\n",
      "tag\n",
      "normal        154843\n",
      "poça           69839\n",
      "bolsão         10621\n",
      "lâmina          5218\n",
      "alagamento      5026\n",
      "Name: count, dtype: int64\n"
     ]
    }
   ],
   "source": [
    "x = data.drop('flood', axis=1)\n",
    "y = data['flood']\n",
    "y_multi = data['tag']\n",
    "groups = data['code']\n",
    "\n",
    "print('Total samples:', len(y))\n",
    "print()\n",
    "display(y.value_counts())\n",
    "print()\n",
    "print(y_multi.value_counts())"
   ]
  },
  {
   "cell_type": "markdown",
   "id": "63f8ffdc-6d0b-4ab0-a874-6d1262a1f4db",
   "metadata": {},
   "source": [
    "---\n",
    "### 4. Split cameras with and without positive class using the same train percentage"
   ]
  },
  {
   "cell_type": "markdown",
   "id": "3149478d-a2fd-4be9-9c80-2ea0d8f7afc3",
   "metadata": {},
   "source": [
    "#### Utility functions"
   ]
  },
  {
   "cell_type": "code",
   "execution_count": 15,
   "id": "ccaa0b7f-40bb-4d95-a3f8-b1b7bc310de3",
   "metadata": {},
   "outputs": [],
   "source": [
    "import numpy as np\n",
    "import random\n",
    "import matplotlib.pyplot as plt\n",
    "import seaborn as sns; sns.set()\n",
    "\n",
    "def sample(objs, size=1, frac=None, seed=42):\n",
    "    random.seed(seed)\n",
    "    if frac is not None:\n",
    "        size = int(frac * len(objs))\n",
    "    return random.sample(objs, size)\n",
    "\n",
    "def group_even_undersample(x, y, groups, prct=0.5, n=None, random_state=None):\n",
    "    group_cnt = groups.value_counts()\n",
    "    if n is None:\n",
    "            n = int(np.percentile(group_cnt, prct * 100))\n",
    "    index = []\n",
    "    for group in group_cnt.index:\n",
    "        index += y[groups == group].sample(min(n, group_cnt[group]), replace=False, random_state=random_state).index.tolist()\n",
    "    return x.loc[index], y.loc[index]\n",
    "\n",
    "def group_even_class_undersample(x, y, groups, n, random_state=None):\n",
    "    msk_0 = y == 0.0\n",
    "    msk_1 = y == 1.0\n",
    "    \n",
    "    x_even_0, y_even_0 = group_even_undersample(x[msk_0], y[msk_0], groups[msk_0], n=n, random_state=random_state)\n",
    "    x_even_1, y_even_1 = group_even_undersample(x[msk_1], y[msk_1], groups[msk_1], n=n, random_state=random_state)\n",
    "    \n",
    "    y_even = pd.concat([y_even_0, y_even_1])\n",
    "    x_even = x.loc[y_even.index]\n",
    "    groups_even = groups.loc[y_even.index]\n",
    "\n",
    "    return x_even, y_even, groups_even\n",
    "def report_class_count_per_group(Y, groups):\n",
    "    cnt_0 = groups[Y == 0.0].value_counts()\n",
    "    cnt_1 = groups[Y == 1.0].value_counts()\n",
    "    cnt_0 = cnt_0.loc[cnt_1.index].sort_values(ascending=False)\n",
    "    code_class_cnt = pd.concat([cnt_0.rename('class 0'), cnt_1.rename('class 1')], axis=1)\n",
    "    \n",
    "    display(code_class_cnt.T)\n",
    "    fig = plt.figure(figsize=(7, 2.5))\n",
    "    ax = fig.subplots(1, 1)\n",
    "    code_class_cnt.plot.bar(width=0.8, ax=ax)\n",
    "    plt.show()\n",
    "\n",
    "def group_split_report(y_res, groups_res, train_index, test_index, val_index):\n",
    "\n",
    "    Y_train = y.loc[train_index]\n",
    "    Y_test = y.loc[test_index]\n",
    "    Y_val = y.loc[val_index]\n",
    "    \n",
    "    train_prct = len(Y_train) / len(y_res)\n",
    "    test_prct = len(Y_test) / len(y_res)\n",
    "    val_prct = len(Y_val) / len(y_res)\n",
    "    class_count = y_res.value_counts()\n",
    "    train_class_count = Y_train.value_counts()\n",
    "    test_class_count = Y_test.value_counts()\n",
    "    val_class_count = Y_val.value_counts()\n",
    "    groups_train = groups_res.loc[Y_train.index].unique()\n",
    "    groups_test = groups_res.loc[Y_test.index].unique()\n",
    "    groups_val = groups_res.loc[Y_val.index].unique()\n",
    "\n",
    "    total_groups = len(groups_res.unique())\n",
    "    groups_train_prct = round(len(groups_train) / total_groups * 100, 2)\n",
    "    groups_test_prct = round(len(groups_test) / total_groups * 100, 2)\n",
    "    groups_val_prct = round(len(groups_val) / total_groups * 100, 2)\n",
    "    train_class_prct = [train_class_count[0] / class_count[0], train_class_count[1] / class_count[1]]\n",
    "    test_class_prct = [test_class_count[0] / class_count[0], test_class_count[1] / class_count[1]]\n",
    "    val_class_prct = [val_class_count[0] / class_count[0], val_class_count[1] / class_count[1]]\n",
    "    train_class_ratio = round(Y_train.value_counts(normalize=True).loc[0] * 100, 2)\n",
    "    test_class_ratio = round(Y_test.value_counts(normalize=True).loc[0] * 100, 2)\n",
    "    val_class_ratio = round(Y_val.value_counts(normalize=True).loc[0] * 100, 2)\n",
    "    \n",
    "    print('Groups intersecting train and test sets:', len(set(groups_train).intersection(groups_test)))\n",
    "    print('Groups intersecting train and val sets:', len(set(groups_train).intersection(groups_val)))\n",
    "    print('Groups intersecting test and val sets:', len(set(groups_test).intersection(groups_val)))\n",
    "    print()\n",
    "    \n",
    "    stats = pd.DataFrame(\n",
    "        [[len(groups_train), len(groups_test), len(groups_val)],\n",
    "        [groups_train_prct, groups_test_prct, groups_val_prct],\n",
    "        [len(Y_train), len(Y_test), len(Y_val)],\n",
    "        [round(train_prct * 100, 2), round(test_prct * 100, 2), round(val_prct * 100, 2)],\n",
    "        [train_class_count[0], test_class_count[0], val_class_count[0]],\n",
    "        [train_class_count[1], test_class_count[1], val_class_count[1]],\n",
    "        [round(train_class_prct[0] * 100, 2), round(test_class_prct[0] * 100, 2), round(val_class_prct[0] * 100, 2)],\n",
    "        [round(train_class_prct[1] * 100, 2), round(test_class_prct[1] * 100, 2), round(val_class_prct[1] * 100, 2)],\n",
    "        [train_class_ratio, test_class_ratio, val_class_ratio]],\n",
    "        columns=['train', 'test', 'val'], index=['groups', 'groups (%)', 'total', 'total (%)', '0', '1', '0 (%)', '1 (%)', 'class ratio (%)']\n",
    "    ).T\n",
    "\n",
    "    return stats\n",
    "\n",
    "\n",
    "def group_class_count_plot(y, groups, train_index, test_index, val_index):\n",
    "\n",
    "    Y_train = y.loc[train_index]\n",
    "    Y_test = y.loc[test_index]\n",
    "    Y_val = y.loc[val_index]\n",
    "    groups_train = groups.loc[train_index]\n",
    "    groups_test = groups.loc[test_index]\n",
    "    groups_val = groups.loc[val_index]\n",
    "    \n",
    "    for y_i, g_i, title in zip((Y_train, Y_test, Y_val), (groups_train, groups_test, groups_val), ('Train', 'Test', 'Validation')):\n",
    "    \n",
    "        cnt_0 = g_i[y_i == 0.0].value_counts()\n",
    "        cnt_1 = g_i[y_i == 1.0].value_counts()\n",
    "        cnt_0 = cnt_0.loc[cnt_1.index]\n",
    "        \n",
    "        code_class_cnt = pd.concat([cnt_0.rename('class 0'), cnt_1.rename('class 1')], axis=1)\n",
    "        code_class_cnt.index.name = f'codes'\n",
    "        code_class_cnt.columns.name = title\n",
    "        display(code_class_cnt.T)\n",
    "    \n",
    "    for y_i, g_i, title in zip((Y_train, Y_test, Y_val), (groups_train, groups_test, groups_val), ('Train', 'Test', 'Validation')):\n",
    "    \n",
    "        cnt_0 = g_i[y_i == 0.0].value_counts()\n",
    "        cnt_1 = g_i[y_i == 1.0].value_counts()\n",
    "        cnt_0 = cnt_0.loc[cnt_1.index]\n",
    "        \n",
    "        code_class_cnt = pd.concat([cnt_0.rename('class 0'), cnt_1.rename('class 1')], axis=1)\n",
    "        code_class_cnt.index.name = f'codes'\n",
    "        code_class_cnt.columns.name = title\n",
    "        \n",
    "        fig = plt.figure(figsize=(7, 2.5))\n",
    "        ax = fig.subplots(1, 1)\n",
    "        \n",
    "        code_class_cnt.plot.bar(width=0.8, ax=ax, title=title)\n",
    "        # plt.legend(loc='lower left')\n",
    "        # plt.tight_layout()\n",
    "        plt.show()"
   ]
  },
  {
   "cell_type": "markdown",
   "id": "cfe611b5-e9b6-4dc5-8a25-c7d1e8efa03e",
   "metadata": {},
   "source": [
    "#### Get codes for cameras with and without positive samples"
   ]
  },
  {
   "cell_type": "code",
   "execution_count": 16,
   "id": "ec4fc760-8a7c-4878-9d3b-bc9a6cd197be",
   "metadata": {},
   "outputs": [
    {
     "name": "stdout",
     "output_type": "stream",
     "text": [
      "Total cameras: 200\n",
      "Cameras with positive class: 30\n",
      "Cameras without positive class: 170\n"
     ]
    }
   ],
   "source": [
    "codes = groups.unique().tolist()\n",
    "codes_1 = data[y == 1.0]['code'].unique().tolist()\n",
    "codes_0 = list(set(codes).difference(codes_1))\n",
    "\n",
    "print('Total cameras:', len(codes))\n",
    "print('Cameras with positive class:', len(codes_1))\n",
    "print('Cameras without positive class:', len(codes_0))"
   ]
  },
  {
   "cell_type": "markdown",
   "id": "1b019ab6-20c4-4d20-bae8-41ca05431e85",
   "metadata": {},
   "source": [
    "#### Split codes based on percentage "
   ]
  },
  {
   "cell_type": "code",
   "execution_count": 17,
   "id": "65ab1f6b-341e-40c6-9421-a94fe7080365",
   "metadata": {},
   "outputs": [
    {
     "name": "stdout",
     "output_type": "stream",
     "text": [
      "n_codes_train: 120\n",
      "n_codes_test: 40\n",
      "n_codes_val: 40\n",
      "\n",
      "n_codes_train_0: 102\n",
      "n_codes_test_0: 34\n",
      "n_codes_val_0: 34\n",
      "\n",
      "n_codes_train_1: 18\n",
      "n_codes_test_1: 6\n",
      "n_codes_val_1: 6\n",
      "\n",
      "codes_train[:5]: [2238.0, 201.0, 13.0, 114.0, 869.0]\n",
      "codes_test[:5]: [3269.0, 766.0, 1547.0, 2167.0, 1474.0]\n",
      "codes_val[:5]: [3260.0, 1726.0, 2052.0, 1576.0, 1635.0]\n"
     ]
    }
   ],
   "source": [
    "# Sample uniformly\n",
    "\n",
    "train_size = 0.6\n",
    "test_size = 0.2\n",
    "val_size = 0.2\n",
    "\n",
    "train_frac = train_size\n",
    "test_frac = test_size / (1.0 - train_size) \n",
    "val_frac = val_size / (1.0 - train_size - test_size) \n",
    "\n",
    "codes_0_train = sample(codes_0, frac=train_frac, seed=random_state)\n",
    "codes_1_train = sample(codes_1, frac=train_frac, seed=random_state)\n",
    "\n",
    "codes_0_out = list(set(codes_0).difference(codes_0_train))\n",
    "codes_1_out = list(set(codes_1).difference(codes_1_train))\n",
    "\n",
    "codes_0_test = sample(codes_0_out, frac=test_frac, seed=random_state)\n",
    "codes_1_test = sample(codes_1_out, frac=test_frac, seed=random_state)\n",
    "\n",
    "codes_0_out = list(set(codes_0_out).difference(codes_0_test))\n",
    "codes_1_out = list(set(codes_1_out).difference(codes_1_test))\n",
    "\n",
    "codes_0_val = sample(codes_0_out, frac=val_frac, seed=random_state)\n",
    "codes_1_val = sample(codes_1_out, frac=val_frac, seed=random_state)\n",
    "\n",
    "codes_train = codes_0_train + codes_1_train\n",
    "codes_test = codes_0_test + codes_1_test\n",
    "codes_val = codes_0_val + codes_1_val\n",
    "\n",
    "print('n_codes_train:', len(codes_train))\n",
    "print('n_codes_test:', len(codes_test))\n",
    "print('n_codes_val:', len(codes_val))\n",
    "print()\n",
    "print('n_codes_train_0:', len(codes_0_train))\n",
    "print('n_codes_test_0:', len(codes_0_test))\n",
    "print('n_codes_val_0:', len(codes_0_val))\n",
    "print()\n",
    "print('n_codes_train_1:', len(codes_1_train))\n",
    "print('n_codes_test_1:', len(codes_1_test))\n",
    "print('n_codes_val_1:', len(codes_1_val))\n",
    "print()\n",
    "print('codes_train[:5]:', codes_train[:5])\n",
    "print('codes_test[:5]:', codes_test[:5])\n",
    "print('codes_val[:5]:', codes_val[:5])"
   ]
  },
  {
   "cell_type": "markdown",
   "id": "ea37a873-d3e9-4ba9-885d-97da16b955b6",
   "metadata": {},
   "source": [
    "#### Split images based on splitted camera codes"
   ]
  },
  {
   "cell_type": "code",
   "execution_count": 18,
   "id": "aa302a24-0b80-44bb-b46d-b10a79a199c8",
   "metadata": {},
   "outputs": [
    {
     "data": {
      "text/html": [
       "<div>\n",
       "<style scoped>\n",
       "    .dataframe tbody tr th:only-of-type {\n",
       "        vertical-align: middle;\n",
       "    }\n",
       "\n",
       "    .dataframe tbody tr th {\n",
       "        vertical-align: top;\n",
       "    }\n",
       "\n",
       "    .dataframe thead th {\n",
       "        text-align: right;\n",
       "    }\n",
       "</style>\n",
       "<table border=\"1\" class=\"dataframe\">\n",
       "  <thead>\n",
       "    <tr style=\"text-align: right;\">\n",
       "      <th></th>\n",
       "      <th>train</th>\n",
       "      <th>test</th>\n",
       "      <th>val</th>\n",
       "    </tr>\n",
       "    <tr>\n",
       "      <th>flood</th>\n",
       "      <th></th>\n",
       "      <th></th>\n",
       "      <th></th>\n",
       "    </tr>\n",
       "  </thead>\n",
       "  <tbody>\n",
       "    <tr>\n",
       "      <th>0</th>\n",
       "      <td>129211</td>\n",
       "      <td>49979</td>\n",
       "      <td>45492</td>\n",
       "    </tr>\n",
       "    <tr>\n",
       "      <th>1</th>\n",
       "      <td>5360</td>\n",
       "      <td>10999</td>\n",
       "      <td>4506</td>\n",
       "    </tr>\n",
       "  </tbody>\n",
       "</table>\n",
       "</div>"
      ],
      "text/plain": [
       "        train   test    val\n",
       "flood                      \n",
       "0      129211  49979  45492\n",
       "1        5360  10999   4506"
      ]
     },
     "metadata": {},
     "output_type": "display_data"
    }
   ],
   "source": [
    "data_train = data[data['code'].isin(codes_train)]\n",
    "data_test = data[data['code'].isin(codes_test)]\n",
    "data_val = data[data['code'].isin(codes_val)]\n",
    "\n",
    "display(pd.concat([\n",
    "    data_train['flood'].value_counts().to_frame('train'),\n",
    "    data_test['flood'].value_counts().to_frame('test'),\n",
    "    data_val['flood'].value_counts().to_frame('val')\n",
    "], axis=1))"
   ]
  },
  {
   "cell_type": "markdown",
   "id": "16f43718-9ca5-4a73-b1a1-4a30daca2c77",
   "metadata": {},
   "source": [
    "#### Even groups class undersample"
   ]
  },
  {
   "cell_type": "code",
   "execution_count": 19,
   "id": "9732dc5b-7392-4d7e-8acb-36bb6cd6f5a8",
   "metadata": {},
   "outputs": [
    {
     "data": {
      "text/plain": [
       "Index([170091, 165711, 170486, 188294, 188504, 175028,  99853, 100027, 222058,\n",
       "        85866,\n",
       "       ...\n",
       "       194238, 194242, 194237, 194236, 194246, 194244, 194234, 194241, 194239,\n",
       "       194235],\n",
       "      dtype='int64', length=21253)"
      ]
     },
     "metadata": {},
     "output_type": "display_data"
    }
   ],
   "source": [
    "x_even, y_even, groups_even = group_even_class_undersample(x, y, groups, n=100, random_state=random_state)\n",
    "y_multi_even = y_multi.loc[y_even.index]\n",
    "\n",
    "display(y_even.index)"
   ]
  },
  {
   "cell_type": "markdown",
   "id": "105728d5-8541-41a0-a0d3-6dfb9c4eef9c",
   "metadata": {},
   "source": [
    "#### Report class count"
   ]
  },
  {
   "cell_type": "code",
   "execution_count": 20,
   "id": "98feaa29-cca6-41e2-ac4e-ec19f7f7fe9b",
   "metadata": {},
   "outputs": [
    {
     "name": "stdout",
     "output_type": "stream",
     "text": [
      "Total samples: 21253\n",
      "\n"
     ]
    },
    {
     "data": {
      "text/plain": [
       "flood\n",
       "0    18660\n",
       "1     2593\n",
       "Name: count, dtype: int64"
      ]
     },
     "metadata": {},
     "output_type": "display_data"
    },
    {
     "name": "stdout",
     "output_type": "stream",
     "text": [
      "\n",
      "tag\n",
      "normal        12410\n",
      "poça           6250\n",
      "bolsão         1028\n",
      "alagamento     1001\n",
      "lâmina          564\n",
      "Name: count, dtype: int64\n"
     ]
    }
   ],
   "source": [
    "print('Total samples:', len(y_even))\n",
    "print()\n",
    "display(y_even.value_counts())\n",
    "print()\n",
    "print(y_multi_even.value_counts())"
   ]
  },
  {
   "cell_type": "markdown",
   "id": "0eef2b12-5edd-4a57-9285-e2ea85903f5c",
   "metadata": {},
   "source": [
    "#### Report class count per camera"
   ]
  },
  {
   "cell_type": "code",
   "execution_count": 21,
   "id": "82d8b607-5d03-4706-86f1-d0ec0cd3914b",
   "metadata": {},
   "outputs": [
    {
     "data": {
      "image/png": "[encoded data removed]",
      "text/plain": [
       "<Figure size 700x250 with 1 Axes>"
      ]
     },
     "metadata": {},
     "output_type": "display_data"
    },
    {
     "data": {
      "image/png": "[encoded data removed]",
      "text/plain": [
       "<Figure size 700x250 with 1 Axes>"
      ]
     },
     "metadata": {},
     "output_type": "display_data"
    }
   ],
   "source": [
    "def separate_group_class_count_plot(y_even, groups_even, codes_1):\n",
    "    \n",
    "    groups_even_1 = groups_even[groups_even.isin(codes_1)]\n",
    "    y_even_1 = y_even.loc[groups_even_1.index]\n",
    "    \n",
    "    cls_cnt = pd.concat([\n",
    "        groups_even_1[y_even_1 == 0.0].value_counts().rename('not flood'),\n",
    "        groups_even_1[y_even_1 == 1.0].value_counts().rename('flood')\n",
    "    ], axis=1).sort_values('flood', ascending=False)\n",
    "    \n",
    "    fig = plt.figure(figsize=(7, 2.5))\n",
    "    ax = fig.subplots(1, 1)\n",
    "    \n",
    "    cls_cnt.plot.bar(width=0.7, ax=ax)\n",
    "    plt.title('Images from cameras with positive samples')\n",
    "    plt.show()\n",
    "    \n",
    "    groups_even_0 = groups_even[groups_even.isin(codes_0)]\n",
    "    y_even_0 = y_even.loc[groups_even_0.index]\n",
    "    \n",
    "    fig = plt.figure(figsize=(7, 2.5))\n",
    "    ax = fig.subplots(1, 1)\n",
    "    \n",
    "    groups_even_0.value_counts().reset_index(drop=True).rename('not flood').plot(ax=ax, marker='o', ms=3)\n",
    "    plt.title('Images from cameras without positive samples')\n",
    "    plt.legend()\n",
    "    plt.show()\n",
    "\n",
    "separate_group_class_count_plot(y_even, groups_even, codes_1)"
   ]
  },
  {
   "cell_type": "markdown",
   "id": "3889a4b5-dfc1-4d7d-b00d-066e5f745b32",
   "metadata": {},
   "source": [
    "---\n",
    "## 5. Train and Test Splits"
   ]
  },
  {
   "cell_type": "markdown",
   "id": "e464eabf-12fa-4cd8-832b-6853fbe93957",
   "metadata": {},
   "source": [
    "### Imbalanced natural proportion per camera train, balanced test and validation"
   ]
  },
  {
   "cell_type": "code",
   "execution_count": 46,
   "id": "dc0c9980-db39-4600-bc03-a5f96e5abd2a",
   "metadata": {},
   "outputs": [
    {
     "name": "stdout",
     "output_type": "stream",
     "text": [
      "Groups intersecting train and test sets: 0\n",
      "Groups intersecting train and val sets: 0\n",
      "Groups intersecting test and val sets: 0\n",
      "\n"
     ]
    },
    {
     "data": {
      "text/html": [
       "<div>\n",
       "<style scoped>\n",
       "    .dataframe tbody tr th:only-of-type {\n",
       "        vertical-align: middle;\n",
       "    }\n",
       "\n",
       "    .dataframe tbody tr th {\n",
       "        vertical-align: top;\n",
       "    }\n",
       "\n",
       "    .dataframe thead th {\n",
       "        text-align: right;\n",
       "    }\n",
       "</style>\n",
       "<table border=\"1\" class=\"dataframe\">\n",
       "  <thead>\n",
       "    <tr style=\"text-align: right;\">\n",
       "      <th></th>\n",
       "      <th>groups</th>\n",
       "      <th>groups (%)</th>\n",
       "      <th>total</th>\n",
       "      <th>total (%)</th>\n",
       "      <th>0</th>\n",
       "      <th>1</th>\n",
       "      <th>0 (%)</th>\n",
       "      <th>1 (%)</th>\n",
       "      <th>class ratio (%)</th>\n",
       "    </tr>\n",
       "  </thead>\n",
       "  <tbody>\n",
       "    <tr>\n",
       "      <th>train</th>\n",
       "      <td>119.0</td>\n",
       "      <td>59.5</td>\n",
       "      <td>13000.0</td>\n",
       "      <td>5.29</td>\n",
       "      <td>12526.0</td>\n",
       "      <td>474.0</td>\n",
       "      <td>5.57</td>\n",
       "      <td>2.27</td>\n",
       "      <td>96.35</td>\n",
       "    </tr>\n",
       "    <tr>\n",
       "      <th>test</th>\n",
       "      <td>6.0</td>\n",
       "      <td>3.0</td>\n",
       "      <td>1197.0</td>\n",
       "      <td>0.49</td>\n",
       "      <td>600.0</td>\n",
       "      <td>597.0</td>\n",
       "      <td>0.27</td>\n",
       "      <td>2.86</td>\n",
       "      <td>50.13</td>\n",
       "    </tr>\n",
       "    <tr>\n",
       "      <th>val</th>\n",
       "      <td>6.0</td>\n",
       "      <td>3.0</td>\n",
       "      <td>1042.0</td>\n",
       "      <td>0.42</td>\n",
       "      <td>600.0</td>\n",
       "      <td>442.0</td>\n",
       "      <td>0.27</td>\n",
       "      <td>2.12</td>\n",
       "      <td>57.58</td>\n",
       "    </tr>\n",
       "  </tbody>\n",
       "</table>\n",
       "</div>"
      ],
      "text/plain": [
       "       groups  groups (%)    total  total (%)        0      1  0 (%)  1 (%)  \\\n",
       "train   119.0        59.5  13000.0       5.29  12526.0  474.0   5.57   2.27   \n",
       "test      6.0         3.0   1197.0       0.49    600.0  597.0   0.27   2.86   \n",
       "val       6.0         3.0   1042.0       0.42    600.0  442.0   0.27   2.12   \n",
       "\n",
       "       class ratio (%)  \n",
       "train            96.35  \n",
       "test             50.13  \n",
       "val              57.58  "
      ]
     },
     "metadata": {},
     "output_type": "display_data"
    },
    {
     "data": {
      "text/html": [
       "<div>\n",
       "<style scoped>\n",
       "    .dataframe tbody tr th:only-of-type {\n",
       "        vertical-align: middle;\n",
       "    }\n",
       "\n",
       "    .dataframe tbody tr th {\n",
       "        vertical-align: top;\n",
       "    }\n",
       "\n",
       "    .dataframe thead th {\n",
       "        text-align: right;\n",
       "    }\n",
       "</style>\n",
       "<table border=\"1\" class=\"dataframe\">\n",
       "  <thead>\n",
       "    <tr style=\"text-align: right;\">\n",
       "      <th>codes</th>\n",
       "      <th>326.0</th>\n",
       "      <th>1393.0</th>\n",
       "      <th>1881.0</th>\n",
       "      <th>442.0</th>\n",
       "      <th>1147.0</th>\n",
       "      <th>267.0</th>\n",
       "      <th>384.0</th>\n",
       "      <th>92.0</th>\n",
       "      <th>3290.0</th>\n",
       "      <th>94.0</th>\n",
       "      <th>1994.0</th>\n",
       "      <th>339.0</th>\n",
       "      <th>1430.0</th>\n",
       "      <th>1083.0</th>\n",
       "      <th>3133.0</th>\n",
       "      <th>1119.0</th>\n",
       "      <th>313.0</th>\n",
       "      <th>268.0</th>\n",
       "    </tr>\n",
       "    <tr>\n",
       "      <th>Train</th>\n",
       "      <th></th>\n",
       "      <th></th>\n",
       "      <th></th>\n",
       "      <th></th>\n",
       "      <th></th>\n",
       "      <th></th>\n",
       "      <th></th>\n",
       "      <th></th>\n",
       "      <th></th>\n",
       "      <th></th>\n",
       "      <th></th>\n",
       "      <th></th>\n",
       "      <th></th>\n",
       "      <th></th>\n",
       "      <th></th>\n",
       "      <th></th>\n",
       "      <th></th>\n",
       "      <th></th>\n",
       "    </tr>\n",
       "  </thead>\n",
       "  <tbody>\n",
       "    <tr>\n",
       "      <th>class 0</th>\n",
       "      <td>970</td>\n",
       "      <td>75</td>\n",
       "      <td>255</td>\n",
       "      <td>18</td>\n",
       "      <td>12</td>\n",
       "      <td>633</td>\n",
       "      <td>14</td>\n",
       "      <td>400</td>\n",
       "      <td>106</td>\n",
       "      <td>16</td>\n",
       "      <td>131</td>\n",
       "      <td>24</td>\n",
       "      <td>26</td>\n",
       "      <td>120</td>\n",
       "      <td>26</td>\n",
       "      <td>25</td>\n",
       "      <td>83</td>\n",
       "      <td>9</td>\n",
       "    </tr>\n",
       "    <tr>\n",
       "      <th>class 1</th>\n",
       "      <td>90</td>\n",
       "      <td>84</td>\n",
       "      <td>60</td>\n",
       "      <td>51</td>\n",
       "      <td>30</td>\n",
       "      <td>28</td>\n",
       "      <td>20</td>\n",
       "      <td>20</td>\n",
       "      <td>18</td>\n",
       "      <td>17</td>\n",
       "      <td>13</td>\n",
       "      <td>12</td>\n",
       "      <td>9</td>\n",
       "      <td>8</td>\n",
       "      <td>8</td>\n",
       "      <td>4</td>\n",
       "      <td>1</td>\n",
       "      <td>1</td>\n",
       "    </tr>\n",
       "  </tbody>\n",
       "</table>\n",
       "</div>"
      ],
      "text/plain": [
       "codes    326.0   1393.0  1881.0  442.0   1147.0  267.0   384.0   92.0    \\\n",
       "Train                                                                     \n",
       "class 0     970      75     255      18      12     633      14     400   \n",
       "class 1      90      84      60      51      30      28      20      20   \n",
       "\n",
       "codes    3290.0  94.0    1994.0  339.0   1430.0  1083.0  3133.0  1119.0  \\\n",
       "Train                                                                     \n",
       "class 0     106      16     131      24      26     120      26      25   \n",
       "class 1      18      17      13      12       9       8       8       4   \n",
       "\n",
       "codes    313.0   268.0   \n",
       "Train                    \n",
       "class 0      83       9  \n",
       "class 1       1       1  "
      ]
     },
     "metadata": {},
     "output_type": "display_data"
    },
    {
     "data": {
      "text/html": [
       "<div>\n",
       "<style scoped>\n",
       "    .dataframe tbody tr th:only-of-type {\n",
       "        vertical-align: middle;\n",
       "    }\n",
       "\n",
       "    .dataframe tbody tr th {\n",
       "        vertical-align: top;\n",
       "    }\n",
       "\n",
       "    .dataframe thead th {\n",
       "        text-align: right;\n",
       "    }\n",
       "</style>\n",
       "<table border=\"1\" class=\"dataframe\">\n",
       "  <thead>\n",
       "    <tr style=\"text-align: right;\">\n",
       "      <th>codes</th>\n",
       "      <th>278.0</th>\n",
       "      <th>1538.0</th>\n",
       "      <th>1671.0</th>\n",
       "      <th>38.0</th>\n",
       "      <th>310.0</th>\n",
       "      <th>2017.0</th>\n",
       "    </tr>\n",
       "    <tr>\n",
       "      <th>Test</th>\n",
       "      <th></th>\n",
       "      <th></th>\n",
       "      <th></th>\n",
       "      <th></th>\n",
       "      <th></th>\n",
       "      <th></th>\n",
       "    </tr>\n",
       "  </thead>\n",
       "  <tbody>\n",
       "    <tr>\n",
       "      <th>class 0</th>\n",
       "      <td>100</td>\n",
       "      <td>100</td>\n",
       "      <td>100</td>\n",
       "      <td>100</td>\n",
       "      <td>100</td>\n",
       "      <td>100</td>\n",
       "    </tr>\n",
       "    <tr>\n",
       "      <th>class 1</th>\n",
       "      <td>100</td>\n",
       "      <td>100</td>\n",
       "      <td>100</td>\n",
       "      <td>100</td>\n",
       "      <td>100</td>\n",
       "      <td>97</td>\n",
       "    </tr>\n",
       "  </tbody>\n",
       "</table>\n",
       "</div>"
      ],
      "text/plain": [
       "codes    278.0   1538.0  1671.0  38.0    310.0   2017.0\n",
       "Test                                                   \n",
       "class 0     100     100     100     100     100     100\n",
       "class 1     100     100     100     100     100      97"
      ]
     },
     "metadata": {},
     "output_type": "display_data"
    },
    {
     "data": {
      "text/html": [
       "<div>\n",
       "<style scoped>\n",
       "    .dataframe tbody tr th:only-of-type {\n",
       "        vertical-align: middle;\n",
       "    }\n",
       "\n",
       "    .dataframe tbody tr th {\n",
       "        vertical-align: top;\n",
       "    }\n",
       "\n",
       "    .dataframe thead th {\n",
       "        text-align: right;\n",
       "    }\n",
       "</style>\n",
       "<table border=\"1\" class=\"dataframe\">\n",
       "  <thead>\n",
       "    <tr style=\"text-align: right;\">\n",
       "      <th>codes</th>\n",
       "      <th>298.0</th>\n",
       "      <th>235.0</th>\n",
       "      <th>430.0</th>\n",
       "      <th>1606.0</th>\n",
       "      <th>1431.0</th>\n",
       "      <th>1475.0</th>\n",
       "    </tr>\n",
       "    <tr>\n",
       "      <th>Validation</th>\n",
       "      <th></th>\n",
       "      <th></th>\n",
       "      <th></th>\n",
       "      <th></th>\n",
       "      <th></th>\n",
       "      <th></th>\n",
       "    </tr>\n",
       "  </thead>\n",
       "  <tbody>\n",
       "    <tr>\n",
       "      <th>class 0</th>\n",
       "      <td>100</td>\n",
       "      <td>100</td>\n",
       "      <td>100</td>\n",
       "      <td>100</td>\n",
       "      <td>100</td>\n",
       "      <td>100</td>\n",
       "    </tr>\n",
       "    <tr>\n",
       "      <th>class 1</th>\n",
       "      <td>100</td>\n",
       "      <td>100</td>\n",
       "      <td>100</td>\n",
       "      <td>100</td>\n",
       "      <td>28</td>\n",
       "      <td>14</td>\n",
       "    </tr>\n",
       "  </tbody>\n",
       "</table>\n",
       "</div>"
      ],
      "text/plain": [
       "codes       298.0   235.0   430.0   1606.0  1431.0  1475.0\n",
       "Validation                                                \n",
       "class 0        100     100     100     100     100     100\n",
       "class 1        100     100     100     100      28      14"
      ]
     },
     "metadata": {},
     "output_type": "display_data"
    },
    {
     "data": {
      "image/png": "[encoded data removed]",
      "text/plain": [
       "<Figure size 700x250 with 1 Axes>"
      ]
     },
     "metadata": {},
     "output_type": "display_data"
    },
    {
     "data": {
      "image/png": "[encoded data removed]",
      "text/plain": [
       "<Figure size 700x250 with 1 Axes>"
      ]
     },
     "metadata": {},
     "output_type": "display_data"
    },
    {
     "data": {
      "image/png": "[encoded data removed]",
      "text/plain": [
       "<Figure size 700x250 with 1 Axes>"
      ]
     },
     "metadata": {},
     "output_type": "display_data"
    }
   ],
   "source": [
    "train_size = 13000\n",
    "\n",
    "train_index = y[groups.isin(codes_train)].index\n",
    "if train_size is not None:\n",
    "    train_index = sample(list(train_index), size=train_size, seed=random_state)\n",
    "\n",
    "test_index = y_even[groups_even.isin(codes_1_test)].index\n",
    "val_index = y_even[groups_even.isin(codes_1_val)].index\n",
    "\n",
    "display(group_split_report(y, groups, train_index, test_index, val_index))\n",
    "group_class_count_plot(y, groups, train_index, test_index, val_index)"
   ]
  },
  {
   "cell_type": "markdown",
   "id": "a12366e5-5af3-4a26-9568-f76bda95169d",
   "metadata": {},
   "source": [
    "#### Copy images with `train_index`and `test_index` into structured 'train' and 'test' folders"
   ]
  },
  {
   "cell_type": "code",
   "execution_count": 47,
   "id": "e92b74ef-23e5-4ba7-afc3-1cb145e83928",
   "metadata": {},
   "outputs": [
    {
     "name": "stdout",
     "output_type": "stream",
     "text": [
      "Copying images to train folders:\n",
      "Processed 13000/13000 files (100.00%) - Found: 13000/13000\n",
      "Copying images to test folders:\n",
      "Processed 1197/1197 files (100.00%) - Found: 1197/1197\n",
      "Copying images to val folders:\n",
      "Processed 1042/1042 files (100.00%) - Found: 1042/1042\r"
     ]
    }
   ],
   "source": [
    "from modules.octa_video_util import copy_images_to_folders\n",
    "\n",
    "base_directory = 'data/images'\n",
    "target_directory = 'data/splits/natural_imbalanced_train'\n",
    "dataset = data.copy()\n",
    "file_path_field = 'file_path'\n",
    "label_field = 'flood'\n",
    "\n",
    "copy_images_to_folders(\n",
    "    base_directory, target_directory, dataset,\n",
    "    train_index, test_index, val_index,\n",
    "    file_path_field=file_path_field, tag_field=label_field\n",
    ")"
   ]
  },
  {
   "cell_type": "markdown",
   "id": "ef26f44f-d4ad-4982-91ff-32c58c5f1595",
   "metadata": {},
   "source": [
    "#### Save dataframe of sample images"
   ]
  },
  {
   "cell_type": "code",
   "execution_count": 176,
   "id": "1ebf7730-5192-44dc-acf6-742afe14da80",
   "metadata": {},
   "outputs": [
    {
     "name": "stdout",
     "output_type": "stream",
     "text": [
      "split dataframe saved with shape: (1756, 13)\n"
     ]
    }
   ],
   "source": [
    "import os\n",
    "\n",
    "os.makedirs(target_directory, exist_ok=True)\n",
    "\n",
    "data_train = data.loc[train_index].copy()\n",
    "data_test = data.loc[test_index].copy()\n",
    "data_val = data.loc[val_index].copy()\n",
    "\n",
    "data_train['set'] = 'train'\n",
    "data_test['set'] = 'test'\n",
    "data_val['set'] = 'val'\n",
    "\n",
    "data_split_df = pd.concat([data_train, data_test, data_val])\n",
    "\n",
    "data_split_df.to_csv(f'{target_directory}/images.csv')\n",
    "print(f'split dataframe saved with shape: {data_split_df.shape}')"
   ]
  },
  {
   "cell_type": "markdown",
   "id": "338f27cf-bc1b-4835-9c0b-49339113f43d",
   "metadata": {},
   "source": [
    "### Balanced train, test and validation"
   ]
  },
  {
   "cell_type": "code",
   "execution_count": 48,
   "id": "70307085-a8a6-4793-ba9d-dd19f1ae520d",
   "metadata": {},
   "outputs": [
    {
     "name": "stdout",
     "output_type": "stream",
     "text": [
      "Groups intersecting train and test sets: 0\n",
      "Groups intersecting train and val sets: 0\n",
      "Groups intersecting test and val sets: 0\n",
      "\n"
     ]
    },
    {
     "data": {
      "text/html": [
       "<div>\n",
       "<style scoped>\n",
       "    .dataframe tbody tr th:only-of-type {\n",
       "        vertical-align: middle;\n",
       "    }\n",
       "\n",
       "    .dataframe tbody tr th {\n",
       "        vertical-align: top;\n",
       "    }\n",
       "\n",
       "    .dataframe thead th {\n",
       "        text-align: right;\n",
       "    }\n",
       "</style>\n",
       "<table border=\"1\" class=\"dataframe\">\n",
       "  <thead>\n",
       "    <tr style=\"text-align: right;\">\n",
       "      <th></th>\n",
       "      <th>groups</th>\n",
       "      <th>groups (%)</th>\n",
       "      <th>total</th>\n",
       "      <th>total (%)</th>\n",
       "      <th>0</th>\n",
       "      <th>1</th>\n",
       "      <th>0 (%)</th>\n",
       "      <th>1 (%)</th>\n",
       "      <th>class ratio (%)</th>\n",
       "    </tr>\n",
       "  </thead>\n",
       "  <tbody>\n",
       "    <tr>\n",
       "      <th>train</th>\n",
       "      <td>18.0</td>\n",
       "      <td>9.0</td>\n",
       "      <td>3323.0</td>\n",
       "      <td>15.64</td>\n",
       "      <td>1769.0</td>\n",
       "      <td>1554.0</td>\n",
       "      <td>9.48</td>\n",
       "      <td>59.93</td>\n",
       "      <td>53.24</td>\n",
       "    </tr>\n",
       "    <tr>\n",
       "      <th>test</th>\n",
       "      <td>6.0</td>\n",
       "      <td>3.0</td>\n",
       "      <td>1197.0</td>\n",
       "      <td>5.63</td>\n",
       "      <td>600.0</td>\n",
       "      <td>597.0</td>\n",
       "      <td>3.22</td>\n",
       "      <td>23.02</td>\n",
       "      <td>50.13</td>\n",
       "    </tr>\n",
       "    <tr>\n",
       "      <th>val</th>\n",
       "      <td>6.0</td>\n",
       "      <td>3.0</td>\n",
       "      <td>1042.0</td>\n",
       "      <td>4.90</td>\n",
       "      <td>600.0</td>\n",
       "      <td>442.0</td>\n",
       "      <td>3.22</td>\n",
       "      <td>17.05</td>\n",
       "      <td>57.58</td>\n",
       "    </tr>\n",
       "  </tbody>\n",
       "</table>\n",
       "</div>"
      ],
      "text/plain": [
       "       groups  groups (%)   total  total (%)       0       1  0 (%)  1 (%)  \\\n",
       "train    18.0         9.0  3323.0      15.64  1769.0  1554.0   9.48  59.93   \n",
       "test      6.0         3.0  1197.0       5.63   600.0   597.0   3.22  23.02   \n",
       "val       6.0         3.0  1042.0       4.90   600.0   442.0   3.22  17.05   \n",
       "\n",
       "       class ratio (%)  \n",
       "train            53.24  \n",
       "test             50.13  \n",
       "val              57.58  "
      ]
     },
     "metadata": {},
     "output_type": "display_data"
    }
   ],
   "source": [
    "train_index = y_even[groups_even.isin(codes_1_train)].index\n",
    "test_index = y_even[groups_even.isin(codes_1_test)].index\n",
    "val_index = y_even[groups_even.isin(codes_1_val)].index\n",
    "\n",
    "display(group_split_report(y_even, groups_even, train_index, test_index, val_index))\n",
    "# group_class_count_plot(y, groups, train_index, test_index, val_index)"
   ]
  },
  {
   "cell_type": "markdown",
   "id": "03230687-5c36-49cb-8d1c-9568e010d016",
   "metadata": {},
   "source": [
    "#### Copy images with `train_index`and `test_index` into structured 'train' and 'test' folders"
   ]
  },
  {
   "cell_type": "code",
   "execution_count": 49,
   "id": "1d874904-6034-4b97-ab78-e79bc59c39e9",
   "metadata": {},
   "outputs": [
    {
     "name": "stdout",
     "output_type": "stream",
     "text": [
      "Copying images to train folders:\n",
      "Processed 3323/3323 files (100.00%) - Found: 3323/3323\n",
      "Copying images to test folders:\n",
      "Processed 1197/1197 files (100.00%) - Found: 1197/1197\n",
      "Copying images to val folders:\n",
      "Processed 1042/1042 files (100.00%) - Found: 1042/1042\r"
     ]
    }
   ],
   "source": [
    "from modules.octa_video_util import copy_images_to_folders\n",
    "\n",
    "base_directory = 'data/images'\n",
    "target_directory = 'data/splits/balanced_train'\n",
    "dataset = data.copy()\n",
    "file_path_field = 'file_path'\n",
    "label_field = 'flood'\n",
    "\n",
    "copy_images_to_folders(\n",
    "    base_directory, target_directory, dataset,\n",
    "    train_index, test_index, val_index,\n",
    "    file_path_field=file_path_field, tag_field=label_field\n",
    ")"
   ]
  },
  {
   "cell_type": "markdown",
   "id": "f670c75f-147d-4739-9ca7-e3a5d7766774",
   "metadata": {},
   "source": [
    "#### Save dataframe of sample images"
   ]
  },
  {
   "cell_type": "code",
   "execution_count": 50,
   "id": "f8e92036-def9-4e89-93da-2b9ec8ff68e3",
   "metadata": {},
   "outputs": [
    {
     "name": "stdout",
     "output_type": "stream",
     "text": [
      "split dataframe saved with shape: (5562, 13)\n"
     ]
    }
   ],
   "source": [
    "import os\n",
    "\n",
    "os.makedirs(target_directory, exist_ok=True)\n",
    "\n",
    "data_train = data.loc[train_index].copy()\n",
    "data_test = data.loc[test_index].copy()\n",
    "data_val = data.loc[val_index].copy()\n",
    "\n",
    "data_train['set'] = 'train'\n",
    "data_test['set'] = 'test'\n",
    "data_val['set'] = 'val'\n",
    "\n",
    "data_split_df = pd.concat([data_train, data_test, data_val])\n",
    "\n",
    "data_split_df.to_csv(f'{target_directory}/images.csv')\n",
    "print(f'split dataframe saved with shape: {data_split_df.shape}')"
   ]
  },
  {
   "cell_type": "markdown",
   "id": "8a11dc4c-306f-4d66-980e-b4f25cc2f0d1",
   "metadata": {},
   "source": [
    "### Imbalanced train,  balanced test and validation"
   ]
  },
  {
   "cell_type": "code",
   "execution_count": 51,
   "id": "06f34406-df4c-42be-b038-259e5cb28842",
   "metadata": {},
   "outputs": [
    {
     "name": "stdout",
     "output_type": "stream",
     "text": [
      "Groups intersecting train and test sets: 0\n",
      "Groups intersecting train and val sets: 0\n",
      "Groups intersecting test and val sets: 0\n",
      "\n"
     ]
    },
    {
     "data": {
      "text/html": [
       "<div>\n",
       "<style scoped>\n",
       "    .dataframe tbody tr th:only-of-type {\n",
       "        vertical-align: middle;\n",
       "    }\n",
       "\n",
       "    .dataframe tbody tr th {\n",
       "        vertical-align: top;\n",
       "    }\n",
       "\n",
       "    .dataframe thead th {\n",
       "        text-align: right;\n",
       "    }\n",
       "</style>\n",
       "<table border=\"1\" class=\"dataframe\">\n",
       "  <thead>\n",
       "    <tr style=\"text-align: right;\">\n",
       "      <th></th>\n",
       "      <th>groups</th>\n",
       "      <th>groups (%)</th>\n",
       "      <th>total</th>\n",
       "      <th>total (%)</th>\n",
       "      <th>0</th>\n",
       "      <th>1</th>\n",
       "      <th>0 (%)</th>\n",
       "      <th>1 (%)</th>\n",
       "      <th>class ratio (%)</th>\n",
       "    </tr>\n",
       "  </thead>\n",
       "  <tbody>\n",
       "    <tr>\n",
       "      <th>train</th>\n",
       "      <td>120.0</td>\n",
       "      <td>60.0</td>\n",
       "      <td>12918.0</td>\n",
       "      <td>60.78</td>\n",
       "      <td>11364.0</td>\n",
       "      <td>1554.0</td>\n",
       "      <td>60.90</td>\n",
       "      <td>59.93</td>\n",
       "      <td>87.97</td>\n",
       "    </tr>\n",
       "    <tr>\n",
       "      <th>test</th>\n",
       "      <td>6.0</td>\n",
       "      <td>3.0</td>\n",
       "      <td>1197.0</td>\n",
       "      <td>5.63</td>\n",
       "      <td>600.0</td>\n",
       "      <td>597.0</td>\n",
       "      <td>3.22</td>\n",
       "      <td>23.02</td>\n",
       "      <td>50.13</td>\n",
       "    </tr>\n",
       "    <tr>\n",
       "      <th>val</th>\n",
       "      <td>6.0</td>\n",
       "      <td>3.0</td>\n",
       "      <td>1042.0</td>\n",
       "      <td>4.90</td>\n",
       "      <td>600.0</td>\n",
       "      <td>442.0</td>\n",
       "      <td>3.22</td>\n",
       "      <td>17.05</td>\n",
       "      <td>57.58</td>\n",
       "    </tr>\n",
       "  </tbody>\n",
       "</table>\n",
       "</div>"
      ],
      "text/plain": [
       "       groups  groups (%)    total  total (%)        0       1  0 (%)  1 (%)  \\\n",
       "train   120.0        60.0  12918.0      60.78  11364.0  1554.0  60.90  59.93   \n",
       "test      6.0         3.0   1197.0       5.63    600.0   597.0   3.22  23.02   \n",
       "val       6.0         3.0   1042.0       4.90    600.0   442.0   3.22  17.05   \n",
       "\n",
       "       class ratio (%)  \n",
       "train            87.97  \n",
       "test             50.13  \n",
       "val              57.58  "
      ]
     },
     "metadata": {},
     "output_type": "display_data"
    }
   ],
   "source": [
    "train_index = y_even[groups_even.isin(codes_train)].index\n",
    "test_index = y_even[groups_even.isin(codes_1_test)].index\n",
    "val_index = y_even[groups_even.isin(codes_1_val)].index\n",
    "\n",
    "display(group_split_report(y_even, groups_even, train_index, test_index, val_index))\n",
    "# group_class_count_plot(y, groups, train_index, test_index, val_index)"
   ]
  },
  {
   "cell_type": "markdown",
   "id": "9a49d6ac-6367-46fe-9653-3273afb052c0",
   "metadata": {},
   "source": [
    "#### Copy images with `train_index`and `test_index` into structured 'train' and 'test' folders"
   ]
  },
  {
   "cell_type": "code",
   "execution_count": 52,
   "id": "d3608420-7b77-4228-9e7c-c52760a74494",
   "metadata": {},
   "outputs": [
    {
     "name": "stdout",
     "output_type": "stream",
     "text": [
      "Copying images to train folders:\n",
      "Processed 12918/12918 files (100.00%) - Found: 12918/12918\n",
      "Copying images to test folders:\n",
      "Processed 1197/1197 files (100.00%) - Found: 1197/1197\n",
      "Copying images to val folders:\n",
      "Processed 1042/1042 files (100.00%) - Found: 1042/1042\r"
     ]
    }
   ],
   "source": [
    "from modules.octa_video_util import copy_images_to_folders\n",
    "\n",
    "base_directory = 'data/images'\n",
    "target_directory = 'data/splits/imbalanced_train'\n",
    "\n",
    "# dataset = data.copy()\n",
    "dataset = data.copy()\n",
    "file_path_field = 'file_path'\n",
    "label_field = 'flood'\n",
    "\n",
    "copy_images_to_folders(\n",
    "    base_directory, target_directory, dataset,\n",
    "    train_index, test_index, val_index,\n",
    "    file_path_field=file_path_field, tag_field=label_field\n",
    ")"
   ]
  },
  {
   "cell_type": "markdown",
   "id": "e72b0fe4-01af-4ce6-a7de-21f26817d75c",
   "metadata": {},
   "source": [
    "#### Save dataframe of sample images"
   ]
  },
  {
   "cell_type": "code",
   "execution_count": 53,
   "id": "528df269-131b-40c6-b04c-a7fddd7f6956",
   "metadata": {},
   "outputs": [
    {
     "name": "stdout",
     "output_type": "stream",
     "text": [
      "split dataframe saved with shape: (15157, 13)\n"
     ]
    }
   ],
   "source": [
    "import os\n",
    "\n",
    "os.makedirs(target_directory, exist_ok=True)\n",
    "\n",
    "data_train = data.loc[train_index].copy()\n",
    "data_test = data.loc[test_index].copy()\n",
    "data_val = data.loc[val_index].copy()\n",
    "\n",
    "data_train['set'] = 'train'\n",
    "data_test['set'] = 'test'\n",
    "data_val['set'] = 'val'\n",
    "\n",
    "data_split_df = pd.concat([data_train, data_test, data_val])\n",
    "\n",
    "data_split_df.to_csv(f'{target_directory}/images.csv')\n",
    "print(f'split dataframe saved with shape: {data_split_df.shape}')"
   ]
  },
  {
   "cell_type": "markdown",
   "id": "015ad7e9-f18b-4cf8-aace-6fdd05497ab2",
   "metadata": {},
   "source": [
    "#### Full imbalanced training set"
   ]
  },
  {
   "cell_type": "code",
   "execution_count": 43,
   "id": "841de4d4-6902-41d0-b256-170bab490be3",
   "metadata": {},
   "outputs": [
    {
     "name": "stdout",
     "output_type": "stream",
     "text": [
      "Groups intersecting train and test sets: 153\n",
      "Groups intersecting train and val sets: 160\n",
      "Groups intersecting test and val sets: 148\n",
      "\n"
     ]
    },
    {
     "data": {
      "text/html": [
       "<div>\n",
       "<style scoped>\n",
       "    .dataframe tbody tr th:only-of-type {\n",
       "        vertical-align: middle;\n",
       "    }\n",
       "\n",
       "    .dataframe tbody tr th {\n",
       "        vertical-align: top;\n",
       "    }\n",
       "\n",
       "    .dataframe thead th {\n",
       "        text-align: right;\n",
       "    }\n",
       "</style>\n",
       "<table border=\"1\" class=\"dataframe\">\n",
       "  <thead>\n",
       "    <tr style=\"text-align: right;\">\n",
       "      <th></th>\n",
       "      <th>groups</th>\n",
       "      <th>groups (%)</th>\n",
       "      <th>total</th>\n",
       "      <th>total (%)</th>\n",
       "      <th>0</th>\n",
       "      <th>1</th>\n",
       "      <th>0 (%)</th>\n",
       "      <th>1 (%)</th>\n",
       "      <th>class ratio (%)</th>\n",
       "    </tr>\n",
       "  </thead>\n",
       "  <tbody>\n",
       "    <tr>\n",
       "      <th>train</th>\n",
       "      <td>200.0</td>\n",
       "      <td>100.0</td>\n",
       "      <td>21253.0</td>\n",
       "      <td>8.66</td>\n",
       "      <td>18660.0</td>\n",
       "      <td>2593.0</td>\n",
       "      <td>8.31</td>\n",
       "      <td>12.43</td>\n",
       "      <td>87.80</td>\n",
       "    </tr>\n",
       "    <tr>\n",
       "      <th>test</th>\n",
       "      <td>153.0</td>\n",
       "      <td>76.5</td>\n",
       "      <td>2000.0</td>\n",
       "      <td>0.81</td>\n",
       "      <td>1841.0</td>\n",
       "      <td>159.0</td>\n",
       "      <td>0.82</td>\n",
       "      <td>0.76</td>\n",
       "      <td>92.05</td>\n",
       "    </tr>\n",
       "    <tr>\n",
       "      <th>val</th>\n",
       "      <td>160.0</td>\n",
       "      <td>80.0</td>\n",
       "      <td>2000.0</td>\n",
       "      <td>0.81</td>\n",
       "      <td>1833.0</td>\n",
       "      <td>167.0</td>\n",
       "      <td>0.82</td>\n",
       "      <td>0.80</td>\n",
       "      <td>91.65</td>\n",
       "    </tr>\n",
       "  </tbody>\n",
       "</table>\n",
       "</div>"
      ],
      "text/plain": [
       "       groups  groups (%)    total  total (%)        0       1  0 (%)  1 (%)  \\\n",
       "train   200.0       100.0  21253.0       8.66  18660.0  2593.0   8.31  12.43   \n",
       "test    153.0        76.5   2000.0       0.81   1841.0   159.0   0.82   0.76   \n",
       "val     160.0        80.0   2000.0       0.81   1833.0   167.0   0.82   0.80   \n",
       "\n",
       "       class ratio (%)  \n",
       "train            87.80  \n",
       "test             92.05  \n",
       "val              91.65  "
      ]
     },
     "metadata": {},
     "output_type": "display_data"
    }
   ],
   "source": [
    "test_size = 2000\n",
    "val_size = 2000\n",
    "\n",
    "train_index = y_even.index\n",
    "test_index = list(set(y.index).difference(train_index))\n",
    "\n",
    "if test_size is not None:\n",
    "    test_index = sample(test_index, size=test_size, seed=random_state)\n",
    "\n",
    "val_index = list(set(y.index).difference(train_index).difference(test_index))\n",
    "\n",
    "if val_size is not None:\n",
    "    val_index = sample(val_index, size=val_size, seed=random_state)\n",
    "\n",
    "display(group_split_report(y, groups, train_index, test_index, val_index))\n",
    "# group_class_count_plot(y, groups, train_index, test_index, val_index)"
   ]
  },
  {
   "cell_type": "markdown",
   "id": "456b79cb-5d35-4768-a856-5ec904df2a65",
   "metadata": {},
   "source": [
    "#### Copy images with `train_index`and `test_index` into structured 'train' and 'test' folders"
   ]
  },
  {
   "cell_type": "code",
   "execution_count": 44,
   "id": "349dad39-a8f3-430b-ab2c-0e63450d17ae",
   "metadata": {},
   "outputs": [
    {
     "name": "stdout",
     "output_type": "stream",
     "text": [
      "\n",
      "Copying images to test folders:\n",
      "Processed 2000/2000 files (100.00%) - Found: 2000/2000\n",
      "Copying images to val folders:\n",
      "Processed 2000/2000 files (100.00%) - Found: 2000/2000\r"
     ]
    }
   ],
   "source": [
    "from modules.octa_video_util import copy_images_to_folders\n",
    "\n",
    "base_directory = 'data/images'\n",
    "target_directory = 'data/splits/full_imbalanced_train'\n",
    "\n",
    "# dataset = data.copy()\n",
    "dataset = data.copy()\n",
    "file_path_field = 'file_path'\n",
    "label_field = 'flood'\n",
    "\n",
    "copy_images_to_folders(\n",
    "    base_directory, target_directory, dataset,\n",
    "    train_index, test_index, val_index,\n",
    "    file_path_field=file_path_field, tag_field=label_field\n",
    ")"
   ]
  },
  {
   "cell_type": "markdown",
   "id": "031534d4-b70d-4c23-8e85-4b93bcd9f551",
   "metadata": {},
   "source": [
    "#### Save dataframe of sample images"
   ]
  },
  {
   "cell_type": "code",
   "execution_count": 45,
   "id": "d784de26-3e8c-49ee-ae3a-981e9725c749",
   "metadata": {},
   "outputs": [
    {
     "name": "stdout",
     "output_type": "stream",
     "text": [
      "split dataframe saved with shape: (25253, 13)\n"
     ]
    }
   ],
   "source": [
    "import os\n",
    "\n",
    "os.makedirs(target_directory, exist_ok=True)\n",
    "\n",
    "data_train = data.loc[train_index].copy()\n",
    "data_test = data.loc[test_index].copy()\n",
    "data_val = data.loc[val_index].copy()\n",
    "\n",
    "data_train['set'] = 'train'\n",
    "data_test['set'] = 'test'\n",
    "data_val['set'] = 'val'\n",
    "\n",
    "data_split_df = pd.concat([data_train, data_test, data_val])\n",
    "\n",
    "data_split_df.to_csv(f'{target_directory}/images.csv')\n",
    "print(f'split dataframe saved with shape: {data_split_df.shape}')"
   ]
  }
 ],
 "metadata": {
  "kernelspec": {
   "display_name": "Python 3 (ipykernel)",
   "language": "python",
   "name": "python3"
  },
  "language_info": {
   "codemirror_mode": {
    "name": "ipython",
    "version": 3
   },
   "file_extension": ".py",
   "mimetype": "text/x-python",
   "name": "python",
   "nbconvert_exporter": "python",
   "pygments_lexer": "ipython3",
   "version": "3.11.3"
  }
 },
 "nbformat": 4,
 "nbformat_minor": 5
}
