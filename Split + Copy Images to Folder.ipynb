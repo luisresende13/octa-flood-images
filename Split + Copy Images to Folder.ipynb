{
 "cells": [
  {
   "cell_type": "markdown",
   "id": "c33ac5ff-df02-4163-9586-fbdee43e6d20",
   "metadata": {},
   "source": [
    "# Train and test split + Copying images into train and test folders"
   ]
  },
  {
   "cell_type": "markdown",
   "id": "0f201f7e-71d4-4207-bbbb-9751344953a5",
   "metadata": {},
   "source": [
    "## 1. Reload images dataset"
   ]
  },
  {
   "cell_type": "code",
   "execution_count": 1,
   "id": "ed2d251b-2855-4400-b70a-64b2e28c531e",
   "metadata": {},
   "outputs": [
    {
     "data": {
      "text/plain": [
       "Index(['id_video', 'code', 'folder', 'file_name', 'file_path', 'frame_index',\n",
       "       'timestamp', 'initial_timestamp', 'seen', 'tags', 'tag', 'flood'],\n",
       "      dtype='object')"
      ]
     },
     "metadata": {},
     "output_type": "display_data"
    },
    {
     "name": "stdout",
     "output_type": "stream",
     "text": [
      "\n"
     ]
    },
    {
     "data": {
      "text/plain": [
       "RangeIndex(start=0, stop=10, step=1)"
      ]
     },
     "metadata": {},
     "output_type": "display_data"
    }
   ],
   "source": [
    "import pandas as pd\n",
    "\n",
    "images_dataset_path = 'data/datasets/images_clean.csv'\n",
    "df_images = pd.read_csv(images_dataset_path)\n",
    "\n",
    "display(df_images.columns)\n",
    "print()\n",
    "display(df_images.index[:10])"
   ]
  },
  {
   "cell_type": "markdown",
   "id": "6121d902-2886-4bc1-9109-c07375f45379",
   "metadata": {},
   "source": [
    "---\n",
    "## 2. Preprocess the dataset"
   ]
  },
  {
   "cell_type": "code",
   "execution_count": 2,
   "id": "b4307de0-e103-4d45-a27b-964029fa5377",
   "metadata": {},
   "outputs": [],
   "source": [
    "from modules.octa_video_util import filter_by_query"
   ]
  },
  {
   "cell_type": "markdown",
   "id": "3ef38cdd-a71e-457b-8dac-566f292cde16",
   "metadata": {},
   "source": [
    "#### Drop categories"
   ]
  },
  {
   "cell_type": "code",
   "execution_count": 4,
   "id": "1a9a9437-08bc-4622-bb08-74622aca92c5",
   "metadata": {},
   "outputs": [],
   "source": [
    "df_images = df_images[df_images['tag'] != 'transbordo']"
   ]
  },
  {
   "cell_type": "markdown",
   "id": "8c28a076-b37c-4b2a-a0d4-b55ddab62ffc",
   "metadata": {},
   "source": [
    "#### Filter images"
   ]
  },
  {
   "cell_type": "code",
   "execution_count": 6,
   "id": "0083977c-42a6-4101-b19b-ae26b730cc43",
   "metadata": {},
   "outputs": [
    {
     "data": {
      "text/plain": [
       "flood\n",
       "0    224682\n",
       "1     20865\n",
       "Name: count, dtype: int64"
      ]
     },
     "metadata": {},
     "output_type": "display_data"
    },
    {
     "name": "stdout",
     "output_type": "stream",
     "text": [
      "\n"
     ]
    },
    {
     "data": {
      "text/plain": [
       "Index([0, 1, 2, 3, 4, 5, 6, 7, 8, 9], dtype='int64')"
      ]
     },
     "metadata": {},
     "output_type": "display_data"
    }
   ],
   "source": [
    "query_params = {'seen': True}\n",
    "\n",
    "# Filter dataset of images by query\n",
    "df_images = filter_by_query(df_images, query_params).copy()\n",
    "\n",
    "display(df_images['flood'].value_counts())\n",
    "print()\n",
    "display(df_images.index[:10])"
   ]
  },
  {
   "cell_type": "markdown",
   "id": "e93054a0-9869-4cd2-a133-24b89a54bbe8",
   "metadata": {},
   "source": [
    "---\n",
    "## 3. Shuffling"
   ]
  },
  {
   "cell_type": "markdown",
   "id": "b867d4a1-d826-4833-aa66-d92e8108b199",
   "metadata": {},
   "source": [
    "#### Sampling parameters"
   ]
  },
  {
   "cell_type": "code",
   "execution_count": 7,
   "id": "86329310-b729-433a-92d4-78b832cb846d",
   "metadata": {},
   "outputs": [],
   "source": [
    "target_variable = 'flood'\n",
    "multiclass_target_variable = 'tag'\n",
    "groups_variable = 'code'\n",
    "\n",
    "# max_samples = 2000\n",
    "replace = False\n",
    "random_state = 3\n",
    "\n",
    "# Copy the data for analysis\n",
    "data = df_images.copy()"
   ]
  },
  {
   "cell_type": "markdown",
   "id": "680d67f9-3d54-4f2d-9662-134de3f7227b",
   "metadata": {},
   "source": [
    "#### Shuffle Samples"
   ]
  },
  {
   "cell_type": "code",
   "execution_count": 8,
   "id": "a0d5e9ff-0782-4137-be80-1a76bd406537",
   "metadata": {},
   "outputs": [
    {
     "data": {
      "text/plain": [
       "Index([242852, 132211, 54294, 148185, 230928, 183100, 20092, 69993, 242268,\n",
       "       24304],\n",
       "      dtype='int64')"
      ]
     },
     "metadata": {},
     "output_type": "display_data"
    }
   ],
   "source": [
    "data = data.sample(n=len(data), replace=replace, random_state=random_state)\n",
    "\n",
    "display(data.index[:10])"
   ]
  },
  {
   "cell_type": "markdown",
   "id": "55950f90-b41e-4c17-bec4-fb5d31fce0bf",
   "metadata": {},
   "source": [
    "#### Get x and y (features and target variable)"
   ]
  },
  {
   "cell_type": "code",
   "execution_count": 9,
   "id": "e919ab1a-9e34-4ade-b79d-2a687ec7b015",
   "metadata": {},
   "outputs": [
    {
     "data": {
      "text/plain": [
       "flood\n",
       "0    226919\n",
       "1     20865\n",
       "Name: count, dtype: int64"
      ]
     },
     "metadata": {},
     "output_type": "display_data"
    },
    {
     "name": "stdout",
     "output_type": "stream",
     "text": [
      "\n"
     ]
    },
    {
     "data": {
      "text/plain": [
       "tag\n",
       "normal        154843\n",
       "poça           69839\n",
       "bolsão         10621\n",
       "lâmina          5218\n",
       "alagamento      5026\n",
       "transbordo      2237\n",
       "Name: count, dtype: int64"
      ]
     },
     "metadata": {},
     "output_type": "display_data"
    }
   ],
   "source": [
    "# Get x and y\n",
    "X = data.drop(target_variable, axis=1)\n",
    "Y = data[target_variable].copy()\n",
    "\n",
    "Y_multi = data[multiclass_target_variable] \n",
    "groups = data[groups_variable].copy()\n",
    "\n",
    "display(Y.value_counts())\n",
    "print()\n",
    "display(Y_multi.value_counts())"
   ]
  },
  {
   "cell_type": "markdown",
   "id": "63f8ffdc-6d0b-4ab0-a874-6d1262a1f4db",
   "metadata": {},
   "source": [
    "---\n",
    "### 4. Split images based on camera codes"
   ]
  },
  {
   "cell_type": "markdown",
   "id": "3149478d-a2fd-4be9-9c80-2ea0d8f7afc3",
   "metadata": {},
   "source": [
    "#### Utility functions"
   ]
  },
  {
   "cell_type": "code",
   "execution_count": 165,
   "id": "ccaa0b7f-40bb-4d95-a3f8-b1b7bc310de3",
   "metadata": {},
   "outputs": [],
   "source": [
    "import numpy as np\n",
    "import matplotlib.pyplot as plt\n",
    "import seaborn as sns; sns.set()\n",
    "\n",
    "def group_even_undersample(x, y, groups, prct=0.5, n=None, random_state=None):\n",
    "    group_cnt = groups.value_counts()\n",
    "    if n is None:\n",
    "            n = int(np.percentile(group_cnt, prct * 100))\n",
    "    index = []\n",
    "    for group in group_cnt.index:\n",
    "        index += y[groups == group].sample(min(n, group_cnt[group]), replace=False, random_state=random_state).index.tolist()\n",
    "    return x.loc[index], y.loc[index]\n",
    "\n",
    "def group_even_class_undersample(x, y, groups, n, random_state=None):\n",
    "    msk_0 = y == 0.0\n",
    "    msk_1 = y == 1.0\n",
    "    \n",
    "    x_even_0, y_even_0 = group_even_undersample(x[msk_0], y[msk_0], groups[msk_0], n=n, random_state=random_state)\n",
    "    x_even_1, y_even_1 = group_even_undersample(x[msk_1], y[msk_1], groups[msk_1], n=n, random_state=random_state)\n",
    "    \n",
    "    y_even = pd.concat([y_even_0, y_even_1])\n",
    "    x_even = x.loc[y_even.index]\n",
    "    groups_even = groups.loc[y_even.index]\n",
    "\n",
    "    return x_even, y_even, groups_even\n",
    "def report_class_count_per_group(Y, groups):\n",
    "    cnt_0 = groups[Y == 0.0].value_counts()\n",
    "    cnt_1 = groups[Y == 1.0].value_counts()\n",
    "    cnt_0 = cnt_0.loc[cnt_1.index].sort_values(ascending=False)\n",
    "    code_class_cnt = pd.concat([cnt_0.rename('class 0'), cnt_1.rename('class 1')], axis=1)\n",
    "    \n",
    "    display(code_class_cnt.T)\n",
    "    fig = plt.figure(figsize=(7, 2.5))\n",
    "    ax = fig.subplots(1, 1)\n",
    "    code_class_cnt.plot.bar(width=0.8, ax=ax)\n",
    "    plt.show()\n",
    "\n",
    "def group_split_report(y_res, groups_res, train_index, test_index, val_index):\n",
    "\n",
    "    Y_train = y.loc[train_index]\n",
    "    Y_test = y.loc[test_index]\n",
    "    Y_val = y.loc[val_index]\n",
    "    \n",
    "    train_prct = len(Y_train) / len(y_res)\n",
    "    test_prct = len(Y_test) / len(y_res)\n",
    "    val_prct = len(Y_val) / len(y_res)\n",
    "    class_count = y_res.value_counts()\n",
    "    train_class_count = Y_train.value_counts()\n",
    "    test_class_count = Y_test.value_counts()\n",
    "    val_class_count = Y_val.value_counts()\n",
    "    groups_train = groups_res.loc[Y_train.index].unique()\n",
    "    groups_test = groups_res.loc[Y_test.index].unique()\n",
    "    groups_val = groups_res.loc[Y_val.index].unique()\n",
    "\n",
    "    total_groups = len(groups_res.unique())\n",
    "    groups_train_prct = round(len(groups_train) / total_groups * 100, 2)\n",
    "    groups_test_prct = round(len(groups_test) / total_groups * 100, 2)\n",
    "    groups_val_prct = round(len(groups_val) / total_groups * 100, 2)\n",
    "    train_class_prct = [train_class_count[0] / class_count[0], train_class_count[1] / class_count[1]]\n",
    "    test_class_prct = [test_class_count[0] / class_count[0], test_class_count[1] / class_count[1]]\n",
    "    val_class_prct = [val_class_count[0] / class_count[0], val_class_count[1] / class_count[1]]\n",
    "    train_class_ratio = round(Y_train.value_counts(normalize=True).loc[0] * 100, 2)\n",
    "    test_class_ratio = round(Y_test.value_counts(normalize=True).loc[0] * 100, 2)\n",
    "    val_class_ratio = round(Y_val.value_counts(normalize=True).loc[0] * 100, 2)\n",
    "    \n",
    "    print('Groups intersecting train and test sets:', len(set(groups_train).intersection(groups_test)))\n",
    "    print('Groups intersecting train and val sets:', len(set(groups_train).intersection(groups_val)))\n",
    "    print('Groups intersecting test and val sets:', len(set(groups_test).intersection(groups_val)))\n",
    "    print()\n",
    "    \n",
    "    stats = pd.DataFrame(\n",
    "        [[len(groups_train), len(groups_test), len(groups_val)],\n",
    "        [groups_train_prct, groups_test_prct, groups_val_prct],\n",
    "        [len(Y_train), len(Y_test), len(Y_val)],\n",
    "        [round(train_prct * 100, 2), round(test_prct * 100, 2), round(val_prct * 100, 2)],\n",
    "        [train_class_count[0], test_class_count[0], val_class_count[0]],\n",
    "        [train_class_count[1], test_class_count[1], val_class_count[1]],\n",
    "        [round(train_class_prct[0] * 100, 2), round(test_class_prct[0] * 100, 2), round(val_class_prct[0] * 100, 2)],\n",
    "        [round(train_class_prct[1] * 100, 2), round(test_class_prct[1] * 100, 2), round(val_class_prct[1] * 100, 2)],\n",
    "        [train_class_ratio, test_class_ratio, val_class_ratio]],\n",
    "        columns=['train', 'test', 'val'], index=['groups', 'groups (%)', 'total', 'total (%)', '0', '1', '0 (%)', '1 (%)', 'class ratio (%)']\n",
    "    ).T\n",
    "\n",
    "    return stats\n",
    "\n",
    "\n",
    "def group_class_count_plot(y, groups, train_index, test_index, val_index):\n",
    "\n",
    "    Y_train = y.loc[train_index]\n",
    "    Y_test = y.loc[test_index]\n",
    "    Y_val = y.loc[val_index]\n",
    "    groups_train = groups.loc[train_index]\n",
    "    groups_test = groups.loc[test_index]\n",
    "    groups_val = groups.loc[val_index]\n",
    "    \n",
    "    for y_i, g_i, title in zip((Y_train, Y_test, Y_val), (groups_train, groups_test, groups_val), ('Train', 'Test', 'Validation')):\n",
    "    \n",
    "        cnt_0 = g_i[y_i == 0.0].value_counts()\n",
    "        cnt_1 = g_i[y_i == 1.0].value_counts()\n",
    "        cnt_0 = cnt_0.loc[cnt_1.index]\n",
    "        \n",
    "        code_class_cnt = pd.concat([cnt_0.rename('class 0'), cnt_1.rename('class 1')], axis=1)\n",
    "        code_class_cnt.index.name = f'codes'\n",
    "        code_class_cnt.columns.name = title\n",
    "        display(code_class_cnt.T)\n",
    "    \n",
    "    for y_i, g_i, title in zip((Y_train, Y_test, Y_val), (groups_train, groups_test, groups_val), ('Train', 'Test', 'Validation')):\n",
    "    \n",
    "        cnt_0 = g_i[y_i == 0.0].value_counts()\n",
    "        cnt_1 = g_i[y_i == 1.0].value_counts()\n",
    "        cnt_0 = cnt_0.loc[cnt_1.index]\n",
    "        \n",
    "        code_class_cnt = pd.concat([cnt_0.rename('class 0'), cnt_1.rename('class 1')], axis=1)\n",
    "        code_class_cnt.index.name = f'codes'\n",
    "        code_class_cnt.columns.name = title\n",
    "        \n",
    "        fig = plt.figure(figsize=(7, 2.5))\n",
    "        ax = fig.subplots(1, 1)\n",
    "        \n",
    "        code_class_cnt.plot.bar(width=0.8, ax=ax, title=title)\n",
    "        # plt.legend(loc='lower left')\n",
    "        # plt.tight_layout()\n",
    "        plt.show()"
   ]
  },
  {
   "cell_type": "markdown",
   "id": "cfe611b5-e9b6-4dc5-8a25-c7d1e8efa03e",
   "metadata": {},
   "source": [
    "#### Get camera codes for cameras with and without positive samples"
   ]
  },
  {
   "cell_type": "code",
   "execution_count": 101,
   "id": "ec4fc760-8a7c-4878-9d3b-bc9a6cd197be",
   "metadata": {},
   "outputs": [
    {
     "name": "stdout",
     "output_type": "stream",
     "text": [
      "All cameras: 201\n",
      "Cameras with positive class: 30\n",
      "Cameras without positive class: 171\n"
     ]
    }
   ],
   "source": [
    "codes = data['code'].unique().tolist()\n",
    "codes_1 = data[data['flood'] == 1.0]['code'].unique().tolist()\n",
    "codes_0 = list(set(codes).difference(codes_1))\n",
    "\n",
    "print('All cameras:', len(codes))\n",
    "print('Cameras with positive class:', len(codes_1))\n",
    "print('Cameras without positive class:', len(codes_0))"
   ]
  },
  {
   "cell_type": "markdown",
   "id": "1b019ab6-20c4-4d20-bae8-41ca05431e85",
   "metadata": {},
   "source": [
    "#### Split codes based on percentage "
   ]
  },
  {
   "cell_type": "code",
   "execution_count": 79,
   "id": "65ab1f6b-341e-40c6-9421-a94fe7080365",
   "metadata": {},
   "outputs": [
    {
     "name": "stdout",
     "output_type": "stream",
     "text": [
      "n_codes_train: 120\n",
      "n_codes_test: 40\n",
      "n_codes_val: 41\n",
      "\n",
      "codes_train: [3181.0, 1469.0, 1405.0, 1598.0, 3261.0]\n",
      "codes_test: [2167.0, 1092.0, 3268.0, 1392.0, 1576.0]\n",
      "codes_val: [1383.0, 58.0, 183.0, 3269.0, 2165.0]\n"
     ]
    }
   ],
   "source": [
    "import random\n",
    "\n",
    "def sample(objs, size=1, frac=None, seed=42):\n",
    "    random.seed(seed)\n",
    "    if frac is not None:\n",
    "        size = int(frac * len(objs))\n",
    "    return random.sample(objs, size)\n",
    "\n",
    "\n",
    "# Sample uniformly\n",
    "train_size = 0.6\n",
    "test_size = 0.2\n",
    "val_size = 0.2\n",
    "\n",
    "train_frac = train_size\n",
    "test_frac = test_size / (1.0 - train_size) \n",
    "val_frac = val_size / (1.0 - train_size - test_size) \n",
    "\n",
    "codes_0_train = sample(codes_0, frac=train_frac, seed=random_state)\n",
    "codes_1_train = sample(codes_1, frac=train_frac, seed=random_state)\n",
    "\n",
    "codes_0_out = list(set(codes_0).difference(codes_0_train))\n",
    "codes_1_out = list(set(codes_1).difference(codes_1_train))\n",
    "\n",
    "codes_0_test = sample(codes_0_out, frac=test_frac, seed=random_state)\n",
    "codes_1_test = sample(codes_1_out, frac=test_frac, seed=random_state)\n",
    "\n",
    "codes_0_out = list(set(codes_0_out).difference(codes_0_test))\n",
    "codes_1_out = list(set(codes_1_out).difference(codes_1_test))\n",
    "\n",
    "codes_0_val = sample(codes_0_out, frac=val_frac, seed=random_state)\n",
    "codes_1_val = sample(codes_1_out, frac=val_frac, seed=random_state)\n",
    "\n",
    "codes_train = codes_0_train + codes_1_train\n",
    "codes_test = codes_0_test + codes_1_test\n",
    "codes_val = codes_0_val + codes_1_val\n",
    "\n",
    "print('n_codes_train:', len(codes_train))\n",
    "print('n_codes_test:', len(codes_test))\n",
    "print('n_codes_val:', len(codes_val))\n",
    "print()\n",
    "print('codes_train:', codes_train[:5])\n",
    "print('codes_test:', codes_test[:5])\n",
    "print('codes_val:', codes_val[:5])"
   ]
  },
  {
   "cell_type": "markdown",
   "id": "ea37a873-d3e9-4ba9-885d-97da16b955b6",
   "metadata": {},
   "source": [
    "#### Split images based on splitted camera codes"
   ]
  },
  {
   "cell_type": "code",
   "execution_count": 88,
   "id": "aa302a24-0b80-44bb-b46d-b10a79a199c8",
   "metadata": {},
   "outputs": [
    {
     "data": {
      "text/html": [
       "<div>\n",
       "<style scoped>\n",
       "    .dataframe tbody tr th:only-of-type {\n",
       "        vertical-align: middle;\n",
       "    }\n",
       "\n",
       "    .dataframe tbody tr th {\n",
       "        vertical-align: top;\n",
       "    }\n",
       "\n",
       "    .dataframe thead th {\n",
       "        text-align: right;\n",
       "    }\n",
       "</style>\n",
       "<table border=\"1\" class=\"dataframe\">\n",
       "  <thead>\n",
       "    <tr style=\"text-align: right;\">\n",
       "      <th></th>\n",
       "      <th>train</th>\n",
       "      <th>test</th>\n",
       "      <th>val</th>\n",
       "    </tr>\n",
       "    <tr>\n",
       "      <th>flood</th>\n",
       "      <th></th>\n",
       "      <th></th>\n",
       "      <th></th>\n",
       "    </tr>\n",
       "  </thead>\n",
       "  <tbody>\n",
       "    <tr>\n",
       "      <th>0</th>\n",
       "      <td>147641</td>\n",
       "      <td>37814</td>\n",
       "      <td>41464</td>\n",
       "    </tr>\n",
       "    <tr>\n",
       "      <th>1</th>\n",
       "      <td>15148</td>\n",
       "      <td>1738</td>\n",
       "      <td>3979</td>\n",
       "    </tr>\n",
       "  </tbody>\n",
       "</table>\n",
       "</div>"
      ],
      "text/plain": [
       "        train   test    val\n",
       "flood                      \n",
       "0      147641  37814  41464\n",
       "1       15148   1738   3979"
      ]
     },
     "metadata": {},
     "output_type": "display_data"
    }
   ],
   "source": [
    "data_train = data[data['code'].isin(codes_train)]\n",
    "data_test = data[data['code'].isin(codes_test)]\n",
    "data_val = data[data['code'].isin(codes_val)]\n",
    "\n",
    "display(pd.concat([\n",
    "    train['flood'].value_counts().to_frame('train'),\n",
    "    test['flood'].value_counts().to_frame('test'),\n",
    "    val['flood'].value_counts().to_frame('val')\n",
    "], axis=1))"
   ]
  },
  {
   "cell_type": "markdown",
   "id": "29948908-791e-4048-bca8-4990aca9b433",
   "metadata": {},
   "source": [
    "#### Data x and y"
   ]
  },
  {
   "cell_type": "code",
   "execution_count": 140,
   "id": "e03ac84c-2138-47c6-959c-bf9d3586373c",
   "metadata": {},
   "outputs": [],
   "source": [
    "x = data.drop('flood', axis=1)\n",
    "y = data['flood']\n",
    "groups = data['code']"
   ]
  },
  {
   "cell_type": "markdown",
   "id": "16f43718-9ca5-4a73-b1a1-4a30daca2c77",
   "metadata": {},
   "source": [
    "#### Even groups class undersample"
   ]
  },
  {
   "cell_type": "code",
   "execution_count": 136,
   "id": "9732dc5b-7392-4d7e-8acb-36bb6cd6f5a8",
   "metadata": {},
   "outputs": [
    {
     "data": {
      "text/plain": [
       "Index([167457, 160401, 160768, 163512, 196018, 217576, 159387, 159300, 170070,\n",
       "       182654,\n",
       "       ...\n",
       "       194236, 194245, 194247, 194242, 194235, 194241, 194243, 194239, 194237,\n",
       "       194246],\n",
       "      dtype='int64', length=6770)"
      ]
     },
     "metadata": {},
     "output_type": "display_data"
    }
   ],
   "source": [
    "x_even, y_even, groups_even = group_even_class_undersample(x, y, groups, n=30, random_state=random_state)\n",
    "y_multi_even = Y_multi.loc[y_even.index]\n",
    "\n",
    "display(y_even.index)"
   ]
  },
  {
   "cell_type": "markdown",
   "id": "0eef2b12-5edd-4a57-9285-e2ea85903f5c",
   "metadata": {},
   "source": [
    "#### Report class count per camera"
   ]
  },
  {
   "cell_type": "code",
   "execution_count": 132,
   "id": "82d8b607-5d03-4706-86f1-d0ec0cd3914b",
   "metadata": {},
   "outputs": [
    {
     "data": {
      "image/png": "[encoded data removed]",
      "text/plain": [
       "<Figure size 700x250 with 1 Axes>"
      ]
     },
     "metadata": {},
     "output_type": "display_data"
    },
    {
     "data": {
      "image/png": "[encoded data removed]",
      "text/plain": [
       "<Figure size 700x250 with 1 Axes>"
      ]
     },
     "metadata": {},
     "output_type": "display_data"
    }
   ],
   "source": [
    "groups_even_1 = groups_even[groups_even.isin(codes_1)]\n",
    "y_even_1 = y_even.loc[groups_even_1.index]\n",
    "\n",
    "cls_cnt = pd.concat([\n",
    "    groups_even_1[y_even_1 == 0.0].value_counts().rename('not flood'),\n",
    "    groups_even_1[y_even_1 == 1.0].value_counts().rename('flood')\n",
    "], axis=1)\n",
    "\n",
    "fig = plt.figure(figsize=(7, 2.5))\n",
    "ax = fig.subplots(1, 1)\n",
    "\n",
    "cls_cnt.plot.bar(width=0.7, ax=ax)\n",
    "plt.title('Cameras with positive samples')\n",
    "plt.show()\n",
    "\n",
    "groups_even_0 = groups_even[groups_even.isin(codes_0)]\n",
    "y_even_0 = y_even.loc[groups_even_0.index]\n",
    "\n",
    "fig = plt.figure(figsize=(7, 2.5))\n",
    "ax = fig.subplots(1, 1)\n",
    "\n",
    "groups_even_0.value_counts().reset_index(drop=True).rename('not flood').plot(ax=ax)\n",
    "plt.title('Cameras without positive samples')\n",
    "plt.legend()\n",
    "plt.show()"
   ]
  },
  {
   "cell_type": "markdown",
   "id": "2d5cbf67-a6d2-4dc9-8bd0-35abccaeef5b",
   "metadata": {},
   "source": [
    "#### Report class count"
   ]
  },
  {
   "cell_type": "code",
   "execution_count": 134,
   "id": "98feaa29-cca6-41e2-ac4e-ec19f7f7fe9b",
   "metadata": {},
   "outputs": [
    {
     "name": "stdout",
     "output_type": "stream",
     "text": [
      "Total samples: 6770\n",
      "\n"
     ]
    },
    {
     "data": {
      "text/plain": [
       "flood\n",
       "0    5914\n",
       "1     856\n",
       "Name: count, dtype: int64"
      ]
     },
     "metadata": {},
     "output_type": "display_data"
    },
    {
     "name": "stdout",
     "output_type": "stream",
     "text": [
      "\n",
      "tag\n",
      "normal        3941\n",
      "poça          1932\n",
      "bolsão         322\n",
      "alagamento     294\n",
      "lâmina         240\n",
      "transbordo      41\n",
      "Name: count, dtype: int64\n",
      "\n"
     ]
    },
    {
     "data": {
      "text/plain": [
       "Index([167457, 160401, 160768, 163512, 196018, 217576, 159387, 159300, 170070,\n",
       "       182654,\n",
       "       ...\n",
       "       194236, 194245, 194247, 194242, 194235, 194241, 194243, 194239, 194237,\n",
       "       194246],\n",
       "      dtype='int64', length=6770)"
      ]
     },
     "metadata": {},
     "output_type": "display_data"
    }
   ],
   "source": [
    "print('Total samples:', len(y_even))\n",
    "print()\n",
    "display(y_even.value_counts())\n",
    "print()\n",
    "print(y_multi_even.value_counts())"
   ]
  },
  {
   "cell_type": "markdown",
   "id": "e464eabf-12fa-4cd8-832b-6853fbe93957",
   "metadata": {},
   "source": [
    "#### Build split with balanced train, test and validation"
   ]
  },
  {
   "cell_type": "code",
   "execution_count": 180,
   "id": "70307085-a8a6-4793-ba9d-dd19f1ae520d",
   "metadata": {},
   "outputs": [
    {
     "name": "stdout",
     "output_type": "stream",
     "text": [
      "Groups intersecting train and test sets: 0\n",
      "Groups intersecting train and val sets: 0\n",
      "Groups intersecting test and val sets: 0\n",
      "\n"
     ]
    },
    {
     "data": {
      "text/html": [
       "<div>\n",
       "<style scoped>\n",
       "    .dataframe tbody tr th:only-of-type {\n",
       "        vertical-align: middle;\n",
       "    }\n",
       "\n",
       "    .dataframe tbody tr th {\n",
       "        vertical-align: top;\n",
       "    }\n",
       "\n",
       "    .dataframe thead th {\n",
       "        text-align: right;\n",
       "    }\n",
       "</style>\n",
       "<table border=\"1\" class=\"dataframe\">\n",
       "  <thead>\n",
       "    <tr style=\"text-align: right;\">\n",
       "      <th></th>\n",
       "      <th>groups</th>\n",
       "      <th>groups (%)</th>\n",
       "      <th>total</th>\n",
       "      <th>total (%)</th>\n",
       "      <th>0</th>\n",
       "      <th>1</th>\n",
       "      <th>0 (%)</th>\n",
       "      <th>1 (%)</th>\n",
       "      <th>class ratio (%)</th>\n",
       "    </tr>\n",
       "  </thead>\n",
       "  <tbody>\n",
       "    <tr>\n",
       "      <th>train</th>\n",
       "      <td>18.0</td>\n",
       "      <td>8.96</td>\n",
       "      <td>1051.0</td>\n",
       "      <td>15.52</td>\n",
       "      <td>540.0</td>\n",
       "      <td>511.0</td>\n",
       "      <td>9.13</td>\n",
       "      <td>59.70</td>\n",
       "      <td>51.38</td>\n",
       "    </tr>\n",
       "    <tr>\n",
       "      <th>test</th>\n",
       "      <td>6.0</td>\n",
       "      <td>2.99</td>\n",
       "      <td>360.0</td>\n",
       "      <td>5.32</td>\n",
       "      <td>180.0</td>\n",
       "      <td>180.0</td>\n",
       "      <td>3.04</td>\n",
       "      <td>21.03</td>\n",
       "      <td>50.00</td>\n",
       "    </tr>\n",
       "    <tr>\n",
       "      <th>val</th>\n",
       "      <td>6.0</td>\n",
       "      <td>2.99</td>\n",
       "      <td>345.0</td>\n",
       "      <td>5.10</td>\n",
       "      <td>180.0</td>\n",
       "      <td>165.0</td>\n",
       "      <td>3.04</td>\n",
       "      <td>19.28</td>\n",
       "      <td>52.17</td>\n",
       "    </tr>\n",
       "  </tbody>\n",
       "</table>\n",
       "</div>"
      ],
      "text/plain": [
       "       groups  groups (%)   total  total (%)      0      1  0 (%)  1 (%)  \\\n",
       "train    18.0        8.96  1051.0      15.52  540.0  511.0   9.13  59.70   \n",
       "test      6.0        2.99   360.0       5.32  180.0  180.0   3.04  21.03   \n",
       "val       6.0        2.99   345.0       5.10  180.0  165.0   3.04  19.28   \n",
       "\n",
       "       class ratio (%)  \n",
       "train            51.38  \n",
       "test             50.00  \n",
       "val              52.17  "
      ]
     },
     "metadata": {},
     "output_type": "display_data"
    }
   ],
   "source": [
    "train_index = y_even[groups_even.isin(codes_1_train)].index\n",
    "test_index = y_even[groups_even.isin(codes_1_test)].index\n",
    "val_index = y_even[groups_even.isin(codes_1_val)].index\n",
    "\n",
    "display(group_split_report(y_even, groups_even, train_index, test_index, val_index))\n",
    "# group_class_count_plot(y, groups, train_index, test_index, val_index)"
   ]
  },
  {
   "cell_type": "markdown",
   "id": "03230687-5c36-49cb-8d1c-9568e010d016",
   "metadata": {},
   "source": [
    "#### Copy images with `train_index`and `test_index` into structured 'train' and 'test' folders"
   ]
  },
  {
   "cell_type": "code",
   "execution_count": 181,
   "id": "1d874904-6034-4b97-ab78-e79bc59c39e9",
   "metadata": {},
   "outputs": [
    {
     "name": "stdout",
     "output_type": "stream",
     "text": [
      "Copying images to train folders:\n",
      "Processed 1051/1051 files (100.00%) - Found: 1051/1051\n",
      "Copying images to test folders:\n",
      "Processed 360/360 files (100.00%) - Found: 360/360\n",
      "Copying images to val folders:\n",
      "Processed 345/345 files (100.00%) - Found: 345/345\r"
     ]
    }
   ],
   "source": [
    "from modules.octa_video_util import copy_images_to_folders\n",
    "\n",
    "base_directory = 'data/images'\n",
    "target_directory = 'data/splits/balanced_train'\n",
    "\n",
    "# dataset = data.copy()\n",
    "dataset = data.copy()\n",
    "file_path_field = 'file_path'\n",
    "label_field = 'flood'\n",
    "\n",
    "copy_images_to_folders(\n",
    "    base_directory, target_directory, dataset,\n",
    "    train_index, test_index, val_index,\n",
    "    file_path_field=file_path_field, tag_field=label_field\n",
    ")"
   ]
  },
  {
   "cell_type": "markdown",
   "id": "f670c75f-147d-4739-9ca7-e3a5d7766774",
   "metadata": {},
   "source": [
    "#### Save dataframe of sample images"
   ]
  },
  {
   "cell_type": "code",
   "execution_count": 176,
   "id": "f8e92036-def9-4e89-93da-2b9ec8ff68e3",
   "metadata": {},
   "outputs": [
    {
     "name": "stdout",
     "output_type": "stream",
     "text": [
      "split dataframe saved with shape: (1756, 13)\n"
     ]
    }
   ],
   "source": [
    "import os\n",
    "\n",
    "os.makedirs(target_directory, exist_ok=True)\n",
    "\n",
    "data_train = data.loc[train_index].copy()\n",
    "data_test = data.loc[test_index].copy()\n",
    "data_val = data.loc[val_index].copy()\n",
    "\n",
    "data_train['set'] = 'train'\n",
    "data_test['set'] = 'test'\n",
    "data_val['set'] = 'val'\n",
    "\n",
    "data_split_df = pd.concat([data_train, data_test, data_val])\n",
    "\n",
    "data_split_df.to_csv(f'{target_directory}/images.csv')\n",
    "print(f'split dataframe saved with shape: {data_split_df.shape}')"
   ]
  },
  {
   "cell_type": "markdown",
   "id": "8a11dc4c-306f-4d66-980e-b4f25cc2f0d1",
   "metadata": {},
   "source": [
    "#### Build split with balanced test and validation"
   ]
  },
  {
   "cell_type": "code",
   "execution_count": 182,
   "id": "06f34406-df4c-42be-b038-259e5cb28842",
   "metadata": {},
   "outputs": [
    {
     "name": "stdout",
     "output_type": "stream",
     "text": [
      "Groups intersecting train and test sets: 0\n",
      "Groups intersecting train and val sets: 0\n",
      "Groups intersecting test and val sets: 0\n",
      "\n"
     ]
    },
    {
     "data": {
      "text/html": [
       "<div>\n",
       "<style scoped>\n",
       "    .dataframe tbody tr th:only-of-type {\n",
       "        vertical-align: middle;\n",
       "    }\n",
       "\n",
       "    .dataframe tbody tr th {\n",
       "        vertical-align: top;\n",
       "    }\n",
       "\n",
       "    .dataframe thead th {\n",
       "        text-align: right;\n",
       "    }\n",
       "</style>\n",
       "<table border=\"1\" class=\"dataframe\">\n",
       "  <thead>\n",
       "    <tr style=\"text-align: right;\">\n",
       "      <th></th>\n",
       "      <th>groups</th>\n",
       "      <th>groups (%)</th>\n",
       "      <th>total</th>\n",
       "      <th>total (%)</th>\n",
       "      <th>0</th>\n",
       "      <th>1</th>\n",
       "      <th>0 (%)</th>\n",
       "      <th>1 (%)</th>\n",
       "      <th>class ratio (%)</th>\n",
       "    </tr>\n",
       "  </thead>\n",
       "  <tbody>\n",
       "    <tr>\n",
       "      <th>train</th>\n",
       "      <td>120.0</td>\n",
       "      <td>59.70</td>\n",
       "      <td>4011.0</td>\n",
       "      <td>59.25</td>\n",
       "      <td>3500.0</td>\n",
       "      <td>511.0</td>\n",
       "      <td>59.18</td>\n",
       "      <td>59.70</td>\n",
       "      <td>87.26</td>\n",
       "    </tr>\n",
       "    <tr>\n",
       "      <th>test</th>\n",
       "      <td>6.0</td>\n",
       "      <td>2.99</td>\n",
       "      <td>360.0</td>\n",
       "      <td>5.32</td>\n",
       "      <td>180.0</td>\n",
       "      <td>180.0</td>\n",
       "      <td>3.04</td>\n",
       "      <td>21.03</td>\n",
       "      <td>50.00</td>\n",
       "    </tr>\n",
       "    <tr>\n",
       "      <th>val</th>\n",
       "      <td>6.0</td>\n",
       "      <td>2.99</td>\n",
       "      <td>345.0</td>\n",
       "      <td>5.10</td>\n",
       "      <td>180.0</td>\n",
       "      <td>165.0</td>\n",
       "      <td>3.04</td>\n",
       "      <td>19.28</td>\n",
       "      <td>52.17</td>\n",
       "    </tr>\n",
       "  </tbody>\n",
       "</table>\n",
       "</div>"
      ],
      "text/plain": [
       "       groups  groups (%)   total  total (%)       0      1  0 (%)  1 (%)  \\\n",
       "train   120.0       59.70  4011.0      59.25  3500.0  511.0  59.18  59.70   \n",
       "test      6.0        2.99   360.0       5.32   180.0  180.0   3.04  21.03   \n",
       "val       6.0        2.99   345.0       5.10   180.0  165.0   3.04  19.28   \n",
       "\n",
       "       class ratio (%)  \n",
       "train            87.26  \n",
       "test             50.00  \n",
       "val              52.17  "
      ]
     },
     "metadata": {},
     "output_type": "display_data"
    }
   ],
   "source": [
    "train_index = y_even[groups_even.isin(codes_train)].index\n",
    "test_index = y_even[groups_even.isin(codes_1_test)].index\n",
    "val_index = y_even[groups_even.isin(codes_1_val)].index\n",
    "\n",
    "display(group_split_report(y_even, groups_even, train_index, test_index, val_index))\n",
    "# group_class_count_plot(y, groups, train_index, test_index, val_index)"
   ]
  },
  {
   "cell_type": "markdown",
   "id": "9a49d6ac-6367-46fe-9653-3273afb052c0",
   "metadata": {},
   "source": [
    "#### Copy images with `train_index`and `test_index` into structured 'train' and 'test' folders"
   ]
  },
  {
   "cell_type": "code",
   "execution_count": 183,
   "id": "d3608420-7b77-4228-9e7c-c52760a74494",
   "metadata": {},
   "outputs": [
    {
     "name": "stdout",
     "output_type": "stream",
     "text": [
      "Copying images to train folders:\n",
      "Processed 4011/4011 files (100.00%) - Found: 4011/4011\n",
      "Copying images to test folders:\n",
      "Processed 360/360 files (100.00%) - Found: 360/360\n",
      "Copying images to val folders:\n",
      "Processed 345/345 files (100.00%) - Found: 345/345\r"
     ]
    }
   ],
   "source": [
    "from modules.octa_video_util import copy_images_to_folders\n",
    "\n",
    "base_directory = 'data/images'\n",
    "target_directory = 'data/splits/imbalanced_train'\n",
    "\n",
    "# dataset = data.copy()\n",
    "dataset = data.copy()\n",
    "file_path_field = 'file_path'\n",
    "label_field = 'flood'\n",
    "\n",
    "copy_images_to_folders(\n",
    "    base_directory, target_directory, dataset,\n",
    "    train_index, test_index, val_index,\n",
    "    file_path_field=file_path_field, tag_field=label_field\n",
    ")"
   ]
  },
  {
   "cell_type": "markdown",
   "id": "e72b0fe4-01af-4ce6-a7de-21f26817d75c",
   "metadata": {},
   "source": [
    "#### Save dataframe of sample images"
   ]
  },
  {
   "cell_type": "code",
   "execution_count": 184,
   "id": "528df269-131b-40c6-b04c-a7fddd7f6956",
   "metadata": {},
   "outputs": [
    {
     "name": "stdout",
     "output_type": "stream",
     "text": [
      "split dataframe saved with shape: (4716, 13)\n"
     ]
    }
   ],
   "source": [
    "import os\n",
    "\n",
    "os.makedirs(target_directory, exist_ok=True)\n",
    "\n",
    "data_train = data.loc[train_index].copy()\n",
    "data_test = data.loc[test_index].copy()\n",
    "data_val = data.loc[val_index].copy()\n",
    "\n",
    "data_train['set'] = 'train'\n",
    "data_test['set'] = 'test'\n",
    "data_val['set'] = 'val'\n",
    "\n",
    "data_split_df = pd.concat([data_train, data_test, data_val])\n",
    "\n",
    "data_split_df.to_csv(f'{target_directory}/images.csv')\n",
    "print(f'split dataframe saved with shape: {data_split_df.shape}')"
   ]
  },
  {
   "cell_type": "markdown",
   "id": "adef5cf3-1d18-4e9e-b509-5a66e1b89320",
   "metadata": {},
   "source": [
    "---\n",
    "## 4. Balanced sample per camera"
   ]
  },
  {
   "cell_type": "markdown",
   "id": "e1b40854-be4f-43ea-a6eb-9b2169f82c1b",
   "metadata": {},
   "source": [
    "#### Report class count per camera (only cameras with positive samples)"
   ]
  },
  {
   "cell_type": "code",
   "execution_count": 68,
   "id": "4b6e3440-0295-4b91-90d8-1e4e265274d4",
   "metadata": {},
   "outputs": [
    {
     "data": {
      "text/html": [
       "<div>\n",
       "<style scoped>\n",
       "    .dataframe tbody tr th:only-of-type {\n",
       "        vertical-align: middle;\n",
       "    }\n",
       "\n",
       "    .dataframe tbody tr th {\n",
       "        vertical-align: top;\n",
       "    }\n",
       "\n",
       "    .dataframe thead th {\n",
       "        text-align: right;\n",
       "    }\n",
       "</style>\n",
       "<table border=\"1\" class=\"dataframe\">\n",
       "  <thead>\n",
       "    <tr style=\"text-align: right;\">\n",
       "      <th>code</th>\n",
       "      <th>278.0</th>\n",
       "      <th>326.0</th>\n",
       "      <th>235.0</th>\n",
       "      <th>267.0</th>\n",
       "      <th>92.0</th>\n",
       "      <th>38.0</th>\n",
       "      <th>1671.0</th>\n",
       "      <th>1881.0</th>\n",
       "      <th>298.0</th>\n",
       "      <th>1538.0</th>\n",
       "      <th>...</th>\n",
       "      <th>1431.0</th>\n",
       "      <th>1119.0</th>\n",
       "      <th>339.0</th>\n",
       "      <th>1430.0</th>\n",
       "      <th>94.0</th>\n",
       "      <th>442.0</th>\n",
       "      <th>1147.0</th>\n",
       "      <th>384.0</th>\n",
       "      <th>1606.0</th>\n",
       "      <th>268.0</th>\n",
       "    </tr>\n",
       "  </thead>\n",
       "  <tbody>\n",
       "    <tr>\n",
       "      <th>class 0</th>\n",
       "      <td>14206</td>\n",
       "      <td>10354</td>\n",
       "      <td>8249</td>\n",
       "      <td>6324</td>\n",
       "      <td>4076</td>\n",
       "      <td>2790</td>\n",
       "      <td>2700</td>\n",
       "      <td>2560</td>\n",
       "      <td>2252</td>\n",
       "      <td>2028</td>\n",
       "      <td>...</td>\n",
       "      <td>277</td>\n",
       "      <td>264</td>\n",
       "      <td>250</td>\n",
       "      <td>232</td>\n",
       "      <td>225</td>\n",
       "      <td>202</td>\n",
       "      <td>195</td>\n",
       "      <td>162</td>\n",
       "      <td>127</td>\n",
       "      <td>69</td>\n",
       "    </tr>\n",
       "    <tr>\n",
       "      <th>class 1</th>\n",
       "      <td>8185</td>\n",
       "      <td>1112</td>\n",
       "      <td>1383</td>\n",
       "      <td>285</td>\n",
       "      <td>231</td>\n",
       "      <td>180</td>\n",
       "      <td>270</td>\n",
       "      <td>540</td>\n",
       "      <td>2387</td>\n",
       "      <td>2132</td>\n",
       "      <td>...</td>\n",
       "      <td>28</td>\n",
       "      <td>40</td>\n",
       "      <td>125</td>\n",
       "      <td>90</td>\n",
       "      <td>225</td>\n",
       "      <td>630</td>\n",
       "      <td>315</td>\n",
       "      <td>225</td>\n",
       "      <td>109</td>\n",
       "      <td>19</td>\n",
       "    </tr>\n",
       "  </tbody>\n",
       "</table>\n",
       "<p>2 rows × 30 columns</p>\n",
       "</div>"
      ],
      "text/plain": [
       "code     278.0   326.0   235.0   267.0   92.0    38.0    1671.0  1881.0  \\\n",
       "class 0   14206   10354    8249    6324    4076    2790    2700    2560   \n",
       "class 1    8185    1112    1383     285     231     180     270     540   \n",
       "\n",
       "code     298.0   1538.0  ...  1431.0  1119.0  339.0   1430.0  94.0    442.0   \\\n",
       "class 0    2252    2028  ...     277     264     250     232     225     202   \n",
       "class 1    2387    2132  ...      28      40     125      90     225     630   \n",
       "\n",
       "code     1147.0  384.0   1606.0  268.0   \n",
       "class 0     195     162     127      69  \n",
       "class 1     315     225     109      19  \n",
       "\n",
       "[2 rows x 30 columns]"
      ]
     },
     "metadata": {},
     "output_type": "display_data"
    },
    {
     "data": {
      "image/png": "[encoded data removed]",
      "text/plain": [
       "<Figure size 700x250 with 1 Axes>"
      ]
     },
     "metadata": {},
     "output_type": "display_data"
    }
   ],
   "source": [
    "report_class_count_per_group(Y, groups)"
   ]
  },
  {
   "cell_type": "markdown",
   "id": "83487eb3-1406-49d9-92d7-f0edba2142c5",
   "metadata": {},
   "source": [
    "#### Undersample per camera"
   ]
  },
  {
   "cell_type": "code",
   "execution_count": 69,
   "id": "7febd554-3332-4f4c-854d-16fa8cafd9f3",
   "metadata": {},
   "outputs": [
    {
     "name": "stdout",
     "output_type": "stream",
     "text": [
      "Total samples: 40721\n",
      "\n"
     ]
    },
    {
     "data": {
      "text/plain": [
       "flood\n",
       "1    20865\n",
       "0    19856\n",
       "Name: count, dtype: int64"
      ]
     },
     "metadata": {},
     "output_type": "display_data"
    },
    {
     "name": "stdout",
     "output_type": "stream",
     "text": [
      "\n",
      "tag\n",
      "normal        13020\n",
      "bolsão        10621\n",
      "poça           6836\n",
      "lâmina         5218\n",
      "alagamento     5026\n",
      "Name: count, dtype: int64\n",
      "\n"
     ]
    },
    {
     "data": {
      "text/plain": [
       "Index([173953, 163058, 163710, 169725, 164323, 174336, 162480, 163018, 195611,\n",
       "       181649,\n",
       "       ...\n",
       "       203655, 203528, 186960, 187001, 212067, 187011, 186940, 211896, 212046,\n",
       "       187023],\n",
       "      dtype='int64', length=40721)"
      ]
     },
     "metadata": {},
     "output_type": "display_data"
    }
   ],
   "source": [
    "cnt_0 = groups[Y == 0.0].value_counts()\n",
    "cnt_1 = groups[Y == 1.0].value_counts()\n",
    "\n",
    "index = []\n",
    "for code in cnt_1.index:\n",
    "    Y_code = Y[groups == code]\n",
    "    n_samples = min(cnt_0.loc[code], cnt_1.loc[code])\n",
    "    index += Y_code[Y_code == 1.0].index.tolist()\n",
    "    index += Y_code[Y_code == 0.0].sample(n_samples, replace=replace, random_state=random_state).index.tolist()\n",
    "\n",
    "x_res = X.loc[index]\n",
    "y_res = Y.loc[index]\n",
    "y_multi_res = Y_multi.loc[index]\n",
    "groups_res = groups.loc[index]\n",
    "\n",
    "print('Total samples:', len(y_res))\n",
    "print()\n",
    "display(y_res.value_counts())\n",
    "print()\n",
    "print(y_multi_res.value_counts())\n",
    "print()\n",
    "display(y_res.index)"
   ]
  },
  {
   "cell_type": "markdown",
   "id": "1a527053-c5f5-401a-bd19-59259b8e86e0",
   "metadata": {},
   "source": [
    "#### Report class count per camera (only cameras with positive samples)"
   ]
  },
  {
   "cell_type": "code",
   "execution_count": 70,
   "id": "fb158b46-5034-4337-90ee-369cd7bd7f0d",
   "metadata": {},
   "outputs": [
    {
     "data": {
      "text/html": [
       "<div>\n",
       "<style scoped>\n",
       "    .dataframe tbody tr th:only-of-type {\n",
       "        vertical-align: middle;\n",
       "    }\n",
       "\n",
       "    .dataframe tbody tr th {\n",
       "        vertical-align: top;\n",
       "    }\n",
       "\n",
       "    .dataframe thead th {\n",
       "        text-align: right;\n",
       "    }\n",
       "</style>\n",
       "<table border=\"1\" class=\"dataframe\">\n",
       "  <thead>\n",
       "    <tr style=\"text-align: right;\">\n",
       "      <th>code</th>\n",
       "      <th>278.0</th>\n",
       "      <th>298.0</th>\n",
       "      <th>1538.0</th>\n",
       "      <th>235.0</th>\n",
       "      <th>326.0</th>\n",
       "      <th>1393.0</th>\n",
       "      <th>430.0</th>\n",
       "      <th>1881.0</th>\n",
       "      <th>3290.0</th>\n",
       "      <th>267.0</th>\n",
       "      <th>...</th>\n",
       "      <th>1994.0</th>\n",
       "      <th>1606.0</th>\n",
       "      <th>2017.0</th>\n",
       "      <th>1430.0</th>\n",
       "      <th>3133.0</th>\n",
       "      <th>1119.0</th>\n",
       "      <th>1431.0</th>\n",
       "      <th>268.0</th>\n",
       "      <th>313.0</th>\n",
       "      <th>1475.0</th>\n",
       "    </tr>\n",
       "  </thead>\n",
       "  <tbody>\n",
       "    <tr>\n",
       "      <th>class 0</th>\n",
       "      <td>8185</td>\n",
       "      <td>2252</td>\n",
       "      <td>2028</td>\n",
       "      <td>1383</td>\n",
       "      <td>1112</td>\n",
       "      <td>690</td>\n",
       "      <td>585</td>\n",
       "      <td>540</td>\n",
       "      <td>291</td>\n",
       "      <td>285</td>\n",
       "      <td>...</td>\n",
       "      <td>122</td>\n",
       "      <td>109</td>\n",
       "      <td>97</td>\n",
       "      <td>90</td>\n",
       "      <td>90</td>\n",
       "      <td>40</td>\n",
       "      <td>28</td>\n",
       "      <td>19</td>\n",
       "      <td>15</td>\n",
       "      <td>14</td>\n",
       "    </tr>\n",
       "    <tr>\n",
       "      <th>class 1</th>\n",
       "      <td>8185</td>\n",
       "      <td>2387</td>\n",
       "      <td>2132</td>\n",
       "      <td>1383</td>\n",
       "      <td>1112</td>\n",
       "      <td>849</td>\n",
       "      <td>585</td>\n",
       "      <td>540</td>\n",
       "      <td>291</td>\n",
       "      <td>285</td>\n",
       "      <td>...</td>\n",
       "      <td>122</td>\n",
       "      <td>109</td>\n",
       "      <td>97</td>\n",
       "      <td>90</td>\n",
       "      <td>90</td>\n",
       "      <td>40</td>\n",
       "      <td>28</td>\n",
       "      <td>19</td>\n",
       "      <td>15</td>\n",
       "      <td>14</td>\n",
       "    </tr>\n",
       "  </tbody>\n",
       "</table>\n",
       "<p>2 rows × 30 columns</p>\n",
       "</div>"
      ],
      "text/plain": [
       "code     278.0   298.0   1538.0  235.0   326.0   1393.0  430.0   1881.0  \\\n",
       "class 0    8185    2252    2028    1383    1112     690     585     540   \n",
       "class 1    8185    2387    2132    1383    1112     849     585     540   \n",
       "\n",
       "code     3290.0  267.0   ...  1994.0  1606.0  2017.0  1430.0  3133.0  1119.0  \\\n",
       "class 0     291     285  ...     122     109      97      90      90      40   \n",
       "class 1     291     285  ...     122     109      97      90      90      40   \n",
       "\n",
       "code     1431.0  268.0   313.0   1475.0  \n",
       "class 0      28      19      15      14  \n",
       "class 1      28      19      15      14  \n",
       "\n",
       "[2 rows x 30 columns]"
      ]
     },
     "metadata": {},
     "output_type": "display_data"
    },
    {
     "data": {
      "image/png": "[encoded data removed]",
      "text/plain": [
       "<Figure size 700x250 with 1 Axes>"
      ]
     },
     "metadata": {},
     "output_type": "display_data"
    }
   ],
   "source": [
    "report_class_count_per_group(y_res, groups_res)"
   ]
  },
  {
   "cell_type": "markdown",
   "id": "0ea3f80f-fc87-4572-ae92-f247a3e24692",
   "metadata": {},
   "source": [
    "#### Even sample per group"
   ]
  },
  {
   "cell_type": "code",
   "execution_count": 71,
   "id": "f07fc521-4333-4cf7-8a5e-79a68872ab4a",
   "metadata": {},
   "outputs": [
    {
     "name": "stdout",
     "output_type": "stream",
     "text": [
      "Total samples: 2024\n",
      "\n"
     ]
    },
    {
     "data": {
      "text/plain": [
       "flood\n",
       "0    1012\n",
       "1    1012\n",
       "Name: count, dtype: int64"
      ]
     },
     "metadata": {},
     "output_type": "display_data"
    },
    {
     "name": "stdout",
     "output_type": "stream",
     "text": [
      "\n",
      "tag\n",
      "normal        538\n",
      "poça          474\n",
      "bolsão        377\n",
      "alagamento    355\n",
      "lâmina        280\n",
      "Name: count, dtype: int64\n",
      "\n"
     ]
    },
    {
     "data": {
      "text/plain": [
       "Index([ 99805, 188338, 178810, 213406, 195838, 161135, 182410, 188212, 167406,\n",
       "        95496,\n",
       "       ...\n",
       "       194236, 194246, 194235, 194244, 194241, 194247, 194240, 194245, 194239,\n",
       "       194238],\n",
       "      dtype='int64', length=2024)"
      ]
     },
     "metadata": {},
     "output_type": "display_data"
    }
   ],
   "source": [
    "msk_0 = y_res == 0.0\n",
    "msk_1 = y_res == 1.0\n",
    "\n",
    "x_even_0, y_even_0 = group_even_undersample(x_res[msk_0], y_res[msk_0], groups_res[msk_0], n=36, random_state=random_state)\n",
    "x_even_1, y_even_1 = group_even_undersample(x_res[msk_1], y_res[msk_1], groups_res[msk_1], n=36, random_state=random_state)\n",
    "\n",
    "y_even = pd.concat([y_even_0, y_even_1])\n",
    "x_even = X.loc[y_even.index]\n",
    "groups_even = groups.loc[y_even.index]\n",
    "y_multi_even = Y_multi.loc[y_even.index]\n",
    "\n",
    "print('Total samples:', len(y_even))\n",
    "print()\n",
    "display(y_even.value_counts())\n",
    "print()\n",
    "print(y_multi_even.value_counts())\n",
    "print()\n",
    "display(y_even.index)"
   ]
  },
  {
   "cell_type": "markdown",
   "id": "68939a43-3260-42ec-aebe-4f538a06ac25",
   "metadata": {},
   "source": [
    "#### Report class count per camera (only cameras with positive samples)"
   ]
  },
  {
   "cell_type": "code",
   "execution_count": 72,
   "id": "b73bde46-fb55-4059-b0f4-c5274e04e9ea",
   "metadata": {},
   "outputs": [
    {
     "data": {
      "text/html": [
       "<div>\n",
       "<style scoped>\n",
       "    .dataframe tbody tr th:only-of-type {\n",
       "        vertical-align: middle;\n",
       "    }\n",
       "\n",
       "    .dataframe tbody tr th {\n",
       "        vertical-align: top;\n",
       "    }\n",
       "\n",
       "    .dataframe thead th {\n",
       "        text-align: right;\n",
       "    }\n",
       "</style>\n",
       "<table border=\"1\" class=\"dataframe\">\n",
       "  <thead>\n",
       "    <tr style=\"text-align: right;\">\n",
       "      <th>code</th>\n",
       "      <th>278.0</th>\n",
       "      <th>92.0</th>\n",
       "      <th>1538.0</th>\n",
       "      <th>235.0</th>\n",
       "      <th>326.0</th>\n",
       "      <th>1393.0</th>\n",
       "      <th>442.0</th>\n",
       "      <th>430.0</th>\n",
       "      <th>1881.0</th>\n",
       "      <th>1147.0</th>\n",
       "      <th>...</th>\n",
       "      <th>1994.0</th>\n",
       "      <th>1606.0</th>\n",
       "      <th>2017.0</th>\n",
       "      <th>1430.0</th>\n",
       "      <th>3133.0</th>\n",
       "      <th>1119.0</th>\n",
       "      <th>1431.0</th>\n",
       "      <th>268.0</th>\n",
       "      <th>313.0</th>\n",
       "      <th>1475.0</th>\n",
       "    </tr>\n",
       "  </thead>\n",
       "  <tbody>\n",
       "    <tr>\n",
       "      <th>class 0</th>\n",
       "      <td>36</td>\n",
       "      <td>36</td>\n",
       "      <td>36</td>\n",
       "      <td>36</td>\n",
       "      <td>36</td>\n",
       "      <td>36</td>\n",
       "      <td>36</td>\n",
       "      <td>36</td>\n",
       "      <td>36</td>\n",
       "      <td>36</td>\n",
       "      <td>...</td>\n",
       "      <td>36</td>\n",
       "      <td>36</td>\n",
       "      <td>36</td>\n",
       "      <td>36</td>\n",
       "      <td>36</td>\n",
       "      <td>36</td>\n",
       "      <td>28</td>\n",
       "      <td>19</td>\n",
       "      <td>15</td>\n",
       "      <td>14</td>\n",
       "    </tr>\n",
       "    <tr>\n",
       "      <th>class 1</th>\n",
       "      <td>36</td>\n",
       "      <td>36</td>\n",
       "      <td>36</td>\n",
       "      <td>36</td>\n",
       "      <td>36</td>\n",
       "      <td>36</td>\n",
       "      <td>36</td>\n",
       "      <td>36</td>\n",
       "      <td>36</td>\n",
       "      <td>36</td>\n",
       "      <td>...</td>\n",
       "      <td>36</td>\n",
       "      <td>36</td>\n",
       "      <td>36</td>\n",
       "      <td>36</td>\n",
       "      <td>36</td>\n",
       "      <td>36</td>\n",
       "      <td>28</td>\n",
       "      <td>19</td>\n",
       "      <td>15</td>\n",
       "      <td>14</td>\n",
       "    </tr>\n",
       "  </tbody>\n",
       "</table>\n",
       "<p>2 rows × 30 columns</p>\n",
       "</div>"
      ],
      "text/plain": [
       "code     278.0   92.0    1538.0  235.0   326.0   1393.0  442.0   430.0   \\\n",
       "class 0      36      36      36      36      36      36      36      36   \n",
       "class 1      36      36      36      36      36      36      36      36   \n",
       "\n",
       "code     1881.0  1147.0  ...  1994.0  1606.0  2017.0  1430.0  3133.0  1119.0  \\\n",
       "class 0      36      36  ...      36      36      36      36      36      36   \n",
       "class 1      36      36  ...      36      36      36      36      36      36   \n",
       "\n",
       "code     1431.0  268.0   313.0   1475.0  \n",
       "class 0      28      19      15      14  \n",
       "class 1      28      19      15      14  \n",
       "\n",
       "[2 rows x 30 columns]"
      ]
     },
     "metadata": {},
     "output_type": "display_data"
    },
    {
     "data": {
      "image/png": "[encoded data removed]",
      "text/plain": [
       "<Figure size 700x250 with 1 Axes>"
      ]
     },
     "metadata": {},
     "output_type": "display_data"
    }
   ],
   "source": [
    "report_class_count_per_group(y_even, groups_even)"
   ]
  },
  {
   "cell_type": "markdown",
   "id": "605324cd-2dce-4d92-8e27-5ec4fcac9c12",
   "metadata": {},
   "source": [
    "#### Get `x_res`, `y_res` and `groups_res`"
   ]
  },
  {
   "cell_type": "code",
   "execution_count": 73,
   "id": "429adfa6-d5d3-4831-8375-80d692bcb461",
   "metadata": {},
   "outputs": [],
   "source": [
    "x_res = X.loc[y_even.index].copy()\n",
    "y_res = Y.loc[y_even.index].copy()\n",
    "groups_res = groups.loc[y_even.index].copy()"
   ]
  },
  {
   "cell_type": "markdown",
   "id": "b59fb663-603e-4150-9250-6b238cb17d72",
   "metadata": {},
   "source": [
    "---\n",
    "## 5. Train and Test Splitting"
   ]
  },
  {
   "cell_type": "markdown",
   "id": "b707e714-390a-454c-abc2-5def9026c630",
   "metadata": {},
   "source": [
    "####  Optional · Stratified group KFold split"
   ]
  },
  {
   "cell_type": "markdown",
   "id": "4d7c614b-5bfc-43d6-8628-694da3d16fb5",
   "metadata": {},
   "source": [
    "Obs: Best split result"
   ]
  },
  {
   "cell_type": "code",
   "execution_count": 74,
   "id": "31059acb-1598-49c5-a811-37eb8cd5b8cc",
   "metadata": {},
   "outputs": [
    {
     "name": "stdout",
     "output_type": "stream",
     "text": [
      "n_splits_test: 5\n",
      "n_splits_val: 4\n",
      "\n",
      "Train index: Index([106170, 173236, 223883, 223535, 180913, 177444, 75080, 127184, 173623,\n",
      "       225050],\n",
      "      dtype='int64')\n",
      "\n",
      "Test index: Index([99805, 188338, 178810, 213406, 195838, 161135, 182410, 188212, 167406,\n",
      "       95496],\n",
      "      dtype='int64')\n",
      "\n",
      "Val index: Index([140406, 140389, 219476, 129227, 222925, 233797, 126929, 127000, 150406,\n",
      "       152797],\n",
      "      dtype='int64')\n"
     ]
    }
   ],
   "source": [
    "from sklearn.model_selection import StratifiedGroupKFold\n",
    "\n",
    "train_prct = 0.6\n",
    "test_prct = 0.2\n",
    "val_prct = 0.2\n",
    "\n",
    "n_splits_test = int(1.0 / test_prct)\n",
    "n_splits_val = int((1.0 - test_prct) / val_prct)\n",
    "\n",
    "print('n_splits_test:', n_splits_test)\n",
    "print('n_splits_val:', n_splits_val)\n",
    "\n",
    "# Stratified group KFold testing split\n",
    "sgkf = StratifiedGroupKFold(n_splits=n_splits_test, shuffle=True, random_state=random_state)\n",
    "for i, (train_index, test_index) in enumerate(sgkf.split(x_res, y_res, groups_res)):\n",
    "    # Get first split folder\n",
    "    break\n",
    "\n",
    "X_train = x_res.iloc[train_index]\n",
    "Y_train = y_res.iloc[train_index]\n",
    "groups_train = groups_res.iloc[train_index]\n",
    "\n",
    "X_test = x_res.iloc[test_index]\n",
    "Y_test = y_res.iloc[test_index]\n",
    "groups_test = groups_res.iloc[test_index]\n",
    "\n",
    "# Stratified group KFold validation split\n",
    "sgkf = StratifiedGroupKFold(n_splits=n_splits_val, shuffle=True, random_state=random_state)\n",
    "for i, (train_index, val_index) in enumerate(sgkf.split(X_train, Y_train, groups_train)):\n",
    "    break\n",
    "\n",
    "X_val = X_train.iloc[val_index]\n",
    "Y_val = Y_train.iloc[val_index]\n",
    "groups_val = groups_train.iloc[val_index]\n",
    "\n",
    "X_train = X_train.iloc[train_index]\n",
    "Y_train = Y_train.iloc[train_index]\n",
    "groups_train = groups_train.iloc[train_index]\n",
    "\n",
    "print('\\nTrain index:', Y_train.index[:10])\n",
    "print('\\nTest index:', Y_test.index[:10])\n",
    "print('\\nVal index:', Y_val.index[:10])"
   ]
  },
  {
   "cell_type": "markdown",
   "id": "8c4526f3-7e5a-4666-a647-3741c9b5968e",
   "metadata": {},
   "source": [
    "#### Report split: Samples per class"
   ]
  },
  {
   "cell_type": "code",
   "execution_count": 75,
   "id": "2db53bac-3b14-4e02-b9d3-ba72a89ac386",
   "metadata": {},
   "outputs": [
    {
     "name": "stdout",
     "output_type": "stream",
     "text": [
      "Total samples: 2024\n",
      "Groups intersecting train and test sets: 0\n",
      "Groups intersecting train and val sets: 0\n",
      "Groups intersecting test and val sets: 0\n",
      "\n"
     ]
    },
    {
     "data": {
      "text/html": [
       "<div>\n",
       "<style scoped>\n",
       "    .dataframe tbody tr th:only-of-type {\n",
       "        vertical-align: middle;\n",
       "    }\n",
       "\n",
       "    .dataframe tbody tr th {\n",
       "        vertical-align: top;\n",
       "    }\n",
       "\n",
       "    .dataframe thead th {\n",
       "        text-align: right;\n",
       "    }\n",
       "</style>\n",
       "<table border=\"1\" class=\"dataframe\">\n",
       "  <thead>\n",
       "    <tr style=\"text-align: right;\">\n",
       "      <th></th>\n",
       "      <th>groups</th>\n",
       "      <th>groups (%)</th>\n",
       "      <th>total</th>\n",
       "      <th>total (%)</th>\n",
       "      <th>0</th>\n",
       "      <th>1</th>\n",
       "      <th>0 (%)</th>\n",
       "      <th>1 (%)</th>\n",
       "      <th>class ratio (%)</th>\n",
       "    </tr>\n",
       "  </thead>\n",
       "  <tbody>\n",
       "    <tr>\n",
       "      <th>train</th>\n",
       "      <td>18.0</td>\n",
       "      <td>60.0</td>\n",
       "      <td>1160.0</td>\n",
       "      <td>57.31</td>\n",
       "      <td>580.0</td>\n",
       "      <td>580.0</td>\n",
       "      <td>57.31</td>\n",
       "      <td>57.31</td>\n",
       "      <td>50.0</td>\n",
       "    </tr>\n",
       "    <tr>\n",
       "      <th>test</th>\n",
       "      <td>6.0</td>\n",
       "      <td>20.0</td>\n",
       "      <td>432.0</td>\n",
       "      <td>21.34</td>\n",
       "      <td>216.0</td>\n",
       "      <td>216.0</td>\n",
       "      <td>21.34</td>\n",
       "      <td>21.34</td>\n",
       "      <td>50.0</td>\n",
       "    </tr>\n",
       "    <tr>\n",
       "      <th>val</th>\n",
       "      <td>6.0</td>\n",
       "      <td>20.0</td>\n",
       "      <td>432.0</td>\n",
       "      <td>21.34</td>\n",
       "      <td>216.0</td>\n",
       "      <td>216.0</td>\n",
       "      <td>21.34</td>\n",
       "      <td>21.34</td>\n",
       "      <td>50.0</td>\n",
       "    </tr>\n",
       "  </tbody>\n",
       "</table>\n",
       "</div>"
      ],
      "text/plain": [
       "       groups  groups (%)   total  total (%)      0      1  0 (%)  1 (%)  \\\n",
       "train    18.0        60.0  1160.0      57.31  580.0  580.0  57.31  57.31   \n",
       "test      6.0        20.0   432.0      21.34  216.0  216.0  21.34  21.34   \n",
       "val       6.0        20.0   432.0      21.34  216.0  216.0  21.34  21.34   \n",
       "\n",
       "       class ratio (%)  \n",
       "train             50.0  \n",
       "test              50.0  \n",
       "val               50.0  "
      ]
     },
     "metadata": {},
     "output_type": "display_data"
    }
   ],
   "source": [
    "print('Total samples:', len(y_res))\n",
    "stats = group_split_report(y_res, groups_res, Y_train.index, Y_test.index, Y_val.index)\n",
    "display(stats)"
   ]
  },
  {
   "cell_type": "markdown",
   "id": "523b155c-d692-41a3-be24-5844703883ab",
   "metadata": {},
   "source": [
    "#### Report split: Samples per class and code"
   ]
  },
  {
   "cell_type": "code",
   "execution_count": 161,
   "id": "717f0db2-db4b-4f6e-8217-0e9acf827247",
   "metadata": {},
   "outputs": [],
   "source": [
    "group_class_count_plot(y_res, groups_res, Y_train.index, Y_test.index, Y_val.index)"
   ]
  },
  {
   "cell_type": "markdown",
   "id": "89439585-c4e5-4d6e-8cb8-20e6e5a0be77",
   "metadata": {},
   "source": [
    "---\n",
    "## 6. Copy images into train and test folders"
   ]
  },
  {
   "cell_type": "markdown",
   "id": "e2014282-771f-4ac2-902f-bdf7ad272b11",
   "metadata": {},
   "source": [
    "#### Copy images with `train_index`and `test_index` into structured 'train' and 'test' folders"
   ]
  },
  {
   "cell_type": "code",
   "execution_count": 77,
   "id": "f6b15713-4785-4620-ac61-6d6f7fc68f7c",
   "metadata": {},
   "outputs": [
    {
     "name": "stdout",
     "output_type": "stream",
     "text": [
      "Copying images to train folders:\n",
      "Processed 1160/1160 files (100.00%) - Found: 1160/1160\n",
      "Copying images to test folders:\n",
      "Processed 432/432 files (100.00%) - Found: 432/432\n",
      "Copying images to val folders:\n",
      "Processed 432/432 files (100.00%) - Found: 432/432\r"
     ]
    }
   ],
   "source": [
    "from modules.octa_video_util import copy_images_to_folders\n",
    "\n",
    "base_directory = 'data/images'\n",
    "target_directory = 'data/splits/sgkf-6-2-2-size-2024-rs-3'\n",
    "\n",
    "# dataset = data.copy()\n",
    "dataset = data.copy()\n",
    "file_path_field = 'file_path'\n",
    "label_field = 'flood'\n",
    "train_indexes = list(Y_train.index)\n",
    "test_indexes = list(Y_test.index)\n",
    "val_indexes = list(Y_val.index)\n",
    "\n",
    "copy_images_to_folders(\n",
    "    base_directory, target_directory, dataset,\n",
    "    train_indexes, test_indexes, val_indexes,\n",
    "    file_path_field=file_path_field, tag_field=label_field\n",
    ")"
   ]
  },
  {
   "cell_type": "markdown",
   "id": "188f471f-39af-4de1-a6d8-39e953fa619d",
   "metadata": {},
   "source": [
    "#### Save dataframe of sample images"
   ]
  },
  {
   "cell_type": "code",
   "execution_count": 78,
   "id": "d000fe42-928c-4548-9325-15181306508e",
   "metadata": {},
   "outputs": [
    {
     "name": "stdout",
     "output_type": "stream",
     "text": [
      "split dataframe saved with shape: (2024, 13)\n"
     ]
    }
   ],
   "source": [
    "data_train = data.loc[Y_train.index].copy()\n",
    "data_test = data.loc[Y_test.index].copy()\n",
    "data_val = data.loc[Y_val.index].copy()\n",
    "\n",
    "data_train['set'] = 'train'\n",
    "data_test['set'] = 'test'\n",
    "data_val['set'] = 'val'\n",
    "\n",
    "data_split_df = pd.concat([data_train, data_test, data_val])\n",
    "\n",
    "data_split_df.to_csv(f'{target_directory}/images.csv')\n",
    "print(f'split dataframe saved with shape: {data_split_df.shape}')"
   ]
  },
  {
   "cell_type": "markdown",
   "id": "f535fa22-6b03-4597-ab94-9f3356d9b7af",
   "metadata": {},
   "source": [
    "#### Count saved images"
   ]
  },
  {
   "cell_type": "code",
   "execution_count": 79,
   "id": "ff33b87f-a544-47be-acba-2a1dbacd0769",
   "metadata": {},
   "outputs": [
    {
     "name": "stdout",
     "output_type": "stream",
     "text": [
      "train: 578 578\n",
      "test: 216 216\n",
      "val: 215 216\n"
     ]
    }
   ],
   "source": [
    "import os\n",
    "\n",
    "print('train:', len(os.listdir(f'{target_directory}/train/0')), len(os.listdir(f'{target_directory}/train/1')))\n",
    "print('test:', len(os.listdir(f'{target_directory}/test/0')), len(os.listdir(f'{target_directory}/test/1')))\n",
    "print('val:', len(os.listdir(f'{target_directory}/val/0')), len(os.listdir(f'{target_directory}/val/1')))"
   ]
  }
 ],
 "metadata": {
  "kernelspec": {
   "display_name": "Python 3 (ipykernel)",
   "language": "python",
   "name": "python3"
  },
  "language_info": {
   "codemirror_mode": {
    "name": "ipython",
    "version": 3
   },
   "file_extension": ".py",
   "mimetype": "text/x-python",
   "name": "python",
   "nbconvert_exporter": "python",
   "pygments_lexer": "ipython3",
   "version": "3.11.3"
  }
 },
 "nbformat": 4,
 "nbformat_minor": 5
}
