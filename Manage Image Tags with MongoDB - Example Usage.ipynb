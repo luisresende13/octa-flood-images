{
 "cells": [
  {
   "cell_type": "markdown",
   "id": "a3399995-6101-4c70-a207-adb1f353f276",
   "metadata": {},
   "source": [
    "---\n",
    "## Manage video tags with mongo based api"
   ]
  },
  {
   "cell_type": "markdown",
   "id": "5849003d-bb22-410d-807b-10d098b31352",
   "metadata": {},
   "source": [
    "#### Class to handle tags for videos"
   ]
  },
  {
   "cell_type": "code",
   "execution_count": 1,
   "id": "0f664cbb-7180-4810-a78a-aeaa38558864",
   "metadata": {},
   "outputs": [],
   "source": [
    "from modules.mongo_util import VideoTags"
   ]
  },
  {
   "cell_type": "markdown",
   "id": "5d31ad5b-e8ed-4fad-a30f-ef11b054bcf0",
   "metadata": {},
   "source": [
    "#### Create VideoTags instance"
   ]
  },
  {
   "cell_type": "code",
   "execution_count": 3,
   "id": "0b70b4b4-74fb-452e-b08d-66e738aff257",
   "metadata": {},
   "outputs": [],
   "source": [
    "base_url = 'https://watch-bucket-veuei2iu4q-uc.a.run.app'\n",
    "# base_url = 'http://localhost:8080'\n",
    "\n",
    "video_tags = VideoTags(base_url)"
   ]
  },
  {
   "cell_type": "markdown",
   "id": "df962130-2aa5-46f7-87d6-748aa0f689c0",
   "metadata": {},
   "source": [
    "#### Define video parameters"
   ]
  },
  {
   "cell_type": "code",
   "execution_count": 4,
   "id": "50d204df-bb48-4545-8e0a-0187713cfc8b",
   "metadata": {},
   "outputs": [],
   "source": [
    "bucket = 'flood-videos-stamped'\n",
    "blob_name = 'comando/alagamento/101579/1461/CODE1461 2023-08-29 00-00-02.webm'"
   ]
  },
  {
   "cell_type": "markdown",
   "id": "097c45ee-262e-4c1f-87f0-5c0159421f32",
   "metadata": {},
   "source": [
    "#### Get tags"
   ]
  },
  {
   "cell_type": "code",
   "execution_count": 5,
   "id": "d5d089b7-6aaa-467f-be81-98e0f2d11ff2",
   "metadata": {},
   "outputs": [
    {
     "data": {
      "text/plain": [
       "{'status': True,\n",
       " 'status_code': 200,\n",
       " 'message': 'OK',\n",
       " 'data': {'_id': '65040934f049f672e58adc41',\n",
       "  'api_url': 'https://watch-bucket-j3velvy4eq-rj.a.run.app/ffmpeg/comando/alagamento/101579/1461/CODE1461 2023-08-29 00-00-02.webm?b=flood-videos-stamped',\n",
       "  'blob_name': 'comando/alagamento/101579/1461/CODE1461 2023-08-29 00-00-02.webm',\n",
       "  'blob_size': 2047337.0,\n",
       "  'bucket': '',\n",
       "  'bucket_name': 'flood-videos-stamped',\n",
       "  'code': 1461.0,\n",
       "  'file_name': 'CODE1461 2023-08-29 00-00-02.webm',\n",
       "  'folder': 'comando/alagamento/101579/1461',\n",
       "  'folder_structure': '{source}/{type}/{event}/{code}',\n",
       "  'n_folders': 4.0,\n",
       "  'seen': True,\n",
       "  'tags': ['poça'],\n",
       "  'timestamp': '2023-08-29 00:00:02',\n",
       "  'url': 'https://storage.googleapis.com/flood-videos-stamped/comando/alagamento/101579/1461/CODE1461 2023-08-29 00-00-02.webm'}}"
      ]
     },
     "execution_count": 5,
     "metadata": {},
     "output_type": "execute_result"
    }
   ],
   "source": [
    "video_tags.get(blob_name, bucket)"
   ]
  },
  {
   "cell_type": "markdown",
   "id": "46952e9d-2d20-4d71-9a03-354843cb442f",
   "metadata": {},
   "source": [
    "#### Post tags"
   ]
  },
  {
   "cell_type": "code",
   "execution_count": 33,
   "id": "e385e145-da16-43ee-971a-6e38929728ae",
   "metadata": {},
   "outputs": [
    {
     "data": {
      "text/plain": [
       "{'status': True,\n",
       " 'status_code': 200,\n",
       " 'message': 'OK',\n",
       " 'data': {'message': 'Tags updated successfully'}}"
      ]
     },
     "execution_count": 33,
     "metadata": {},
     "output_type": "execute_result"
    }
   ],
   "source": [
    "tags = ['acúmulo-ia']\n",
    "\n",
    "video_tags.post(tags, blob_name, bucket)"
   ]
  },
  {
   "cell_type": "markdown",
   "id": "44056b66-0027-4c4a-82ee-85c19974cba3",
   "metadata": {},
   "source": [
    "#### Delete tag"
   ]
  },
  {
   "cell_type": "code",
   "execution_count": 35,
   "id": "76928141-af70-4d64-aeb4-1c9bf9660685",
   "metadata": {},
   "outputs": [
    {
     "data": {
      "text/plain": [
       "{'status': True,\n",
       " 'status_code': 200,\n",
       " 'message': 'OK',\n",
       " 'data': {'_id': '65040934f049f672e58adc41',\n",
       "  'api_url': 'https://watch-bucket-j3velvy4eq-rj.a.run.app/ffmpeg/comando/alagamento/101579/1461/CODE1461 2023-08-29 00-00-02.webm?b=flood-videos-stamped',\n",
       "  'blob_name': 'comando/alagamento/101579/1461/CODE1461 2023-08-29 00-00-02.webm',\n",
       "  'blob_size': 2047337.0,\n",
       "  'bucket': '',\n",
       "  'bucket_name': 'flood-videos-stamped',\n",
       "  'code': 1461.0,\n",
       "  'file_name': 'CODE1461 2023-08-29 00-00-02.webm',\n",
       "  'folder': 'comando/alagamento/101579/1461',\n",
       "  'folder_structure': '{source}/{type}/{event}/{code}',\n",
       "  'n_folders': 4.0,\n",
       "  'seen': True,\n",
       "  'tags': ['poça'],\n",
       "  'timestamp': '2023-08-29 00:00:02',\n",
       "  'url': 'https://storage.googleapis.com/flood-videos-stamped/comando/alagamento/101579/1461/CODE1461 2023-08-29 00-00-02.webm'}}"
      ]
     },
     "execution_count": 35,
     "metadata": {},
     "output_type": "execute_result"
    }
   ],
   "source": [
    "tag = 'acúmulo-ia'\n",
    "\n",
    "video_tags.delete(tag, blob_name, bucket)"
   ]
  }
 ],
 "metadata": {
  "kernelspec": {
   "display_name": "Python 3 (ipykernel)",
   "language": "python",
   "name": "python3"
  },
  "language_info": {
   "codemirror_mode": {
    "name": "ipython",
    "version": 3
   },
   "file_extension": ".py",
   "mimetype": "text/x-python",
   "name": "python",
   "nbconvert_exporter": "python",
   "pygments_lexer": "ipython3",
   "version": "3.11.7"
  }
 },
 "nbformat": 4,
 "nbformat_minor": 5
}
