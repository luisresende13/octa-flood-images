{
 "cells": [
  {
   "cell_type": "markdown",
   "id": "38f72f68-397a-4495-b523-07ddb8ee32f7",
   "metadata": {},
   "source": [
    "# Download videos, images and datasets from Octa City's collection of flood videos"
   ]
  },
  {
   "cell_type": "markdown",
   "id": "391effa1-60e5-4a73-982e-7db30b0f595a",
   "metadata": {},
   "source": [
    "#### Set credentials"
   ]
  },
  {
   "cell_type": "code",
   "execution_count": null,
   "id": "4ef9d35f-6735-4649-a7e0-b7bb161255b0",
   "metadata": {},
   "outputs": [],
   "source": [
    "# mongo_connection_string = 'your_mongo_connection_string'\n",
    "# google_credentials_path = 'path/to/your/google_service_account_credential.json'"
   ]
  },
  {
   "cell_type": "markdown",
   "id": "5dcc769b-17c4-4d43-86a0-74786bef9302",
   "metadata": {},
   "source": [
    "## 1. Download videos dataset"
   ]
  },
  {
   "cell_type": "markdown",
   "id": "36679d63-8b02-4d3d-9600-ab7a009a3e92",
   "metadata": {},
   "source": [
    "Download `Videos Localizados` mongo collections as pandas dataframe"
   ]
  },
  {
   "cell_type": "code",
   "execution_count": null,
   "id": "0e572754-6118-4d04-b53d-2e16c575715d",
   "metadata": {},
   "outputs": [],
   "source": [
    "from modules.mongo import MongoDB\n",
    "import pandas as pd\n",
    "import numpy\n",
    "import json\n",
    "from time import time\n",
    "\n",
    "videos_dataset_path = 'data/datasets/videos.csv'\n",
    "\n",
    "# Get MongoDB collection as list of objects\n",
    "s1 = time()\n",
    "mongo = MongoDB(mongo_connection_string)\n",
    "data = mongo.get('Waterbag', 'Videos Localizados')\n",
    "\n",
    "# Convert to pandas dataframe\n",
    "s2 = time()\n",
    "df = pd.DataFrame(data)\n",
    "\n",
    "# Convert 'tags' json field to string\n",
    "df['tags'] = df['tags'].apply(json.dumps)\n",
    "\n",
    "# Save as pandas dataframe\n",
    "s3 = time()\n",
    "df.to_csv(videos_dataset_path, index=False)\n",
    "\n",
    "s4 = time()\n",
    "total_mega_bytes = df['blob_size'].replace('', 0).astype('int').sum() / 1e9\n",
    "print('Video files in dataset:', df.shape[0])\n",
    "print('Total mega bytes (MBs):', round(total_mega_bytes, 3))\n",
    "print('Time to download:', round(s2 - s1, 1))\n",
    "print('Time to save dataframe:', round(s4 - s3, 1))\n",
    "print('Time Total:', round(s4 - s1, 1), 's')"
   ]
  },
  {
   "cell_type": "markdown",
   "id": "d34f784a-36d0-4ea2-a382-75127c67f1b9",
   "metadata": {},
   "source": [
    "#### Report videos dataset"
   ]
  },
  {
   "cell_type": "code",
   "execution_count": null,
   "id": "8a87caa3-b9db-4f46-ac6a-7fc861c747a0",
   "metadata": {},
   "outputs": [],
   "source": [
    "seen = df['seen'].sum()\n",
    "tagged = ~df['tags'].isin([[]])\n",
    "cameras_with_labels = df[tagged]['code'].unique()\n",
    "videos_from_cameras_with_labels = df[df['code'].isin(cameras_with_labels)]\n",
    "rows_with_missin_values = df[df['timestamp'].isna()]\n",
    "\n",
    "print('\\nVídeos assistidos:', seen)\n",
    "print('Vídeos rotulados:', tagged.sum())\n",
    "print('Câmeras com rótulos:', len(cameras_with_labels))\n",
    "print('Vídeos de câmeras com rótulos:', len(videos_from_cameras_with_labels))\n",
    "\n",
    "print('\\nROWS WITH MISSING VALUES:')\n",
    "display(rows_with_missin_values)"
   ]
  },
  {
   "cell_type": "markdown",
   "id": "df9c7a24-1d00-4342-bae6-e6695e114e62",
   "metadata": {},
   "source": [
    "---\n",
    "## 2. Reload videos dataset"
   ]
  },
  {
   "cell_type": "code",
   "execution_count": 1,
   "id": "c08ee6f0-afee-4d89-8415-395b2db57f82",
   "metadata": {},
   "outputs": [],
   "source": [
    "import pandas as pd\n",
    "import json\n",
    "\n",
    "videos_dataset_path = 'data/datasets/videos.csv'\n",
    "df = pd.read_csv(videos_dataset_path)\n",
    "\n",
    "# Preprocessing\n",
    "df['tags'] = df['tags'].apply(json.loads)"
   ]
  },
  {
   "cell_type": "markdown",
   "id": "7311e48a-f2d9-4401-b849-36ff3f40c993",
   "metadata": {},
   "source": [
    "#### Preprocessing of videos dataset"
   ]
  },
  {
   "cell_type": "code",
   "execution_count": 2,
   "id": "933138af-ccd4-459a-8c6e-c0465823754f",
   "metadata": {},
   "outputs": [],
   "source": [
    "import json\n",
    "\n",
    "df_custom = df.copy()\n",
    "df_custom['bucket_name'] = 'flood-video-collection'\n",
    "df_custom['blob_name'] = df_custom['blob_name'].str.replace('.webm', '.mp4') # reproduce the .mp4 collection using the .webm collection\n",
    "df_custom.dropna(subset=['timestamp'], inplace=True) # Drop rows with missing values for `timestmaps`field"
   ]
  },
  {
   "attachments": {},
   "cell_type": "markdown",
   "id": "24eea128-e5f5-4ce7-be07-b4de5eb2c29d",
   "metadata": {},
   "source": [
    "---\n",
    "## 3. Download video files"
   ]
  },
  {
   "cell_type": "markdown",
   "id": "f5c0a80f-96db-4ee3-9cf3-e3018fe6ed2d",
   "metadata": {},
   "source": [
    "#### Import utility functions"
   ]
  },
  {
   "cell_type": "code",
   "execution_count": 3,
   "id": "52a20a51-b0cd-4ea2-944d-2897ecd55841",
   "metadata": {},
   "outputs": [],
   "source": [
    "from modules.octa_video_util import filter_by_query, _assign_tag\n",
    "from modules.octa_video_util import VideoDownloader, VideoFrameExtractor\n",
    "from modules.octa_video_util import buildImageDataset, buildImageDatasetThreads\n",
    "from modules.octa_video_util import copy_images_to_folders"
   ]
  },
  {
   "cell_type": "markdown",
   "id": "6fdc9d06-255e-45b9-8eb5-cfecdcf0db3e",
   "metadata": {},
   "source": [
    "#### Download videos with optional query"
   ]
  },
  {
   "cell_type": "code",
   "execution_count": null,
   "id": "9805c558-a736-4e42-a465-ef230cc4c32c",
   "metadata": {},
   "outputs": [],
   "source": [
    "# from modules.octa_video_util import VideoDownloader\n",
    "\n",
    "target_directory = 'data/videos'\n",
    "bucket_name = 'flood-video-collection'\n",
    "\n",
    "# query_params = {'code': [101, 102, 103], 'seen': [True, False]} \n",
    "query_params = {'seen': [True]}\n",
    "\n",
    "overwrite = False\n",
    "max_threads = 30\n",
    "\n",
    "downloader = VideoDownloader(df_custom, target_directory, google_credentials_path, max_threads)\n",
    "downloader.download_videos(query_params, overwrite)"
   ]
  },
  {
   "cell_type": "markdown",
   "id": "735d2479-6fad-422b-a227-639fecf78639",
   "metadata": {},
   "source": [
    "---\n",
    "## 4. Extract and save image files"
   ]
  },
  {
   "cell_type": "markdown",
   "id": "75f260c0-7ca4-4225-b2b3-17f4ced11bfb",
   "metadata": {},
   "source": [
    "#### Extract images from video files (with optional query)"
   ]
  },
  {
   "cell_type": "code",
   "execution_count": 4,
   "id": "34244ea9-66fb-4f39-87a0-31f707e13bbb",
   "metadata": {},
   "outputs": [
    {
     "name": "stdout",
     "output_type": "stream",
     "text": [
      "Processed 708/708 rows (100.00%)\n",
      "\n",
      "FINISHED.\n",
      "\n",
      "Frames found: 29356\n",
      "Frames written to disk: 29356\n",
      "Frames folder exists: 0\n",
      "Videos not found: 0\n"
     ]
    }
   ],
   "source": [
    "# from modules.octa_video_util import VideoFrameExtractor\n",
    "# from modules.octa_video_util import filter_by_query\n",
    "\n",
    "base_directory = 'data/videos'\n",
    "target_directory = 'data/images'\n",
    "\n",
    "# query_params = {'code': [101, 102, 103], 'seen': [True, False]} \n",
    "query_params = {'seen': [True]} \n",
    "\n",
    "df_filtered = filter_by_query(df_custom, query_params).copy()\n",
    "overwrite = False\n",
    "MAX_THREADS = 10  # Be careful\n",
    "\n",
    "frame_extractor = VideoFrameExtractor(df_filtered, base_directory, target_directory, MAX_THREADS)\n",
    "frame_extractor.extract_frames(overwrite)"
   ]
  },
  {
   "cell_type": "markdown",
   "id": "dfc70e9a-5f15-450c-97d6-635b705edb3d",
   "metadata": {},
   "source": [
    "#### Count saved images"
   ]
  },
  {
   "cell_type": "code",
   "execution_count": 5,
   "id": "5710c8ac-de99-4bbd-bcef-322972ed06b6",
   "metadata": {},
   "outputs": [
    {
     "name": "stdout",
     "output_type": "stream",
     "text": [
      "Number of '' files in 'data/images': 29356\n"
     ]
    }
   ],
   "source": [
    "import os\n",
    "\n",
    "def count_files_with_extension(folder_path, ext=\"\"):\n",
    "    count = 0\n",
    "    for root, dirs, files in os.walk(folder_path):\n",
    "        for file in files:\n",
    "            if file.endswith(ext):\n",
    "                count += 1\n",
    "    return count\n",
    "\n",
    "# Example usage:\n",
    "folder_path = \"data/images\"\n",
    "extension = \"\"\n",
    "file_count = count_files_with_extension(folder_path, extension)\n",
    "print(f\"Number of '{extension}' files in '{folder_path}': {file_count}\")\n"
   ]
  },
  {
   "cell_type": "markdown",
   "id": "7d4cb053-6328-4a6e-8dd8-eafc63b0d576",
   "metadata": {},
   "source": [
    "---\n",
    "## 5. Build images dataset"
   ]
  },
  {
   "cell_type": "markdown",
   "id": "bed695d5-27aa-4b16-8965-89ee65631651",
   "metadata": {},
   "source": [
    "Create the dataset of images from the video files in `base_directory` folder."
   ]
  },
  {
   "cell_type": "markdown",
   "id": "9bbfb9c4-4ae4-4854-ab4f-a527341a009d",
   "metadata": {},
   "source": [
    "Obs: To update to the latest 'tags' and 'seen' values, re-download the 'videos' dataset and pass it down to `buildImageDataset` or `buildImageDatasetThreads` below."
   ]
  },
  {
   "cell_type": "markdown",
   "id": "a422bdf0-7978-4e48-8603-c62fbdefc0a7",
   "metadata": {},
   "source": [
    "#### Build images dataset from video files"
   ]
  },
  {
   "cell_type": "code",
   "execution_count": 34,
   "id": "d3528ccc-4015-476b-a205-10b0f3686f70",
   "metadata": {},
   "outputs": [
    {
     "name": "stdout",
     "output_type": "stream",
     "text": [
      "Processed videos: 708/708 (100.0) %\n",
      "\n",
      "Image dataset shape: (29356, 10)\n"
     ]
    }
   ],
   "source": [
    "# from modules.octa_video_util import buildImageDataset\n",
    "# from modules.octa_video_util import _assign_tag\n",
    "\n",
    "dataset = df_custom.copy()\n",
    "base_directory = 'data/videos'\n",
    "images_dataset_path = 'data/datasets/images.csv'\n",
    "fps = 3\n",
    "\n",
    "# Build images dataset\n",
    "df_images =  buildImageDataset(dataset, base_directory, fps=fps)\n",
    "\n",
    "# Save images dataset\n",
    "df_images.to_csv(images_dataset_path, index=False)\n",
    "\n",
    "# Print results\n",
    "print('Image dataset shape:', df_images.shape)"
   ]
  },
  {
   "attachments": {},
   "cell_type": "markdown",
   "id": "5319726a-f3da-41e4-a440-79e6e430968e",
   "metadata": {},
   "source": [
    "#### Build images dataset from video files with threads (Faster version)\n",
    "\n",
    "##### Obs: Not working"
   ]
  },
  {
   "cell_type": "code",
   "execution_count": 6,
   "id": "c4b8aac5-c536-42d9-a19b-6d00432a1775",
   "metadata": {},
   "outputs": [
    {
     "name": "stdout",
     "output_type": "stream",
     "text": [
      "Processed videos: 708/708 (100.0) %\n",
      "\n",
      "Image dataset shape: (29356, 10)\n"
     ]
    }
   ],
   "source": [
    "# from modules.octa_video_util import buildImageDatasetThreads\n",
    "# from modules.octa_video_util import _assign_tag\n",
    "\n",
    "dataset = df_custom.copy()\n",
    "base_directory = 'data/videos'\n",
    "images_dataset_path = 'data/datasets/images.csv'\n",
    "fps = 3\n",
    "print_each = 50\n",
    "max_threads = 10\n",
    "\n",
    "df_images = buildImageDatasetThreads(dataset, base_directory, fps, print_each, max_threads)\n",
    "\n",
    "# Save images dataset\n",
    "df_images.to_csv(images_dataset_path, index=False)\n",
    "\n",
    "# Print results\n",
    "print('\\nImage dataset shape:', df_images.shape)"
   ]
  },
  {
   "cell_type": "markdown",
   "id": "cc1acfbc-e3da-4b72-94c7-e939520cec3c",
   "metadata": {},
   "source": [
    "---\n",
    "## 6. Reload images dataset"
   ]
  },
  {
   "cell_type": "code",
   "execution_count": 1,
   "id": "6dd947e5-a58c-4146-95df-da4445c2cc96",
   "metadata": {},
   "outputs": [],
   "source": [
    "import pandas as pd\n",
    "\n",
    "images_dataset_path = 'data/datasets/images.csv'\n",
    "df_images = pd.read_csv(images_dataset_path)"
   ]
  },
  {
   "cell_type": "markdown",
   "id": "8a277a3f-a1a3-498f-8902-faa33d254e8f",
   "metadata": {},
   "source": [
    "#### Create 'tag' field from multiple tags based on tag priority"
   ]
  },
  {
   "cell_type": "code",
   "execution_count": 2,
   "id": "f30c7694-0b21-4a8b-a196-141e87720581",
   "metadata": {},
   "outputs": [
    {
     "name": "stdout",
     "output_type": "stream",
     "text": [
      "Imagens assistidas (de videos baixados): 29356 / 29356\n",
      "\n"
     ]
    },
    {
     "data": {
      "text/plain": [
       "tag\n",
       "poça          19877\n",
       "normal         4889\n",
       "lâmina         3661\n",
       "alagamento      863\n",
       "bolsão           66\n",
       "Name: count, dtype: int64"
      ]
     },
     "metadata": {},
     "output_type": "display_data"
    }
   ],
   "source": [
    "from modules.octa_video_util import _assign_tag\n",
    "\n",
    "# Create unique tag column based on class priority list\n",
    "default_tag = 'normal'\n",
    "tags_priority_list = ['alagamento', 'bolsão', 'lâmina', 'poça', 'transbordo']\n",
    "\n",
    "df_images['tag'] = df_images['tags'].apply(lambda tags_list: _assign_tag(tags_list, tags_priority_list, default_tag))\n",
    "\n",
    "print('Imagens assistidas (de videos baixados):', df_images['seen'].sum(), '/', len(df_images))\n",
    "print()\n",
    "display(df_images.tag.value_counts())"
   ]
  }
 ],
 "metadata": {
  "kernelspec": {
   "display_name": "Python 3 (ipykernel)",
   "language": "python",
   "name": "python3"
  },
  "language_info": {
   "codemirror_mode": {
    "name": "ipython",
    "version": 3
   },
   "file_extension": ".py",
   "mimetype": "text/x-python",
   "name": "python",
   "nbconvert_exporter": "python",
   "pygments_lexer": "ipython3",
   "version": "3.11.3"
  }
 },
 "nbformat": 4,
 "nbformat_minor": 5
}
