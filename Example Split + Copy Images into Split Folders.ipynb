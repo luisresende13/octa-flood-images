{
 "cells": [
  {
   "cell_type": "markdown",
   "id": "c33ac5ff-df02-4163-9586-fbdee43e6d20",
   "metadata": {},
   "source": [
    "# Train and test split + Copying images into train and test folders"
   ]
  },
  {
   "cell_type": "markdown",
   "id": "0f201f7e-71d4-4207-bbbb-9751344953a5",
   "metadata": {},
   "source": [
    "## 1. Reload images dataset"
   ]
  },
  {
   "cell_type": "code",
   "execution_count": 1,
   "id": "ed2d251b-2855-4400-b70a-64b2e28c531e",
   "metadata": {},
   "outputs": [],
   "source": [
    "import pandas as pd\n",
    "\n",
    "images_dataset_path = 'data/datasets/images.csv'\n",
    "df_images = pd.read_csv(images_dataset_path)"
   ]
  },
  {
   "cell_type": "markdown",
   "id": "2b54a8ec-676f-4501-85ab-562bd9d13cad",
   "metadata": {},
   "source": [
    "#### Create 'tag' field from multiple tags based on tag priority"
   ]
  },
  {
   "cell_type": "code",
   "execution_count": 2,
   "id": "e46378af-cfa5-4d03-a8ef-7ceffe620d15",
   "metadata": {},
   "outputs": [
    {
     "name": "stdout",
     "output_type": "stream",
     "text": [
      "Imagens assistidas (de videos baixados): 29356 / 29356\n",
      "\n"
     ]
    },
    {
     "data": {
      "text/plain": [
       "tag\n",
       "poça          19877\n",
       "normal         4889\n",
       "lâmina         3661\n",
       "alagamento      863\n",
       "bolsão           66\n",
       "Name: count, dtype: int64"
      ]
     },
     "metadata": {},
     "output_type": "display_data"
    }
   ],
   "source": [
    "from modules.octa_video_util import _assign_tag\n",
    "\n",
    "# Create unique tag column based on class priority list\n",
    "default_tag = 'normal'\n",
    "tags_priority_list = ['alagamento', 'bolsão', 'lâmina', 'poça', 'transbordo']\n",
    "\n",
    "df_images['tag'] = df_images['tags'].apply(lambda tags_list: _assign_tag(tags_list, tags_priority_list, default_tag))\n",
    "\n",
    "print('Imagens assistidas (de videos baixados):', df_images['seen'].sum(), '/', len(df_images))\n",
    "print()\n",
    "display(df_images.tag.value_counts())"
   ]
  },
  {
   "cell_type": "markdown",
   "id": "b59fb663-603e-4150-9250-6b238cb17d72",
   "metadata": {},
   "source": [
    "---\n",
    "## 2. Example train and test split"
   ]
  },
  {
   "cell_type": "code",
   "execution_count": 3,
   "id": "d3abfe97-8e6f-42f1-bc8a-8e02de6af4c2",
   "metadata": {},
   "outputs": [],
   "source": [
    "import numpy as np\n",
    "from sklearn.model_selection import StratifiedGroupKFold\n",
    "from modules.octa_video_util import filter_by_query"
   ]
  },
  {
   "cell_type": "markdown",
   "id": "f154c166-d37e-48fa-80e0-ac5c080781c5",
   "metadata": {},
   "source": [
    "#### Custom sampling of images (Example usage)"
   ]
  },
  {
   "cell_type": "code",
   "execution_count": 32,
   "id": "86329310-b729-433a-92d4-78b832cb846d",
   "metadata": {},
   "outputs": [],
   "source": [
    "random_state = None\n",
    "max_samples = 100\n",
    "class_col = 'tag'\n",
    "target_col = 'flood'\n",
    "groups_col = 'code'\n",
    "target_classes = ['lâmina', 'bolsão', 'alagamento']\n",
    "query_params = {'seen': True}\n",
    "# query_params = {'code': [101, 102, 103], 'tag': ['lâmina', 'bolsão', 'alagamento'], 'seen': [True, False]}"
   ]
  },
  {
   "cell_type": "markdown",
   "id": "3dc3096a-d513-4f9a-9505-845214709667",
   "metadata": {},
   "source": [
    "#### Filter images"
   ]
  },
  {
   "cell_type": "code",
   "execution_count": 14,
   "id": "0083be80-b150-4aae-8a15-b8053bb138dd",
   "metadata": {},
   "outputs": [],
   "source": [
    "# Filter dataset of images by query\n",
    "df_presample = filter_by_query(df_images, query_params).copy()\n",
    "df_presample.reset_index(drop=True, inplace=True)"
   ]
  },
  {
   "cell_type": "markdown",
   "id": "d2f934f7-ca27-474d-8f88-c0d22863cb3f",
   "metadata": {},
   "source": [
    "#### Binarize categorical variable"
   ]
  },
  {
   "cell_type": "code",
   "execution_count": 15,
   "id": "8684b179-b81a-45de-aa87-25ade791ef20",
   "metadata": {},
   "outputs": [],
   "source": [
    "# Binarize categorical variable from list of target classes\n",
    "df_presample['flood'] = df_presample[class_col].isin(target_classes).astype(int)"
   ]
  },
  {
   "cell_type": "markdown",
   "id": "3da43c46-3e2f-4e73-a445-f1632d1d442f",
   "metadata": {},
   "source": [
    "#### Get x and y (features and target variable)"
   ]
  },
  {
   "cell_type": "code",
   "execution_count": 16,
   "id": "4b67a94e-3bc5-4394-8ac4-72bfbc1af2a3",
   "metadata": {},
   "outputs": [],
   "source": [
    "# Get x and y\n",
    "x = df_presample.drop(target_col, axis=1)\n",
    "y = df_presample[target_col]\n",
    "groups = df_presample[groups_col]"
   ]
  },
  {
   "cell_type": "markdown",
   "id": "4ed4ce66-7204-44b3-983c-2a2ac579b352",
   "metadata": {},
   "source": [
    "#### Under sampling"
   ]
  },
  {
   "cell_type": "code",
   "execution_count": 17,
   "id": "33ce1608-8ce3-4018-9918-feeee446505d",
   "metadata": {},
   "outputs": [],
   "source": [
    "# Custom under sampling\n",
    "minority_samples = (y == 1).sum()\n",
    "y_minority_sample = y[y == 0].sample(n=minority_samples, replace=False, random_state=random_state)\n",
    "y_res = pd.concat([y_minority_sample, y[y == 1]], axis=0).sample(max_samples, replace=True, random_state=random_state)\n",
    "x_res = x.loc[y_res.index]\n",
    "groups_res = groups.loc[y_res.index]"
   ]
  },
  {
   "cell_type": "markdown",
   "id": "95848597-f897-41c3-aa33-12496215147c",
   "metadata": {},
   "source": [
    "#### Train test split"
   ]
  },
  {
   "cell_type": "code",
   "execution_count": 47,
   "id": "452b8151-cfbe-4205-90db-af9ac867f75b",
   "metadata": {},
   "outputs": [],
   "source": [
    "from sklearn.model_selection import train_test_split\n",
    "\n",
    "X_train, X_test, Y_train, Y_test = train_test_split(x_res, y_res, test_size=0.5, random_state=random_state)\n",
    "train_index, test_index = Y_train.index, Y_test.index"
   ]
  },
  {
   "cell_type": "markdown",
   "id": "b707e714-390a-454c-abc2-5def9026c630",
   "metadata": {},
   "source": [
    "#### (Alternative) Stratified group KFold split (Get train and test index from sample)"
   ]
  },
  {
   "cell_type": "code",
   "execution_count": 34,
   "id": "9d258906-c091-49bb-b549-1963878e6114",
   "metadata": {},
   "outputs": [],
   "source": [
    "# Stratified group KFold split\n",
    "sgkf = StratifiedGroupKFold(n_splits=2, shuffle=True, random_state=random_state)\n",
    "for i, (train_index, test_index) in enumerate(sgkf.split(x_res, y_res, groups_res)):\n",
    "    break\n",
    "\n",
    "X_train = x_res.iloc[train_index]\n",
    "X_test = x_res.iloc[test_index]\n",
    "\n",
    "Y_train = y_res.iloc[train_index]\n",
    "Y_test = y_res.iloc[test_index]"
   ]
  },
  {
   "cell_type": "markdown",
   "id": "b543313d-0063-437f-bfb9-94b50a73c400",
   "metadata": {},
   "source": [
    "#### Report train and test samples"
   ]
  },
  {
   "cell_type": "code",
   "execution_count": 39,
   "id": "b1dfa5d4-a3ce-4ead-ab12-f0b7f9648132",
   "metadata": {},
   "outputs": [
    {
     "name": "stdout",
     "output_type": "stream",
     "text": [
      "Train samples: 50\n",
      "Test samples: 50\n"
     ]
    },
    {
     "data": {
      "text/html": [
       "<div>\n",
       "<style scoped>\n",
       "    .dataframe tbody tr th:only-of-type {\n",
       "        vertical-align: middle;\n",
       "    }\n",
       "\n",
       "    .dataframe tbody tr th {\n",
       "        vertical-align: top;\n",
       "    }\n",
       "\n",
       "    .dataframe thead th {\n",
       "        text-align: right;\n",
       "    }\n",
       "</style>\n",
       "<table border=\"1\" class=\"dataframe\">\n",
       "  <thead>\n",
       "    <tr style=\"text-align: right;\">\n",
       "      <th></th>\n",
       "      <th>train</th>\n",
       "    </tr>\n",
       "    <tr>\n",
       "      <th>flood</th>\n",
       "      <th></th>\n",
       "    </tr>\n",
       "  </thead>\n",
       "  <tbody>\n",
       "    <tr>\n",
       "      <th>1</th>\n",
       "      <td>27</td>\n",
       "    </tr>\n",
       "    <tr>\n",
       "      <th>0</th>\n",
       "      <td>23</td>\n",
       "    </tr>\n",
       "  </tbody>\n",
       "</table>\n",
       "</div>"
      ],
      "text/plain": [
       "       train\n",
       "flood       \n",
       "1         27\n",
       "0         23"
      ]
     },
     "metadata": {},
     "output_type": "display_data"
    },
    {
     "data": {
      "text/html": [
       "<div>\n",
       "<style scoped>\n",
       "    .dataframe tbody tr th:only-of-type {\n",
       "        vertical-align: middle;\n",
       "    }\n",
       "\n",
       "    .dataframe tbody tr th {\n",
       "        vertical-align: top;\n",
       "    }\n",
       "\n",
       "    .dataframe thead th {\n",
       "        text-align: right;\n",
       "    }\n",
       "</style>\n",
       "<table border=\"1\" class=\"dataframe\">\n",
       "  <thead>\n",
       "    <tr style=\"text-align: right;\">\n",
       "      <th></th>\n",
       "      <th>test</th>\n",
       "    </tr>\n",
       "    <tr>\n",
       "      <th>flood</th>\n",
       "      <th></th>\n",
       "    </tr>\n",
       "  </thead>\n",
       "  <tbody>\n",
       "    <tr>\n",
       "      <th>0</th>\n",
       "      <td>26</td>\n",
       "    </tr>\n",
       "    <tr>\n",
       "      <th>1</th>\n",
       "      <td>24</td>\n",
       "    </tr>\n",
       "  </tbody>\n",
       "</table>\n",
       "</div>"
      ],
      "text/plain": [
       "       test\n",
       "flood      \n",
       "0        26\n",
       "1        24"
      ]
     },
     "metadata": {},
     "output_type": "display_data"
    }
   ],
   "source": [
    "print('Train samples:',len(train_index))\n",
    "print('Test samples:', len(test_index))\n",
    "\n",
    "display(Y_train.value_counts().to_frame('train'))\n",
    "display(Y_test.value_counts().to_frame('test'))"
   ]
  },
  {
   "cell_type": "markdown",
   "id": "89439585-c4e5-4d6e-8cb8-20e6e5a0be77",
   "metadata": {},
   "source": [
    "---\n",
    "## 3. Copy images into train and test folders"
   ]
  },
  {
   "cell_type": "markdown",
   "id": "e2014282-771f-4ac2-902f-bdf7ad272b11",
   "metadata": {},
   "source": [
    "#### Copy images with `train_index`and `test_index` into structured 'train' and 'test' folders"
   ]
  },
  {
   "cell_type": "code",
   "execution_count": 49,
   "id": "f6b15713-4785-4620-ac61-6d6f7fc68f7c",
   "metadata": {},
   "outputs": [
    {
     "name": "stdout",
     "output_type": "stream",
     "text": [
      "Copying images to train folders:\n",
      "Processed 50/50 files (100.00%) - Found: 50/50\n",
      "Copying images to test folders:\n",
      "Processed 50/50 files (100.00%) - Found: 50/50\r"
     ]
    }
   ],
   "source": [
    "from modules.octa_video_util import copy_images_to_folders\n",
    "\n",
    "base_directory = 'data/images'\n",
    "target_directory = 'data/samples/1'\n",
    "dataset = df_presample.copy()\n",
    "file_path_field = 'file_path'\n",
    "label_field = 'flood'\n",
    "train_indexes = list(train_index)\n",
    "test_indexes = list(test_index)\n",
    "\n",
    "copy_images_to_folders(base_directory, target_directory, dataset, train_indexes, test_indexes, file_path_field=file_path_field, tag_field=label_field)"
   ]
  }
 ],
 "metadata": {
  "kernelspec": {
   "display_name": "Python 3 (ipykernel)",
   "language": "python",
   "name": "python3"
  },
  "language_info": {
   "codemirror_mode": {
    "name": "ipython",
    "version": 3
   },
   "file_extension": ".py",
   "mimetype": "text/x-python",
   "name": "python",
   "nbconvert_exporter": "python",
   "pygments_lexer": "ipython3",
   "version": "3.11.3"
  }
 },
 "nbformat": 4,
 "nbformat_minor": 5
}
