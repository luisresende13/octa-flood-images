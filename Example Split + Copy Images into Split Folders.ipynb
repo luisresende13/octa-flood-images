{
 "cells": [
  {
   "cell_type": "markdown",
   "id": "c33ac5ff-df02-4163-9586-fbdee43e6d20",
   "metadata": {},
   "source": [
    "# Train and test split + Copying images into train and test folders"
   ]
  },
  {
   "cell_type": "markdown",
   "id": "0f201f7e-71d4-4207-bbbb-9751344953a5",
   "metadata": {},
   "source": [
    "## 1. Reload images dataset"
   ]
  },
  {
   "cell_type": "code",
   "execution_count": 1,
   "id": "ed2d251b-2855-4400-b70a-64b2e28c531e",
   "metadata": {},
   "outputs": [
    {
     "data": {
      "text/plain": [
       "Index(['id_video', 'code', 'folder', 'file_name', 'file_path', 'frame_index',\n",
       "       'timestamp', 'initial_timestamp', 'seen', 'tags'],\n",
       "      dtype='object')"
      ]
     },
     "metadata": {},
     "output_type": "display_data"
    },
    {
     "data": {
      "text/plain": [
       "RangeIndex(start=0, stop=10, step=1)"
      ]
     },
     "metadata": {},
     "output_type": "display_data"
    }
   ],
   "source": [
    "import pandas as pd\n",
    "\n",
    "images_dataset_path = 'data/datasets/images.csv'\n",
    "df_images = pd.read_csv(images_dataset_path)\n",
    "\n",
    "display(df_images.columns)\n",
    "display(df_images.index[:10])"
   ]
  },
  {
   "cell_type": "markdown",
   "id": "6121d902-2886-4bc1-9109-c07375f45379",
   "metadata": {},
   "source": [
    "---\n",
    "## 2. Preprocess the dataset"
   ]
  },
  {
   "cell_type": "code",
   "execution_count": 2,
   "id": "b4307de0-e103-4d45-a27b-964029fa5377",
   "metadata": {},
   "outputs": [],
   "source": [
    "from modules.octa_video_util import _assign_tag\n",
    "from modules.octa_video_util import filter_by_query"
   ]
  },
  {
   "cell_type": "markdown",
   "id": "f5bc40df-71f9-4a9d-8a35-ea06799c8ca5",
   "metadata": {},
   "source": [
    "#### Create categorical field from tag priority list"
   ]
  },
  {
   "cell_type": "code",
   "execution_count": 3,
   "id": "589f97e0-2039-465d-b7ad-e0fc1e7564f2",
   "metadata": {},
   "outputs": [
    {
     "data": {
      "text/plain": [
       "tag\n",
       "normal        147594\n",
       "poça           72046\n",
       "lâmina          4517\n",
       "alagamento      4290\n",
       "bolsão          3867\n",
       "transbordo      2237\n",
       "Name: count, dtype: int64"
      ]
     },
     "metadata": {},
     "output_type": "display_data"
    }
   ],
   "source": [
    "# Create unique tag column based on class priority list\n",
    "default_tag = 'normal'\n",
    "tags_priority_list = ['alagamento', 'bolsão', 'lâmina', 'poça', 'transbordo']\n",
    "\n",
    "df_images['tag'] = df_images['tags'].apply(lambda tags_list: _assign_tag(tags_list, tags_priority_list, default_tag))\n",
    "display(df_images.tag.value_counts())"
   ]
  },
  {
   "cell_type": "markdown",
   "id": "3ef38cdd-a71e-457b-8dac-566f292cde16",
   "metadata": {},
   "source": [
    "#### Drop categories"
   ]
  },
  {
   "cell_type": "code",
   "execution_count": 4,
   "id": "1a9a9437-08bc-4622-bb08-74622aca92c5",
   "metadata": {},
   "outputs": [],
   "source": [
    "df_images = df_images[df_images['tag'] != 'transbordo']"
   ]
  },
  {
   "cell_type": "markdown",
   "id": "e12bacd3-1ca4-4a33-9045-c2a12721e956",
   "metadata": {},
   "source": [
    "#### Binarize categorical variable"
   ]
  },
  {
   "cell_type": "code",
   "execution_count": 5,
   "id": "f61a80cf-a03d-4023-ab9a-96543b2b6696",
   "metadata": {},
   "outputs": [
    {
     "data": {
      "text/plain": [
       "flood\n",
       "0    219640\n",
       "1     12674\n",
       "Name: count, dtype: int64"
      ]
     },
     "metadata": {},
     "output_type": "display_data"
    },
    {
     "name": "stdout",
     "output_type": "stream",
     "text": [
      "\n"
     ]
    },
    {
     "data": {
      "text/plain": [
       "Index([0, 1, 2, 3, 4, 5, 6, 7, 8, 9], dtype='int64')"
      ]
     },
     "metadata": {},
     "output_type": "display_data"
    }
   ],
   "source": [
    "target_classes = ['lâmina', 'bolsão', 'alagamento']\n",
    "\n",
    "# Binarize categorical variable from list of target classes\n",
    "df_images['flood'] = df_images['tag'].isin(target_classes).astype(int)\n",
    "\n",
    "display(df_images['flood'].value_counts())\n",
    "print()\n",
    "display(df_images.index[:10])"
   ]
  },
  {
   "cell_type": "markdown",
   "id": "8c28a076-b37c-4b2a-a0d4-b55ddab62ffc",
   "metadata": {},
   "source": [
    "#### Filter images"
   ]
  },
  {
   "cell_type": "code",
   "execution_count": 6,
   "id": "0083977c-42a6-4101-b19b-ae26b730cc43",
   "metadata": {},
   "outputs": [
    {
     "data": {
      "text/plain": [
       "flood\n",
       "0    219640\n",
       "1     12674\n",
       "Name: count, dtype: int64"
      ]
     },
     "metadata": {},
     "output_type": "display_data"
    },
    {
     "name": "stdout",
     "output_type": "stream",
     "text": [
      "\n"
     ]
    },
    {
     "data": {
      "text/plain": [
       "Index([0, 1, 2, 3, 4, 5, 6, 7, 8, 9], dtype='int64')"
      ]
     },
     "metadata": {},
     "output_type": "display_data"
    }
   ],
   "source": [
    "query_params = {'seen': True}\n",
    "\n",
    "# Filter dataset of images by query\n",
    "df_sample = filter_by_query(df_images, query_params).copy()\n",
    "\n",
    "display(df_sample['flood'].value_counts())\n",
    "print()\n",
    "display(df_sample.index[:10])"
   ]
  },
  {
   "cell_type": "markdown",
   "id": "e93054a0-9869-4cd2-a133-24b89a54bbe8",
   "metadata": {},
   "source": [
    "---\n",
    "## 3. Shuffling"
   ]
  },
  {
   "cell_type": "code",
   "execution_count": 7,
   "id": "d3abfe97-8e6f-42f1-bc8a-8e02de6af4c2",
   "metadata": {},
   "outputs": [],
   "source": [
    "import numpy as np\n",
    "import secrets\n",
    "secrets.randbits(128)\n",
    "\n",
    "def RNG():\n",
    "    return np.random.default_rng(122807528840384100672342137672332424406)\n",
    "\n",
    "# Example usage\n",
    "# rng = RNG()\n",
    "# idx = rng.choice(data.index, len(data), replace=replace, shuffle=False)"
   ]
  },
  {
   "cell_type": "markdown",
   "id": "b867d4a1-d826-4833-aa66-d92e8108b199",
   "metadata": {},
   "source": [
    "#### Sampling parameters"
   ]
  },
  {
   "cell_type": "code",
   "execution_count": 8,
   "id": "86329310-b729-433a-92d4-78b832cb846d",
   "metadata": {},
   "outputs": [],
   "source": [
    "target_variable = 'flood'\n",
    "multiclass_target_variable = 'tag'\n",
    "groups_variable = 'code'\n",
    "\n",
    "max_samples = 2000\n",
    "replace = False\n",
    "random_state = 0"
   ]
  },
  {
   "cell_type": "markdown",
   "id": "680d67f9-3d54-4f2d-9662-134de3f7227b",
   "metadata": {},
   "source": [
    "#### Shuffle Samples"
   ]
  },
  {
   "cell_type": "code",
   "execution_count": 9,
   "id": "a0d5e9ff-0782-4137-be80-1a76bd406537",
   "metadata": {},
   "outputs": [
    {
     "data": {
      "text/plain": [
       "Index([117849, 140116, 22843, 90909, 112686, 5198, 213855, 197013, 179200,\n",
       "       168345],\n",
       "      dtype='int64')"
      ]
     },
     "metadata": {},
     "output_type": "display_data"
    }
   ],
   "source": [
    "data = df_sample.copy()\n",
    "\n",
    "data = data.sample(n=len(data), replace=replace, random_state=random_state)\n",
    "\n",
    "display(data.index[:10])"
   ]
  },
  {
   "cell_type": "markdown",
   "id": "55950f90-b41e-4c17-bec4-fb5d31fce0bf",
   "metadata": {},
   "source": [
    "#### Get x and y (features and target variable)"
   ]
  },
  {
   "cell_type": "code",
   "execution_count": 10,
   "id": "e919ab1a-9e34-4ade-b79d-2a687ec7b015",
   "metadata": {},
   "outputs": [
    {
     "data": {
      "text/plain": [
       "flood\n",
       "0    219640\n",
       "1     12674\n",
       "Name: count, dtype: int64"
      ]
     },
     "metadata": {},
     "output_type": "display_data"
    },
    {
     "name": "stdout",
     "output_type": "stream",
     "text": [
      "\n"
     ]
    },
    {
     "data": {
      "text/plain": [
       "tag\n",
       "normal        147594\n",
       "poça           72046\n",
       "lâmina          4517\n",
       "alagamento      4290\n",
       "bolsão          3867\n",
       "Name: count, dtype: int64"
      ]
     },
     "metadata": {},
     "output_type": "display_data"
    }
   ],
   "source": [
    "# Get x and y\n",
    "X = data.drop(target_variable, axis=1)\n",
    "Y = data[target_variable].copy()\n",
    "\n",
    "Y_multi = data[multiclass_target_variable] \n",
    "groups = data[groups_variable].copy()\n",
    "\n",
    "display(Y.value_counts())\n",
    "print()\n",
    "display(Y_multi.value_counts())"
   ]
  },
  {
   "cell_type": "markdown",
   "id": "adef5cf3-1d18-4e9e-b509-5a66e1b89320",
   "metadata": {},
   "source": [
    "---\n",
    "## 4. Balanced sampling per camera"
   ]
  },
  {
   "cell_type": "markdown",
   "id": "540c9f78-10f4-44e3-a68c-fff96599fe40",
   "metadata": {},
   "source": [
    "#### Utility functions"
   ]
  },
  {
   "cell_type": "code",
   "execution_count": 11,
   "id": "ccaa0b7f-40bb-4d95-a3f8-b1b7bc310de3",
   "metadata": {},
   "outputs": [],
   "source": [
    "import matplotlib.pyplot as plt\n",
    "import seaborn as sns; sns.set()\n",
    "\n",
    "import numpy as np\n",
    "\n",
    "def group_even_undersample(x, y, groups, prct=0.5, n=None, random_state=None):\n",
    "    group_cnt = groups.value_counts()\n",
    "    if n is None:\n",
    "        n = int(np.percentile(group_cnt, prct * 100))\n",
    "    index = []\n",
    "    for group in group_cnt.index:\n",
    "        index += y[groups == group].sample(min(n, group_cnt[group]), replace=False, random_state=random_state).index.tolist()\n",
    "    return x.loc[index], y.loc[index]\n",
    "\n",
    "def report_class_count_per_group(Y, groups):\n",
    "    cnt_0 = groups[Y == 0.0].value_counts()\n",
    "    cnt_1 = groups[Y == 1.0].value_counts()\n",
    "    cnt_0 = cnt_0.loc[cnt_1.index].sort_values(ascending=False)\n",
    "    code_class_cnt = pd.concat([cnt_0.rename('class 0'), cnt_1.rename('class 1')], axis=1)\n",
    "    display(code_class_cnt.T)\n",
    "    \n",
    "    fig = plt.figure(figsize=(7, 2.5))\n",
    "    ax = fig.subplots(1, 1)    \n",
    "    code_class_cnt.plot.bar(width=0.8, ax=ax)\n",
    "    plt.show()"
   ]
  },
  {
   "cell_type": "markdown",
   "id": "e1b40854-be4f-43ea-a6eb-9b2169f82c1b",
   "metadata": {},
   "source": [
    "#### Report class count per camera (only cameras with positive samples)"
   ]
  },
  {
   "cell_type": "code",
   "execution_count": 12,
   "id": "4b6e3440-0295-4b91-90d8-1e4e265274d4",
   "metadata": {},
   "outputs": [
    {
     "data": {
      "text/html": [
       "<div>\n",
       "<style scoped>\n",
       "    .dataframe tbody tr th:only-of-type {\n",
       "        vertical-align: middle;\n",
       "    }\n",
       "\n",
       "    .dataframe tbody tr th {\n",
       "        vertical-align: top;\n",
       "    }\n",
       "\n",
       "    .dataframe thead th {\n",
       "        text-align: right;\n",
       "    }\n",
       "</style>\n",
       "<table border=\"1\" class=\"dataframe\">\n",
       "  <thead>\n",
       "    <tr style=\"text-align: right;\">\n",
       "      <th>code</th>\n",
       "      <th>278.0</th>\n",
       "      <th>326.0</th>\n",
       "      <th>235.0</th>\n",
       "      <th>92.0</th>\n",
       "      <th>38.0</th>\n",
       "      <th>1538.0</th>\n",
       "      <th>1671.0</th>\n",
       "      <th>1994.0</th>\n",
       "      <th>1083.0</th>\n",
       "      <th>298.0</th>\n",
       "      <th>...</th>\n",
       "      <th>339.0</th>\n",
       "      <th>1430.0</th>\n",
       "      <th>267.0</th>\n",
       "      <th>94.0</th>\n",
       "      <th>442.0</th>\n",
       "      <th>1147.0</th>\n",
       "      <th>384.0</th>\n",
       "      <th>1606.0</th>\n",
       "      <th>268.0</th>\n",
       "      <th>1881.0</th>\n",
       "    </tr>\n",
       "  </thead>\n",
       "  <tbody>\n",
       "    <tr>\n",
       "      <th>class 0</th>\n",
       "      <td>18734</td>\n",
       "      <td>10354</td>\n",
       "      <td>8249</td>\n",
       "      <td>4076</td>\n",
       "      <td>2790</td>\n",
       "      <td>2750</td>\n",
       "      <td>2700</td>\n",
       "      <td>1708</td>\n",
       "      <td>1405</td>\n",
       "      <td>1403</td>\n",
       "      <td>...</td>\n",
       "      <td>250</td>\n",
       "      <td>232</td>\n",
       "      <td>228</td>\n",
       "      <td>225</td>\n",
       "      <td>202</td>\n",
       "      <td>195</td>\n",
       "      <td>180</td>\n",
       "      <td>127</td>\n",
       "      <td>69</td>\n",
       "      <td>45</td>\n",
       "    </tr>\n",
       "    <tr>\n",
       "      <th>class 1</th>\n",
       "      <td>3238</td>\n",
       "      <td>1112</td>\n",
       "      <td>1383</td>\n",
       "      <td>231</td>\n",
       "      <td>180</td>\n",
       "      <td>1305</td>\n",
       "      <td>270</td>\n",
       "      <td>122</td>\n",
       "      <td>156</td>\n",
       "      <td>630</td>\n",
       "      <td>...</td>\n",
       "      <td>125</td>\n",
       "      <td>90</td>\n",
       "      <td>210</td>\n",
       "      <td>225</td>\n",
       "      <td>630</td>\n",
       "      <td>315</td>\n",
       "      <td>135</td>\n",
       "      <td>109</td>\n",
       "      <td>19</td>\n",
       "      <td>45</td>\n",
       "    </tr>\n",
       "  </tbody>\n",
       "</table>\n",
       "<p>2 rows × 30 columns</p>\n",
       "</div>"
      ],
      "text/plain": [
       "code     278.0   326.0   235.0   92.0    38.0    1538.0  1671.0  1994.0  \\\n",
       "class 0   18734   10354    8249    4076    2790    2750    2700    1708   \n",
       "class 1    3238    1112    1383     231     180    1305     270     122   \n",
       "\n",
       "code     1083.0  298.0   ...  339.0   1430.0  267.0   94.0    442.0   1147.0  \\\n",
       "class 0    1405    1403  ...     250     232     228     225     202     195   \n",
       "class 1     156     630  ...     125      90     210     225     630     315   \n",
       "\n",
       "code     384.0   1606.0  268.0   1881.0  \n",
       "class 0     180     127      69      45  \n",
       "class 1     135     109      19      45  \n",
       "\n",
       "[2 rows x 30 columns]"
      ]
     },
     "metadata": {},
     "output_type": "display_data"
    },
    {
     "data": {
      "image/png": "[encoded data removed]",
      "text/plain": [
       "<Figure size 700x250 with 1 Axes>"
      ]
     },
     "metadata": {},
     "output_type": "display_data"
    }
   ],
   "source": [
    "report_class_count_per_group(Y, groups)"
   ]
  },
  {
   "cell_type": "markdown",
   "id": "83487eb3-1406-49d9-92d7-f0edba2142c5",
   "metadata": {},
   "source": [
    "#### Undersample per camera"
   ]
  },
  {
   "cell_type": "code",
   "execution_count": 13,
   "id": "7febd554-3332-4f4c-854d-16fa8cafd9f3",
   "metadata": {},
   "outputs": [
    {
     "name": "stdout",
     "output_type": "stream",
     "text": [
      "Total samples: 24641\n",
      "\n"
     ]
    },
    {
     "data": {
      "text/plain": [
       "flood\n",
       "1    12674\n",
       "0    11967\n",
       "Name: count, dtype: int64"
      ]
     },
     "metadata": {},
     "output_type": "display_data"
    },
    {
     "name": "stdout",
     "output_type": "stream",
     "text": [
      "\n",
      "tag\n",
      "normal        7094\n",
      "poça          4873\n",
      "lâmina        4517\n",
      "alagamento    4290\n",
      "bolsão        3867\n",
      "Name: count, dtype: int64\n",
      "\n"
     ]
    },
    {
     "data": {
      "text/plain": [
       "Index([170628, 214759,  95782, 214947, 170520, 209463, 159342, 177932, 177869,\n",
       "       157941,\n",
       "       ...\n",
       "       197704, 182534, 188888, 188969, 197638, 197659, 197565, 204224, 182592,\n",
       "       182600],\n",
       "      dtype='int64', length=24641)"
      ]
     },
     "metadata": {},
     "output_type": "display_data"
    }
   ],
   "source": [
    "cnt_0 = groups[Y == 0.0].value_counts()\n",
    "cnt_1 = groups[Y == 1.0].value_counts()\n",
    "\n",
    "index = []\n",
    "for code in cnt_1.index:\n",
    "    Y_code = Y[groups == code]\n",
    "    n_samples = min(cnt_0.loc[code], cnt_1.loc[code])\n",
    "    index += Y_code[Y_code == 1.0].index.tolist()\n",
    "    index += Y_code[Y_code == 0.0].sample(n_samples, replace=replace, random_state=random_state).index.tolist()\n",
    "\n",
    "x_res = X.loc[index]\n",
    "y_res = Y.loc[index]\n",
    "y_multi_res = Y_multi.loc[index]\n",
    "groups_res = groups.loc[index]\n",
    "\n",
    "print('Total samples:', len(y_res))\n",
    "print()\n",
    "display(y_res.value_counts())\n",
    "print()\n",
    "print(y_multi_res.value_counts())\n",
    "print()\n",
    "display(y_res.index)"
   ]
  },
  {
   "cell_type": "markdown",
   "id": "1a527053-c5f5-401a-bd19-59259b8e86e0",
   "metadata": {},
   "source": [
    "#### Report class count per camera (only cameras with positive samples)"
   ]
  },
  {
   "cell_type": "code",
   "execution_count": 14,
   "id": "fb158b46-5034-4337-90ee-369cd7bd7f0d",
   "metadata": {},
   "outputs": [
    {
     "data": {
      "text/html": [
       "<div>\n",
       "<style scoped>\n",
       "    .dataframe tbody tr th:only-of-type {\n",
       "        vertical-align: middle;\n",
       "    }\n",
       "\n",
       "    .dataframe tbody tr th {\n",
       "        vertical-align: top;\n",
       "    }\n",
       "\n",
       "    .dataframe thead th {\n",
       "        text-align: right;\n",
       "    }\n",
       "</style>\n",
       "<table border=\"1\" class=\"dataframe\">\n",
       "  <thead>\n",
       "    <tr style=\"text-align: right;\">\n",
       "      <th>code</th>\n",
       "      <th>278.0</th>\n",
       "      <th>235.0</th>\n",
       "      <th>1538.0</th>\n",
       "      <th>326.0</th>\n",
       "      <th>1393.0</th>\n",
       "      <th>298.0</th>\n",
       "      <th>430.0</th>\n",
       "      <th>3290.0</th>\n",
       "      <th>1671.0</th>\n",
       "      <th>92.0</th>\n",
       "      <th>...</th>\n",
       "      <th>1606.0</th>\n",
       "      <th>2017.0</th>\n",
       "      <th>3133.0</th>\n",
       "      <th>1430.0</th>\n",
       "      <th>1881.0</th>\n",
       "      <th>1119.0</th>\n",
       "      <th>1431.0</th>\n",
       "      <th>268.0</th>\n",
       "      <th>313.0</th>\n",
       "      <th>1475.0</th>\n",
       "    </tr>\n",
       "  </thead>\n",
       "  <tbody>\n",
       "    <tr>\n",
       "      <th>class 0</th>\n",
       "      <td>3238</td>\n",
       "      <td>1383</td>\n",
       "      <td>1305</td>\n",
       "      <td>1112</td>\n",
       "      <td>690</td>\n",
       "      <td>630</td>\n",
       "      <td>585</td>\n",
       "      <td>291</td>\n",
       "      <td>270</td>\n",
       "      <td>231</td>\n",
       "      <td>...</td>\n",
       "      <td>109</td>\n",
       "      <td>97</td>\n",
       "      <td>90</td>\n",
       "      <td>90</td>\n",
       "      <td>45</td>\n",
       "      <td>40</td>\n",
       "      <td>28</td>\n",
       "      <td>19</td>\n",
       "      <td>15</td>\n",
       "      <td>14</td>\n",
       "    </tr>\n",
       "    <tr>\n",
       "      <th>class 1</th>\n",
       "      <td>3238</td>\n",
       "      <td>1383</td>\n",
       "      <td>1305</td>\n",
       "      <td>1112</td>\n",
       "      <td>849</td>\n",
       "      <td>630</td>\n",
       "      <td>585</td>\n",
       "      <td>291</td>\n",
       "      <td>270</td>\n",
       "      <td>231</td>\n",
       "      <td>...</td>\n",
       "      <td>109</td>\n",
       "      <td>97</td>\n",
       "      <td>90</td>\n",
       "      <td>90</td>\n",
       "      <td>45</td>\n",
       "      <td>40</td>\n",
       "      <td>28</td>\n",
       "      <td>19</td>\n",
       "      <td>15</td>\n",
       "      <td>14</td>\n",
       "    </tr>\n",
       "  </tbody>\n",
       "</table>\n",
       "<p>2 rows × 30 columns</p>\n",
       "</div>"
      ],
      "text/plain": [
       "code     278.0   235.0   1538.0  326.0   1393.0  298.0   430.0   3290.0  \\\n",
       "class 0    3238    1383    1305    1112     690     630     585     291   \n",
       "class 1    3238    1383    1305    1112     849     630     585     291   \n",
       "\n",
       "code     1671.0  92.0    ...  1606.0  2017.0  3133.0  1430.0  1881.0  1119.0  \\\n",
       "class 0     270     231  ...     109      97      90      90      45      40   \n",
       "class 1     270     231  ...     109      97      90      90      45      40   \n",
       "\n",
       "code     1431.0  268.0   313.0   1475.0  \n",
       "class 0      28      19      15      14  \n",
       "class 1      28      19      15      14  \n",
       "\n",
       "[2 rows x 30 columns]"
      ]
     },
     "metadata": {},
     "output_type": "display_data"
    },
    {
     "data": {
      "image/png": "[encoded data removed]",
      "text/plain": [
       "<Figure size 700x250 with 1 Axes>"
      ]
     },
     "metadata": {},
     "output_type": "display_data"
    }
   ],
   "source": [
    "report_class_count_per_group(y_res, groups_res)"
   ]
  },
  {
   "cell_type": "markdown",
   "id": "0ea3f80f-fc87-4572-ae92-f247a3e24692",
   "metadata": {},
   "source": [
    "#### Even groups sampling"
   ]
  },
  {
   "cell_type": "code",
   "execution_count": 18,
   "id": "f07fc521-4333-4cf7-8a5e-79a68872ab4a",
   "metadata": {
    "scrolled": true
   },
   "outputs": [
    {
     "name": "stdout",
     "output_type": "stream",
     "text": [
      "Total samples: 1010\n",
      "\n"
     ]
    },
    {
     "data": {
      "text/plain": [
       "flood\n",
       "0    505\n",
       "1    505\n",
       "Name: count, dtype: int64"
      ]
     },
     "metadata": {},
     "output_type": "display_data"
    },
    {
     "name": "stdout",
     "output_type": "stream",
     "text": [
      "\n",
      "tag\n",
      "normal        280\n",
      "poça          225\n",
      "bolsão        177\n",
      "lâmina        168\n",
      "alagamento    160\n",
      "Name: count, dtype: int64\n",
      "\n"
     ]
    },
    {
     "data": {
      "text/plain": [
       "Index([163557, 160725, 163347, 178427, 161525, 178743, 178469, 159483, 158247,\n",
       "        92150,\n",
       "       ...\n",
       "       188826, 188831, 188828, 188827, 188832, 188833, 188829, 188834, 188825,\n",
       "       188824],\n",
       "      dtype='int64', length=1010)"
      ]
     },
     "metadata": {},
     "output_type": "display_data"
    }
   ],
   "source": [
    "msk_0 = y_res == 0.0\n",
    "msk_1 = y_res == 1.0\n",
    "\n",
    "x_even_0, y_even_0 = group_even_undersample(x_res[msk_0], y_res[msk_0], groups_res[msk_0], n=17, random_state=random_state)\n",
    "x_even_1, y_even_1 = group_even_undersample(x_res[msk_1], y_res[msk_1], groups_res[msk_1], n=17, random_state=random_state)\n",
    "\n",
    "y_even = pd.concat([y_even_0, y_even_1])\n",
    "x_even = X.loc[y_even.index]\n",
    "groups_even = groups.loc[y_even.index]\n",
    "y_multi_even = Y_multi.loc[y_even.index]\n",
    "\n",
    "print('Total samples:', len(y_even))\n",
    "print()\n",
    "display(y_even.value_counts())\n",
    "print()\n",
    "print(y_multi_even.value_counts())\n",
    "print()\n",
    "display(y_even.index)"
   ]
  },
  {
   "cell_type": "markdown",
   "id": "68939a43-3260-42ec-aebe-4f538a06ac25",
   "metadata": {},
   "source": [
    "#### Report class count per camera (only cameras with positive samples)"
   ]
  },
  {
   "cell_type": "code",
   "execution_count": 19,
   "id": "b73bde46-fb55-4059-b0f4-c5274e04e9ea",
   "metadata": {},
   "outputs": [
    {
     "data": {
      "text/html": [
       "<div>\n",
       "<style scoped>\n",
       "    .dataframe tbody tr th:only-of-type {\n",
       "        vertical-align: middle;\n",
       "    }\n",
       "\n",
       "    .dataframe tbody tr th {\n",
       "        vertical-align: top;\n",
       "    }\n",
       "\n",
       "    .dataframe thead th {\n",
       "        text-align: right;\n",
       "    }\n",
       "</style>\n",
       "<table border=\"1\" class=\"dataframe\">\n",
       "  <thead>\n",
       "    <tr style=\"text-align: right;\">\n",
       "      <th>code</th>\n",
       "      <th>278.0</th>\n",
       "      <th>235.0</th>\n",
       "      <th>1538.0</th>\n",
       "      <th>326.0</th>\n",
       "      <th>1393.0</th>\n",
       "      <th>442.0</th>\n",
       "      <th>298.0</th>\n",
       "      <th>430.0</th>\n",
       "      <th>1147.0</th>\n",
       "      <th>3290.0</th>\n",
       "      <th>...</th>\n",
       "      <th>1606.0</th>\n",
       "      <th>2017.0</th>\n",
       "      <th>3133.0</th>\n",
       "      <th>1430.0</th>\n",
       "      <th>1881.0</th>\n",
       "      <th>1119.0</th>\n",
       "      <th>1431.0</th>\n",
       "      <th>268.0</th>\n",
       "      <th>313.0</th>\n",
       "      <th>1475.0</th>\n",
       "    </tr>\n",
       "  </thead>\n",
       "  <tbody>\n",
       "    <tr>\n",
       "      <th>class 0</th>\n",
       "      <td>17</td>\n",
       "      <td>17</td>\n",
       "      <td>17</td>\n",
       "      <td>17</td>\n",
       "      <td>17</td>\n",
       "      <td>17</td>\n",
       "      <td>17</td>\n",
       "      <td>17</td>\n",
       "      <td>17</td>\n",
       "      <td>17</td>\n",
       "      <td>...</td>\n",
       "      <td>17</td>\n",
       "      <td>17</td>\n",
       "      <td>17</td>\n",
       "      <td>17</td>\n",
       "      <td>17</td>\n",
       "      <td>17</td>\n",
       "      <td>17</td>\n",
       "      <td>17</td>\n",
       "      <td>15</td>\n",
       "      <td>14</td>\n",
       "    </tr>\n",
       "    <tr>\n",
       "      <th>class 1</th>\n",
       "      <td>17</td>\n",
       "      <td>17</td>\n",
       "      <td>17</td>\n",
       "      <td>17</td>\n",
       "      <td>17</td>\n",
       "      <td>17</td>\n",
       "      <td>17</td>\n",
       "      <td>17</td>\n",
       "      <td>17</td>\n",
       "      <td>17</td>\n",
       "      <td>...</td>\n",
       "      <td>17</td>\n",
       "      <td>17</td>\n",
       "      <td>17</td>\n",
       "      <td>17</td>\n",
       "      <td>17</td>\n",
       "      <td>17</td>\n",
       "      <td>17</td>\n",
       "      <td>17</td>\n",
       "      <td>15</td>\n",
       "      <td>14</td>\n",
       "    </tr>\n",
       "  </tbody>\n",
       "</table>\n",
       "<p>2 rows × 30 columns</p>\n",
       "</div>"
      ],
      "text/plain": [
       "code     278.0   235.0   1538.0  326.0   1393.0  442.0   298.0   430.0   \\\n",
       "class 0      17      17      17      17      17      17      17      17   \n",
       "class 1      17      17      17      17      17      17      17      17   \n",
       "\n",
       "code     1147.0  3290.0  ...  1606.0  2017.0  3133.0  1430.0  1881.0  1119.0  \\\n",
       "class 0      17      17  ...      17      17      17      17      17      17   \n",
       "class 1      17      17  ...      17      17      17      17      17      17   \n",
       "\n",
       "code     1431.0  268.0   313.0   1475.0  \n",
       "class 0      17      17      15      14  \n",
       "class 1      17      17      15      14  \n",
       "\n",
       "[2 rows x 30 columns]"
      ]
     },
     "metadata": {},
     "output_type": "display_data"
    },
    {
     "data": {
      "image/png": "[encoded data removed]",
      "text/plain": [
       "<Figure size 700x250 with 1 Axes>"
      ]
     },
     "metadata": {},
     "output_type": "display_data"
    }
   ],
   "source": [
    "report_class_count_per_group(y_even, groups_even)"
   ]
  },
  {
   "cell_type": "markdown",
   "id": "605324cd-2dce-4d92-8e27-5ec4fcac9c12",
   "metadata": {},
   "source": [
    "#### Get `x_res`, `y_res` and `groups_res`"
   ]
  },
  {
   "cell_type": "code",
   "execution_count": 20,
   "id": "429adfa6-d5d3-4831-8375-80d692bcb461",
   "metadata": {},
   "outputs": [],
   "source": [
    "x_res = X.loc[y_even.index].copy()\n",
    "y_res = Y.loc[y_even.index].copy()\n",
    "groups_res = groups.loc[y_even.index].copy()"
   ]
  },
  {
   "cell_type": "markdown",
   "id": "b59fb663-603e-4150-9250-6b238cb17d72",
   "metadata": {},
   "source": [
    "---\n",
    "## 5. Train and Test Splitting"
   ]
  },
  {
   "cell_type": "markdown",
   "id": "b707e714-390a-454c-abc2-5def9026c630",
   "metadata": {},
   "source": [
    "####  Optional · Stratified group KFold split"
   ]
  },
  {
   "cell_type": "markdown",
   "id": "4d7c614b-5bfc-43d6-8628-694da3d16fb5",
   "metadata": {},
   "source": [
    "Obs: Best split result"
   ]
  },
  {
   "cell_type": "code",
   "execution_count": 21,
   "id": "31059acb-1598-49c5-a811-37eb8cd5b8cc",
   "metadata": {},
   "outputs": [
    {
     "name": "stdout",
     "output_type": "stream",
     "text": [
      "n_splits_test: 10\n",
      "n_splits_val: 9\n",
      "\n",
      "Train index: Index([163557, 160725, 163347, 178427, 161525, 178743, 178469, 159483, 158247,\n",
      "       92150],\n",
      "      dtype='int64')\n",
      "\n",
      "Test index: Index([226327, 208590, 228474, 227205, 230168, 222984, 229411, 223179, 232804,\n",
      "       230955],\n",
      "      dtype='int64')\n",
      "\n",
      "Val index: Index([215356, 190948, 216917, 190769, 192540, 191421, 180495, 190850, 180797,\n",
      "       191236],\n",
      "      dtype='int64')\n"
     ]
    }
   ],
   "source": [
    "from sklearn.model_selection import StratifiedGroupKFold\n",
    "\n",
    "train_prct = 0.8\n",
    "test_prct = 0.1\n",
    "val_prct = 0.1\n",
    "\n",
    "n_splits_test = int(1.0 / test_prct)\n",
    "n_splits_val = int((1.0 - test_prct) / val_prct)\n",
    "\n",
    "print('n_splits_test:', n_splits_test)\n",
    "print('n_splits_val:', n_splits_val)\n",
    "\n",
    "# Stratified group KFold testing split\n",
    "sgkf = StratifiedGroupKFold(n_splits=n_splits_test, shuffle=True, random_state=random_state)\n",
    "for i, (train_index, test_index) in enumerate(sgkf.split(x_res, y_res, groups_res)):\n",
    "    # Get first split folder\n",
    "    break\n",
    "\n",
    "X_train = x_res.iloc[train_index]\n",
    "Y_train = y_res.iloc[train_index]\n",
    "groups_train = groups_res.iloc[train_index]\n",
    "\n",
    "X_test = x_res.iloc[test_index]\n",
    "Y_test = y_res.iloc[test_index]\n",
    "groups_test = groups_res.iloc[test_index]\n",
    "\n",
    "# Stratified group KFold validation split\n",
    "sgkf = StratifiedGroupKFold(n_splits=n_splits_val, shuffle=True, random_state=random_state)\n",
    "for i, (train_index, val_index) in enumerate(sgkf.split(X_train, Y_train, groups_train)):\n",
    "    break\n",
    "\n",
    "X_val = X_train.iloc[val_index]\n",
    "Y_val = Y_train.iloc[val_index]\n",
    "groups_val = groups_train.iloc[val_index]\n",
    "\n",
    "X_train = X_train.iloc[train_index]\n",
    "Y_train = Y_train.iloc[train_index]\n",
    "groups_train = groups_train.iloc[train_index]\n",
    "\n",
    "print('\\nTrain index:', Y_train.index[:10])\n",
    "print('\\nTest index:', Y_test.index[:10])\n",
    "print('\\nVal index:', Y_val.index[:10])"
   ]
  },
  {
   "cell_type": "code",
   "execution_count": 22,
   "id": "2db53bac-3b14-4e02-b9d3-ba72a89ac386",
   "metadata": {},
   "outputs": [
    {
     "name": "stdout",
     "output_type": "stream",
     "text": [
      "Total samples: 1010\n",
      "Groups intersecting train and test sets: 0\n",
      "Groups intersecting train and val sets: 0\n",
      "Groups intersecting test and val sets: 0\n",
      "\n"
     ]
    },
    {
     "data": {
      "text/html": [
       "<div>\n",
       "<style scoped>\n",
       "    .dataframe tbody tr th:only-of-type {\n",
       "        vertical-align: middle;\n",
       "    }\n",
       "\n",
       "    .dataframe tbody tr th {\n",
       "        vertical-align: top;\n",
       "    }\n",
       "\n",
       "    .dataframe thead th {\n",
       "        text-align: right;\n",
       "    }\n",
       "</style>\n",
       "<table border=\"1\" class=\"dataframe\">\n",
       "  <thead>\n",
       "    <tr style=\"text-align: right;\">\n",
       "      <th></th>\n",
       "      <th>groups</th>\n",
       "      <th>groups (%)</th>\n",
       "      <th>total</th>\n",
       "      <th>total (%)</th>\n",
       "      <th>0</th>\n",
       "      <th>1</th>\n",
       "      <th>0 (%)</th>\n",
       "      <th>1 (%)</th>\n",
       "      <th>class ratio (%)</th>\n",
       "    </tr>\n",
       "  </thead>\n",
       "  <tbody>\n",
       "    <tr>\n",
       "      <th>train</th>\n",
       "      <td>24.0</td>\n",
       "      <td>80.0</td>\n",
       "      <td>812.0</td>\n",
       "      <td>80.4</td>\n",
       "      <td>406.0</td>\n",
       "      <td>406.0</td>\n",
       "      <td>80.4</td>\n",
       "      <td>80.4</td>\n",
       "      <td>50.0</td>\n",
       "    </tr>\n",
       "    <tr>\n",
       "      <th>test</th>\n",
       "      <td>3.0</td>\n",
       "      <td>10.0</td>\n",
       "      <td>96.0</td>\n",
       "      <td>9.5</td>\n",
       "      <td>48.0</td>\n",
       "      <td>48.0</td>\n",
       "      <td>9.5</td>\n",
       "      <td>9.5</td>\n",
       "      <td>50.0</td>\n",
       "    </tr>\n",
       "    <tr>\n",
       "      <th>val</th>\n",
       "      <td>3.0</td>\n",
       "      <td>10.0</td>\n",
       "      <td>102.0</td>\n",
       "      <td>10.1</td>\n",
       "      <td>51.0</td>\n",
       "      <td>51.0</td>\n",
       "      <td>10.1</td>\n",
       "      <td>10.1</td>\n",
       "      <td>50.0</td>\n",
       "    </tr>\n",
       "  </tbody>\n",
       "</table>\n",
       "</div>"
      ],
      "text/plain": [
       "       groups  groups (%)  total  total (%)      0      1  0 (%)  1 (%)  \\\n",
       "train    24.0        80.0  812.0       80.4  406.0  406.0   80.4   80.4   \n",
       "test      3.0        10.0   96.0        9.5   48.0   48.0    9.5    9.5   \n",
       "val       3.0        10.0  102.0       10.1   51.0   51.0   10.1   10.1   \n",
       "\n",
       "       class ratio (%)  \n",
       "train             50.0  \n",
       "test              50.0  \n",
       "val               50.0  "
      ]
     },
     "metadata": {},
     "output_type": "display_data"
    }
   ],
   "source": [
    "def group_split_report(y_res, groups_res, Y_train, Y_test, Y_val):\n",
    "\n",
    "    train_prct = len(Y_train) / len(y_res)\n",
    "    test_prct = len(Y_test) / len(y_res)\n",
    "    val_prct = len(Y_val) / len(y_res)\n",
    "    class_count = y_res.value_counts()\n",
    "    train_class_count = Y_train.value_counts()\n",
    "    test_class_count = Y_test.value_counts()\n",
    "    val_class_count = Y_val.value_counts()\n",
    "    groups_train = groups_res.loc[Y_train.index].unique()\n",
    "    groups_test = groups_res.loc[Y_test.index].unique()\n",
    "    groups_val = groups_res.loc[Y_val.index].unique()\n",
    "\n",
    "    total_groups = len(groups_res.unique())\n",
    "    groups_train_prct = round(len(groups_train) / total_groups * 100, 2)\n",
    "    groups_test_prct = round(len(groups_test) / total_groups * 100, 2)\n",
    "    groups_val_prct = round(len(groups_val) / total_groups * 100, 2)\n",
    "    train_class_prct = [train_class_count[0] / class_count[0], train_class_count[1] / class_count[1]]\n",
    "    test_class_prct = [test_class_count[0] / class_count[0], test_class_count[1] / class_count[1]]\n",
    "    val_class_prct = [val_class_count[0] / class_count[0], val_class_count[1] / class_count[1]]\n",
    "    train_class_ratio = round(Y_train.value_counts(normalize=True).loc[0] * 100, 2)\n",
    "    test_class_ratio = round(Y_test.value_counts(normalize=True).loc[0] * 100, 2)\n",
    "    val_class_ratio = round(Y_val.value_counts(normalize=True).loc[0] * 100, 2)\n",
    "    \n",
    "    print('Groups intersecting train and test sets:', len(set(groups_train).intersection(groups_test)))\n",
    "    print('Groups intersecting train and val sets:', len(set(groups_train).intersection(groups_val)))\n",
    "    print('Groups intersecting test and val sets:', len(set(groups_test).intersection(groups_val)))\n",
    "    print()\n",
    "    \n",
    "    stats = pd.DataFrame(\n",
    "        [[len(groups_train), len(groups_test), len(groups_val)],\n",
    "        [groups_train_prct, groups_test_prct, groups_val_prct],\n",
    "        [len(Y_train), len(Y_test), len(Y_val)],\n",
    "        [round(train_prct * 100, 2), round(test_prct * 100, 2), round(val_prct * 100, 2)],\n",
    "        [train_class_count[0], test_class_count[0], val_class_count[0]],\n",
    "        [train_class_count[1], test_class_count[1], val_class_count[1]],\n",
    "        [round(train_class_prct[0] * 100, 2), round(test_class_prct[0] * 100, 2), round(val_class_prct[0] * 100, 2)],\n",
    "        [round(train_class_prct[1] * 100, 2), round(test_class_prct[1] * 100, 2), round(val_class_prct[1] * 100, 2)],\n",
    "        [train_class_ratio, test_class_ratio, val_class_ratio]],\n",
    "        columns=['train', 'test', 'val'], index=['groups', 'groups (%)', 'total', 'total (%)', '0', '1', '0 (%)', '1 (%)', 'class ratio (%)']\n",
    "    ).T\n",
    "\n",
    "    return stats\n",
    "\n",
    "\n",
    "# Example usage\n",
    "\n",
    "print('Total samples:', len(y_res))\n",
    "stats = group_split_report(y_res, groups_res, Y_train, Y_test, Y_val)\n",
    "display(stats)"
   ]
  },
  {
   "cell_type": "markdown",
   "id": "523b155c-d692-41a3-be24-5844703883ab",
   "metadata": {},
   "source": [
    "#### Report split: Number of samples per class and code"
   ]
  },
  {
   "cell_type": "code",
   "execution_count": 23,
   "id": "717f0db2-db4b-4f6e-8217-0e9acf827247",
   "metadata": {},
   "outputs": [
    {
     "data": {
      "text/html": [
       "<div>\n",
       "<style scoped>\n",
       "    .dataframe tbody tr th:only-of-type {\n",
       "        vertical-align: middle;\n",
       "    }\n",
       "\n",
       "    .dataframe tbody tr th {\n",
       "        vertical-align: top;\n",
       "    }\n",
       "\n",
       "    .dataframe thead th {\n",
       "        text-align: right;\n",
       "    }\n",
       "</style>\n",
       "<table border=\"1\" class=\"dataframe\">\n",
       "  <thead>\n",
       "    <tr style=\"text-align: right;\">\n",
       "      <th>codes</th>\n",
       "      <th>278.0</th>\n",
       "      <th>235.0</th>\n",
       "      <th>268.0</th>\n",
       "      <th>1431.0</th>\n",
       "      <th>1119.0</th>\n",
       "      <th>1881.0</th>\n",
       "      <th>1430.0</th>\n",
       "      <th>3133.0</th>\n",
       "      <th>2017.0</th>\n",
       "      <th>1994.0</th>\n",
       "      <th>...</th>\n",
       "      <th>94.0</th>\n",
       "      <th>1671.0</th>\n",
       "      <th>3290.0</th>\n",
       "      <th>1147.0</th>\n",
       "      <th>430.0</th>\n",
       "      <th>298.0</th>\n",
       "      <th>442.0</th>\n",
       "      <th>1393.0</th>\n",
       "      <th>1538.0</th>\n",
       "      <th>313.0</th>\n",
       "    </tr>\n",
       "    <tr>\n",
       "      <th>Train</th>\n",
       "      <th></th>\n",
       "      <th></th>\n",
       "      <th></th>\n",
       "      <th></th>\n",
       "      <th></th>\n",
       "      <th></th>\n",
       "      <th></th>\n",
       "      <th></th>\n",
       "      <th></th>\n",
       "      <th></th>\n",
       "      <th></th>\n",
       "      <th></th>\n",
       "      <th></th>\n",
       "      <th></th>\n",
       "      <th></th>\n",
       "      <th></th>\n",
       "      <th></th>\n",
       "      <th></th>\n",
       "      <th></th>\n",
       "      <th></th>\n",
       "      <th></th>\n",
       "    </tr>\n",
       "  </thead>\n",
       "  <tbody>\n",
       "    <tr>\n",
       "      <th>class 0</th>\n",
       "      <td>17</td>\n",
       "      <td>17</td>\n",
       "      <td>17</td>\n",
       "      <td>17</td>\n",
       "      <td>17</td>\n",
       "      <td>17</td>\n",
       "      <td>17</td>\n",
       "      <td>17</td>\n",
       "      <td>17</td>\n",
       "      <td>17</td>\n",
       "      <td>...</td>\n",
       "      <td>17</td>\n",
       "      <td>17</td>\n",
       "      <td>17</td>\n",
       "      <td>17</td>\n",
       "      <td>17</td>\n",
       "      <td>17</td>\n",
       "      <td>17</td>\n",
       "      <td>17</td>\n",
       "      <td>17</td>\n",
       "      <td>15</td>\n",
       "    </tr>\n",
       "    <tr>\n",
       "      <th>class 1</th>\n",
       "      <td>17</td>\n",
       "      <td>17</td>\n",
       "      <td>17</td>\n",
       "      <td>17</td>\n",
       "      <td>17</td>\n",
       "      <td>17</td>\n",
       "      <td>17</td>\n",
       "      <td>17</td>\n",
       "      <td>17</td>\n",
       "      <td>17</td>\n",
       "      <td>...</td>\n",
       "      <td>17</td>\n",
       "      <td>17</td>\n",
       "      <td>17</td>\n",
       "      <td>17</td>\n",
       "      <td>17</td>\n",
       "      <td>17</td>\n",
       "      <td>17</td>\n",
       "      <td>17</td>\n",
       "      <td>17</td>\n",
       "      <td>15</td>\n",
       "    </tr>\n",
       "  </tbody>\n",
       "</table>\n",
       "<p>2 rows × 24 columns</p>\n",
       "</div>"
      ],
      "text/plain": [
       "codes    278.0   235.0   268.0   1431.0  1119.0  1881.0  1430.0  3133.0  \\\n",
       "Train                                                                     \n",
       "class 0      17      17      17      17      17      17      17      17   \n",
       "class 1      17      17      17      17      17      17      17      17   \n",
       "\n",
       "codes    2017.0  1994.0  ...  94.0    1671.0  3290.0  1147.0  430.0   298.0   \\\n",
       "Train                    ...                                                   \n",
       "class 0      17      17  ...      17      17      17      17      17      17   \n",
       "class 1      17      17  ...      17      17      17      17      17      17   \n",
       "\n",
       "codes    442.0   1393.0  1538.0  313.0   \n",
       "Train                                    \n",
       "class 0      17      17      17      15  \n",
       "class 1      17      17      17      15  \n",
       "\n",
       "[2 rows x 24 columns]"
      ]
     },
     "metadata": {},
     "output_type": "display_data"
    },
    {
     "data": {
      "text/html": [
       "<div>\n",
       "<style scoped>\n",
       "    .dataframe tbody tr th:only-of-type {\n",
       "        vertical-align: middle;\n",
       "    }\n",
       "\n",
       "    .dataframe tbody tr th {\n",
       "        vertical-align: top;\n",
       "    }\n",
       "\n",
       "    .dataframe thead th {\n",
       "        text-align: right;\n",
       "    }\n",
       "</style>\n",
       "<table border=\"1\" class=\"dataframe\">\n",
       "  <thead>\n",
       "    <tr style=\"text-align: right;\">\n",
       "      <th>codes</th>\n",
       "      <th>326.0</th>\n",
       "      <th>38.0</th>\n",
       "      <th>1475.0</th>\n",
       "    </tr>\n",
       "    <tr>\n",
       "      <th>Test</th>\n",
       "      <th></th>\n",
       "      <th></th>\n",
       "      <th></th>\n",
       "    </tr>\n",
       "  </thead>\n",
       "  <tbody>\n",
       "    <tr>\n",
       "      <th>class 0</th>\n",
       "      <td>17</td>\n",
       "      <td>17</td>\n",
       "      <td>14</td>\n",
       "    </tr>\n",
       "    <tr>\n",
       "      <th>class 1</th>\n",
       "      <td>17</td>\n",
       "      <td>17</td>\n",
       "      <td>14</td>\n",
       "    </tr>\n",
       "  </tbody>\n",
       "</table>\n",
       "</div>"
      ],
      "text/plain": [
       "codes    326.0   38.0    1475.0\n",
       "Test                           \n",
       "class 0      17      17      14\n",
       "class 1      17      17      14"
      ]
     },
     "metadata": {},
     "output_type": "display_data"
    },
    {
     "data": {
      "text/html": [
       "<div>\n",
       "<style scoped>\n",
       "    .dataframe tbody tr th:only-of-type {\n",
       "        vertical-align: middle;\n",
       "    }\n",
       "\n",
       "    .dataframe tbody tr th {\n",
       "        vertical-align: top;\n",
       "    }\n",
       "\n",
       "    .dataframe thead th {\n",
       "        text-align: right;\n",
       "    }\n",
       "</style>\n",
       "<table border=\"1\" class=\"dataframe\">\n",
       "  <thead>\n",
       "    <tr style=\"text-align: right;\">\n",
       "      <th>codes</th>\n",
       "      <th>92.0</th>\n",
       "      <th>339.0</th>\n",
       "      <th>1606.0</th>\n",
       "    </tr>\n",
       "    <tr>\n",
       "      <th>Validation</th>\n",
       "      <th></th>\n",
       "      <th></th>\n",
       "      <th></th>\n",
       "    </tr>\n",
       "  </thead>\n",
       "  <tbody>\n",
       "    <tr>\n",
       "      <th>class 0</th>\n",
       "      <td>17</td>\n",
       "      <td>17</td>\n",
       "      <td>17</td>\n",
       "    </tr>\n",
       "    <tr>\n",
       "      <th>class 1</th>\n",
       "      <td>17</td>\n",
       "      <td>17</td>\n",
       "      <td>17</td>\n",
       "    </tr>\n",
       "  </tbody>\n",
       "</table>\n",
       "</div>"
      ],
      "text/plain": [
       "codes       92.0    339.0   1606.0\n",
       "Validation                        \n",
       "class 0         17      17      17\n",
       "class 1         17      17      17"
      ]
     },
     "metadata": {},
     "output_type": "display_data"
    },
    {
     "data": {
      "image/png": "[encoded data removed]",
      "text/plain": [
       "<Figure size 700x250 with 1 Axes>"
      ]
     },
     "metadata": {},
     "output_type": "display_data"
    },
    {
     "data": {
      "image/png": "[encoded data removed]",
      "text/plain": [
       "<Figure size 700x250 with 1 Axes>"
      ]
     },
     "metadata": {},
     "output_type": "display_data"
    },
    {
     "data": {
      "image/png": "[encoded data removed]",
      "text/plain": [
       "<Figure size 700x250 with 1 Axes>"
      ]
     },
     "metadata": {},
     "output_type": "display_data"
    }
   ],
   "source": [
    "for y_i, g_i, title in zip((Y_train, Y_test, Y_val), (groups_train, groups_test, groups_val), ('Train', 'Test', 'Validation')):\n",
    "\n",
    "    cnt_0 = g_i[y_i == 0.0].value_counts()\n",
    "    cnt_1 = g_i[y_i == 1.0].value_counts()\n",
    "    cnt_0 = cnt_0.loc[cnt_1.index]\n",
    "    \n",
    "    code_class_cnt = pd.concat([cnt_0.rename('class 0'), cnt_1.rename('class 1')], axis=1)\n",
    "    code_class_cnt.index.name = f'codes'\n",
    "    code_class_cnt.columns.name = title\n",
    "    display(code_class_cnt.T)\n",
    "\n",
    "for y_i, g_i, title in zip((Y_train, Y_test, Y_val), (groups_train, groups_test, groups_val), ('Train', 'Test', 'Validation')):\n",
    "\n",
    "    cnt_0 = g_i[y_i == 0.0].value_counts()\n",
    "    cnt_1 = g_i[y_i == 1.0].value_counts()\n",
    "    cnt_0 = cnt_0.loc[cnt_1.index]\n",
    "    \n",
    "    code_class_cnt = pd.concat([cnt_0.rename('class 0'), cnt_1.rename('class 1')], axis=1)\n",
    "    code_class_cnt.index.name = f'codes'\n",
    "    code_class_cnt.columns.name = title\n",
    "    \n",
    "    fig = plt.figure(figsize=(7, 2.5))\n",
    "    ax = fig.subplots(1, 1)\n",
    "    \n",
    "    code_class_cnt.plot.bar(width=0.8, ax=ax, title=title)\n",
    "    # plt.legend(loc='lower left')\n",
    "    # plt.tight_layout()\n",
    "    plt.show()"
   ]
  },
  {
   "cell_type": "markdown",
   "id": "89439585-c4e5-4d6e-8cb8-20e6e5a0be77",
   "metadata": {},
   "source": [
    "---\n",
    "## 6. Copy images into train and test folders"
   ]
  },
  {
   "cell_type": "markdown",
   "id": "e2014282-771f-4ac2-902f-bdf7ad272b11",
   "metadata": {},
   "source": [
    "#### Copy images with `train_index`and `test_index` into structured 'train' and 'test' folders"
   ]
  },
  {
   "cell_type": "code",
   "execution_count": 24,
   "id": "f6b15713-4785-4620-ac61-6d6f7fc68f7c",
   "metadata": {},
   "outputs": [
    {
     "name": "stdout",
     "output_type": "stream",
     "text": [
      "Copying images to train folders:\n",
      "Processed 812/812 files (100.00%) - Found: 812/812\n",
      "Copying images to test folders:\n",
      "Processed 96/96 files (100.00%) - Found: 96/96\n",
      "Copying images to val folders:\n",
      "Processed 102/102 files (100.00%) - Found: 102/102\r"
     ]
    }
   ],
   "source": [
    "from modules.octa_video_util import copy_images_to_folders\n",
    "\n",
    "base_directory = 'data/images'\n",
    "# target_directory = 'data/splits/sgkf-50-25-25-size-800'\n",
    "# target_directory = 'data/splits/sgkf-8-1-1-size-540'\n",
    "target_directory = 'data/splits/sgkf-8-1-1-size-1010'\n",
    "\n",
    "# dataset = data.copy()\n",
    "dataset = data.copy()\n",
    "file_path_field = 'file_path'\n",
    "label_field = 'flood'\n",
    "train_indexes = list(Y_train.index)\n",
    "test_indexes = list(Y_test.index)\n",
    "val_indexes = list(Y_val.index)\n",
    "\n",
    "copy_images_to_folders(\n",
    "    base_directory, target_directory, dataset,\n",
    "    train_indexes, test_indexes, val_indexes,\n",
    "    file_path_field=file_path_field, tag_field=label_field\n",
    ")"
   ]
  },
  {
   "cell_type": "markdown",
   "id": "188f471f-39af-4de1-a6d8-39e953fa619d",
   "metadata": {},
   "source": [
    "#### Save dataframe of sample images"
   ]
  },
  {
   "cell_type": "code",
   "execution_count": 25,
   "id": "d000fe42-928c-4548-9325-15181306508e",
   "metadata": {},
   "outputs": [
    {
     "name": "stdout",
     "output_type": "stream",
     "text": [
      "split dataframe saved with shape: (1010, 13)\n"
     ]
    }
   ],
   "source": [
    "# target_directory = 'data/splits/sgkf-50-25-25-size-2000'\n",
    "# target_directory = 'data/splits/sgkf-8-1-1'\n",
    "# target_directory = 'data/splits/sgkf-50-25-25-size-800'\n",
    "# target_directory = 'data/splits/sgkf-8-1-1-size-540'\n",
    "target_directory = 'data/splits/sgkf-8-1-1-size-1010'\n",
    "\n",
    "data_train = data.loc[Y_train.index].copy()\n",
    "data_test = data.loc[Y_test.index].copy()\n",
    "data_val = data.loc[Y_val.index].copy()\n",
    "\n",
    "data_train['set'] = 'train'\n",
    "data_test['set'] = 'test'\n",
    "data_val['set'] = 'val'\n",
    "\n",
    "data_split_df = pd.concat([data_train, data_test, data_val])\n",
    "\n",
    "data_split_df.to_csv(f'{target_directory}/images.csv')\n",
    "print(f'split dataframe saved with shape: {data_split_df.shape}')"
   ]
  },
  {
   "cell_type": "markdown",
   "id": "f535fa22-6b03-4597-ab94-9f3356d9b7af",
   "metadata": {},
   "source": [
    "#### Count saved images"
   ]
  },
  {
   "cell_type": "code",
   "execution_count": 26,
   "id": "ff33b87f-a544-47be-acba-2a1dbacd0769",
   "metadata": {},
   "outputs": [
    {
     "name": "stdout",
     "output_type": "stream",
     "text": [
      "train: 406 406\n",
      "test: 48 48\n",
      "val: 51 51\n"
     ]
    }
   ],
   "source": [
    "import os\n",
    "\n",
    "# target_directory = 'data/splits/sgkf-8-1-1'\n",
    "# target_directory = 'data/splits/sgkf-50-25-25-size-2000'\n",
    "# target_directory = 'data/splits/sgkf-50-25-25-size-800'\n",
    "# target_directory = 'data/splits/sgkf-8-1-1-size-540'\n",
    "target_directory = 'data/splits/sgkf-8-1-1-size-1010'\n",
    "\n",
    "print('train:', len(os.listdir(f'{target_directory}/train/0')), len(os.listdir(f'{target_directory}/train/1')))\n",
    "print('test:', len(os.listdir(f'{target_directory}/test/0')), len(os.listdir(f'{target_directory}/test/1')))\n",
    "print('val:', len(os.listdir(f'{target_directory}/val/0')), len(os.listdir(f'{target_directory}/val/1')))"
   ]
  }
 ],
 "metadata": {
  "kernelspec": {
   "display_name": "Python 3 (ipykernel)",
   "language": "python",
   "name": "python3"
  },
  "language_info": {
   "codemirror_mode": {
    "name": "ipython",
    "version": 3
   },
   "file_extension": ".py",
   "mimetype": "text/x-python",
   "name": "python",
   "nbconvert_exporter": "python",
   "pygments_lexer": "ipython3",
   "version": "3.11.3"
  }
 },
 "nbformat": 4,
 "nbformat_minor": 5
}
