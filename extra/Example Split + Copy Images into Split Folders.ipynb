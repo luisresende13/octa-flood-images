{
 "cells": [
  {
   "cell_type": "markdown",
   "id": "c33ac5ff-df02-4163-9586-fbdee43e6d20",
   "metadata": {},
   "source": [
    "# Train and test split + Copying images into train and test folders"
   ]
  },
  {
   "cell_type": "markdown",
   "id": "0f201f7e-71d4-4207-bbbb-9751344953a5",
   "metadata": {},
   "source": [
    "## 1. Reload images dataset"
   ]
  },
  {
   "cell_type": "code",
   "execution_count": 1,
   "id": "ed2d251b-2855-4400-b70a-64b2e28c531e",
   "metadata": {},
   "outputs": [
    {
     "data": {
      "text/plain": [
       "Index(['id_video', 'code', 'folder', 'file_name', 'file_path', 'frame_index',\n",
       "       'timestamp', 'initial_timestamp', 'seen', 'tags'],\n",
       "      dtype='object')"
      ]
     },
     "metadata": {},
     "output_type": "display_data"
    },
    {
     "data": {
      "text/plain": [
       "RangeIndex(start=0, stop=10, step=1)"
      ]
     },
     "metadata": {},
     "output_type": "display_data"
    }
   ],
   "source": [
    "import pandas as pd\n",
    "\n",
    "images_dataset_path = 'data/datasets/images.csv'\n",
    "df_images = pd.read_csv(images_dataset_path)\n",
    "\n",
    "display(df_images.columns)\n",
    "display(df_images.index[:10])"
   ]
  },
  {
   "cell_type": "markdown",
   "id": "6121d902-2886-4bc1-9109-c07375f45379",
   "metadata": {},
   "source": [
    "## 2. Preprocess the dataset"
   ]
  },
  {
   "cell_type": "code",
   "execution_count": 2,
   "id": "b4307de0-e103-4d45-a27b-964029fa5377",
   "metadata": {},
   "outputs": [],
   "source": [
    "from modules.octa_video_util import _assign_tag\n",
    "from modules.octa_video_util import filter_by_query"
   ]
  },
  {
   "cell_type": "markdown",
   "id": "f5bc40df-71f9-4a9d-8a35-ea06799c8ca5",
   "metadata": {},
   "source": [
    "#### Create categorical field from tag priority list"
   ]
  },
  {
   "cell_type": "code",
   "execution_count": 3,
   "id": "589f97e0-2039-465d-b7ad-e0fc1e7564f2",
   "metadata": {},
   "outputs": [
    {
     "data": {
      "text/plain": [
       "tag\n",
       "normal        147594\n",
       "poça           67391\n",
       "lâmina          8759\n",
       "alagamento      4335\n",
       "bolsão          4235\n",
       "transbordo      2237\n",
       "Name: count, dtype: int64"
      ]
     },
     "metadata": {},
     "output_type": "display_data"
    }
   ],
   "source": [
    "# Create unique tag column based on class priority list\n",
    "default_tag = 'normal'\n",
    "tags_priority_list = ['alagamento', 'bolsão', 'lâmina', 'poça', 'transbordo']\n",
    "\n",
    "df_images['tag'] = df_images['tags'].apply(lambda tags_list: _assign_tag(tags_list, tags_priority_list, default_tag))\n",
    "display(df_images.tag.value_counts())"
   ]
  },
  {
   "cell_type": "markdown",
   "id": "3ef38cdd-a71e-457b-8dac-566f292cde16",
   "metadata": {},
   "source": [
    "#### Drop categories"
   ]
  },
  {
   "cell_type": "code",
   "execution_count": 4,
   "id": "1a9a9437-08bc-4622-bb08-74622aca92c5",
   "metadata": {},
   "outputs": [],
   "source": [
    "df_images = df_images[df_images['tag'] != 'transbordo']"
   ]
  },
  {
   "cell_type": "markdown",
   "id": "e12bacd3-1ca4-4a33-9045-c2a12721e956",
   "metadata": {},
   "source": [
    "#### Binarize categorical variable"
   ]
  },
  {
   "cell_type": "code",
   "execution_count": 5,
   "id": "f61a80cf-a03d-4023-ab9a-96543b2b6696",
   "metadata": {},
   "outputs": [
    {
     "data": {
      "text/plain": [
       "flood\n",
       "0    214985\n",
       "1     17329\n",
       "Name: count, dtype: int64"
      ]
     },
     "metadata": {},
     "output_type": "display_data"
    },
    {
     "name": "stdout",
     "output_type": "stream",
     "text": [
      "\n"
     ]
    },
    {
     "data": {
      "text/plain": [
       "Index([0, 1, 2, 3, 4, 5, 6, 7, 8, 9], dtype='int64')"
      ]
     },
     "metadata": {},
     "output_type": "display_data"
    }
   ],
   "source": [
    "target_classes = ['lâmina', 'bolsão', 'alagamento']\n",
    "\n",
    "# Binarize categorical variable from list of target classes\n",
    "df_images['flood'] = df_images['tag'].isin(target_classes).astype(int)\n",
    "\n",
    "display(df_images['flood'].value_counts())\n",
    "print()\n",
    "display(df_images.index[:10])"
   ]
  },
  {
   "cell_type": "markdown",
   "id": "8c28a076-b37c-4b2a-a0d4-b55ddab62ffc",
   "metadata": {},
   "source": [
    "#### Filter images"
   ]
  },
  {
   "cell_type": "code",
   "execution_count": 6,
   "id": "0083977c-42a6-4101-b19b-ae26b730cc43",
   "metadata": {},
   "outputs": [
    {
     "data": {
      "text/plain": [
       "flood\n",
       "0    214985\n",
       "1     17329\n",
       "Name: count, dtype: int64"
      ]
     },
     "metadata": {},
     "output_type": "display_data"
    },
    {
     "name": "stdout",
     "output_type": "stream",
     "text": [
      "\n"
     ]
    },
    {
     "data": {
      "text/plain": [
       "Index([0, 1, 2, 3, 4, 5, 6, 7, 8, 9], dtype='int64')"
      ]
     },
     "metadata": {},
     "output_type": "display_data"
    }
   ],
   "source": [
    "query_params = {'seen': True}\n",
    "\n",
    "# Filter dataset of images by query\n",
    "df_sample = filter_by_query(df_images, query_params).copy()\n",
    "\n",
    "display(df_sample['flood'].value_counts())\n",
    "print()\n",
    "display(df_sample.index[:10])"
   ]
  },
  {
   "cell_type": "markdown",
   "id": "e93054a0-9869-4cd2-a133-24b89a54bbe8",
   "metadata": {},
   "source": [
    "---\n",
    "## 4. Shuffling"
   ]
  },
  {
   "cell_type": "code",
   "execution_count": 3,
   "id": "d3abfe97-8e6f-42f1-bc8a-8e02de6af4c2",
   "metadata": {},
   "outputs": [],
   "source": [
    "import numpy as np\n",
    "import secrets\n",
    "secrets.randbits(128)\n",
    "\n",
    "def RNG():\n",
    "    return np.random.default_rng(122807528840384100672342137672332424406)\n",
    "\n",
    "# Example usage\n",
    "# rng = RNG()\n",
    "# idx = rng.choice(data.index, len(data), replace=replace, shuffle=False)"
   ]
  },
  {
   "cell_type": "markdown",
   "id": "b867d4a1-d826-4833-aa66-d92e8108b199",
   "metadata": {},
   "source": [
    "#### Sampling parameters"
   ]
  },
  {
   "cell_type": "code",
   "execution_count": 4,
   "id": "86329310-b729-433a-92d4-78b832cb846d",
   "metadata": {},
   "outputs": [],
   "source": [
    "target_variable = 'flood'\n",
    "multiclass_target_variable = 'tag'\n",
    "groups_variable = 'code'\n",
    "\n",
    "max_samples = 2000\n",
    "replace = False\n",
    "random_state = 0"
   ]
  },
  {
   "cell_type": "markdown",
   "id": "680d67f9-3d54-4f2d-9662-134de3f7227b",
   "metadata": {},
   "source": [
    "#### Shuffle Samples"
   ]
  },
  {
   "cell_type": "code",
   "execution_count": 9,
   "id": "a0d5e9ff-0782-4137-be80-1a76bd406537",
   "metadata": {},
   "outputs": [
    {
     "data": {
      "text/plain": [
       "Index([117849, 140116, 22843, 90909, 112686, 5198, 213855, 197013, 179200,\n",
       "       168345],\n",
       "      dtype='int64')"
      ]
     },
     "metadata": {},
     "output_type": "display_data"
    }
   ],
   "source": [
    "data = df_sample.copy()\n",
    "\n",
    "data = data.sample(n=len(data), replace=replace, random_state=random_state)\n",
    "\n",
    "display(data.index[:10])"
   ]
  },
  {
   "cell_type": "markdown",
   "id": "55950f90-b41e-4c17-bec4-fb5d31fce0bf",
   "metadata": {},
   "source": [
    "#### Get x and y (features and target variable)"
   ]
  },
  {
   "cell_type": "code",
   "execution_count": 10,
   "id": "e919ab1a-9e34-4ade-b79d-2a687ec7b015",
   "metadata": {},
   "outputs": [
    {
     "data": {
      "text/plain": [
       "flood\n",
       "0    214985\n",
       "1     17329\n",
       "Name: count, dtype: int64"
      ]
     },
     "metadata": {},
     "output_type": "display_data"
    },
    {
     "name": "stdout",
     "output_type": "stream",
     "text": [
      "\n"
     ]
    },
    {
     "data": {
      "text/plain": [
       "tag\n",
       "normal        147594\n",
       "poça           67391\n",
       "lâmina          8759\n",
       "alagamento      4335\n",
       "bolsão          4235\n",
       "Name: count, dtype: int64"
      ]
     },
     "metadata": {},
     "output_type": "display_data"
    }
   ],
   "source": [
    "# Get x and y\n",
    "X = data.drop(target_variable, axis=1)\n",
    "Y = data[target_variable].copy()\n",
    "\n",
    "Y_multi = data[multiclass_target_variable] \n",
    "groups = data[groups_variable].copy()\n",
    "\n",
    "display(Y.value_counts())\n",
    "print()\n",
    "display(Y_multi.value_counts())\n"
   ]
  },
  {
   "cell_type": "markdown",
   "id": "309fc4d6-90b2-449e-a9c9-8750faa34ead",
   "metadata": {},
   "source": [
    "---\n",
    "## Undersampling separately for minority and majority classes"
   ]
  },
  {
   "cell_type": "markdown",
   "id": "9053310d-8f2e-4792-8c4b-fd86b2e7e082",
   "metadata": {},
   "source": [
    "<strong>Obs: Choose one of the following three options</strong>"
   ]
  },
  {
   "cell_type": "markdown",
   "id": "12e2597a-81e3-48f4-a043-6e5b71749da1",
   "metadata": {},
   "source": [
    "##### Optional · Under sampling between subclasses of the majority class only"
   ]
  },
  {
   "cell_type": "markdown",
   "id": "b99843a0-d76d-4abe-a9ad-241b15de05a4",
   "metadata": {},
   "source": [
    "Best result"
   ]
  },
  {
   "cell_type": "code",
   "execution_count": 11,
   "id": "a639f5b5-df95-4b86-b1bf-6820f5d5883b",
   "metadata": {},
   "outputs": [],
   "source": [
    "# from imblearn.under_sampling import RandomUnderSampler\n",
    "\n",
    "# rus = RandomUnderSampler(sampling_strategy='auto', random_state=random_state, replacement=replace)\n",
    "\n",
    "# x_res, y_multi_res = rus.fit_resample(X[Y==0], Y_multi[Y==0])\n",
    "# x_res = pd.concat([x_res, X[Y==1]])\n",
    "# y_multi_res = pd.concat([y_multi_res, Y_multi[Y==1]])\n",
    "# y_res = Y.loc[y_multi_res.index]\n",
    "\n",
    "# display(y_multi_res.value_counts())\n",
    "# print()\n",
    "# display(y_res.value_counts())\n",
    "# print()\n",
    "# display(y_res.index)"
   ]
  },
  {
   "cell_type": "markdown",
   "id": "f1e001e1-679b-4021-822f-142413ade288",
   "metadata": {},
   "source": [
    "##### Optional · Under sampling between subclasses of the minority class only"
   ]
  },
  {
   "cell_type": "code",
   "execution_count": 12,
   "id": "f7d0f5d5-9b31-4ecd-81a8-92f27b1a5371",
   "metadata": {},
   "outputs": [],
   "source": [
    "# from imblearn.under_sampling import RandomUnderSampler\n",
    "\n",
    "# rus = RandomUnderSampler(sampling_strategy='auto', random_state=random_state, replacement=replace)\n",
    "\n",
    "# x_res, y_multi_res = rus.fit_resample(X[Y==1], Y_multi[Y==1])\n",
    "# x_res = pd.concat([x_res, X[Y==0]])\n",
    "# y_multi_res = pd.concat([y_multi_res, Y_multi[Y==0]])\n",
    "# y_res = Y.loc[y_multi_res.index]\n",
    "\n",
    "# display(y_multi_res.value_counts())\n",
    "# print()\n",
    "# display(y_res.value_counts())\n",
    "# print()\n",
    "# display(y_res.index)"
   ]
  },
  {
   "cell_type": "markdown",
   "id": "1bc6c39c-b54b-4b31-9d9d-31133dad3b9f",
   "metadata": {},
   "source": [
    "##### Optional · Under sampling between subclasses of the minority/majority classes separately"
   ]
  },
  {
   "cell_type": "code",
   "execution_count": 13,
   "id": "30fa648b-a0f4-4849-8f16-b193c317eeff",
   "metadata": {},
   "outputs": [],
   "source": [
    "# from imblearn.under_sampling import RandomUnderSampler\n",
    "\n",
    "# rus = RandomUnderSampler(sampling_strategy='auto', random_state=random_state, replacement=replace)\n",
    "\n",
    "# x_res, y_multi_res = rus.fit_resample(X[Y==1], Y_multi[Y==1])\n",
    "# x_res_majority, y_res_majority = rus.fit_resample(X[Y==0], Y_multi[Y==0])\n",
    "# x_res = pd.concat([x_res, x_res_majority])\n",
    "# y_multi_res = pd.concat([y_multi_res, y_res_majority])\n",
    "# y_res = Y.loc[y_multi_res.index]\n",
    "\n",
    "# display(y_multi_res.value_counts())\n",
    "# print()\n",
    "# display(y_res.value_counts())\n",
    "# print()\n",
    "# display(y_res.index)"
   ]
  },
  {
   "cell_type": "markdown",
   "id": "79e9f0a6-13b9-436f-9bea-c02c8592e39c",
   "metadata": {},
   "source": [
    "---\n",
    "## Undersampling binary classes"
   ]
  },
  {
   "cell_type": "code",
   "execution_count": 14,
   "id": "3b94728c-de64-4b0d-8297-290e4cee716c",
   "metadata": {},
   "outputs": [],
   "source": [
    "# rus = RandomUnderSampler(sampling_strategy='auto', random_state=random_state, replacement=replace)\n",
    "\n",
    "# x_res, y_res = rus.fit_resample(x_res, y_res)\n",
    "\n",
    "# groups_res = groups.loc[y_res.index].copy()\n",
    "# y_multi_res = Y_multi.loc[y_res.index].copy()\n",
    "\n",
    "# print('Total samples:', len(y_res))\n",
    "# print()\n",
    "# display(y_res.value_counts())\n",
    "# print()\n",
    "# print(y_multi_res.value_counts())\n",
    "# print()\n",
    "# display(y_res.index)"
   ]
  },
  {
   "cell_type": "markdown",
   "id": "987c800b-e245-4cd1-b74e-270cba14615c",
   "metadata": {},
   "source": [
    "#### Optional · Sampling based on `max_samples`"
   ]
  },
  {
   "cell_type": "code",
   "execution_count": 15,
   "id": "3df89e85-afc8-4318-b714-957222309678",
   "metadata": {},
   "outputs": [],
   "source": [
    "# y_res = pd.concat([\n",
    "#     y_res[y_res == 0].sample(int(max_samples / 2), replace=replace, random_state=random_state),\n",
    "#     y_res[y_res == 1].sample(int(max_samples / 2), replace=replace, random_state=random_state)\n",
    "# ], axis=0)\n",
    "\n",
    "# x_res = X.loc[y_res.index].copy()\n",
    "# groups_res = groups.loc[y_res.index].copy()\n",
    "\n",
    "# display(y_res.value_counts())\n",
    "# print()\n",
    "# display(y_res.index)"
   ]
  },
  {
   "cell_type": "markdown",
   "id": "ac5c1e63-5273-4091-b3d3-afa0995ebb74",
   "metadata": {},
   "source": [
    "---\n",
    "### Even Group Undersample"
   ]
  },
  {
   "cell_type": "code",
   "execution_count": 16,
   "id": "63513a1c-a0a5-42eb-b45b-fa2b9421f803",
   "metadata": {},
   "outputs": [],
   "source": [
    "import numpy as np\n",
    "\n",
    "def group_even_undersample(x, y, groups, prct=0.5, n=None, random_state=None):\n",
    "    group_cnt = groups.value_counts()\n",
    "    if n is None:\n",
    "        n = int(np.percentile(group_cnt, prct * 100))\n",
    "    index = []\n",
    "    for group in group_cnt.index:\n",
    "        index += y[groups == group].sample(min(n, group_cnt[group]), replace=False, random_state=random_state).index.tolist()\n",
    "    return x.loc[index], y.loc[index]"
   ]
  },
  {
   "cell_type": "markdown",
   "id": "68f88f0b-6753-4b0a-91ff-c31478403607",
   "metadata": {},
   "source": [
    "#### Undersample single class evenly · keeping all positive samples"
   ]
  },
  {
   "cell_type": "code",
   "execution_count": 17,
   "id": "13b65ef6-c4e6-4cbe-a05f-3ddfefc3212f",
   "metadata": {},
   "outputs": [
    {
     "data": {
      "text/plain": [
       "flood\n",
       "1    17329\n",
       "0    10851\n",
       "Name: count, dtype: int64"
      ]
     },
     "metadata": {},
     "output_type": "display_data"
    },
    {
     "name": "stdout",
     "output_type": "stream",
     "text": [
      "\n"
     ]
    },
    {
     "data": {
      "text/plain": [
       "tag\n",
       "lâmina        8759\n",
       "normal        5678\n",
       "poça          5173\n",
       "alagamento    4335\n",
       "bolsão        4235\n",
       "Name: count, dtype: int64"
      ]
     },
     "metadata": {},
     "output_type": "display_data"
    },
    {
     "name": "stdout",
     "output_type": "stream",
     "text": [
      "\n"
     ]
    },
    {
     "data": {
      "text/plain": [
       "Index([209703, 210828, 209407, 213035, 212715, 214664, 212996, 184137, 205507,\n",
       "       209509,\n",
       "       ...\n",
       "       234482, 234483, 234484, 234485, 234486, 234487, 234488, 234489, 234490,\n",
       "       234491],\n",
       "      dtype='int64', length=28180)"
      ]
     },
     "metadata": {},
     "output_type": "display_data"
    }
   ],
   "source": [
    "subsample_index = []\n",
    "\n",
    "class_df = df_sample[df_sample['tag'] == 'poça']\n",
    "x_cls = class_df.drop('flood', axis=1)\n",
    "y_cls = class_df['flood']\n",
    "groups_cls = class_df['code']\n",
    "\n",
    "x_cls_res, y_cls_res = group_even_undersample(x_cls, y_cls, groups_cls, n=54, random_state=random_state)\n",
    "subsample_index += y_cls_res.index.tolist()\n",
    "\n",
    "class_df = df_sample[df_sample['tag'] == 'normal']\n",
    "x_cls = class_df.drop('flood', axis=1)\n",
    "y_cls = class_df['flood']\n",
    "groups_cls = class_df['code']\n",
    "\n",
    "x_cls_res, y_cls_res = group_even_undersample(x_cls, y_cls, groups_cls, n=37, random_state=random_state)\n",
    "subsample_index += y_cls_res.index.tolist()\n",
    "\n",
    "majority_samples = df_sample.loc[subsample_index]\n",
    "sample_even = pd.concat([majority_samples, df_sample[df_sample['flood'] == 1.0]])\n",
    "\n",
    "display(sample_even['flood'].value_counts())\n",
    "print()\n",
    "display(sample_even['tag'].value_counts())\n",
    "print()\n",
    "display(sample_even.index)"
   ]
  },
  {
   "cell_type": "markdown",
   "id": "a23c02db-8102-4a81-8ef3-876d70881c1b",
   "metadata": {},
   "source": [
    "#### One more time · Account for `max_samples`"
   ]
  },
  {
   "cell_type": "code",
   "execution_count": 18,
   "id": "ad9f9851-e6c9-410c-a21e-dcb7c774a9a4",
   "metadata": {},
   "outputs": [
    {
     "name": "stdout",
     "output_type": "stream",
     "text": [
      "\n"
     ]
    },
    {
     "data": {
      "text/plain": [
       "flood\n",
       "0    1158\n",
       "1    1083\n",
       "Name: count, dtype: int64"
      ]
     },
     "metadata": {},
     "output_type": "display_data"
    },
    {
     "name": "stdout",
     "output_type": "stream",
     "text": [
      "\n"
     ]
    },
    {
     "data": {
      "text/plain": [
       "tag\n",
       "normal        639\n",
       "lâmina        528\n",
       "poça          519\n",
       "alagamento    290\n",
       "bolsão        265\n",
       "Name: count, dtype: int64"
      ]
     },
     "metadata": {},
     "output_type": "display_data"
    },
    {
     "name": "stdout",
     "output_type": "stream",
     "text": [
      "\n"
     ]
    },
    {
     "data": {
      "text/plain": [
       "Index([209407, 209492, 163510, 162890, 160977, 212997,  19005,  18872,  18992,\n",
       "        18890,\n",
       "       ...\n",
       "       188825, 188836, 188832, 188824, 188830, 188833, 188826, 188823, 188828,\n",
       "       188835],\n",
       "      dtype='int64', length=2241)"
      ]
     },
     "metadata": {},
     "output_type": "display_data"
    }
   ],
   "source": [
    "subsample_index = []\n",
    "\n",
    "class_df = sample_even[sample_even['flood'] == 0.0]\n",
    "x_cls = class_df.drop('flood', axis=1)\n",
    "y_cls = class_df['flood']\n",
    "groups_cls = class_df['code']\n",
    "\n",
    "x_cls_res, y_cls_res = group_even_undersample(x_cls, y_cls, groups_cls, n=6, random_state=random_state)\n",
    "subsample_index += y_cls_res.index.tolist()\n",
    "\n",
    "class_df = sample_even[sample_even['flood'] == 1.0]\n",
    "x_cls = class_df.drop('flood', axis=1)\n",
    "y_cls = class_df['flood']\n",
    "groups_cls = class_df['code']\n",
    "\n",
    "x_cls_res, y_cls_res = group_even_undersample(x_cls, y_cls, groups_cls, n=34, random_state=random_state)\n",
    "subsample_index += y_cls_res.index.tolist()\n",
    "\n",
    "subsample_even = sample_even.loc[subsample_index]\n",
    "\n",
    "print()\n",
    "display(subsample_even['flood'].value_counts())\n",
    "print()\n",
    "display(subsample_even['tag'].value_counts())\n",
    "print()\n",
    "display(subsample_even.index)"
   ]
  },
  {
   "cell_type": "markdown",
   "id": "89c63539-d88a-44e5-9e56-e04210578802",
   "metadata": {},
   "source": [
    "#### Final distribution of samples per camera"
   ]
  },
  {
   "cell_type": "code",
   "execution_count": 19,
   "id": "f5b37a35-351a-40b3-930a-95d8d843bbcb",
   "metadata": {},
   "outputs": [
    {
     "data": {
      "image/png": "[encoded data removed]",
      "text/plain": [
       "<Figure size 500x1500 with 1 Axes>"
      ]
     },
     "metadata": {},
     "output_type": "display_data"
    }
   ],
   "source": [
    "import matplotlib.pyplot as plt\n",
    "import seaborn as sns; sns.set()\n",
    "\n",
    "fig = plt.figure(figsize=(5, 15))\n",
    "ax = subsample_even[subsample_even['flood'] == 1.0]['code'].value_counts().plot.barh(label='Flooded', color='orange', alpha=0.5)\n",
    "subsample_even[subsample_even['flood'] == 0.0]['code'].value_counts().plot.barh(label='Not Flooded', alpha=0.5, ax=ax)\n",
    "\n",
    "# majority = subsample_even[subsample_even['flood'] == 0.0]\n",
    "# majority[majority['tag'] == 'poça']['code'].value_counts().plot.barh(label='Not Flooded (Pud)', color='green', alpha=0.5, ax=ax)\n",
    "# majority[majority['tag'] == 'normal']['code'].value_counts().plot.barh(label='Not Flooded (Normal)', alpha=0.5, ax=ax)\n",
    "\n",
    "plt.title('Images per camera')\n",
    "plt.legend()\n",
    "plt.show()"
   ]
  },
  {
   "cell_type": "markdown",
   "id": "74778d77-c809-433c-920d-c91ab83199f4",
   "metadata": {},
   "source": [
    "#### Final undersample variables"
   ]
  },
  {
   "cell_type": "code",
   "execution_count": 20,
   "id": "3792229b-343f-46ed-8af7-825d71f3dd30",
   "metadata": {},
   "outputs": [],
   "source": [
    "x_res = subsample_even.drop('flood', axis=1)\n",
    "y_res = subsample_even['flood'].copy()\n",
    "groups_res = subsample_even['code'].copy()"
   ]
  },
  {
   "cell_type": "markdown",
   "id": "adef5cf3-1d18-4e9e-b509-5a66e1b89320",
   "metadata": {},
   "source": [
    "---\n",
    "### Undersample per camera"
   ]
  },
  {
   "cell_type": "code",
   "execution_count": 21,
   "id": "ed7f014a-3f0d-4bc3-ba2c-3f2279648ef6",
   "metadata": {},
   "outputs": [
    {
     "data": {
      "text/plain": [
       "code\n",
       "278.0     21972\n",
       "326.0     11466\n",
       "235.0      9632\n",
       "3261.0     8720\n",
       "3181.0     7378\n",
       "          ...  \n",
       "1139.0       17\n",
       "1169.0       17\n",
       "1613.0       16\n",
       "124.0        14\n",
       "1623.0        8\n",
       "Name: count, Length: 193, dtype: int64"
      ]
     },
     "execution_count": 21,
     "metadata": {},
     "output_type": "execute_result"
    }
   ],
   "source": [
    "code_cnt = groups.value_counts()\n",
    "\n",
    "code_cnt"
   ]
  },
  {
   "cell_type": "code",
   "execution_count": 22,
   "id": "4cf32fe3-51d8-40ee-8beb-31775b66bc0e",
   "metadata": {},
   "outputs": [],
   "source": [
    "codes_1 = groups[Y == 1].unique()"
   ]
  },
  {
   "cell_type": "code",
   "execution_count": 23,
   "id": "eee427bc-b2f8-478d-a823-83f71dba7066",
   "metadata": {},
   "outputs": [
    {
     "data": {
      "image/png": "[encoded data removed]",
      "text/plain": [
       "<Figure size 500x800 with 1 Axes>"
      ]
     },
     "metadata": {},
     "output_type": "display_data"
    }
   ],
   "source": [
    "import matplotlib.pyplot as plt\n",
    "\n",
    "fig = plt.figure(figsize=(5, 8))\n",
    "\n",
    "cnt_0 = df_sample[df_sample['flood'] == 0]['code'].value_counts()\n",
    "cnt_1 = df_sample[df_sample['flood'] == 1]['code'].value_counts()\n",
    "\n",
    "for idx in cnt_1.index:\n",
    "    if idx not in cnt_0.index:\n",
    "        cnt_0[idx] = 0\n",
    "        \n",
    "cnt_0 = cnt_0.loc[cnt_1.index]\n",
    "\n",
    "# Plot bars with transparency\n",
    "plt.barh(cnt_0.index.astype(str), cnt_0.values, alpha=0.5, label='Not Flooded')  # Set transparency to 0.5\n",
    "plt.barh(cnt_1.index.astype(str), cnt_1.values, alpha=0.5, label='Flooded')  # Set transparency to 0.5\n",
    "\n",
    "plt.title('Camera Images')\n",
    "plt.legend()  # Show legend\n",
    "# plt.ylim(-2, len(cnt_0) + 1)\n",
    "\n",
    "plt.show()\n"
   ]
  },
  {
   "cell_type": "code",
   "execution_count": 36,
   "id": "149a53c0",
   "metadata": {},
   "outputs": [
    {
     "data": {
      "text/html": [
       "<div>\n",
       "<style scoped>\n",
       "    .dataframe tbody tr th:only-of-type {\n",
       "        vertical-align: middle;\n",
       "    }\n",
       "\n",
       "    .dataframe tbody tr th {\n",
       "        vertical-align: top;\n",
       "    }\n",
       "\n",
       "    .dataframe thead th {\n",
       "        text-align: right;\n",
       "    }\n",
       "</style>\n",
       "<table border=\"1\" class=\"dataframe\">\n",
       "  <thead>\n",
       "    <tr style=\"text-align: right;\">\n",
       "      <th></th>\n",
       "      <th>id_video</th>\n",
       "      <th>code</th>\n",
       "      <th>folder</th>\n",
       "      <th>file_name</th>\n",
       "      <th>file_path</th>\n",
       "      <th>frame_index</th>\n",
       "      <th>timestamp</th>\n",
       "      <th>initial_timestamp</th>\n",
       "      <th>seen</th>\n",
       "      <th>tags</th>\n",
       "      <th>tag</th>\n",
       "      <th>flood</th>\n",
       "    </tr>\n",
       "  </thead>\n",
       "  <tbody>\n",
       "    <tr>\n",
       "      <th>0</th>\n",
       "      <td>65040934f049f672e58adc3b</td>\n",
       "      <td>1461.0</td>\n",
       "      <td>comando/alagamento/101579/1461/CODE1461 2023-0...</td>\n",
       "      <td>CODE1461 2023-08-28 23-30-02-0.jpg</td>\n",
       "      <td>comando/alagamento/101579/1461/CODE1461 2023-0...</td>\n",
       "      <td>0</td>\n",
       "      <td>2023-08-28 23:30:02.0</td>\n",
       "      <td>2023-08-28 23:30:02</td>\n",
       "      <td>True</td>\n",
       "      <td>['poça']</td>\n",
       "      <td>poça</td>\n",
       "      <td>0</td>\n",
       "    </tr>\n",
       "    <tr>\n",
       "      <th>1</th>\n",
       "      <td>65040934f049f672e58adc3b</td>\n",
       "      <td>1461.0</td>\n",
       "      <td>comando/alagamento/101579/1461/CODE1461 2023-0...</td>\n",
       "      <td>CODE1461 2023-08-28 23-30-02-3.jpg</td>\n",
       "      <td>comando/alagamento/101579/1461/CODE1461 2023-0...</td>\n",
       "      <td>1</td>\n",
       "      <td>2023-08-28 23:30:02.3</td>\n",
       "      <td>2023-08-28 23:30:02</td>\n",
       "      <td>True</td>\n",
       "      <td>['poça']</td>\n",
       "      <td>poça</td>\n",
       "      <td>0</td>\n",
       "    </tr>\n",
       "    <tr>\n",
       "      <th>2</th>\n",
       "      <td>65040934f049f672e58adc3b</td>\n",
       "      <td>1461.0</td>\n",
       "      <td>comando/alagamento/101579/1461/CODE1461 2023-0...</td>\n",
       "      <td>CODE1461 2023-08-28 23-30-02-6.jpg</td>\n",
       "      <td>comando/alagamento/101579/1461/CODE1461 2023-0...</td>\n",
       "      <td>2</td>\n",
       "      <td>2023-08-28 23:30:02.6</td>\n",
       "      <td>2023-08-28 23:30:02</td>\n",
       "      <td>True</td>\n",
       "      <td>['poça']</td>\n",
       "      <td>poça</td>\n",
       "      <td>0</td>\n",
       "    </tr>\n",
       "    <tr>\n",
       "      <th>3</th>\n",
       "      <td>65040934f049f672e58adc3b</td>\n",
       "      <td>1461.0</td>\n",
       "      <td>comando/alagamento/101579/1461/CODE1461 2023-0...</td>\n",
       "      <td>CODE1461 2023-08-28 23-30-02-9.jpg</td>\n",
       "      <td>comando/alagamento/101579/1461/CODE1461 2023-0...</td>\n",
       "      <td>3</td>\n",
       "      <td>2023-08-28 23:30:02.9</td>\n",
       "      <td>2023-08-28 23:30:02</td>\n",
       "      <td>True</td>\n",
       "      <td>['poça']</td>\n",
       "      <td>poça</td>\n",
       "      <td>0</td>\n",
       "    </tr>\n",
       "    <tr>\n",
       "      <th>4</th>\n",
       "      <td>65040934f049f672e58adc3b</td>\n",
       "      <td>1461.0</td>\n",
       "      <td>comando/alagamento/101579/1461/CODE1461 2023-0...</td>\n",
       "      <td>CODE1461 2023-08-28 23-30-03-3.jpg</td>\n",
       "      <td>comando/alagamento/101579/1461/CODE1461 2023-0...</td>\n",
       "      <td>4</td>\n",
       "      <td>2023-08-28 23:30:03.3</td>\n",
       "      <td>2023-08-28 23:30:02</td>\n",
       "      <td>True</td>\n",
       "      <td>['poça']</td>\n",
       "      <td>poça</td>\n",
       "      <td>0</td>\n",
       "    </tr>\n",
       "  </tbody>\n",
       "</table>\n",
       "</div>"
      ],
      "text/plain": [
       "                   id_video    code  \\\n",
       "0  65040934f049f672e58adc3b  1461.0   \n",
       "1  65040934f049f672e58adc3b  1461.0   \n",
       "2  65040934f049f672e58adc3b  1461.0   \n",
       "3  65040934f049f672e58adc3b  1461.0   \n",
       "4  65040934f049f672e58adc3b  1461.0   \n",
       "\n",
       "                                              folder  \\\n",
       "0  comando/alagamento/101579/1461/CODE1461 2023-0...   \n",
       "1  comando/alagamento/101579/1461/CODE1461 2023-0...   \n",
       "2  comando/alagamento/101579/1461/CODE1461 2023-0...   \n",
       "3  comando/alagamento/101579/1461/CODE1461 2023-0...   \n",
       "4  comando/alagamento/101579/1461/CODE1461 2023-0...   \n",
       "\n",
       "                            file_name  \\\n",
       "0  CODE1461 2023-08-28 23-30-02-0.jpg   \n",
       "1  CODE1461 2023-08-28 23-30-02-3.jpg   \n",
       "2  CODE1461 2023-08-28 23-30-02-6.jpg   \n",
       "3  CODE1461 2023-08-28 23-30-02-9.jpg   \n",
       "4  CODE1461 2023-08-28 23-30-03-3.jpg   \n",
       "\n",
       "                                           file_path  frame_index  \\\n",
       "0  comando/alagamento/101579/1461/CODE1461 2023-0...            0   \n",
       "1  comando/alagamento/101579/1461/CODE1461 2023-0...            1   \n",
       "2  comando/alagamento/101579/1461/CODE1461 2023-0...            2   \n",
       "3  comando/alagamento/101579/1461/CODE1461 2023-0...            3   \n",
       "4  comando/alagamento/101579/1461/CODE1461 2023-0...            4   \n",
       "\n",
       "               timestamp    initial_timestamp  seen      tags   tag  flood  \n",
       "0  2023-08-28 23:30:02.0  2023-08-28 23:30:02  True  ['poça']  poça      0  \n",
       "1  2023-08-28 23:30:02.3  2023-08-28 23:30:02  True  ['poça']  poça      0  \n",
       "2  2023-08-28 23:30:02.6  2023-08-28 23:30:02  True  ['poça']  poça      0  \n",
       "3  2023-08-28 23:30:02.9  2023-08-28 23:30:02  True  ['poça']  poça      0  \n",
       "4  2023-08-28 23:30:03.3  2023-08-28 23:30:02  True  ['poça']  poça      0  "
      ]
     },
     "execution_count": 36,
     "metadata": {},
     "output_type": "execute_result"
    }
   ],
   "source": [
    "df_sample.head()"
   ]
  },
  {
   "cell_type": "code",
   "execution_count": 35,
   "id": "ce60b772",
   "metadata": {},
   "outputs": [
    {
     "name": "stdout",
     "output_type": "stream",
     "text": [
      "34 unique cameras with flooded images\n"
     ]
    },
    {
     "data": {
      "text/plain": [
       "array([3114., 2017., 1430., 1431.,   94.,  384.,  310., 1147., 2206.,\n",
       "       1546., 1606.,  268., 1994., 3290.,   38., 1881.,  430.,  442.,\n",
       "       1393., 1671.,  298., 3133., 3181., 1538.,  278.,  235.,  326.,\n",
       "       1119.,  339.,   92., 1083.,  267., 1475.,  313.])"
      ]
     },
     "execution_count": 35,
     "metadata": {},
     "output_type": "execute_result"
    }
   ],
   "source": [
    "camera_code_only_class_1 = df_sample[df_sample.flood == 1]['code'].unique()\n",
    "print(f'{len(camera_code_only_class_1)} unique cameras with flooded images')\n",
    "camera_code_only_class_1"
   ]
  },
  {
   "cell_type": "code",
   "execution_count": 37,
   "id": "cf99af8d",
   "metadata": {},
   "outputs": [],
   "source": [
    "df_code_has_class_1 = df_sample[df_sample['code'].isin(camera_code_only_class_1)]"
   ]
  },
  {
   "cell_type": "code",
   "execution_count": 49,
   "id": "ebf3be79",
   "metadata": {},
   "outputs": [
    {
     "name": "stdout",
     "output_type": "stream",
     "text": [
      "1042\n",
      "315\n",
      "232\n",
      "277\n",
      "225\n",
      "180\n",
      "360\n",
      "105\n",
      "517\n",
      "720\n",
      "127\n",
      "69\n",
      "1708\n",
      "1191\n",
      "2700\n",
      "45\n",
      "1110\n",
      "157\n",
      "690\n",
      "2700\n",
      "1403\n",
      "7366\n",
      "1405\n",
      "360\n",
      "5578\n",
      "2120\n",
      "18734\n",
      "10354\n",
      "3791\n",
      "884\n",
      "850\n",
      "264\n",
      "249\n",
      "228\n"
     ]
    }
   ],
   "source": [
    "import random\n",
    "\n",
    "for code in df_code_has_class_1.code.unique():\n",
    "    n_class_0 = df_code_has_class_1[(df_code_has_class_1.code == code) & (df_code_has_class_1.flood == 0)].shape[0]\n",
    "    n_class_1 = df_code_has_class_1[(df_code_has_class_1.code == code) & (df_code_has_class_1.flood == 1)].shape[0]\n",
    "    flood_value = 1\n",
    "    if n_class_0 > n_class_1:\n",
    "        flood_value = 0\n",
    "    diff = abs(n_class_0 - n_class_1)\n",
    "    while diff > 0:\n",
    "        idx_list =  df_code_has_class_1[(df_code_has_class_1.code == code) & (df_code_has_class_1.flood == flood_value)].index\n",
    "        df_code_has_class_1 = df_code_has_class_1.drop(random.choice(idx_list))\n",
    "        diff = diff - 1\n",
    "                "
   ]
  },
  {
   "cell_type": "code",
   "execution_count": 50,
   "id": "533996e0",
   "metadata": {},
   "outputs": [
    {
     "data": {
      "text/html": [
       "<div>\n",
       "<style scoped>\n",
       "    .dataframe tbody tr th:only-of-type {\n",
       "        vertical-align: middle;\n",
       "    }\n",
       "\n",
       "    .dataframe tbody tr th {\n",
       "        vertical-align: top;\n",
       "    }\n",
       "\n",
       "    .dataframe thead th {\n",
       "        text-align: right;\n",
       "    }\n",
       "</style>\n",
       "<table border=\"1\" class=\"dataframe\">\n",
       "  <thead>\n",
       "    <tr style=\"text-align: right;\">\n",
       "      <th>flood</th>\n",
       "      <th>0</th>\n",
       "      <th>1</th>\n",
       "    </tr>\n",
       "    <tr>\n",
       "      <th>code</th>\n",
       "      <th></th>\n",
       "      <th></th>\n",
       "    </tr>\n",
       "  </thead>\n",
       "  <tbody>\n",
       "    <tr>\n",
       "      <th>38.0</th>\n",
       "      <td>270</td>\n",
       "      <td>270</td>\n",
       "    </tr>\n",
       "    <tr>\n",
       "      <th>92.0</th>\n",
       "      <td>516</td>\n",
       "      <td>516</td>\n",
       "    </tr>\n",
       "    <tr>\n",
       "      <th>94.0</th>\n",
       "      <td>225</td>\n",
       "      <td>225</td>\n",
       "    </tr>\n",
       "    <tr>\n",
       "      <th>235.0</th>\n",
       "      <td>2266</td>\n",
       "      <td>2266</td>\n",
       "    </tr>\n",
       "    <tr>\n",
       "      <th>267.0</th>\n",
       "      <td>210</td>\n",
       "      <td>210</td>\n",
       "    </tr>\n",
       "    <tr>\n",
       "      <th>268.0</th>\n",
       "      <td>19</td>\n",
       "      <td>19</td>\n",
       "    </tr>\n",
       "    <tr>\n",
       "      <th>278.0</th>\n",
       "      <td>3238</td>\n",
       "      <td>3238</td>\n",
       "    </tr>\n",
       "    <tr>\n",
       "      <th>298.0</th>\n",
       "      <td>630</td>\n",
       "      <td>630</td>\n",
       "    </tr>\n",
       "    <tr>\n",
       "      <th>310.0</th>\n",
       "      <td>135</td>\n",
       "      <td>135</td>\n",
       "    </tr>\n",
       "    <tr>\n",
       "      <th>313.0</th>\n",
       "      <td>15</td>\n",
       "      <td>15</td>\n",
       "    </tr>\n",
       "    <tr>\n",
       "      <th>326.0</th>\n",
       "      <td>1112</td>\n",
       "      <td>1112</td>\n",
       "    </tr>\n",
       "    <tr>\n",
       "      <th>339.0</th>\n",
       "      <td>126</td>\n",
       "      <td>126</td>\n",
       "    </tr>\n",
       "    <tr>\n",
       "      <th>384.0</th>\n",
       "      <td>135</td>\n",
       "      <td>135</td>\n",
       "    </tr>\n",
       "    <tr>\n",
       "      <th>430.0</th>\n",
       "      <td>630</td>\n",
       "      <td>630</td>\n",
       "    </tr>\n",
       "    <tr>\n",
       "      <th>442.0</th>\n",
       "      <td>157</td>\n",
       "      <td>157</td>\n",
       "    </tr>\n",
       "    <tr>\n",
       "      <th>1083.0</th>\n",
       "      <td>156</td>\n",
       "      <td>156</td>\n",
       "    </tr>\n",
       "    <tr>\n",
       "      <th>1119.0</th>\n",
       "      <td>40</td>\n",
       "      <td>40</td>\n",
       "    </tr>\n",
       "    <tr>\n",
       "      <th>1147.0</th>\n",
       "      <td>105</td>\n",
       "      <td>105</td>\n",
       "    </tr>\n",
       "    <tr>\n",
       "      <th>1393.0</th>\n",
       "      <td>690</td>\n",
       "      <td>690</td>\n",
       "    </tr>\n",
       "    <tr>\n",
       "      <th>1430.0</th>\n",
       "      <td>90</td>\n",
       "      <td>90</td>\n",
       "    </tr>\n",
       "    <tr>\n",
       "      <th>1431.0</th>\n",
       "      <td>28</td>\n",
       "      <td>28</td>\n",
       "    </tr>\n",
       "    <tr>\n",
       "      <th>1475.0</th>\n",
       "      <td>14</td>\n",
       "      <td>14</td>\n",
       "    </tr>\n",
       "    <tr>\n",
       "      <th>1538.0</th>\n",
       "      <td>1935</td>\n",
       "      <td>1935</td>\n",
       "    </tr>\n",
       "    <tr>\n",
       "      <th>1546.0</th>\n",
       "      <td>315</td>\n",
       "      <td>315</td>\n",
       "    </tr>\n",
       "    <tr>\n",
       "      <th>1606.0</th>\n",
       "      <td>109</td>\n",
       "      <td>109</td>\n",
       "    </tr>\n",
       "    <tr>\n",
       "      <th>1671.0</th>\n",
       "      <td>270</td>\n",
       "      <td>270</td>\n",
       "    </tr>\n",
       "    <tr>\n",
       "      <th>1881.0</th>\n",
       "      <td>45</td>\n",
       "      <td>45</td>\n",
       "    </tr>\n",
       "    <tr>\n",
       "      <th>1994.0</th>\n",
       "      <td>122</td>\n",
       "      <td>122</td>\n",
       "    </tr>\n",
       "    <tr>\n",
       "      <th>2017.0</th>\n",
       "      <td>142</td>\n",
       "      <td>142</td>\n",
       "    </tr>\n",
       "    <tr>\n",
       "      <th>2206.0</th>\n",
       "      <td>405</td>\n",
       "      <td>405</td>\n",
       "    </tr>\n",
       "    <tr>\n",
       "      <th>3114.0</th>\n",
       "      <td>21</td>\n",
       "      <td>21</td>\n",
       "    </tr>\n",
       "    <tr>\n",
       "      <th>3133.0</th>\n",
       "      <td>90</td>\n",
       "      <td>90</td>\n",
       "    </tr>\n",
       "    <tr>\n",
       "      <th>3181.0</th>\n",
       "      <td>1800</td>\n",
       "      <td>1800</td>\n",
       "    </tr>\n",
       "    <tr>\n",
       "      <th>3290.0</th>\n",
       "      <td>291</td>\n",
       "      <td>291</td>\n",
       "    </tr>\n",
       "  </tbody>\n",
       "</table>\n",
       "</div>"
      ],
      "text/plain": [
       "flood      0     1\n",
       "code              \n",
       "38.0     270   270\n",
       "92.0     516   516\n",
       "94.0     225   225\n",
       "235.0   2266  2266\n",
       "267.0    210   210\n",
       "268.0     19    19\n",
       "278.0   3238  3238\n",
       "298.0    630   630\n",
       "310.0    135   135\n",
       "313.0     15    15\n",
       "326.0   1112  1112\n",
       "339.0    126   126\n",
       "384.0    135   135\n",
       "430.0    630   630\n",
       "442.0    157   157\n",
       "1083.0   156   156\n",
       "1119.0    40    40\n",
       "1147.0   105   105\n",
       "1393.0   690   690\n",
       "1430.0    90    90\n",
       "1431.0    28    28\n",
       "1475.0    14    14\n",
       "1538.0  1935  1935\n",
       "1546.0   315   315\n",
       "1606.0   109   109\n",
       "1671.0   270   270\n",
       "1881.0    45    45\n",
       "1994.0   122   122\n",
       "2017.0   142   142\n",
       "2206.0   405   405\n",
       "3114.0    21    21\n",
       "3133.0    90    90\n",
       "3181.0  1800  1800\n",
       "3290.0   291   291"
      ]
     },
     "execution_count": 50,
     "metadata": {},
     "output_type": "execute_result"
    }
   ],
   "source": [
    "count_by_code = df_code_has_class_1.groupby('code')['flood'].value_counts().unstack(fill_value=0)\n",
    "count_by_code"
   ]
  },
  {
   "cell_type": "code",
   "execution_count": 53,
   "id": "f37f674a",
   "metadata": {},
   "outputs": [
    {
     "data": {
      "image/png": "[encoded data removed]",
      "text/plain": [
       "<Figure size 500x800 with 1 Axes>"
      ]
     },
     "metadata": {},
     "output_type": "display_data"
    }
   ],
   "source": [
    "import matplotlib.pyplot as plt\n",
    "\n",
    "fig = plt.figure(figsize=(5, 8))\n",
    "\n",
    "cnt_0_n = df_code_has_class_1[df_code_has_class_1['flood'] == 0]['code'].value_counts()\n",
    "cnt_1_n = df_code_has_class_1[df_code_has_class_1['flood'] == 1]['code'].value_counts()\n",
    "\n",
    "for idx in cnt_1_n.index:\n",
    "    if idx not in cnt_0_n.index:\n",
    "        cnt_0_n[idx] = 0\n",
    "        \n",
    "cnt_0_n = cnt_0_n.loc[cnt_1_n.index]\n",
    "\n",
    "# Plot bars with transparency\n",
    "plt.barh(cnt_0_n.index.astype(str), cnt_0_n.values, alpha=0.5, label='Not Flooded')  # Set transparency to 0.5\n",
    "plt.barh(cnt_1_n.index.astype(str), cnt_1_n.values, alpha=0.5, label='Flooded')  # Set transparency to 0.5\n",
    "\n",
    "plt.title('Camera Images')\n",
    "plt.legend()  # Show legend\n",
    "# plt.ylim(-2, len(cnt_0) + 1)\n",
    "\n",
    "plt.show()\n"
   ]
  },
  {
   "cell_type": "code",
   "execution_count": 52,
   "id": "f06c41c8",
   "metadata": {},
   "outputs": [],
   "source": [
    "df_code_has_class_1.to_csv('even_classes.csv')"
   ]
  },
  {
   "cell_type": "markdown",
   "id": "b59fb663-603e-4150-9250-6b238cb17d72",
   "metadata": {},
   "source": [
    "---\n",
    "## 5. Train and Test Splitting"
   ]
  },
  {
   "cell_type": "markdown",
   "id": "95848597-f897-41c3-aa33-12496215147c",
   "metadata": {},
   "source": [
    "#### Optional · Train test split"
   ]
  },
  {
   "cell_type": "code",
   "execution_count": 24,
   "id": "452b8151-cfbe-4205-90db-af9ac867f75b",
   "metadata": {},
   "outputs": [],
   "source": [
    "# from sklearn.model_selection import train_test_split\n",
    "\n",
    "# X_train, X_test, Y_train, Y_test = train_test_split(x_res, y_res, test_size=0.3, shuffle=True, stratify=y_res, random_state=random_state)\n",
    "# train_index, test_index = Y_train.index, Y_test.index"
   ]
  },
  {
   "cell_type": "markdown",
   "id": "b707e714-390a-454c-abc2-5def9026c630",
   "metadata": {},
   "source": [
    "####  Optional · Stratified group KFold split"
   ]
  },
  {
   "cell_type": "markdown",
   "id": "4d7c614b-5bfc-43d6-8628-694da3d16fb5",
   "metadata": {},
   "source": [
    "Obs: Best split result"
   ]
  },
  {
   "cell_type": "code",
   "execution_count": 25,
   "id": "9d258906-c091-49bb-b549-1963878e6114",
   "metadata": {},
   "outputs": [
    {
     "name": "stdout",
     "output_type": "stream",
     "text": [
      "Train index: Index([209407, 209492, 163510, 162890, 160977, 212997, 19005, 18872, 18992,\n",
      "       18890],\n",
      "      dtype='int64')\n",
      "Test index: Index([76703, 84155, 84064, 150887, 84280, 88649, 30128, 30113, 30135, 30102], dtype='int64')\n",
      "Val index: Index([188546, 203829, 188545, 182369, 188569, 203828, 45963, 45994, 56109,\n",
      "       56126],\n",
      "      dtype='int64')\n"
     ]
    }
   ],
   "source": [
    "from sklearn.model_selection import StratifiedGroupKFold\n",
    "\n",
    "# Stratified group KFold testing  split\n",
    "sgkf = StratifiedGroupKFold(n_splits=10, shuffle=False, random_state=None)\n",
    "for i, (train_index, test_index) in enumerate(sgkf.split(x_res, y_res, groups_res)):\n",
    "    # Get first split folder\n",
    "    break\n",
    "\n",
    "X_train = x_res.iloc[train_index]\n",
    "Y_train = y_res.iloc[train_index]\n",
    "groups_train = groups_res.iloc[train_index]\n",
    "\n",
    "X_test = x_res.iloc[test_index]\n",
    "Y_test = y_res.iloc[test_index]\n",
    "groups_test = groups_res.iloc[test_index]\n",
    "\n",
    "# Stratified group KFold validation split\n",
    "sgkf = StratifiedGroupKFold(n_splits=9, shuffle=False, random_state=None)\n",
    "for i, (train_index, val_index) in enumerate(sgkf.split(X_train, Y_train, groups_train)):\n",
    "    break\n",
    "\n",
    "X_val = X_train.iloc[val_index]\n",
    "Y_val = Y_train.iloc[val_index]\n",
    "groups_val = groups_train.iloc[val_index]\n",
    "\n",
    "X_train = X_train.iloc[train_index]\n",
    "Y_train = Y_train.iloc[train_index]\n",
    "groups_train = groups_train.iloc[train_index]\n",
    "\n",
    "print('Train index:', Y_train.index[:10])\n",
    "print('Test index:', Y_test.index[:10])\n",
    "print('Val index:', Y_val.index[:10])"
   ]
  },
  {
   "cell_type": "markdown",
   "id": "4c6c8f62-26c0-4759-ab8f-9ef22037f2d9",
   "metadata": {},
   "source": [
    "#### Optional · Group shuffle split"
   ]
  },
  {
   "cell_type": "code",
   "execution_count": 26,
   "id": "131028af-2e0f-4db1-9c91-e45c2eadc5a1",
   "metadata": {},
   "outputs": [],
   "source": [
    "# # NOTE: This split is not deterministic even using random_state!=None\n",
    "# # NOTE: This split is not stratified\n",
    "# from sklearn.model_selection import GroupShuffleSplit\n",
    "\n",
    "# # Group shuffle split\n",
    "# gss = GroupShuffleSplit(n_splits=1, random_state=random_state, test_size=0.2)\n",
    "\n",
    "# # Get first split folder\n",
    "# for i, (train_index, test_index) in enumerate(gss.split(x_res, y_res, groups_res)):\n",
    "#     break\n",
    "\n",
    "# X_train = x_res.iloc[train_index]\n",
    "# X_test = x_res.iloc[test_index]\n",
    "\n",
    "# Y_train = y_res.iloc[train_index]\n",
    "# Y_test = y_res.iloc[test_index]"
   ]
  },
  {
   "cell_type": "markdown",
   "id": "6827fb58-b2bb-4143-a651-ad919a0abb15",
   "metadata": {},
   "source": [
    "#### Report group count and train and test samples for each class (Missing reporting per group class)"
   ]
  },
  {
   "cell_type": "code",
   "execution_count": 27,
   "id": "2db53bac-3b14-4e02-b9d3-ba72a89ac386",
   "metadata": {},
   "outputs": [
    {
     "name": "stdout",
     "output_type": "stream",
     "text": [
      "Total samples: 2241\n",
      "Groups intersecting train and test sets: 0\n",
      "Groups intersecting train and val sets: 0\n",
      "Groups intersecting test and val sets: 0\n",
      "\n"
     ]
    },
    {
     "data": {
      "text/html": [
       "<div>\n",
       "<style scoped>\n",
       "    .dataframe tbody tr th:only-of-type {\n",
       "        vertical-align: middle;\n",
       "    }\n",
       "\n",
       "    .dataframe tbody tr th {\n",
       "        vertical-align: top;\n",
       "    }\n",
       "\n",
       "    .dataframe thead th {\n",
       "        text-align: right;\n",
       "    }\n",
       "</style>\n",
       "<table border=\"1\" class=\"dataframe\">\n",
       "  <thead>\n",
       "    <tr style=\"text-align: right;\">\n",
       "      <th></th>\n",
       "      <th>groups</th>\n",
       "      <th>total</th>\n",
       "      <th>total (%)</th>\n",
       "      <th>0</th>\n",
       "      <th>1</th>\n",
       "      <th>0 (%)</th>\n",
       "      <th>1 (%)</th>\n",
       "      <th>class ratio (%)</th>\n",
       "    </tr>\n",
       "  </thead>\n",
       "  <tbody>\n",
       "    <tr>\n",
       "      <th>train</th>\n",
       "      <td>155.0</td>\n",
       "      <td>1776.0</td>\n",
       "      <td>79.25</td>\n",
       "      <td>930.0</td>\n",
       "      <td>846.0</td>\n",
       "      <td>80.31</td>\n",
       "      <td>78.12</td>\n",
       "      <td>52.36</td>\n",
       "    </tr>\n",
       "    <tr>\n",
       "      <th>test</th>\n",
       "      <td>19.0</td>\n",
       "      <td>235.0</td>\n",
       "      <td>10.49</td>\n",
       "      <td>114.0</td>\n",
       "      <td>121.0</td>\n",
       "      <td>9.84</td>\n",
       "      <td>11.17</td>\n",
       "      <td>48.51</td>\n",
       "    </tr>\n",
       "    <tr>\n",
       "      <th>val</th>\n",
       "      <td>19.0</td>\n",
       "      <td>230.0</td>\n",
       "      <td>10.26</td>\n",
       "      <td>114.0</td>\n",
       "      <td>116.0</td>\n",
       "      <td>9.84</td>\n",
       "      <td>10.71</td>\n",
       "      <td>49.57</td>\n",
       "    </tr>\n",
       "  </tbody>\n",
       "</table>\n",
       "</div>"
      ],
      "text/plain": [
       "       groups   total  total (%)      0      1  0 (%)  1 (%)  class ratio (%)\n",
       "train   155.0  1776.0      79.25  930.0  846.0  80.31  78.12            52.36\n",
       "test     19.0   235.0      10.49  114.0  121.0   9.84  11.17            48.51\n",
       "val      19.0   230.0      10.26  114.0  116.0   9.84  10.71            49.57"
      ]
     },
     "metadata": {},
     "output_type": "display_data"
    }
   ],
   "source": [
    "def group_split_report(y_res, groups_res, Y_train, Y_test, Y_val):\n",
    "\n",
    "    train_prct = len(Y_train) / len(y_res)\n",
    "    test_prct = len(Y_test) / len(y_res)\n",
    "    val_prct = len(Y_val) / len(y_res)\n",
    "    groups_train = groups_res.loc[Y_train.index].unique()\n",
    "    groups_test = groups_res.loc[Y_test.index].unique()\n",
    "    groups_val = groups_res.loc[Y_val.index].unique()\n",
    "    class_count = y_res.value_counts()\n",
    "    train_class_count = Y_train.value_counts()\n",
    "    test_class_count = Y_test.value_counts()\n",
    "    val_class_count = Y_val.value_counts()\n",
    "    train_class_prct = [train_class_count[0] / class_count[0], train_class_count[1] / class_count[1]]\n",
    "    test_class_prct = [test_class_count[0] / class_count[0], test_class_count[1] / class_count[1]]\n",
    "    val_class_prct = [val_class_count[0] / class_count[0], val_class_count[1] / class_count[1]]\n",
    "    train_class_ratio = round(Y_train.value_counts(normalize=True).loc[0] * 100, 2)\n",
    "    test_class_ratio = round(Y_test.value_counts(normalize=True).loc[0] * 100, 2)\n",
    "    val_class_ratio = round(Y_val.value_counts(normalize=True).loc[0] * 100, 2)\n",
    "    \n",
    "    print('Groups intersecting train and test sets:', len(set(groups_train).intersection(groups_test)))\n",
    "    print('Groups intersecting train and val sets:', len(set(groups_train).intersection(groups_val)))\n",
    "    print('Groups intersecting test and val sets:', len(set(groups_test).intersection(groups_val)))\n",
    "    print()\n",
    "    \n",
    "    stats = pd.DataFrame(\n",
    "        [[len(groups_train), len(groups_test), len(groups_val)],\n",
    "        [len(Y_train), len(Y_test), len(Y_val)],\n",
    "        [round(train_prct * 100, 2), round(test_prct * 100, 2), round(val_prct * 100, 2)],\n",
    "        [train_class_count[0], test_class_count[0], val_class_count[0]],\n",
    "        [train_class_count[1], test_class_count[1], val_class_count[1]],\n",
    "        [round(train_class_prct[0] * 100, 2), round(test_class_prct[0] * 100, 2), round(val_class_prct[0] * 100, 2)],\n",
    "        [round(train_class_prct[1] * 100, 2), round(test_class_prct[1] * 100, 2), round(val_class_prct[1] * 100, 2)],\n",
    "        [train_class_ratio, test_class_ratio, val_class_ratio]],\n",
    "        columns=['train', 'test', 'val'], index=['groups', 'total', 'total (%)', '0', '1', '0 (%)', '1 (%)', 'class ratio (%)']\n",
    "    ).T\n",
    "\n",
    "    return stats\n",
    "\n",
    "\n",
    "# Example usage\n",
    "\n",
    "print('Total samples:', len(y_res))\n",
    "stats = group_split_report(y_res, groups_res, Y_train, Y_test, Y_val)\n",
    "display(stats)"
   ]
  },
  {
   "cell_type": "markdown",
   "id": "89439585-c4e5-4d6e-8cb8-20e6e5a0be77",
   "metadata": {},
   "source": [
    "---\n",
    "## 6. Copy images into train and test folders"
   ]
  },
  {
   "cell_type": "markdown",
   "id": "e2014282-771f-4ac2-902f-bdf7ad272b11",
   "metadata": {},
   "source": [
    "#### Copy images with `train_index`and `test_index` into structured 'train' and 'test' folders"
   ]
  },
  {
   "cell_type": "code",
   "execution_count": 5,
   "id": "313ae682",
   "metadata": {},
   "outputs": [
    {
     "name": "stdout",
     "output_type": "stream",
     "text": [
      "3795\n",
      "Rows used: [38.0, 92.0, 94.0, 235.0, 267.0, 268.0, 278.0, 298.0, 310.0, 313.0, 326.0, 339.0, 384.0, 430.0, 442.0, 1083.0, 1119.0, 1147.0, 1393.0, 1430.0, 1431.0, 1475.0, 1538.0, 1546.0, 1606.0, 1671.0, 1881.0, 3114.0]\n",
      "number of rows used: 28\n",
      "Rows not used: [1994.0, 2017.0, 2206.0, 3133.0, 3181.0, 3290.0]\n"
     ]
    }
   ],
   "source": [
    "### MY CODE :)\n",
    "df_200 = pd.read_csv('even_classes_200.csv')\n",
    "count_by_code = df_200.groupby('code')['flood'].value_counts().unstack(fill_value=0)\n",
    "import math\n",
    "quant_training = math.floor(0.8 * count_by_code[0].sum())\n",
    "used_indexes = []\n",
    "not_used_indexes = []\n",
    "sum = 0\n",
    "for idx, row in count_by_code.iterrows():\n",
    "    if sum + row[0] <= quant_training:\n",
    "        sum += row[0]\n",
    "        used_indexes.append(idx)\n",
    "    else:\n",
    "        not_used_indexes.append(idx)\n",
    "print(sum)\n",
    "print(f'Rows used: {used_indexes}')\n",
    "print(f'number of rows used: {len(used_indexes)}')\n",
    "print(f'Rows not used: {not_used_indexes}')"
   ]
  },
  {
   "cell_type": "code",
   "execution_count": 6,
   "id": "bf479309",
   "metadata": {},
   "outputs": [],
   "source": [
    "code_val = not_used_indexes[:3]\n",
    "code_test = not_used_indexes[3:]"
   ]
  },
  {
   "cell_type": "code",
   "execution_count": 17,
   "id": "efb1f24c",
   "metadata": {},
   "outputs": [
    {
     "data": {
      "text/plain": [
       "Index([   0,    1,    2,    4,    6,    7,    8,   10,   11,   12,\n",
       "       ...\n",
       "       9484, 9486, 9487, 9490, 9491, 9492, 9494, 9495, 9496, 9497],\n",
       "      dtype='int64', length=7590)"
      ]
     },
     "execution_count": 17,
     "metadata": {},
     "output_type": "execute_result"
    }
   ],
   "source": [
    "df_200[df_200['code'].isin(used_indexes)].index"
   ]
  },
  {
   "cell_type": "code",
   "execution_count": 22,
   "id": "f6b15713-4785-4620-ac61-6d6f7fc68f7c",
   "metadata": {},
   "outputs": [
    {
     "name": "stdout",
     "output_type": "stream",
     "text": [
      "Copying images to train folders:\n",
      "Processed 7590/7590 files (100.00%) - Found: 7590/7590\n",
      "Copying images to test folders:\n",
      "Processed 980/980 files (100.00%) - Found: 980/980\n",
      "Copying images to val folders:\n",
      "Processed 928/928 files (100.00%) - Found: 928/928\r"
     ]
    }
   ],
   "source": [
    "from modules.octa_video_util import copy_images_to_folders\n",
    "\n",
    "base_directory = 'data/images'\n",
    "# target_directory = 'data/splits/sgkf-8-1-1'\n",
    "target_directory = 'data/datasets/splits/even-classes-200'\n",
    "\n",
    "# dataset = data.copy()\n",
    "dataset = df_200.copy()\n",
    "\n",
    "file_path_field = 'file_path'\n",
    "label_field = 'flood'\n",
    "\n",
    "# train_indexes = list(Y_train.index)\n",
    "# test_indexes = list(Y_test.index)\n",
    "# val_indexes = list(Y_val.index)\n",
    "\n",
    "train_indexes = list(df_200[df_200['code'].isin(used_indexes)].index)\n",
    "test_indexes = list(df_200[df_200['code'].isin(code_test)].index)\n",
    "val_indexes = list(df_200[df_200['code'].isin(code_val)].index)\n",
    "\n",
    "copy_images_to_folders(\n",
    "    base_directory, target_directory, dataset,\n",
    "    train_indexes, test_indexes, val_indexes,\n",
    "    file_path_field=file_path_field, tag_field=label_field\n",
    ")"
   ]
  },
  {
   "cell_type": "markdown",
   "id": "188f471f-39af-4de1-a6d8-39e953fa619d",
   "metadata": {},
   "source": [
    "#### Save dataframe of sample images"
   ]
  },
  {
   "cell_type": "code",
   "execution_count": 23,
   "id": "d000fe42-928c-4548-9325-15181306508e",
   "metadata": {},
   "outputs": [
    {
     "name": "stdout",
     "output_type": "stream",
     "text": [
      "split dataframe saved with shape: (9498, 15)\n"
     ]
    }
   ],
   "source": [
    "#target_directory = 'data/splits/sgkf-8-1-1'\n",
    "target_directory = 'data/datasets/splits/even-classes-200'\n",
    "\n",
    "# data_train = data.loc[Y_train.index]\n",
    "# data_test = data.loc[Y_test.index]\n",
    "# data_val = data.loc[Y_val.index]\n",
    "\n",
    "data_train = df_200.loc[train_indexes]\n",
    "data_test = df_200.loc[test_indexes]\n",
    "data_val = df_200.loc[val_indexes]\n",
    "\n",
    "data_train['set'] = 'train'\n",
    "data_test['set'] = 'test'\n",
    "data_val['set'] = 'val'\n",
    "\n",
    "data_split_df = pd.concat([data_train, data_test, data_val])\n",
    "\n",
    "data_split_df.to_csv(f'{target_directory}/images.csv')\n",
    "print(f'split dataframe saved with shape: {data_split_df.shape}')"
   ]
  },
  {
   "cell_type": "markdown",
   "id": "f535fa22-6b03-4597-ab94-9f3356d9b7af",
   "metadata": {},
   "source": [
    "#### Count save images"
   ]
  },
  {
   "cell_type": "code",
   "execution_count": 24,
   "id": "ff33b87f-a544-47be-acba-2a1dbacd0769",
   "metadata": {},
   "outputs": [
    {
     "name": "stdout",
     "output_type": "stream",
     "text": [
      "train: 3756 3785\n",
      "test: 490 490\n",
      "val: 464 464\n"
     ]
    }
   ],
   "source": [
    "import os\n",
    "\n",
    "target_directory = 'data/datasets/splits/even-classes-200'\n",
    "\n",
    "print('train:', len(os.listdir(f'{target_directory}/train/0')), len(os.listdir(f'{target_directory}/train/1')))\n",
    "print('test:', len(os.listdir(f'{target_directory}/test/0')), len(os.listdir(f'{target_directory}/test/1')))\n",
    "print('val:', len(os.listdir(f'{target_directory}/val/0')), len(os.listdir(f'{target_directory}/val/1')))"
   ]
  }
 ],
 "metadata": {
  "kernelspec": {
   "display_name": "Python 3 (ipykernel)",
   "language": "python",
   "name": "python3"
  },
  "language_info": {
   "codemirror_mode": {
    "name": "ipython",
    "version": 3
   },
   "file_extension": ".py",
   "mimetype": "text/x-python",
   "name": "python",
   "nbconvert_exporter": "python",
   "pygments_lexer": "ipython3",
   "version": "3.11.3"
  }
 },
 "nbformat": 4,
 "nbformat_minor": 5
}
