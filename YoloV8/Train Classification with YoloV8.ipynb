{
 "cells": [
  {
   "cell_type": "markdown",
   "id": "a124e516-4596-4fe0-b996-d208e327a618",
   "metadata": {},
   "source": [
    "## Train classification model with  YoloV8 arquitecture on custom dataset "
   ]
  },
  {
   "cell_type": "markdown",
   "id": "9d55fec9-a212-4780-b95e-cb38d5157905",
   "metadata": {},
   "source": [
    "##### Install libraries"
   ]
  },
  {
   "cell_type": "code",
   "execution_count": null,
   "id": "ce80d2a3-4d54-4f48-b324-ea80070285b7",
   "metadata": {},
   "outputs": [],
   "source": [
    "!pip install -U ultralytics torch torchvision"
   ]
  },
  {
   "cell_type": "markdown",
   "id": "ea3f4f5f-6f7a-445a-8632-e5b33f093e11",
   "metadata": {},
   "source": [
    "##### Check installation"
   ]
  },
  {
   "cell_type": "code",
   "execution_count": 2,
   "id": "1e1cecd2-2ca8-4e89-8eb2-d02f6ce57976",
   "metadata": {},
   "outputs": [
    {
     "name": "stdout",
     "output_type": "stream",
     "text": [
      "Name: ultralytics\n",
      "Version: 8.0.229\n",
      "Summary: Ultralytics YOLOv8 for SOTA object detection, multi-object tracking, instance segmentation, pose estimation and image classification.\n",
      "Home-page: https://github.com/ultralytics/ultralytics\n",
      "Author: Ultralytics\n",
      "Author-email: hello@ultralytics.com\n",
      "License: AGPL-3.0\n",
      "Location: C:\\Users\\luisr\\anaconda3\\Lib\\site-packages\n",
      "Requires: matplotlib, numpy, opencv-python, pandas, pillow, psutil, py-cpuinfo, pyyaml, requests, scipy, seaborn, thop, torch, torchvision, tqdm\n",
      "Required-by: \n",
      "---\n",
      "Name: torch\n",
      "Version: 2.1.0\n",
      "Summary: Tensors and Dynamic neural networks in Python with strong GPU acceleration\n",
      "Home-page: https://pytorch.org/\n",
      "Author: PyTorch Team\n",
      "Author-email: packages@pytorch.org\n",
      "License: BSD-3\n",
      "Location: C:\\Users\\luisr\\anaconda3\\Lib\\site-packages\n",
      "Requires: filelock, fsspec, jinja2, networkx, sympy, typing-extensions\n",
      "Required-by: thop, torchaudio, torchvision, ultralytics\n",
      "---\n",
      "Name: torchvision\n",
      "Version: 0.16.0\n",
      "Summary: image and video datasets and models for torch deep learning\n",
      "Home-page: https://github.com/pytorch/vision\n",
      "Author: PyTorch Core Team\n",
      "Author-email: soumith@pytorch.org\n",
      "License: BSD\n",
      "Location: C:\\Users\\luisr\\anaconda3\\Lib\\site-packages\n",
      "Requires: numpy, pillow, requests, torch\n",
      "Required-by: ultralytics\n"
     ]
    }
   ],
   "source": [
    "!pip show ultralytics torch torchvision"
   ]
  },
  {
   "cell_type": "markdown",
   "id": "05c53816-8bbf-4023-8128-1fbf3a34a92f",
   "metadata": {},
   "source": [
    "#### Train classification model with yolo arquitecture"
   ]
  },
  {
   "cell_type": "code",
   "execution_count": 2,
   "id": "01deae5b-b17b-446d-932d-5b2a347d0d30",
   "metadata": {},
   "outputs": [],
   "source": [
    "# !set KMP_DUPLICATE_LIB_OK=TRUE\n",
    "\n",
    "from ultralytics import YOLO\n",
    "\n",
    "# Load a model\n",
    "model = YOLO('models/yolov8n-cls.pt')  # load a pretrained model (recommended for training)\n",
    "\n",
    "# Train the model\n",
    "results = model.train(data='../data/splits/1', single_cls=True, epochs=10, imgsz=640, batch=16, device='cpu')"
   ]
  }
 ],
 "metadata": {
  "kernelspec": {
   "display_name": "Python 3 (ipykernel)",
   "language": "python",
   "name": "python3"
  },
  "language_info": {
   "codemirror_mode": {
    "name": "ipython",
    "version": 3
   },
   "file_extension": ".py",
   "mimetype": "text/x-python",
   "name": "python",
   "nbconvert_exporter": "python",
   "pygments_lexer": "ipython3",
   "version": "3.11.3"
  }
 },
 "nbformat": 4,
 "nbformat_minor": 5
}
