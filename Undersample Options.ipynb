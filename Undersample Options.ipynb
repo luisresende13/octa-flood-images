{
 "cells": [
  {
   "cell_type": "markdown",
   "id": "3dd48793-b7b1-4b7b-a22b-9d6f217a8293",
   "metadata": {},
   "source": [
    "# Undersample Options for Camera Flood Images"
   ]
  },
  {
   "cell_type": "markdown",
   "id": "ce463fc7-c915-4d7a-a593-36f8dcec4ca9",
   "metadata": {},
   "source": [
    "## 1. Reload images dataset"
   ]
  },
  {
   "cell_type": "code",
   "execution_count": 1,
   "id": "140cda7d-25c0-4e7a-8543-a99cf073f466",
   "metadata": {},
   "outputs": [
    {
     "data": {
      "text/plain": [
       "Index(['id_video', 'code', 'folder', 'file_name', 'file_path', 'frame_index',\n",
       "       'timestamp', 'initial_timestamp', 'seen', 'tags'],\n",
       "      dtype='object')"
      ]
     },
     "metadata": {},
     "output_type": "display_data"
    },
    {
     "data": {
      "text/plain": [
       "RangeIndex(start=0, stop=10, step=1)"
      ]
     },
     "metadata": {},
     "output_type": "display_data"
    }
   ],
   "source": [
    "import pandas as pd\n",
    "\n",
    "images_dataset_path = 'data/datasets/images.csv'\n",
    "df_images = pd.read_csv(images_dataset_path)\n",
    "\n",
    "display(df_images.columns)\n",
    "display(df_images.index[:10])"
   ]
  },
  {
   "cell_type": "markdown",
   "id": "16a53dc7-5a9a-48a1-9c7f-6c2eee526b35",
   "metadata": {},
   "source": [
    "## 2. Preprocess the dataset"
   ]
  },
  {
   "cell_type": "code",
   "execution_count": 2,
   "id": "6222f2b2-5eb3-488a-b12c-9868dd848e6c",
   "metadata": {},
   "outputs": [],
   "source": [
    "from modules.octa_video_util import _assign_tag\n",
    "from modules.octa_video_util import filter_by_query"
   ]
  },
  {
   "cell_type": "markdown",
   "id": "dc169076-c5d6-4991-9ff6-9a1a568f07bf",
   "metadata": {},
   "source": [
    "#### Create categorical field from tag priority list"
   ]
  },
  {
   "cell_type": "code",
   "execution_count": 3,
   "id": "5f3268d5-6e21-4911-b9e3-d636f1d151a0",
   "metadata": {},
   "outputs": [
    {
     "data": {
      "text/plain": [
       "tag\n",
       "normal        147594\n",
       "poça           67391\n",
       "lâmina          8759\n",
       "alagamento      4335\n",
       "bolsão          4235\n",
       "transbordo      2237\n",
       "Name: count, dtype: int64"
      ]
     },
     "metadata": {},
     "output_type": "display_data"
    }
   ],
   "source": [
    "# Create unique tag column based on class priority list\n",
    "default_tag = 'normal'\n",
    "tags_priority_list = ['alagamento', 'bolsão', 'lâmina', 'poça', 'transbordo']\n",
    "\n",
    "df_images['tag'] = df_images['tags'].apply(lambda tags_list: _assign_tag(tags_list, tags_priority_list, default_tag))\n",
    "display(df_images.tag.value_counts())"
   ]
  },
  {
   "cell_type": "markdown",
   "id": "6a575388-c629-4041-83a8-f42002b4ca4e",
   "metadata": {},
   "source": [
    "#### Drop categories"
   ]
  },
  {
   "cell_type": "code",
   "execution_count": 4,
   "id": "056e6664-0083-4dd9-b07b-70fb7616b938",
   "metadata": {},
   "outputs": [],
   "source": [
    "df_images = df_images[df_images['tag'] != 'transbordo']"
   ]
  },
  {
   "cell_type": "markdown",
   "id": "54f976b0-72db-42fd-a646-50ee0a8cabb9",
   "metadata": {},
   "source": [
    "#### Binarize categorical variable"
   ]
  },
  {
   "cell_type": "code",
   "execution_count": 5,
   "id": "7b08caad-ea9d-4565-bdac-a1dc7d2c8edc",
   "metadata": {},
   "outputs": [
    {
     "data": {
      "text/plain": [
       "flood\n",
       "0    214985\n",
       "1     17329\n",
       "Name: count, dtype: int64"
      ]
     },
     "metadata": {},
     "output_type": "display_data"
    },
    {
     "name": "stdout",
     "output_type": "stream",
     "text": [
      "\n"
     ]
    },
    {
     "data": {
      "text/plain": [
       "Index([0, 1, 2, 3, 4, 5, 6, 7, 8, 9], dtype='int64')"
      ]
     },
     "metadata": {},
     "output_type": "display_data"
    }
   ],
   "source": [
    "target_classes = ['lâmina', 'bolsão', 'alagamento']\n",
    "\n",
    "# Binarize categorical variable from list of target classes\n",
    "df_images['flood'] = df_images['tag'].isin(target_classes).astype(int)\n",
    "\n",
    "display(df_images['flood'].value_counts())\n",
    "print()\n",
    "display(df_images.index[:10])"
   ]
  },
  {
   "cell_type": "markdown",
   "id": "de042844-3b0d-4773-a969-6c1e8ee8297f",
   "metadata": {},
   "source": [
    "#### Filter images"
   ]
  },
  {
   "cell_type": "code",
   "execution_count": 6,
   "id": "41341c47-03a3-4fc3-bfb7-0aa81e8ce135",
   "metadata": {},
   "outputs": [
    {
     "data": {
      "text/plain": [
       "flood\n",
       "0    214985\n",
       "1     17329\n",
       "Name: count, dtype: int64"
      ]
     },
     "metadata": {},
     "output_type": "display_data"
    },
    {
     "name": "stdout",
     "output_type": "stream",
     "text": [
      "\n"
     ]
    },
    {
     "data": {
      "text/plain": [
       "Index([0, 1, 2, 3, 4, 5, 6, 7, 8, 9], dtype='int64')"
      ]
     },
     "metadata": {},
     "output_type": "display_data"
    }
   ],
   "source": [
    "query_params = {'seen': True}\n",
    "\n",
    "# Filter dataset of images by query\n",
    "df_sample = filter_by_query(df_images, query_params).copy()\n",
    "\n",
    "display(df_sample['flood'].value_counts())\n",
    "print()\n",
    "display(df_sample.index[:10])"
   ]
  },
  {
   "cell_type": "markdown",
   "id": "c76ae979-8a4b-4d50-8043-918155269d44",
   "metadata": {},
   "source": [
    "---\n",
    "## 4. Shuffling"
   ]
  },
  {
   "cell_type": "code",
   "execution_count": 7,
   "id": "0656418c-9df2-4d7e-83b9-c4d4c5b49f52",
   "metadata": {},
   "outputs": [],
   "source": [
    "import numpy as np\n",
    "import secrets\n",
    "secrets.randbits(128)\n",
    "\n",
    "def RNG():\n",
    "    return np.random.default_rng(122807528840384100672342137672332424406)\n",
    "\n",
    "# Example usage\n",
    "# rng = RNG()\n",
    "# idx = rng.choice(data.index, len(data), replace=replace, shuffle=False)"
   ]
  },
  {
   "cell_type": "markdown",
   "id": "ebb72fa2-c956-4681-b3b4-cd32581515a8",
   "metadata": {},
   "source": [
    "#### Sampling parameters"
   ]
  },
  {
   "cell_type": "code",
   "execution_count": 8,
   "id": "d7123452-57a2-4e1d-a49a-07645f949a03",
   "metadata": {},
   "outputs": [],
   "source": [
    "target_variable = 'flood'\n",
    "multiclass_target_variable = 'tag'\n",
    "groups_variable = 'code'\n",
    "\n",
    "max_samples = 2000\n",
    "replace = False\n",
    "random_state = 0"
   ]
  },
  {
   "cell_type": "markdown",
   "id": "3068c07b-238a-46ba-97fb-15be70f7979c",
   "metadata": {},
   "source": [
    "#### Shuffle Samples"
   ]
  },
  {
   "cell_type": "code",
   "execution_count": 9,
   "id": "c8ab23f0-442b-4c90-b458-47ead91c490f",
   "metadata": {},
   "outputs": [
    {
     "data": {
      "text/plain": [
       "Index([117849, 140116, 22843, 90909, 112686, 5198, 213855, 197013, 179200,\n",
       "       168345],\n",
       "      dtype='int64')"
      ]
     },
     "metadata": {},
     "output_type": "display_data"
    }
   ],
   "source": [
    "data = df_sample.copy()\n",
    "\n",
    "data = data.sample(n=len(data), replace=replace, random_state=random_state)\n",
    "\n",
    "display(data.index[:10])"
   ]
  },
  {
   "cell_type": "markdown",
   "id": "fffc9904-0e59-47fe-8edd-90738a49db21",
   "metadata": {},
   "source": [
    "#### Get x and y (features and target variable)"
   ]
  },
  {
   "cell_type": "code",
   "execution_count": 10,
   "id": "99444ff8-6ed0-4f1a-94ac-48266b7f71f0",
   "metadata": {},
   "outputs": [
    {
     "data": {
      "text/plain": [
       "flood\n",
       "0    214985\n",
       "1     17329\n",
       "Name: count, dtype: int64"
      ]
     },
     "metadata": {},
     "output_type": "display_data"
    },
    {
     "name": "stdout",
     "output_type": "stream",
     "text": [
      "\n"
     ]
    },
    {
     "data": {
      "text/plain": [
       "tag\n",
       "normal        147594\n",
       "poça           67391\n",
       "lâmina          8759\n",
       "alagamento      4335\n",
       "bolsão          4235\n",
       "Name: count, dtype: int64"
      ]
     },
     "metadata": {},
     "output_type": "display_data"
    }
   ],
   "source": [
    "# Get x and y\n",
    "X = data.drop(target_variable, axis=1)\n",
    "Y = data[target_variable].copy()\n",
    "\n",
    "Y_multi = data[multiclass_target_variable] \n",
    "groups = data[groups_variable].copy()\n",
    "\n",
    "display(Y.value_counts())\n",
    "print()\n",
    "display(Y_multi.value_counts())\n"
   ]
  },
  {
   "cell_type": "markdown",
   "id": "6283d3d2-498e-43d3-91f9-90951f3531f7",
   "metadata": {},
   "source": [
    "---\n",
    "## OPTION 1: Undersampling separately for minority and majority classes"
   ]
  },
  {
   "cell_type": "markdown",
   "id": "0dcabf17-ec11-4fa2-9f81-c8bd73874e5e",
   "metadata": {},
   "source": [
    "<strong>Obs: Choose one of the following three options</strong>"
   ]
  },
  {
   "cell_type": "markdown",
   "id": "074c7cef-3f64-4d73-86ba-97e4a409b820",
   "metadata": {},
   "source": [
    "##### Optional · Under sampling between subclasses of the majority class only"
   ]
  },
  {
   "cell_type": "markdown",
   "id": "77d473fc-6d2e-46bc-8cfb-bb6e92c6b135",
   "metadata": {},
   "source": [
    "Best result"
   ]
  },
  {
   "cell_type": "code",
   "execution_count": 101,
   "id": "b20a7994-1690-4ff2-b83f-d7cf4d0ce61a",
   "metadata": {},
   "outputs": [
    {
     "data": {
      "text/plain": [
       "tag\n",
       "normal        58101\n",
       "poça          58101\n",
       "lâmina         5488\n",
       "alagamento     3150\n",
       "bolsão         1246\n",
       "Name: count, dtype: int64"
      ]
     },
     "metadata": {},
     "output_type": "display_data"
    },
    {
     "name": "stdout",
     "output_type": "stream",
     "text": [
      "\n"
     ]
    },
    {
     "data": {
      "text/plain": [
       "flood\n",
       "0    116202\n",
       "1      9884\n",
       "Name: count, dtype: int64"
      ]
     },
     "metadata": {},
     "output_type": "display_data"
    },
    {
     "name": "stdout",
     "output_type": "stream",
     "text": [
      "\n"
     ]
    },
    {
     "data": {
      "text/plain": [
       "Index([166353,  37064, 129160,  98792,  93485, 108443,  92090,  82884,  78943,\n",
       "       111312,\n",
       "       ...\n",
       "        52513,  79224,  15115, 150295, 121561,  89231,  49866,  41504,  70608,\n",
       "       150550],\n",
       "      dtype='int64', length=126086)"
      ]
     },
     "metadata": {},
     "output_type": "display_data"
    }
   ],
   "source": [
    "from imblearn.under_sampling import RandomUnderSampler\n",
    "\n",
    "rus = RandomUnderSampler(sampling_strategy='auto', random_state=random_state, replacement=replace)\n",
    "\n",
    "x_res, y_multi_res = rus.fit_resample(X[Y==0], Y_multi[Y==0])\n",
    "x_res = pd.concat([x_res, X[Y==1]])\n",
    "y_multi_res = pd.concat([y_multi_res, Y_multi[Y==1]])\n",
    "y_res = Y.loc[y_multi_res.index]\n",
    "\n",
    "display(y_multi_res.value_counts())\n",
    "print()\n",
    "display(y_res.value_counts())\n",
    "print()\n",
    "display(y_res.index)"
   ]
  },
  {
   "cell_type": "markdown",
   "id": "ba1202d7-0fa1-4e82-8a87-a05894e5160e",
   "metadata": {},
   "source": [
    "##### Optional · Under sampling between subclasses of the minority class only"
   ]
  },
  {
   "cell_type": "code",
   "execution_count": 21,
   "id": "c93b0987-598a-4fea-add9-0f34774b5848",
   "metadata": {},
   "outputs": [
    {
     "data": {
      "text/plain": [
       "tag\n",
       "normal        100783\n",
       "poça           58101\n",
       "alagamento      1246\n",
       "bolsão          1246\n",
       "lâmina          1246\n",
       "Name: count, dtype: int64"
      ]
     },
     "metadata": {},
     "output_type": "display_data"
    },
    {
     "name": "stdout",
     "output_type": "stream",
     "text": [
      "\n"
     ]
    },
    {
     "data": {
      "text/plain": [
       "flood\n",
       "0    158884\n",
       "1      3738\n",
       "Name: count, dtype: int64"
      ]
     },
     "metadata": {},
     "output_type": "display_data"
    },
    {
     "name": "stdout",
     "output_type": "stream",
     "text": [
      "\n"
     ]
    },
    {
     "data": {
      "text/plain": [
       "Index([  3575,  49055,  70597,  29505, 150562,  39867,  12182,  72705,  47044,\n",
       "       150337,\n",
       "       ...\n",
       "        48600, 112555,  86293, 122714,  41993,  97729,  96029, 152810, 118087,\n",
       "        43567],\n",
       "      dtype='int64', length=162622)"
      ]
     },
     "metadata": {},
     "output_type": "display_data"
    }
   ],
   "source": [
    "from imblearn.under_sampling import RandomUnderSampler\n",
    "\n",
    "rus = RandomUnderSampler(sampling_strategy='auto', random_state=random_state, replacement=replace)\n",
    "\n",
    "x_res, y_multi_res = rus.fit_resample(X[Y==1], Y_multi[Y==1])\n",
    "x_res = pd.concat([x_res, X[Y==0]])\n",
    "y_multi_res = pd.concat([y_multi_res, Y_multi[Y==0]])\n",
    "y_res = Y.loc[y_multi_res.index]\n",
    "\n",
    "display(y_multi_res.value_counts())\n",
    "print()\n",
    "display(y_res.value_counts())\n",
    "print()\n",
    "display(y_res.index)"
   ]
  },
  {
   "cell_type": "markdown",
   "id": "602d8aec-d0b9-4671-a2a9-913c9ae297e3",
   "metadata": {},
   "source": [
    "##### Optional · Under sampling between subclasses of the minority/majority classes separately"
   ]
  },
  {
   "cell_type": "code",
   "execution_count": 44,
   "id": "2721549b-4a81-42cc-a82d-9f1e3f66cebf",
   "metadata": {},
   "outputs": [
    {
     "data": {
      "text/plain": [
       "tag\n",
       "normal        58101\n",
       "poça          58101\n",
       "alagamento     1246\n",
       "bolsão         1246\n",
       "lâmina         1246\n",
       "Name: count, dtype: int64"
      ]
     },
     "metadata": {},
     "output_type": "display_data"
    },
    {
     "name": "stdout",
     "output_type": "stream",
     "text": [
      "\n"
     ]
    },
    {
     "data": {
      "text/plain": [
       "flood\n",
       "0    116202\n",
       "1      3738\n",
       "Name: count, dtype: int64"
      ]
     },
     "metadata": {},
     "output_type": "display_data"
    },
    {
     "name": "stdout",
     "output_type": "stream",
     "text": [
      "\n"
     ]
    },
    {
     "data": {
      "text/plain": [
       "Index([  3575,  49055,  70597,  29505, 150562,  39867,  12182,  72705,  47044,\n",
       "       150337,\n",
       "       ...\n",
       "       108639, 133793,  73135, 133168, 138218, 108766,  52620, 112555, 122714,\n",
       "        41993],\n",
       "      dtype='int64', length=119940)"
      ]
     },
     "metadata": {},
     "output_type": "display_data"
    }
   ],
   "source": [
    "from imblearn.under_sampling import RandomUnderSampler\n",
    "\n",
    "rus = RandomUnderSampler(sampling_strategy='auto', random_state=random_state, replacement=replace)\n",
    "\n",
    "x_res, y_multi_res = rus.fit_resample(X[Y==1], Y_multi[Y==1])\n",
    "x_res_majority, y_res_majority = rus.fit_resample(X[Y==0], Y_multi[Y==0])\n",
    "x_res = pd.concat([x_res, x_res_majority])\n",
    "y_multi_res = pd.concat([y_multi_res, y_res_majority])\n",
    "y_res = Y.loc[y_multi_res.index]\n",
    "\n",
    "display(y_multi_res.value_counts())\n",
    "print()\n",
    "display(y_res.value_counts())\n",
    "print()\n",
    "display(y_res.index)"
   ]
  },
  {
   "cell_type": "markdown",
   "id": "9d7df8ba-bbd8-4fa0-920c-ba535f112ff2",
   "metadata": {},
   "source": [
    "---\n",
    "## OPTION 2: Undersampling binary classes"
   ]
  },
  {
   "cell_type": "code",
   "execution_count": 102,
   "id": "6abbe775-48d6-423e-90eb-af0d4b3b1703",
   "metadata": {},
   "outputs": [
    {
     "name": "stdout",
     "output_type": "stream",
     "text": [
      "Total samples: 19768\n",
      "\n"
     ]
    },
    {
     "data": {
      "text/plain": [
       "flood\n",
       "0    9884\n",
       "1    9884\n",
       "Name: count, dtype: int64"
      ]
     },
     "metadata": {},
     "output_type": "display_data"
    },
    {
     "name": "stdout",
     "output_type": "stream",
     "text": [
      "\n",
      "tag\n",
      "lâmina        5488\n",
      "poça          4956\n",
      "normal        4928\n",
      "alagamento    3150\n",
      "bolsão        1246\n",
      "Name: count, dtype: int64\n",
      "\n"
     ]
    },
    {
     "data": {
      "text/plain": [
       "Index([132442,  73812,  95280,  35296,  73243, 143576, 126209, 148940,  54517,\n",
       "       113061,\n",
       "       ...\n",
       "        52513,  79224,  15115, 150295, 121561,  89231,  49866,  41504,  70608,\n",
       "       150550],\n",
       "      dtype='int64', length=19768)"
      ]
     },
     "metadata": {},
     "output_type": "display_data"
    }
   ],
   "source": [
    "rus = RandomUnderSampler(sampling_strategy='auto', random_state=random_state, replacement=replace)\n",
    "\n",
    "x_res, y_res = rus.fit_resample(x_res, y_res)\n",
    "\n",
    "groups_res = groups.loc[y_res.index].copy()\n",
    "y_multi_res = Y_multi.loc[y_res.index].copy()\n",
    "\n",
    "print('Total samples:', len(y_res))\n",
    "print()\n",
    "display(y_res.value_counts())\n",
    "print()\n",
    "print(y_multi_res.value_counts())\n",
    "print()\n",
    "display(y_res.index)"
   ]
  },
  {
   "cell_type": "markdown",
   "id": "5afd132b-e01c-4a2e-937a-e89e3c7fde17",
   "metadata": {},
   "source": [
    "#### Optional · Sampling based on `max_samples`"
   ]
  },
  {
   "cell_type": "code",
   "execution_count": 103,
   "id": "34976cbe-fc61-45ac-af1a-0d90c5e5993a",
   "metadata": {},
   "outputs": [
    {
     "data": {
      "text/plain": [
       "flood\n",
       "0    1000\n",
       "1    1000\n",
       "Name: count, dtype: int64"
      ]
     },
     "metadata": {},
     "output_type": "display_data"
    },
    {
     "name": "stdout",
     "output_type": "stream",
     "text": [
      "\n"
     ]
    },
    {
     "data": {
      "text/plain": [
       "Index([151149,  55823,  14423,  70564,  92916, 166171, 111526, 101842, 107063,\n",
       "       119478,\n",
       "       ...\n",
       "       159845, 113351,  50924, 117329,  43412,  21266,  98026, 104296,  29494,\n",
       "       145661],\n",
       "      dtype='int64', length=2000)"
      ]
     },
     "metadata": {},
     "output_type": "display_data"
    }
   ],
   "source": [
    "y_res = pd.concat([\n",
    "    y_res[y_res == 0].sample(int(max_samples / 2), replace=replace, random_state=random_state),\n",
    "    y_res[y_res == 1].sample(int(max_samples / 2), replace=replace, random_state=random_state)\n",
    "], axis=0)\n",
    "\n",
    "x_res = X.loc[y_res.index].copy()\n",
    "groups_res = groups.loc[y_res.index].copy()\n",
    "\n",
    "display(y_res.value_counts())\n",
    "print()\n",
    "display(y_res.index)"
   ]
  },
  {
   "cell_type": "markdown",
   "id": "58fc3b5a-cc02-4ca8-ada7-745b783f86f3",
   "metadata": {},
   "source": [
    "---\n",
    "### OPTION 3: Even Group Undersample"
   ]
  },
  {
   "cell_type": "code",
   "execution_count": 47,
   "id": "28d53893-2bf0-4198-95b8-83446d8cb589",
   "metadata": {},
   "outputs": [],
   "source": [
    "import numpy as np\n",
    "\n",
    "def group_even_undersample(x, y, groups, prct=0.5, n=None, random_state=None):\n",
    "    group_cnt = groups.value_counts()\n",
    "    if n is None:\n",
    "        n = int(np.percentile(group_cnt, prct * 100))\n",
    "    index = []\n",
    "    for group in group_cnt.index:\n",
    "        index += y[groups == group].sample(min(n, group_cnt[group]), replace=False, random_state=random_state).index.tolist()\n",
    "    return x.loc[index], y.loc[index]"
   ]
  },
  {
   "cell_type": "markdown",
   "id": "bf951319-e2ac-45f3-a84a-e294f4a35871",
   "metadata": {},
   "source": [
    "#### Undersample single class evenly · keeping all positive samples"
   ]
  },
  {
   "cell_type": "code",
   "execution_count": 15,
   "id": "1f2e3526-3add-4429-814b-df8699139dd2",
   "metadata": {},
   "outputs": [
    {
     "data": {
      "text/plain": [
       "flood\n",
       "0    10006\n",
       "1     9884\n",
       "Name: count, dtype: int64"
      ]
     },
     "metadata": {},
     "output_type": "display_data"
    },
    {
     "name": "stdout",
     "output_type": "stream",
     "text": [
      "\n"
     ]
    },
    {
     "data": {
      "text/plain": [
       "tag\n",
       "lâmina        5488\n",
       "normal        5035\n",
       "poça          4971\n",
       "alagamento    3150\n",
       "bolsão        1246\n",
       "Name: count, dtype: int64"
      ]
     },
     "metadata": {},
     "output_type": "display_data"
    },
    {
     "name": "stdout",
     "output_type": "stream",
     "text": [
      "\n"
     ]
    },
    {
     "data": {
      "text/plain": [
       "Index([102541,  88264,  82975,  95097,  75101, 102549, 140199,  69780,  75044,\n",
       "        85658,\n",
       "       ...\n",
       "       166947, 166948, 166949, 166950, 166951, 166952, 166953, 166954, 166955,\n",
       "       166956],\n",
       "      dtype='int64', length=19890)"
      ]
     },
     "metadata": {},
     "output_type": "display_data"
    }
   ],
   "source": [
    "subsample_index = []\n",
    "\n",
    "class_df = df_sample[df_sample['tag'] == 'poça']\n",
    "x_cls = class_df.drop('flood', axis=1)\n",
    "y_cls = class_df['flood']\n",
    "groups_cls = class_df['code']\n",
    "\n",
    "x_cls_res, y_cls_res = group_even_undersample(x_cls, y_cls, groups_cls, n=54, random_state=random_state)\n",
    "subsample_index += y_cls_res.index.tolist()\n",
    "\n",
    "class_df = df_sample[df_sample['tag'] == 'normal']\n",
    "x_cls = class_df.drop('flood', axis=1)\n",
    "y_cls = class_df['flood']\n",
    "groups_cls = class_df['code']\n",
    "\n",
    "x_cls_res, y_cls_res = group_even_undersample(x_cls, y_cls, groups_cls, n=37, random_state=random_state)\n",
    "subsample_index += y_cls_res.index.tolist()\n",
    "\n",
    "majority_samples = df_sample.loc[subsample_index]\n",
    "sample_even = pd.concat([majority_samples, df_sample[df_sample['flood'] == 1.0]])\n",
    "\n",
    "display(sample_even['flood'].value_counts())\n",
    "print()\n",
    "display(sample_even['tag'].value_counts())\n",
    "print()\n",
    "display(sample_even.index)"
   ]
  },
  {
   "cell_type": "markdown",
   "id": "e2778f89-3f50-4624-8995-d9b32d956481",
   "metadata": {},
   "source": [
    "#### One more time · Account for `max_samples`"
   ]
  },
  {
   "cell_type": "code",
   "execution_count": 16,
   "id": "f356a1a5-f277-4930-84ea-36ff9972c2e2",
   "metadata": {},
   "outputs": [
    {
     "name": "stdout",
     "output_type": "stream",
     "text": [
      "\n"
     ]
    },
    {
     "data": {
      "text/plain": [
       "flood\n",
       "1    1083\n",
       "0    1080\n",
       "Name: count, dtype: int64"
      ]
     },
     "metadata": {},
     "output_type": "display_data"
    },
    {
     "name": "stdout",
     "output_type": "stream",
     "text": [
      "\n"
     ]
    },
    {
     "data": {
      "text/plain": [
       "tag\n",
       "normal        574\n",
       "lâmina        550\n",
       "poça          506\n",
       "alagamento    297\n",
       "bolsão        236\n",
       "Name: count, dtype: int64"
      ]
     },
     "metadata": {},
     "output_type": "display_data"
    },
    {
     "name": "stdout",
     "output_type": "stream",
     "text": [
      "\n"
     ]
    },
    {
     "data": {
      "text/plain": [
       "Index([ 82975, 146294, 131062,  82936,  64347, 130879, 160753, 166698, 163073,\n",
       "       156635,\n",
       "       ...\n",
       "       159950, 159961, 159957, 159949, 159955, 159958, 159951, 159948, 159953,\n",
       "       159960],\n",
       "      dtype='int64', length=2163)"
      ]
     },
     "metadata": {},
     "output_type": "display_data"
    }
   ],
   "source": [
    "subsample_index = []\n",
    "\n",
    "class_df = sample_even[sample_even['flood'] == 0.0]\n",
    "x_cls = class_df.drop('flood', axis=1)\n",
    "y_cls = class_df['flood']\n",
    "groups_cls = class_df['code']\n",
    "\n",
    "x_cls_res, y_cls_res = group_even_undersample(x_cls, y_cls, groups_cls, n=6, random_state=random_state)\n",
    "subsample_index += y_cls_res.index.tolist()\n",
    "\n",
    "class_df = sample_even[sample_even['flood'] == 1.0]\n",
    "x_cls = class_df.drop('flood', axis=1)\n",
    "y_cls = class_df['flood']\n",
    "groups_cls = class_df['code']\n",
    "\n",
    "x_cls_res, y_cls_res = group_even_undersample(x_cls, y_cls, groups_cls, n=34, random_state=random_state)\n",
    "subsample_index += y_cls_res.index.tolist()\n",
    "\n",
    "subsample_even = sample_even.loc[subsample_index]\n",
    "\n",
    "print()\n",
    "display(subsample_even['flood'].value_counts())\n",
    "print()\n",
    "display(subsample_even['tag'].value_counts())\n",
    "print()\n",
    "display(subsample_even.index)"
   ]
  },
  {
   "cell_type": "markdown",
   "id": "70d9c1f3-d3e3-4f36-b790-0c97854653d7",
   "metadata": {},
   "source": [
    "#### Final distribution of samples per camera"
   ]
  },
  {
   "cell_type": "code",
   "execution_count": 19,
   "id": "c31946f3-72f2-4add-9ef4-53b06bb98486",
   "metadata": {},
   "outputs": [
    {
     "data": {
      "image/png": "[encoded data removed]",
      "text/plain": [
       "<Figure size 500x1500 with 1 Axes>"
      ]
     },
     "metadata": {},
     "output_type": "display_data"
    }
   ],
   "source": [
    "import matplotlib.pyplot as plt\n",
    "import seaborn as sns; sns.set()\n",
    "\n",
    "fig = plt.figure(figsize=(5, 15))\n",
    "ax = subsample_even[subsample_even['flood'] == 1.0]['code'].value_counts().plot.barh(label='Flooded', color='orange', alpha=0.5)\n",
    "subsample_even[subsample_even['flood'] == 0.0]['code'].value_counts().plot.barh(label='Not Flooded', alpha=0.5, ax=ax)\n",
    "\n",
    "# majority = subsample_even[subsample_even['flood'] == 0.0]\n",
    "# majority[majority['tag'] == 'poça']['code'].value_counts().plot.barh(label='Not Flooded (Pud)', color='green', alpha=0.5, ax=ax)\n",
    "# majority[majority['tag'] == 'normal']['code'].value_counts().plot.barh(label='Not Flooded (Normal)', alpha=0.5, ax=ax)\n",
    "\n",
    "plt.title('Images per camera')\n",
    "plt.legend()\n",
    "plt.show()"
   ]
  },
  {
   "cell_type": "markdown",
   "id": "d1ce5e4f-7e63-40ad-aa83-4e841752cc98",
   "metadata": {},
   "source": [
    "#### Final undersample variables"
   ]
  },
  {
   "cell_type": "code",
   "execution_count": 20,
   "id": "6cd8d448-9b99-401f-9646-4caa59bf7fa7",
   "metadata": {},
   "outputs": [],
   "source": [
    "x_res = subsample_even.drop('flood', axis=1)\n",
    "y_res = subsample_even['flood'].copy()\n",
    "groups_res = subsample_even['code'].copy()"
   ]
  },
  {
   "cell_type": "markdown",
   "id": "06be384a-040c-493e-a7d5-c046459662d8",
   "metadata": {},
   "source": [
    "---\n",
    "### OPTION 4: Balanced sampling per camera"
   ]
  },
  {
   "cell_type": "code",
   "execution_count": 47,
   "id": "51f4696e-a96e-46ce-8510-851224b353f5",
   "metadata": {},
   "outputs": [],
   "source": [
    "import numpy as np\n",
    "\n",
    "def group_even_undersample(x, y, groups, prct=0.5, n=None, random_state=None):\n",
    "    group_cnt = groups.value_counts()\n",
    "    if n is None:\n",
    "        n = int(np.percentile(group_cnt, prct * 100))\n",
    "    index = []\n",
    "    for group in group_cnt.index:\n",
    "        index += y[groups == group].sample(min(n, group_cnt[group]), replace=False, random_state=random_state).index.tolist()\n",
    "    return x.loc[index], y.loc[index]"
   ]
  },
  {
   "cell_type": "markdown",
   "id": "be98168c-b424-47f1-9f12-d230343a4d49",
   "metadata": {},
   "source": [
    "#### Undersample per camera"
   ]
  },
  {
   "cell_type": "code",
   "execution_count": 32,
   "id": "07c8309c-c391-4adb-85a2-b6f386900fba",
   "metadata": {},
   "outputs": [
    {
     "name": "stdout",
     "output_type": "stream",
     "text": [
      "Total samples: 33681\n",
      "\n"
     ]
    },
    {
     "data": {
      "text/plain": [
       "flood\n",
       "1    17329\n",
       "0    16352\n",
       "Name: count, dtype: int64"
      ]
     },
     "metadata": {},
     "output_type": "display_data"
    },
    {
     "name": "stdout",
     "output_type": "stream",
     "text": [
      "\n",
      "tag\n",
      "normal        10803\n",
      "lâmina         8759\n",
      "poça           5549\n",
      "alagamento     4335\n",
      "bolsão         4235\n",
      "Name: count, dtype: int64\n",
      "\n"
     ]
    },
    {
     "data": {
      "text/plain": [
       "Index([170628, 214759,  95782, 214947, 170520, 209463, 159342, 177932, 177869,\n",
       "       157941,\n",
       "       ...\n",
       "       197704, 182534, 188888, 188969, 197638, 197659, 197565, 204224, 182592,\n",
       "       182600],\n",
       "      dtype='int64', length=33681)"
      ]
     },
     "metadata": {},
     "output_type": "display_data"
    }
   ],
   "source": [
    "cnt_0 = groups[Y == 0.0].value_counts()\n",
    "cnt_1 = groups[Y == 1.0].value_counts()\n",
    "\n",
    "index = []\n",
    "for code in cnt_1.index:\n",
    "    Y_code = Y[groups == code]\n",
    "    n_samples = min(cnt_0.loc[code], cnt_1.loc[code])\n",
    "    index += Y_code[Y_code == 1.0].index.tolist()\n",
    "    index += Y_code[Y_code == 0.0].sample(n_samples, replace=replace, random_state=random_state).index.tolist()\n",
    "\n",
    "x_res = X.loc[index]\n",
    "y_res = Y.loc[index]\n",
    "y_multi_res = Y_multi.loc[index]\n",
    "groups_res = groups.loc[index]\n",
    "\n",
    "print('Total samples:', len(y_res))\n",
    "print()\n",
    "display(y_res.value_counts())\n",
    "print()\n",
    "print(y_multi_res.value_counts())\n",
    "print()\n",
    "display(y_res.index)"
   ]
  },
  {
   "cell_type": "markdown",
   "id": "fd7aa5f9-90bb-420c-99c8-6a05786667de",
   "metadata": {},
   "source": [
    "#### Class count per camera (excluding cameras without positive samples)"
   ]
  },
  {
   "cell_type": "code",
   "execution_count": 66,
   "id": "3d9fd6ec-9833-4fd4-a027-da05b77aa6d2",
   "metadata": {},
   "outputs": [
    {
     "data": {
      "text/html": [
       "<div>\n",
       "<style scoped>\n",
       "    .dataframe tbody tr th:only-of-type {\n",
       "        vertical-align: middle;\n",
       "    }\n",
       "\n",
       "    .dataframe tbody tr th {\n",
       "        vertical-align: top;\n",
       "    }\n",
       "\n",
       "    .dataframe thead th {\n",
       "        text-align: right;\n",
       "    }\n",
       "</style>\n",
       "<table border=\"1\" class=\"dataframe\">\n",
       "  <thead>\n",
       "    <tr style=\"text-align: right;\">\n",
       "      <th>code</th>\n",
       "      <th>278.0</th>\n",
       "      <th>235.0</th>\n",
       "      <th>1538.0</th>\n",
       "      <th>3181.0</th>\n",
       "      <th>326.0</th>\n",
       "      <th>1393.0</th>\n",
       "      <th>442.0</th>\n",
       "      <th>298.0</th>\n",
       "      <th>430.0</th>\n",
       "      <th>92.0</th>\n",
       "      <th>...</th>\n",
       "      <th>1606.0</th>\n",
       "      <th>3133.0</th>\n",
       "      <th>1430.0</th>\n",
       "      <th>1881.0</th>\n",
       "      <th>1119.0</th>\n",
       "      <th>1431.0</th>\n",
       "      <th>3114.0</th>\n",
       "      <th>268.0</th>\n",
       "      <th>313.0</th>\n",
       "      <th>1475.0</th>\n",
       "    </tr>\n",
       "  </thead>\n",
       "  <tbody>\n",
       "    <tr>\n",
       "      <th>class 0</th>\n",
       "      <td>3238</td>\n",
       "      <td>2266</td>\n",
       "      <td>1935</td>\n",
       "      <td>1800</td>\n",
       "      <td>1112</td>\n",
       "      <td>690</td>\n",
       "      <td>157</td>\n",
       "      <td>630</td>\n",
       "      <td>630</td>\n",
       "      <td>516</td>\n",
       "      <td>...</td>\n",
       "      <td>109</td>\n",
       "      <td>90</td>\n",
       "      <td>90</td>\n",
       "      <td>45</td>\n",
       "      <td>40</td>\n",
       "      <td>28</td>\n",
       "      <td>21</td>\n",
       "      <td>19</td>\n",
       "      <td>15</td>\n",
       "      <td>14</td>\n",
       "    </tr>\n",
       "    <tr>\n",
       "      <th>class 1</th>\n",
       "      <td>3238</td>\n",
       "      <td>2266</td>\n",
       "      <td>1935</td>\n",
       "      <td>1800</td>\n",
       "      <td>1112</td>\n",
       "      <td>849</td>\n",
       "      <td>675</td>\n",
       "      <td>630</td>\n",
       "      <td>630</td>\n",
       "      <td>516</td>\n",
       "      <td>...</td>\n",
       "      <td>109</td>\n",
       "      <td>90</td>\n",
       "      <td>90</td>\n",
       "      <td>45</td>\n",
       "      <td>40</td>\n",
       "      <td>28</td>\n",
       "      <td>21</td>\n",
       "      <td>19</td>\n",
       "      <td>15</td>\n",
       "      <td>14</td>\n",
       "    </tr>\n",
       "  </tbody>\n",
       "</table>\n",
       "<p>2 rows × 34 columns</p>\n",
       "</div>"
      ],
      "text/plain": [
       "code     278.0   235.0   1538.0  3181.0  326.0   1393.0  442.0   298.0   \\\n",
       "class 0    3238    2266    1935    1800    1112     690     157     630   \n",
       "class 1    3238    2266    1935    1800    1112     849     675     630   \n",
       "\n",
       "code     430.0   92.0    ...  1606.0  3133.0  1430.0  1881.0  1119.0  1431.0  \\\n",
       "class 0     630     516  ...     109      90      90      45      40      28   \n",
       "class 1     630     516  ...     109      90      90      45      40      28   \n",
       "\n",
       "code     3114.0  268.0   313.0   1475.0  \n",
       "class 0      21      19      15      14  \n",
       "class 1      21      19      15      14  \n",
       "\n",
       "[2 rows x 34 columns]"
      ]
     },
     "metadata": {},
     "output_type": "display_data"
    },
    {
     "data": {
      "image/png": "[encoded data removed]",
      "text/plain": [
       "<Figure size 700x250 with 1 Axes>"
      ]
     },
     "metadata": {},
     "output_type": "display_data"
    }
   ],
   "source": [
    "cnt_0 = groups_res[y_res == 0.0].value_counts()\n",
    "cnt_1 = groups_res[y_res == 1.0].value_counts()\n",
    "cnt_0 = cnt_0.loc[cnt_1.index]\n",
    "\n",
    "code_class_cnt = pd.concat([cnt_0.rename('class 0'), cnt_1.rename('class 1')], axis=1)\n",
    "display(code_class_cnt.T)\n",
    "\n",
    "fig = plt.figure(figsize=(7, 2.5))\n",
    "ax = fig.subplots(1, 1)\n",
    "\n",
    "code_class_cnt.plot.bar(width=0.8, ax=ax)\n",
    "plt.show()"
   ]
  },
  {
   "cell_type": "markdown",
   "id": "2254e550-d33f-4d06-9b75-b9514553aa14",
   "metadata": {},
   "source": [
    "#### Even groups sampling"
   ]
  },
  {
   "cell_type": "code",
   "execution_count": 55,
   "id": "2c493ee7-b4f8-4d69-9056-384bec824454",
   "metadata": {},
   "outputs": [
    {
     "name": "stdout",
     "output_type": "stream",
     "text": [
      "Total samples: 5724\n",
      "\n"
     ]
    },
    {
     "data": {
      "text/plain": [
       "flood\n",
       "0    2862\n",
       "1    2862\n",
       "Name: count, dtype: int64"
      ]
     },
     "metadata": {},
     "output_type": "display_data"
    },
    {
     "name": "stdout",
     "output_type": "stream",
     "text": [
      "\n",
      "tag\n",
      "normal        1687\n",
      "lâmina        1326\n",
      "poça          1175\n",
      "alagamento     883\n",
      "bolsão         653\n",
      "Name: count, dtype: int64\n",
      "\n"
     ]
    },
    {
     "data": {
      "text/plain": [
       "Index([163557, 160725, 163347, 178427, 161525, 178743, 178469, 159483, 158247,\n",
       "        92150,\n",
       "       ...\n",
       "       188826, 188831, 188828, 188827, 188832, 188833, 188829, 188834, 188825,\n",
       "       188824],\n",
       "      dtype='int64', length=5724)"
      ]
     },
     "metadata": {},
     "output_type": "display_data"
    }
   ],
   "source": [
    "msk_0 = y_res == 0.0\n",
    "msk_1 = y_res == 1.0\n",
    "\n",
    "x_even_0, y_even_0 = group_even_undersample(x_res[msk_0], y_res[msk_0], groups_res[msk_0], n=100, random_state=random_state)\n",
    "x_even_1, y_even_1 = group_even_undersample(x_res[msk_1], y_res[msk_1], groups_res[msk_1], n=100, random_state=random_state)\n",
    "\n",
    "y_even = pd.concat([y_even_0, y_even_1])\n",
    "x_even = X.loc[y_even.index]\n",
    "groups_even = groups.loc[y_even.index]\n",
    "y_multi_even = Y_multi.loc[y_even.index]\n",
    "\n",
    "print('Total samples:', len(y_even))\n",
    "print()\n",
    "display(y_even.value_counts())\n",
    "print()\n",
    "print(y_multi_even.value_counts())\n",
    "print()\n",
    "display(y_even.index)"
   ]
  },
  {
   "cell_type": "markdown",
   "id": "54746dcd-299e-4a83-98d1-613020ff5ec5",
   "metadata": {},
   "source": [
    "#### Class count per camera (excluding cameras without positive samples)"
   ]
  },
  {
   "cell_type": "code",
   "execution_count": 65,
   "id": "b0fd8bb3-2117-48b2-9cba-12468919789e",
   "metadata": {},
   "outputs": [
    {
     "data": {
      "text/html": [
       "<div>\n",
       "<style scoped>\n",
       "    .dataframe tbody tr th:only-of-type {\n",
       "        vertical-align: middle;\n",
       "    }\n",
       "\n",
       "    .dataframe tbody tr th {\n",
       "        vertical-align: top;\n",
       "    }\n",
       "\n",
       "    .dataframe thead th {\n",
       "        text-align: right;\n",
       "    }\n",
       "</style>\n",
       "<table border=\"1\" class=\"dataframe\">\n",
       "  <thead>\n",
       "    <tr style=\"text-align: right;\">\n",
       "      <th>code</th>\n",
       "      <th>278.0</th>\n",
       "      <th>3290.0</th>\n",
       "      <th>1606.0</th>\n",
       "      <th>1994.0</th>\n",
       "      <th>339.0</th>\n",
       "      <th>310.0</th>\n",
       "      <th>384.0</th>\n",
       "      <th>2017.0</th>\n",
       "      <th>1083.0</th>\n",
       "      <th>235.0</th>\n",
       "      <th>...</th>\n",
       "      <th>2206.0</th>\n",
       "      <th>3133.0</th>\n",
       "      <th>1430.0</th>\n",
       "      <th>1881.0</th>\n",
       "      <th>1119.0</th>\n",
       "      <th>1431.0</th>\n",
       "      <th>3114.0</th>\n",
       "      <th>268.0</th>\n",
       "      <th>313.0</th>\n",
       "      <th>1475.0</th>\n",
       "    </tr>\n",
       "  </thead>\n",
       "  <tbody>\n",
       "    <tr>\n",
       "      <th>class 0</th>\n",
       "      <td>100</td>\n",
       "      <td>100</td>\n",
       "      <td>100</td>\n",
       "      <td>100</td>\n",
       "      <td>100</td>\n",
       "      <td>100</td>\n",
       "      <td>100</td>\n",
       "      <td>100</td>\n",
       "      <td>100</td>\n",
       "      <td>100</td>\n",
       "      <td>...</td>\n",
       "      <td>100</td>\n",
       "      <td>90</td>\n",
       "      <td>90</td>\n",
       "      <td>45</td>\n",
       "      <td>40</td>\n",
       "      <td>28</td>\n",
       "      <td>21</td>\n",
       "      <td>19</td>\n",
       "      <td>15</td>\n",
       "      <td>14</td>\n",
       "    </tr>\n",
       "    <tr>\n",
       "      <th>class 1</th>\n",
       "      <td>100</td>\n",
       "      <td>100</td>\n",
       "      <td>100</td>\n",
       "      <td>100</td>\n",
       "      <td>100</td>\n",
       "      <td>100</td>\n",
       "      <td>100</td>\n",
       "      <td>100</td>\n",
       "      <td>100</td>\n",
       "      <td>100</td>\n",
       "      <td>...</td>\n",
       "      <td>100</td>\n",
       "      <td>90</td>\n",
       "      <td>90</td>\n",
       "      <td>45</td>\n",
       "      <td>40</td>\n",
       "      <td>28</td>\n",
       "      <td>21</td>\n",
       "      <td>19</td>\n",
       "      <td>15</td>\n",
       "      <td>14</td>\n",
       "    </tr>\n",
       "  </tbody>\n",
       "</table>\n",
       "<p>2 rows × 34 columns</p>\n",
       "</div>"
      ],
      "text/plain": [
       "code     278.0   3290.0  1606.0  1994.0  339.0   310.0   384.0   2017.0  \\\n",
       "class 0     100     100     100     100     100     100     100     100   \n",
       "class 1     100     100     100     100     100     100     100     100   \n",
       "\n",
       "code     1083.0  235.0   ...  2206.0  3133.0  1430.0  1881.0  1119.0  1431.0  \\\n",
       "class 0     100     100  ...     100      90      90      45      40      28   \n",
       "class 1     100     100  ...     100      90      90      45      40      28   \n",
       "\n",
       "code     3114.0  268.0   313.0   1475.0  \n",
       "class 0      21      19      15      14  \n",
       "class 1      21      19      15      14  \n",
       "\n",
       "[2 rows x 34 columns]"
      ]
     },
     "metadata": {},
     "output_type": "display_data"
    },
    {
     "data": {
      "image/png": "[encoded data removed]",
      "text/plain": [
       "<Figure size 700x250 with 1 Axes>"
      ]
     },
     "metadata": {},
     "output_type": "display_data"
    }
   ],
   "source": [
    "cnt_0 = groups_even[y_even == 0.0].value_counts()\n",
    "cnt_1 = groups_even[y_even == 1.0].value_counts()\n",
    "cnt_0 = cnt_0.loc[cnt_1.index]\n",
    "\n",
    "code_class_cnt = pd.concat([cnt_0.rename('class 0'), cnt_1.rename('class 1')], axis=1)\n",
    "display(code_class_cnt.T)\n",
    "\n",
    "fig = plt.figure(figsize=(7, 2.5))\n",
    "ax = fig.subplots(1, 1)\n",
    "\n",
    "code_class_cnt.plot.bar(width=0.8, ax=ax)\n",
    "# plt.legend(loc='lower left')\n",
    "# plt.tight_layout()\n",
    "plt.show()"
   ]
  },
  {
   "cell_type": "markdown",
   "id": "7faf5221-ad8f-4548-ae41-ab91d51a9136",
   "metadata": {},
   "source": [
    "#### Get `x_res` `y_res` and `groups_res`"
   ]
  },
  {
   "cell_type": "code",
   "execution_count": 67,
   "id": "5b2445b0-5870-4be1-b3c5-5e02f1048673",
   "metadata": {},
   "outputs": [],
   "source": [
    "x_res = X.loc[y_even.index].copy()\n",
    "y_res = Y.loc[y_even.index].copy()\n",
    "groups_res = groups.loc[y_even.index].copy()"
   ]
  }
 ],
 "metadata": {
  "kernelspec": {
   "display_name": "Python 3 (ipykernel)",
   "language": "python",
   "name": "python3"
  },
  "language_info": {
   "codemirror_mode": {
    "name": "ipython",
    "version": 3
   },
   "file_extension": ".py",
   "mimetype": "text/x-python",
   "name": "python",
   "nbconvert_exporter": "python",
   "pygments_lexer": "ipython3",
   "version": "3.11.3"
  }
 },
 "nbformat": 4,
 "nbformat_minor": 5
}
