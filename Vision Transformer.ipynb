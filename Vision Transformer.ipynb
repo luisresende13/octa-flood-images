{
 "cells": [
  {
   "cell_type": "markdown",
   "id": "6af6f071-f6f7-49ac-b071-da1ca4fc8a66",
   "metadata": {},
   "source": [
    "# Train Last Layer of Vision Transformer Classification Network from 'train' and 'test' Image Folders"
   ]
  },
  {
   "cell_type": "markdown",
   "id": "dac849fb-011d-4be2-8214-804c347a30dd",
   "metadata": {},
   "source": [
    "### Import modules"
   ]
  },
  {
   "cell_type": "code",
   "execution_count": 20,
   "id": "3115b495-b2f5-457b-8bad-a3eb9a8727fa",
   "metadata": {},
   "outputs": [],
   "source": [
    "import torch\n",
    "import torch.nn as nn\n",
    "import torch.optim as optim\n",
    "from torch.optim import lr_scheduler\n",
    "import torchvision\n",
    "from torchvision import datasets, models, transforms\n",
    "import os\n",
    "import time\n",
    "from datetime import datetime\n",
    "import copy\n",
    "from unidecode import unidecode"
   ]
  },
  {
   "cell_type": "markdown",
   "id": "fdf8bae6-40f6-416e-b4e8-8aacae841cc4",
   "metadata": {},
   "source": [
    "### Define training function"
   ]
  },
  {
   "cell_type": "code",
   "execution_count": 15,
   "id": "4645761c-83fa-48c2-96cb-993cba8dc028",
   "metadata": {},
   "outputs": [],
   "source": [
    "# Training loop\n",
    "def train_model(model, criterion, optimizer, scheduler, num_epochs=25):\n",
    "    since = time.time()\n",
    "\n",
    "    best_model_wts = copy.deepcopy(model.state_dict())\n",
    "    best_acc = 0.0\n",
    "\n",
    "    for epoch in range(num_epochs):\n",
    "        print(f'Epoch {epoch+1}/{num_epochs}')\n",
    "        print('-' * 10)\n",
    "\n",
    "        # Training and validation phases\n",
    "        for phase in split_dirs:\n",
    "            # Set model mode (train/eval)\n",
    "            if phase == split_dirs[0]:\n",
    "                model.train()\n",
    "            else:\n",
    "                model.eval()\n",
    "\n",
    "            running_loss = 0.0\n",
    "            running_corrects = 0\n",
    "\n",
    "            # Iterate over data\n",
    "            for inputs, labels in dataloaders[phase]:\n",
    "                inputs = inputs.to(device)\n",
    "                labels = labels.to(device)\n",
    "\n",
    "                # Zero the parameter gradients\n",
    "                optimizer.zero_grad()\n",
    "\n",
    "                # Forward pass\n",
    "                with torch.set_grad_enabled(phase == split_dirs[0]):\n",
    "                    outputs = model(inputs)\n",
    "                    _, preds = torch.max(outputs, 1)\n",
    "                    loss = criterion(outputs, labels)\n",
    "\n",
    "                    # Backward pass and optimization in training phase\n",
    "                    if phase == split_dirs[0]:\n",
    "                        loss.backward()\n",
    "                        optimizer.step()\n",
    "\n",
    "                # Statistics\n",
    "                running_loss += loss.item() * inputs.size(0)\n",
    "                running_corrects += torch.sum(preds == labels.data)\n",
    "\n",
    "            # Adjust learning rate in the scheduler\n",
    "            if phase == split_dirs[0]:\n",
    "                scheduler.step()\n",
    "\n",
    "            # Calculate epoch statistics\n",
    "            epoch_loss = running_loss / dataset_sizes[phase]\n",
    "            epoch_acc = running_corrects.double() / dataset_sizes[phase]\n",
    "\n",
    "            print(f'{phase} Loss: {epoch_loss:.4f} Acc: {epoch_acc:.4f}')\n",
    "\n",
    "            # Save the best model weights\n",
    "            if phase == split_dirs[1] and epoch_acc > best_acc:\n",
    "                best_acc = epoch_acc\n",
    "                best_model_wts = copy.deepcopy(model.state_dict())\n",
    "\n",
    "        print()\n",
    "\n",
    "    time_elapsed = time.time() - since\n",
    "    print(f'Training complete in {time_elapsed // 60:.0f}m {time_elapsed % 60:.0f}s')\n",
    "    print(f'Best val Acc: {best_acc:.4f}')\n",
    "\n",
    "    # Load best model weights\n",
    "    model.load_state_dict(best_model_wts)\n",
    "    return model"
   ]
  },
  {
   "cell_type": "markdown",
   "id": "19f3c61a-a273-41b4-8b5d-2816f39af177",
   "metadata": {},
   "source": [
    "### Define main parameters"
   ]
  },
  {
   "cell_type": "code",
   "execution_count": 27,
   "id": "bbbdc1b1-cb0e-4867-82c8-498c27e193ef",
   "metadata": {},
   "outputs": [
    {
     "name": "stderr",
     "output_type": "stream",
     "text": [
      "C:\\Users\\luisr\\anaconda3\\Lib\\site-packages\\torchvision\\models\\_utils.py:208: UserWarning: The parameter 'pretrained' is deprecated since 0.13 and may be removed in the future, please use 'weights' instead.\n",
      "  warnings.warn(\n",
      "C:\\Users\\luisr\\anaconda3\\Lib\\site-packages\\torchvision\\models\\_utils.py:223: UserWarning: Arguments other than a weight enum or `None` for 'weights' are deprecated since 0.13 and may be removed in the future. The current behavior is equivalent to passing `weights=ViT_B_16_Weights.IMAGENET1K_V1`. You can also use `weights=ViT_B_16_Weights.DEFAULT` to get the most up-to-date weights.\n",
      "  warnings.warn(msg)\n"
     ]
    }
   ],
   "source": [
    "# Set your data directory and class names\n",
    "data_dir = r\"C:\\Users\\luisr\\Repositories\\Code Projects\\flood-vision\\data\\samples\\1\"\n",
    "split_dirs = ['train', 'test']\n",
    "class_names = ['0', '1']\n",
    "num_workers = 2\n",
    "\n",
    "# Define data transformations\n",
    "data_transforms = {\n",
    "    split_dirs[0]: transforms.Compose([\n",
    "        transforms.RandomHorizontalFlip(),\n",
    "        transforms.Resize(256),\n",
    "        transforms.CenterCrop(224),\n",
    "        transforms.ToTensor(),\n",
    "        transforms.Normalize(mean=[0.485, 0.456, 0.406], std=[0.229, 0.224, 0.225])\n",
    "    ]),\n",
    "    split_dirs[1]: transforms.Compose([\n",
    "        transforms.Resize(256),\n",
    "        transforms.CenterCrop(224),\n",
    "        transforms.ToTensor(),\n",
    "        transforms.Normalize(mean=[0.485, 0.456, 0.406], std=[0.229, 0.224, 0.225])\n",
    "    ]),\n",
    "}\n",
    "\n",
    "# Create datasets and data loaders\n",
    "image_datasets = {x: datasets.ImageFolder(os.path.join(data_dir, x), data_transforms[x]) for x in split_dirs}\n",
    "dataloaders = {x: torch.utils.data.DataLoader(image_datasets[x], batch_size=4, shuffle=True, num_workers=num_workers) for x in split_dirs}\n",
    "dataset_sizes = {x: len(image_datasets[x]) for x in split_dirs}\n",
    "\n",
    "# Define your custom Vision Transformer model and modify the classification head for binary classification\n",
    "model = models.vit_b_16(pretrained=True)\n",
    "for param in model.parameters(): # Turning parameters not trainable\n",
    "    param.requires_grad = False\n",
    "model.heads = nn.Linear(768, 2) # A newly defined layer is created with requires_grad=True by default\n",
    "\n",
    "# Check device availability for CUDA (GPU) usage\n",
    "device = torch.device(\"cuda:0\" if torch.cuda.is_available() else \"cpu\")\n",
    "\n",
    "# Define your custom loss function and optimizer\n",
    "criterion = nn.CrossEntropyLoss()\n",
    "optimizer = optim.SGD(model.parameters(), lr=0.001)\n",
    "step_lr_scheduler = lr_scheduler.StepLR(optimizer, step_size=7, gamma=0.1)"
   ]
  },
  {
   "cell_type": "markdown",
   "id": "fbdc3ba7-b520-41f1-a214-b90e867d3187",
   "metadata": {},
   "source": [
    "### Train and save the best model"
   ]
  },
  {
   "cell_type": "code",
   "execution_count": 28,
   "id": "32f2df0a-0caa-40d6-8dd4-c5b2f9827794",
   "metadata": {},
   "outputs": [
    {
     "name": "stdout",
     "output_type": "stream",
     "text": [
      "Epoch 1/10\n",
      "----------\n",
      "train Loss: 0.7307 Acc: 0.4800\n",
      "test Loss: 0.7006 Acc: 0.5000\n",
      "\n",
      "Epoch 2/10\n",
      "----------\n",
      "train Loss: 0.6430 Acc: 0.7200\n",
      "test Loss: 0.6830 Acc: 0.5400\n",
      "\n",
      "Epoch 3/10\n",
      "----------\n",
      "train Loss: 0.6015 Acc: 0.6800\n",
      "test Loss: 0.6680 Acc: 0.5400\n",
      "\n",
      "Epoch 4/10\n",
      "----------\n",
      "train Loss: 0.5564 Acc: 0.7800\n",
      "test Loss: 0.6634 Acc: 0.6200\n",
      "\n",
      "Epoch 5/10\n",
      "----------\n",
      "train Loss: 0.5126 Acc: 0.7800\n",
      "test Loss: 0.6587 Acc: 0.6000\n",
      "\n",
      "Epoch 6/10\n",
      "----------\n",
      "train Loss: 0.4764 Acc: 0.8600\n",
      "test Loss: 0.6539 Acc: 0.6600\n",
      "\n",
      "Epoch 7/10\n",
      "----------\n",
      "train Loss: 0.4515 Acc: 0.8400\n",
      "test Loss: 0.6530 Acc: 0.6600\n",
      "\n",
      "Epoch 8/10\n",
      "----------\n",
      "train Loss: 0.4191 Acc: 0.8800\n",
      "test Loss: 0.6530 Acc: 0.6600\n",
      "\n",
      "Epoch 9/10\n",
      "----------\n",
      "train Loss: 0.4151 Acc: 0.8600\n",
      "test Loss: 0.6529 Acc: 0.6600\n",
      "\n",
      "Epoch 10/10\n",
      "----------\n",
      "train Loss: 0.4165 Acc: 0.8800\n",
      "test Loss: 0.6528 Acc: 0.6600\n",
      "\n",
      "Training complete in 7m 19s\n",
      "Best val Acc: 0.6600\n"
     ]
    }
   ],
   "source": [
    "# Set model processing device\n",
    "model = model.to(device)\n",
    "\n",
    "# Train the model\n",
    "trained_model = train_model(model, criterion, optimizer, step_lr_scheduler, num_epochs=10)\n",
    "\n",
    "# Save the trained model\n",
    "torch.save(trained_model.state_dict(), 'trained_model.pth')"
   ]
  }
 ],
 "metadata": {
  "kernelspec": {
   "display_name": "Python 3 (ipykernel)",
   "language": "python",
   "name": "python3"
  },
  "language_info": {
   "codemirror_mode": {
    "name": "ipython",
    "version": 3
   },
   "file_extension": ".py",
   "mimetype": "text/x-python",
   "name": "python",
   "nbconvert_exporter": "python",
   "pygments_lexer": "ipython3",
   "version": "3.11.3"
  }
 },
 "nbformat": 4,
 "nbformat_minor": 5
}
