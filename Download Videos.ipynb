{
 "cells": [
  {
   "cell_type": "markdown",
   "id": "38f72f68-397a-4495-b523-07ddb8ee32f7",
   "metadata": {},
   "source": [
    "## Download videos, images and datasets from Octa City's collection of flood videos"
   ]
  },
  {
   "cell_type": "markdown",
   "id": "25ab1ae5-500c-46db-9700-6570bdb04fde",
   "metadata": {},
   "source": [
    "#### Download mongo `Videos Localizados` collections as pandas dataframe"
   ]
  },
  {
   "cell_type": "code",
   "execution_count": 46,
   "id": "65f8be81-4940-4757-a404-78b7294f8e23",
   "metadata": {},
   "outputs": [
    {
     "name": "stdout",
     "output_type": "stream",
     "text": [
      "Arquivos de vídeo do dataset:  (62017, 15)\n"
     ]
    }
   ],
   "source": [
    "from modules.mongo import MongoDB\n",
    "import pandas as pd\n",
    "import json\n",
    "\n",
    "conn_str = 'your_mongo_connection_string'\n",
    "mongo = MongoDB(conn_str)\n",
    "\n",
    "# Get entire MongoDB collection as list of objects\n",
    "data = mongo.get('Waterbag', 'Videos Localizados')\n",
    "\n",
    "# Convert to pandas dataframe\n",
    "df = pd.DataFrame(data)\n",
    "\n",
    "# Convert 'tags' json field to string\n",
    "df['tags'] = df['tags'].apply(json.dumps)\n",
    "\n",
    "# Save as pandas dataframe\n",
    "df.to_csv('data/datasets/videos.csv', index=False)\n",
    "\n",
    "print('Arquivos de vídeo do dataset: ', df.shape)"
   ]
  },
  {
   "cell_type": "markdown",
   "id": "df9c7a24-1d00-4342-bae6-e6695e114e62",
   "metadata": {},
   "source": [
    "#### Reload data"
   ]
  },
  {
   "cell_type": "code",
   "execution_count": 4,
   "id": "c08ee6f0-afee-4d89-8415-395b2db57f82",
   "metadata": {},
   "outputs": [],
   "source": [
    "import pandas as pd\n",
    "\n",
    "df = pd.read_csv('data/datasets/videos.csv')"
   ]
  },
  {
   "cell_type": "markdown",
   "id": "7311e48a-f2d9-4401-b849-36ff3f40c993",
   "metadata": {},
   "source": [
    "#### Preprocessing"
   ]
  },
  {
   "cell_type": "code",
   "execution_count": 5,
   "id": "933138af-ccd4-459a-8c6e-c0465823754f",
   "metadata": {},
   "outputs": [
    {
     "name": "stdout",
     "output_type": "stream",
     "text": [
      "Vídeos assistidos: 0\n",
      "Vídeos rotulados: 139\n",
      "Câmeras com rótulos: 19\n",
      "Vídeos de câmeras com rótulos: 4761\n",
      "\n",
      "ROWS WITH MISSING VALUES:\n"
     ]
    },
    {
     "data": {
      "text/html": [
       "<div>\n",
       "<style scoped>\n",
       "    .dataframe tbody tr th:only-of-type {\n",
       "        vertical-align: middle;\n",
       "    }\n",
       "\n",
       "    .dataframe tbody tr th {\n",
       "        vertical-align: top;\n",
       "    }\n",
       "\n",
       "    .dataframe thead th {\n",
       "        text-align: right;\n",
       "    }\n",
       "</style>\n",
       "<table border=\"1\" class=\"dataframe\">\n",
       "  <thead>\n",
       "    <tr style=\"text-align: right;\">\n",
       "      <th></th>\n",
       "      <th>_id</th>\n",
       "      <th>blob_name</th>\n",
       "      <th>blob_size</th>\n",
       "      <th>bucket_name</th>\n",
       "      <th>file_name</th>\n",
       "      <th>code</th>\n",
       "      <th>n_folders</th>\n",
       "      <th>timestamp</th>\n",
       "      <th>folder_structure</th>\n",
       "      <th>folder</th>\n",
       "      <th>tags</th>\n",
       "      <th>url</th>\n",
       "      <th>api_url</th>\n",
       "      <th>bucket</th>\n",
       "      <th>seen</th>\n",
       "    </tr>\n",
       "  </thead>\n",
       "  <tbody>\n",
       "    <tr>\n",
       "      <th>18462</th>\n",
       "      <td>6504ff5b874b309c35491888</td>\n",
       "      <td>comando/CODE2017 2023-04-14 17-41-36.mp4</td>\n",
       "      <td>NaN</td>\n",
       "      <td>flood-video-collection</td>\n",
       "      <td>NaN</td>\n",
       "      <td>NaN</td>\n",
       "      <td>NaN</td>\n",
       "      <td>NaN</td>\n",
       "      <td>NaN</td>\n",
       "      <td>NaN</td>\n",
       "      <td>[alagamento, bolsão]</td>\n",
       "      <td>NaN</td>\n",
       "      <td>NaN</td>\n",
       "      <td>flood-videos-stamped</td>\n",
       "      <td>False</td>\n",
       "    </tr>\n",
       "    <tr>\n",
       "      <th>18463</th>\n",
       "      <td>6505012a874b309c35491889</td>\n",
       "      <td>comando/lâmina/101084/CODE2205 2023-08-20 12-0...</td>\n",
       "      <td>NaN</td>\n",
       "      <td>flood-video-collection</td>\n",
       "      <td>NaN</td>\n",
       "      <td>NaN</td>\n",
       "      <td>NaN</td>\n",
       "      <td>NaN</td>\n",
       "      <td>NaN</td>\n",
       "      <td>NaN</td>\n",
       "      <td>[lâmina]</td>\n",
       "      <td>NaN</td>\n",
       "      <td>NaN</td>\n",
       "      <td>flood-videos-stamped</td>\n",
       "      <td>False</td>\n",
       "    </tr>\n",
       "    <tr>\n",
       "      <th>18464</th>\n",
       "      <td>65050136874b309c3549188a</td>\n",
       "      <td>comando/lâmina/101084/CODE2206 2023-08-20 12-1...</td>\n",
       "      <td>NaN</td>\n",
       "      <td>flood-video-collection</td>\n",
       "      <td>NaN</td>\n",
       "      <td>NaN</td>\n",
       "      <td>NaN</td>\n",
       "      <td>NaN</td>\n",
       "      <td>NaN</td>\n",
       "      <td>NaN</td>\n",
       "      <td>[lâmina]</td>\n",
       "      <td>NaN</td>\n",
       "      <td>NaN</td>\n",
       "      <td>flood-videos-stamped</td>\n",
       "      <td>False</td>\n",
       "    </tr>\n",
       "  </tbody>\n",
       "</table>\n",
       "</div>"
      ],
      "text/plain": [
       "                            _id  \\\n",
       "18462  6504ff5b874b309c35491888   \n",
       "18463  6505012a874b309c35491889   \n",
       "18464  65050136874b309c3549188a   \n",
       "\n",
       "                                               blob_name  blob_size  \\\n",
       "18462           comando/CODE2017 2023-04-14 17-41-36.mp4        NaN   \n",
       "18463  comando/lâmina/101084/CODE2205 2023-08-20 12-0...        NaN   \n",
       "18464  comando/lâmina/101084/CODE2206 2023-08-20 12-1...        NaN   \n",
       "\n",
       "                  bucket_name file_name  code  n_folders timestamp  \\\n",
       "18462  flood-video-collection       NaN   NaN        NaN       NaN   \n",
       "18463  flood-video-collection       NaN   NaN        NaN       NaN   \n",
       "18464  flood-video-collection       NaN   NaN        NaN       NaN   \n",
       "\n",
       "      folder_structure folder                  tags  url api_url  \\\n",
       "18462              NaN    NaN  [alagamento, bolsão]  NaN     NaN   \n",
       "18463              NaN    NaN              [lâmina]  NaN     NaN   \n",
       "18464              NaN    NaN              [lâmina]  NaN     NaN   \n",
       "\n",
       "                     bucket   seen  \n",
       "18462  flood-videos-stamped  False  \n",
       "18463  flood-videos-stamped  False  \n",
       "18464  flood-videos-stamped  False  "
      ]
     },
     "metadata": {},
     "output_type": "display_data"
    }
   ],
   "source": [
    "import json\n",
    "\n",
    "df['tags'] = df['tags'].apply(json.loads)\n",
    "\n",
    "df_custom = df.copy()\n",
    "df_custom['bucket_name'] = 'flood-video-collection'\n",
    "df_custom['blob_name'] = df_custom['blob_name'].str.replace('.webm', '.mp4') # reproduce the .mp4 collection using the .webm collection\n",
    "\n",
    "\n",
    "## == Report preprocessed dataset ===============\n",
    "\n",
    "seen = df_custom['seen'].sum()\n",
    "tagged = ~df['tags'].isin([[]])\n",
    "cameras_with_labels = df[tagged]['code'].unique()\n",
    "videos_from_cameras_with_labels = df[df['code'].isin(cameras_with_labels)]\n",
    "\n",
    "print('Vídeos assistidos:', seen)\n",
    "print('Vídeos rotulados:', tagged.sum())\n",
    "print('Câmeras com rótulos:', len(cameras_with_labels))\n",
    "print('Vídeos de câmeras com rótulos:', len(videos_from_cameras_with_labels))\n",
    "\n",
    "print('\\nROWS WITH MISSING VALUES:')\n",
    "display(df_custom[df_custom['timestamp'].isna()])\n",
    "\n",
    "\n",
    "## == DROP ROWS WITH MISSING TIMESTAMPS ===========\n",
    "\n",
    "df_custom.dropna(subset=['timestamp'], inplace=True)\n"
   ]
  },
  {
   "cell_type": "markdown",
   "id": "f5c0a80f-96db-4ee3-9cf3-e3018fe6ed2d",
   "metadata": {},
   "source": [
    "#### Utility functions"
   ]
  },
  {
   "cell_type": "code",
   "execution_count": 6,
   "id": "52a20a51-b0cd-4ea2-944d-2897ecd55841",
   "metadata": {},
   "outputs": [],
   "source": [
    "from modules.octa_video_util import filter_by_query, _assign_tag\n",
    "from modules.octa_video_util import VideoDownloader, VideoFrameExtractor\n",
    "from modules.octa_video_util import buildImageDataset, buildImageDatasetThreads\n",
    "from modules.octa_video_util import copy_images_to_folders"
   ]
  },
  {
   "cell_type": "markdown",
   "id": "6fdc9d06-255e-45b9-8eb5-cfecdcf0db3e",
   "metadata": {},
   "source": [
    "#### Download videos based on attributes"
   ]
  },
  {
   "cell_type": "code",
   "execution_count": 7,
   "id": "cc2fcc56-ab7a-4c51-8e04-4bf972e8bcd1",
   "metadata": {},
   "outputs": [
    {
     "name": "stdout",
     "output_type": "stream",
     "text": [
      "DONE! 83/83 files downloaded.0%)\n"
     ]
    }
   ],
   "source": [
    "# from modules.octa_video_util import VideoDownloader\n",
    "\n",
    "target_directory = 'data/videos'\n",
    "bucket_name = 'flood-video-collection'\n",
    "\n",
    "query_params = {'code': [101, 102, 103], 'seen': [True, False]} \n",
    "\n",
    "overwrite = False\n",
    "credentials_path = '../../Flask APIs/cams-rio-api/auth/octacity-iduff.json'\n",
    "max_threads = 30\n",
    "\n",
    "downloader = VideoDownloader(df_custom, target_directory, credentials_path, max_threads)\n",
    "downloader.download_videos(query_params, overwrite)\n"
   ]
  },
  {
   "cell_type": "markdown",
   "id": "75f260c0-7ca4-4225-b2b3-17f4ced11bfb",
   "metadata": {},
   "source": [
    "#### Breakdown videos' frames"
   ]
  },
  {
   "cell_type": "code",
   "execution_count": 8,
   "id": "34244ea9-66fb-4f39-87a0-31f707e13bbb",
   "metadata": {},
   "outputs": [
    {
     "name": "stdout",
     "output_type": "stream",
     "text": [
      "Extracted 45/45 frames from data/videos\\waze/flood/fd1952e4-631d-4d83-908f-512e99203c46/103/CODE103 2023-04-08 10-33-33.mp4Extracted 45/45 frames from data/videos\\waze/flood/38cf318e-7927-4266-a98a-74de426c617f/103/CODE103 2023-08-28 09-50-06.mp4\r"
     ]
    }
   ],
   "source": [
    "# from modules.octa_video_util import VideoFrameExtractor\n",
    "# from modules.octa_video_util import filter_by_query\n",
    "\n",
    "base_directory = 'data/videos'\n",
    "target_directory = 'data/images'\n",
    "query_params = {'code': [101, 102, 103], 'seen': [True, False]} \n",
    "\n",
    "df_filtered = filter_by_query(df_custom, query_params).copy()\n",
    "overwrite = False\n",
    "MAX_THREADS = 10  # WATCH OUT\n",
    "\n",
    "frame_extractor = VideoFrameExtractor(df_filtered, base_directory, target_directory, MAX_THREADS)\n",
    "frame_extractor.extract_frames(overwrite)\n"
   ]
  },
  {
   "cell_type": "markdown",
   "id": "7d4cb053-6328-4a6e-8dd8-eafc63b0d576",
   "metadata": {},
   "source": [
    "#### Build images dataset"
   ]
  },
  {
   "cell_type": "markdown",
   "id": "17dbf5bb-9788-4b73-b663-e2918fac1c95",
   "metadata": {},
   "source": [
    "Create the dataset of images for all videos in `base_directory` folder\n",
    "\n",
    "Obs: To update to the latest tags, re-build the 'videos' dataset and pass it down to `buildImageDataset`"
   ]
  },
  {
   "cell_type": "code",
   "execution_count": 9,
   "id": "d3528ccc-4015-476b-a205-10b0f3686f70",
   "metadata": {},
   "outputs": [
    {
     "name": "stdout",
     "output_type": "stream",
     "text": [
      "Processed videos: 83/83 (100.0) %\n",
      "\n",
      "Image dataset shape: (2716, 11)\n",
      "Unique tags tag\n",
      "normal    2716\n",
      "Name: count, dtype: int64\n"
     ]
    }
   ],
   "source": [
    "# from modules.octa_video_util import buildImageDataset\n",
    "# from modules.octa_video_util import _assign_tag\n",
    "\n",
    "dataset = df_custom.copy()\n",
    "base_directory = 'data/videos'\n",
    "images_dataset_path = 'data/datasets/images.csv'\n",
    "fps = 3\n",
    "tags_priority_list = ['alagamento', 'bolsão', 'lâmina', 'transbordo', 'poça']\n",
    "\n",
    "# Build images dataset\n",
    "df_images =  buildImageDataset(dataset, base_directory, fps=3)\n",
    "\n",
    "# Create unique tag column based on class priority list\n",
    "df_images['tag'] = df_images['tags'].apply(lambda tags_list: _assign_tag(tags_list, tags_priority_list))\n",
    "\n",
    "# Save images dataset\n",
    "df_images.to_csv(images_dataset_path, index=False)\n",
    "\n",
    "# Print results\n",
    "print('Image dataset shape:', df_images.shape)\n",
    "print('Unique tags', df_images.tag.value_counts())"
   ]
  },
  {
   "attachments": {},
   "cell_type": "markdown",
   "id": "5319726a-f3da-41e4-a440-79e6e430968e",
   "metadata": {},
   "source": [
    "#### Build images dataset (Faster version with threads)"
   ]
  },
  {
   "cell_type": "markdown",
   "id": "56629b01-0f55-4144-925c-cde7130f9ff1",
   "metadata": {},
   "source": [
    "Create the dataset of images for all videos in `base_directory` folder"
   ]
  },
  {
   "cell_type": "markdown",
   "id": "f736a948-8b9f-4d96-abd5-0921acf35e4d",
   "metadata": {},
   "source": [
    "Obs: To update to the latest tags, re-build the 'videos' dataset and pass it down to `buildImageDatasetThreads`"
   ]
  },
  {
   "cell_type": "code",
   "execution_count": 10,
   "id": "c4b8aac5-c536-42d9-a19b-6d00432a1775",
   "metadata": {},
   "outputs": [
    {
     "name": "stdout",
     "output_type": "stream",
     "text": [
      "Processed videos: 83/83 (100.0) %\n",
      "\n",
      "Image dataset shape: (2716, 11)\n",
      "\n",
      "Unique tags: tag\n",
      "normal    2716\n",
      "Name: count, dtype: int64\n"
     ]
    }
   ],
   "source": [
    "# from modules.octa_video_util import buildImageDatasetThreads\n",
    "# from modules.octa_video_util import _assign_tag\n",
    "\n",
    "dataset = df_custom.copy()\n",
    "base_directory = 'data/videos'\n",
    "images_dataset_path = 'data/datasets/images.csv'\n",
    "fps = 3\n",
    "tags_priority_list = ['alagamento', 'bolsão', 'lâmina', 'transbordo', 'poça']\n",
    "print_each = 50\n",
    "max_threads = 10\n",
    "\n",
    "df_images = buildImageDatasetThreads(dataset, base_directory, fps, print_each, max_threads)\n",
    "\n",
    "# Create unique tag column\n",
    "df_images['tag'] = df_images['tags'].apply(lambda tags_list: _assign_tag(tags_list, tags_priority_list))\n",
    "\n",
    "# Save images dataset\n",
    "df_images.to_csv(images_dataset_path, index=False)\n",
    "\n",
    "# Print results\n",
    "print('\\nImage dataset shape:', df_images.shape)\n",
    "print('\\nUnique tags:', df_images.tag.value_counts())"
   ]
  },
  {
   "cell_type": "markdown",
   "id": "cc1acfbc-e3da-4b72-94c7-e939520cec3c",
   "metadata": {},
   "source": [
    "#### Reload images dataframe"
   ]
  },
  {
   "cell_type": "code",
   "execution_count": 11,
   "id": "27ddeb48-687a-4776-acc2-6ac33d6892d6",
   "metadata": {},
   "outputs": [
    {
     "name": "stdout",
     "output_type": "stream",
     "text": [
      "Imagens assistidas dos videos baixados: 0 / 2716\n"
     ]
    }
   ],
   "source": [
    "import pandas as pd\n",
    "\n",
    "df_images = pd.read_csv('data/datasets/images.csv')\n",
    "\n",
    "print('Imagens assistidas dos videos baixados:', df_images['seen'].sum(), '/', len(df_images))"
   ]
  },
  {
   "cell_type": "markdown",
   "id": "861a9653-7594-49a9-8594-ad0118d8d743",
   "metadata": {},
   "source": [
    "---\n",
    "## Example of train and test split + Copying image into train and test folders"
   ]
  },
  {
   "cell_type": "markdown",
   "id": "57a200b9-2dfc-40df-8019-f8b17ebf326e",
   "metadata": {},
   "source": [
    "#### Custom sampling of images (Example usage)"
   ]
  },
  {
   "cell_type": "code",
   "execution_count": 12,
   "id": "f84594e9-e33f-46b6-a8ba-f50fc8af91c3",
   "metadata": {},
   "outputs": [
    {
     "name": "stdout",
     "output_type": "stream",
     "text": [
      "Train samples: 2652\n",
      "Test samples: 64\n"
     ]
    },
    {
     "data": {
      "text/html": [
       "<div>\n",
       "<style scoped>\n",
       "    .dataframe tbody tr th:only-of-type {\n",
       "        vertical-align: middle;\n",
       "    }\n",
       "\n",
       "    .dataframe tbody tr th {\n",
       "        vertical-align: top;\n",
       "    }\n",
       "\n",
       "    .dataframe thead th {\n",
       "        text-align: right;\n",
       "    }\n",
       "</style>\n",
       "<table border=\"1\" class=\"dataframe\">\n",
       "  <thead>\n",
       "    <tr style=\"text-align: right;\">\n",
       "      <th></th>\n",
       "      <th>train</th>\n",
       "    </tr>\n",
       "    <tr>\n",
       "      <th>flood</th>\n",
       "      <th></th>\n",
       "    </tr>\n",
       "  </thead>\n",
       "  <tbody>\n",
       "    <tr>\n",
       "      <th>0</th>\n",
       "      <td>2652</td>\n",
       "    </tr>\n",
       "  </tbody>\n",
       "</table>\n",
       "</div>"
      ],
      "text/plain": [
       "       train\n",
       "flood       \n",
       "0       2652"
      ]
     },
     "metadata": {},
     "output_type": "display_data"
    },
    {
     "data": {
      "text/html": [
       "<div>\n",
       "<style scoped>\n",
       "    .dataframe tbody tr th:only-of-type {\n",
       "        vertical-align: middle;\n",
       "    }\n",
       "\n",
       "    .dataframe tbody tr th {\n",
       "        vertical-align: top;\n",
       "    }\n",
       "\n",
       "    .dataframe thead th {\n",
       "        text-align: right;\n",
       "    }\n",
       "</style>\n",
       "<table border=\"1\" class=\"dataframe\">\n",
       "  <thead>\n",
       "    <tr style=\"text-align: right;\">\n",
       "      <th></th>\n",
       "      <th>test</th>\n",
       "    </tr>\n",
       "    <tr>\n",
       "      <th>flood</th>\n",
       "      <th></th>\n",
       "    </tr>\n",
       "  </thead>\n",
       "  <tbody>\n",
       "    <tr>\n",
       "      <th>0</th>\n",
       "      <td>64</td>\n",
       "    </tr>\n",
       "  </tbody>\n",
       "</table>\n",
       "</div>"
      ],
      "text/plain": [
       "       test\n",
       "flood      \n",
       "0        64"
      ]
     },
     "metadata": {},
     "output_type": "display_data"
    }
   ],
   "source": [
    "import numpy as np\n",
    "from sklearn.model_selection import StratifiedGroupKFold\n",
    "from modules.octa_video_util import _filter_by_query\n",
    "\n",
    "query_params = {'code': [101, 102, 103], 'seen': [True, False]}\n",
    "df_presample = filter_by_query(df_images, query_params).copy()\n",
    "\n",
    "# Build target variable for binary classification \n",
    "df_presample['flood'] = df_presample['tag'].isin(['lâmina', 'bolsão', 'alagamento', 'transbordo']).astype(int)\n",
    "\n",
    "df_presample.reset_index(drop=True, inplace=True)\n",
    "X = df_presample.drop('flood', axis=1)\n",
    "y = df_presample['flood']\n",
    "groups = df_presample['code']\n",
    "\n",
    "sgkf = StratifiedGroupKFold(n_splits=5, shuffle=True, random_state=1)\n",
    "\n",
    "for i, (train_index, test_index) in enumerate(sgkf.split(X, y, groups)):\n",
    "    break\n",
    "\n",
    "X_train = X.loc[train_index]\n",
    "X_test = X.loc[test_index]\n",
    "\n",
    "Y_train = y.loc[train_index]\n",
    "Y_test = y.loc[test_index]\n",
    "\n",
    "print('Train samples:',len(train_index))\n",
    "print('Test samples:', len(test_index))\n",
    "\n",
    "display(Y_train.value_counts().to_frame('train'))\n",
    "display(Y_test.value_counts().to_frame('test'))"
   ]
  },
  {
   "cell_type": "markdown",
   "id": "63caf0c0-93b2-4d44-9597-c8be80a3487f",
   "metadata": {},
   "source": [
    "#### Copy images from `train_index`and `test_index` into structured 'train' and 'test' folders"
   ]
  },
  {
   "cell_type": "code",
   "execution_count": 13,
   "id": "c6065dcb-0426-4961-8cd2-f32d43b3da3d",
   "metadata": {},
   "outputs": [
    {
     "name": "stdout",
     "output_type": "stream",
     "text": [
      "Copying images to train folders:\n",
      "Processed 2652/2652 files (100.00%) - Found: 927/2652\n",
      "Copying images to test folders:\n",
      "Processed 64/64 files (100.00%) - Found: 41/2652\r"
     ]
    }
   ],
   "source": [
    "from modules.octa_video_util import copy_images_to_folders\n",
    "\n",
    "base_directory = 'data/images'\n",
    "target_directory = 'data/samples/1'\n",
    "dataset = df_images\n",
    "train_indexes = list(train_index)\n",
    "test_indexes = list(test_index)\n",
    "\n",
    "file_path_field = 'file_path'\n",
    "label_field = 'tag'\n",
    "\n",
    "copy_images_to_folders(base_directory, target_directory, dataset, train_indexes, test_indexes, file_path_field=file_path_field, tag_field=label_field)\n"
   ]
  }
 ],
 "metadata": {
  "kernelspec": {
   "display_name": "Python 3 (ipykernel)",
   "language": "python",
   "name": "python3"
  },
  "language_info": {
   "codemirror_mode": {
    "name": "ipython",
    "version": 3
   },
   "file_extension": ".py",
   "mimetype": "text/x-python",
   "name": "python",
   "nbconvert_exporter": "python",
   "pygments_lexer": "ipython3",
   "version": "3.11.3"
  }
 },
 "nbformat": 4,
 "nbformat_minor": 5
}
