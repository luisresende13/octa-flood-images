{
 "cells": [
  {
   "cell_type": "markdown",
   "id": "6499a330-9c0a-4894-8816-e835e2bd8fa9",
   "metadata": {},
   "source": [
    "#### Load model with TensorFlow"
   ]
  },
  {
   "cell_type": "code",
   "execution_count": null,
   "id": "4e16910d-d3b0-4ca3-aded-b7cc2bc70971",
   "metadata": {},
   "outputs": [],
   "source": [
    "# Load the best model from the saved checkpoint file\n",
    "checkpoint_filepath = 'results/best_model_cnn.h5'\n",
    "model1 = models.load_model(checkpoint_filepath)"
   ]
  },
  {
   "cell_type": "markdown",
   "id": "2edd898a-d5b3-408e-9c5b-b497e5f4dd7a",
   "metadata": {},
   "source": [
    "#### Load model with Yolo"
   ]
  },
  {
   "cell_type": "code",
   "execution_count": 1,
   "id": "cdb3573f-4e8d-46d8-8f47-90934f0bd131",
   "metadata": {},
   "outputs": [],
   "source": [
    "from ultralytics import YOLO\n",
    "\n",
    "# Path to the folder you want to zip\n",
    "folder_path = f'YoloV8/train-results/n-104'\n",
    "\n",
    "# Load a model\n",
    "model = YOLO(f'{folder_path}/weights/best.pt')  # load a partially trained model\n",
    "\n"
   ]
  },
  {
   "cell_type": "markdown",
   "id": "4eccf1eb-e642-45dc-b45f-bb0097d1e804",
   "metadata": {},
   "source": [
    "#### Reload images dataset"
   ]
  },
  {
   "cell_type": "code",
   "execution_count": 14,
   "id": "1dc1797b-f399-45de-899c-24ebfb834d69",
   "metadata": {},
   "outputs": [
    {
     "name": "stdout",
     "output_type": "stream",
     "text": [
      "Index(['_id', 'blob_name', 'blob_size', 'bucket_name', 'file_name', 'code',\n",
      "       'n_folders', 'timestamp', 'folder_structure', 'folder', 'tags', 'url',\n",
      "       'api_url', 'bucket', 'seen'],\n",
      "      dtype='object')\n"
     ]
    },
    {
     "data": {
      "text/plain": [
       "RangeIndex(start=0, stop=10, step=1)"
      ]
     },
     "metadata": {},
     "output_type": "display_data"
    }
   ],
   "source": [
    "import pandas as pd\n",
    "\n",
    "df_images = pd.read_csv('data/datasets/images.csv')\n",
    "df_videos = pd.read_csv('data/datasets/videos.csv')\n",
    "\n",
    "print(df_videos.columns)\n",
    "display(df_videos.index[:10])"
   ]
  },
  {
   "cell_type": "markdown",
   "id": "17a04a2b-8498-4902-9820-f9221eab2a98",
   "metadata": {},
   "source": [
    "#### Reload sample images dataset"
   ]
  },
  {
   "cell_type": "code",
   "execution_count": 8,
   "id": "d041d226-ae47-470b-8d0f-21b09c9c370b",
   "metadata": {},
   "outputs": [
    {
     "name": "stdout",
     "output_type": "stream",
     "text": [
      "Index(['id_video', 'code', 'folder', 'file_name', 'file_path', 'frame_index',\n",
      "       'timestamp', 'initial_timestamp', 'seen', 'tags', 'tag', 'flood',\n",
      "       'set'],\n",
      "      dtype='object')\n"
     ]
    },
    {
     "data": {
      "text/plain": [
       "Index([152562, 28728, 102704, 5237, 112104, 19950, 8079, 37094, 127490, 53874], dtype='int64')"
      ]
     },
     "metadata": {},
     "output_type": "display_data"
    }
   ],
   "source": [
    "target_directory = 'data/splits/sgkf-8-1-1'\n",
    "\n",
    "df_sample = pd.read_csv(f'{target_directory}/images.csv', index_col=0)\n",
    "\n",
    "print(df_sample.columns)\n",
    "display(df_sample.index[:10])"
   ]
  },
  {
   "cell_type": "markdown",
   "id": "f4715832-9428-46f7-a86c-3f4f6c725577",
   "metadata": {},
   "source": [
    "#### Unique cameras in each data set"
   ]
  },
  {
   "cell_type": "code",
   "execution_count": 19,
   "id": "52459e53-ed82-4ddc-992c-323f1316113b",
   "metadata": {},
   "outputs": [
    {
     "name": "stdout",
     "output_type": "stream",
     "text": [
      "Train codes: [  32. 1461.  249. 1583. 3135.  174. 1591. 1726.  869.  161.]\n",
      "\n",
      "Test codes: [1460. 1487. 1141. 1587. 1474.  299.  550.   18.  482.  313. 1547.  414.\n",
      " 1393. 1881.  384.]\n",
      "\n",
      "Val codes: [ 226. 1506.  278. 3290. 1601.  363. 2166. 2157. 1222.]\n"
     ]
    }
   ],
   "source": [
    "train = df_sample[df_sample['set']=='train']\n",
    "test = df_sample[df_sample['set']=='test']\n",
    "val = df_sample[df_sample['set']=='val']\n",
    "\n",
    "train_codes = train['code'].unique()\n",
    "test_codes = test['code'].unique()\n",
    "val_codes = val['code'].unique()\n",
    "\n",
    "print('Train codes:', train_codes[:10])\n",
    "print('\\nTest codes:', test_codes)\n",
    "print('\\nVal codes:', val_codes)"
   ]
  },
  {
   "cell_type": "markdown",
   "id": "562a1aa5-bb63-4286-930a-fb5b5b49e378",
   "metadata": {},
   "source": [
    "#### Videos from cameras outside the training set"
   ]
  },
  {
   "cell_type": "code",
   "execution_count": 23,
   "id": "55c98ab9-38ee-4b9a-b8c3-60c7660e3b31",
   "metadata": {},
   "outputs": [
    {
     "data": {
      "text/plain": [
       "(47464, 15)"
      ]
     },
     "execution_count": 23,
     "metadata": {},
     "output_type": "execute_result"
    }
   ],
   "source": [
    "df_videos_test = df_videos[~df_videos['code'].isin(train_codes)]\n",
    "\n",
    "df_videos_test.shape"
   ]
  }
 ],
 "metadata": {
  "kernelspec": {
   "display_name": "Python 3 (ipykernel)",
   "language": "python",
   "name": "python3"
  },
  "language_info": {
   "codemirror_mode": {
    "name": "ipython",
    "version": 3
   },
   "file_extension": ".py",
   "mimetype": "text/x-python",
   "name": "python",
   "nbconvert_exporter": "python",
   "pygments_lexer": "ipython3",
   "version": "3.11.3"
  }
 },
 "nbformat": 4,
 "nbformat_minor": 5
}
